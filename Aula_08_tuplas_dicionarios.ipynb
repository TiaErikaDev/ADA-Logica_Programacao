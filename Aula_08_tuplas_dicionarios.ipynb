{
  "cells": [
    {
      "cell_type": "markdown",
      "metadata": {
        "id": "view-in-github",
        "colab_type": "text"
      },
      "source": [
        "<a href=\"https://colab.research.google.com/github/TiaErikaDev/ADA-Logica_Programacao/blob/main/Aula_08_tuplas_dicionarios.ipynb\" target=\"_parent\"><img src=\"https://colab.research.google.com/assets/colab-badge.svg\" alt=\"Open In Colab\"/></a>"
      ]
    },
    {
      "cell_type": "markdown",
      "metadata": {
        "id": "UgTcm1JsV6Tz"
      },
      "source": [
        "# Estrutura de Dados\n",
        "\n",
        "Hoje aprenderemos novas maneiras de armazenar e esturar nossos dados."
      ]
    },
    {
      "cell_type": "markdown",
      "metadata": {
        "id": "RJySzf2aV6T4"
      },
      "source": [
        "##   Tuplas: O Que São e Por Que Usar  <a class=\"anchor\" id=\"um\"></a>\n",
        "<br>"
      ]
    },
    {
      "cell_type": "markdown",
      "metadata": {
        "id": "HfN16T-Xx4du"
      },
      "source": [
        "\n",
        "Tuplas podem ser pensadas como listas mas com algumas restrições:\n",
        "\n",
        "- não podemos alterar uma tupla nem em ordem, nem conteúdo.\n",
        "\n",
        "Por que deveriamos usa-las então? Velocidade e organização de código. Um programador ao ver uma tupla sabe que seu conteúdo não pode ser alterado indiscriminadamente, além disso, a capacidade de alteração numa lista exige algoritmos mais complexos e lentos, então trabalhar com tuplas nos permite maior desempenho.<br>"
      ]
    },
    {
      "cell_type": "markdown",
      "metadata": {
        "id": "3C0cZExR3ShK"
      },
      "source": [
        "As tuplas são declaradas entre parênteses, possuem algumas funções nativas semelhantes as listas, como len() e type(), e também são consultadas (slicing) da mesma maneira com os colchetes. As tuplas também aceitam dados mistos dentro de sí."
      ]
    },
    {
      "cell_type": "code",
      "execution_count": null,
      "metadata": {
        "colab": {
          "base_uri": "https://localhost:8080/"
        },
        "id": "FBDlMQnuhdKK",
        "outputId": "9f94f589-4f7c-430e-8c3f-92615d403462"
      },
      "outputs": [
        {
          "name": "stdout",
          "output_type": "stream",
          "text": [
            "('manga', 'pera', 7, True, 45.6)\n",
            "45.6\n",
            "5\n",
            "<class 'tuple'>\n"
          ]
        }
      ],
      "source": [
        "tupla = (\"manga\", \"pera\", 7, True, 45.6)\n",
        "print(tupla)\n",
        "print(tupla[-1])\n",
        "print(len(tupla))\n",
        "print(type(tupla))"
      ]
    },
    {
      "cell_type": "markdown",
      "metadata": {
        "id": "GoYF8QExV6T6"
      },
      "source": [
        "Para alterarmos uma tupla, podemos, por exemplo, fazer um <i>cast</i> para listas, alterar a lista, e retornar para uma tupla.\n",
        "</div>"
      ]
    },
    {
      "cell_type": "code",
      "execution_count": null,
      "metadata": {
        "colab": {
          "base_uri": "https://localhost:8080/"
        },
        "id": "T6UclGYIheKp",
        "outputId": "6d238d01-e6af-48c3-9b53-6b76c4aa20b4"
      },
      "outputs": [
        {
          "name": "stdout",
          "output_type": "stream",
          "text": [
            "minha tupla é essa: ('manga', 'pera', 7, True, 45.6)\n",
            "tupla depois de alterar: ('manga', 'pera', 7, True, 45.6, 'alteração na lista')\n"
          ]
        }
      ],
      "source": [
        "print(f\"minha tupla é essa: {tupla}\")\n",
        "lista_auxiliar = list(tupla)\n",
        "lista_auxiliar.append(\"alteração na lista\")\n",
        "tupla = tuple(lista_auxiliar)\n",
        "\n",
        "print(f\"tupla depois de alterar: {tupla}\")"
      ]
    },
    {
      "cell_type": "markdown",
      "metadata": {
        "id": "k6vGzLhOV6T7"
      },
      "source": [
        "Tuplas podem ser desempacotadas, isso é, desmembrar seus valores para variaveis individuais"
      ]
    },
    {
      "cell_type": "code",
      "execution_count": null,
      "metadata": {
        "colab": {
          "base_uri": "https://localhost:8080/"
        },
        "id": "3ZAb1ehHhjx7",
        "outputId": "66a81d97-0a54-40f5-a045-ce5907025327"
      },
      "outputs": [
        {
          "data": {
            "text/plain": [
              "1"
            ]
          },
          "execution_count": 13,
          "metadata": {},
          "output_type": "execute_result"
        }
      ],
      "source": [
        "var1,var2,var3 = (1,29,50)\n",
        "var1"
      ]
    },
    {
      "cell_type": "markdown",
      "metadata": {
        "id": "IoUGMk8i5hEX"
      },
      "source": [
        "Observação/lembrete:\n",
        "\n",
        "Uma outra maneira de desempacotar utilizando <b>*</b>"
      ]
    },
    {
      "cell_type": "code",
      "execution_count": null,
      "metadata": {
        "id": "hoPY9MKphoSk"
      },
      "outputs": [],
      "source": [
        "a,b,c = 1,4,5"
      ]
    },
    {
      "cell_type": "code",
      "execution_count": null,
      "metadata": {
        "colab": {
          "base_uri": "https://localhost:8080/",
          "height": 166
        },
        "id": "i4hTeB7hhv1d",
        "outputId": "070bb9eb-9d24-40ab-ba25-cfb853998b55"
      },
      "outputs": [
        {
          "ename": "ValueError",
          "evalue": "ignored",
          "output_type": "error",
          "traceback": [
            "\u001b[0;31m---------------------------------------------------------------------------\u001b[0m",
            "\u001b[0;31mValueError\u001b[0m                                Traceback (most recent call last)",
            "\u001b[0;32m<ipython-input-15-7235fc5bb8c0>\u001b[0m in \u001b[0;36m<module>\u001b[0;34m\u001b[0m\n\u001b[0;32m----> 1\u001b[0;31m \u001b[0ma\u001b[0m\u001b[0;34m,\u001b[0m\u001b[0mb\u001b[0m\u001b[0;34m,\u001b[0m\u001b[0mc\u001b[0m \u001b[0;34m=\u001b[0m \u001b[0;36m1\u001b[0m\u001b[0;34m,\u001b[0m\u001b[0;36m4\u001b[0m\u001b[0;34m,\u001b[0m\u001b[0;36m5\u001b[0m\u001b[0;34m,\u001b[0m\u001b[0;34m\"novo valor\"\u001b[0m\u001b[0;34m\u001b[0m\u001b[0;34m\u001b[0m\u001b[0m\n\u001b[0m",
            "\u001b[0;31mValueError\u001b[0m: too many values to unpack (expected 3)"
          ]
        }
      ],
      "source": [
        "a,b,c = (1,4,5,\"novo valor\")"
      ]
    },
    {
      "cell_type": "code",
      "execution_count": null,
      "metadata": {
        "id": "AbvyLnMZzTFX"
      },
      "outputs": [],
      "source": [
        "a,b,c = [1,4,5,\"novo valor\"]"
      ]
    },
    {
      "cell_type": "code",
      "execution_count": null,
      "metadata": {
        "id": "_p9oLl42hv7N"
      },
      "outputs": [],
      "source": [
        "a,b,*c = 1,4,5, \"novo valor\""
      ]
    },
    {
      "cell_type": "code",
      "execution_count": null,
      "metadata": {
        "id": "0I0MX9rFhwAw"
      },
      "outputs": [],
      "source": [
        "a,*b,c,d,e = 1,4,5, \"novo valor\",\"e\", \"f\""
      ]
    },
    {
      "cell_type": "code",
      "execution_count": null,
      "metadata": {
        "colab": {
          "base_uri": "https://localhost:8080/"
        },
        "id": "RN7JzaFZhwKg",
        "outputId": "f8c94b34-fd13-439a-cb29-88972b790cc8"
      },
      "outputs": [
        {
          "name": "stdout",
          "output_type": "stream",
          "text": [
            "[4, 5]\n",
            "novo valor\n"
          ]
        }
      ],
      "source": [
        "print(b)\n",
        "print(c)"
      ]
    },
    {
      "cell_type": "code",
      "execution_count": null,
      "metadata": {
        "id": "Womsy5jFrBa2"
      },
      "outputs": [],
      "source": [
        "a,*b,c,d,e = 1,4,5, \"novo valor\",\"e\", \"f\""
      ]
    },
    {
      "cell_type": "markdown",
      "metadata": {
        "id": "wMgBsO4HV6T9"
      },
      "source": [
        "---\n",
        "<div align=\"justify\">\n",
        "&emsp; Tuplas podem ser percorridas em loop igualmente as listas, além disso podemos concatenar tuplas com o + e multiplicar elas por inteiros usando *.\n",
        "</div>"
      ]
    },
    {
      "cell_type": "markdown",
      "metadata": {
        "id": "0rST0-sAV6T-"
      },
      "source": [
        "As tuplas também possuem os métodos .count() e .index() que, respectivamente, contam quantos dados iguais ao que passarmos a tupla possui, e em qual <i>index</i> está o primeiro dado igual ao que passamos.\n",
        "</div>"
      ]
    },
    {
      "cell_type": "code",
      "execution_count": null,
      "metadata": {
        "colab": {
          "base_uri": "https://localhost:8080/"
        },
        "id": "PnZkDBHZh3Wn",
        "outputId": "cbf6b2ed-ca16-45ef-bd7e-f87579ea1277"
      },
      "outputs": [
        {
          "name": "stdout",
          "output_type": "stream",
          "text": [
            "morango\n",
            "pêra\n",
            "maçã\n"
          ]
        }
      ],
      "source": [
        "tupla_1 = (\"morango\", \"pêra\", \"maçã\")\n",
        "for item in tupla_1:\n",
        "  print(item)\n"
      ]
    },
    {
      "cell_type": "code",
      "execution_count": null,
      "metadata": {
        "colab": {
          "base_uri": "https://localhost:8080/"
        },
        "id": "B_M4CAOHrao-",
        "outputId": "18a2150f-d1c1-4b58-87f7-00b6b86bbcc5"
      },
      "outputs": [
        {
          "data": {
            "text/plain": [
              "1"
            ]
          },
          "execution_count": 33,
          "metadata": {},
          "output_type": "execute_result"
        }
      ],
      "source": [
        "tupla_1 = (\"morango\", \"pêra\", \"maçã\", \"pêra\")\n",
        "tupla_1.count(\"morango\")"
      ]
    },
    {
      "cell_type": "code",
      "execution_count": null,
      "metadata": {
        "colab": {
          "base_uri": "https://localhost:8080/"
        },
        "id": "tRKmNg0DrarZ",
        "outputId": "030a3316-8ebf-4a59-f0e7-4e9c79597b88"
      },
      "outputs": [
        {
          "data": {
            "text/plain": [
              "1"
            ]
          },
          "execution_count": 34,
          "metadata": {},
          "output_type": "execute_result"
        }
      ],
      "source": [
        "tupla_1.index(\"pêra\")"
      ]
    },
    {
      "cell_type": "markdown",
      "metadata": {
        "id": "sbzsYa4yV6T_"
      },
      "source": [
        "## Dicionários: Diferenças e similaridades para o seu xará mais conhecido"
      ]
    },
    {
      "cell_type": "markdown",
      "metadata": {
        "id": "8RoSjAIu_DSA"
      },
      "source": [
        "Dicionários também podem ser pensados analogamente a listas, mas não pensaremos mais no conceito de <i>index</i> e sim em palavras-chave. Assim como um dicionário real possui palavras e suas definições, um dicionário em Python também! Entretanto devemos nos atentar que um dicionário não pode ter duas definições para uma mesma palavra (mas pode ter uma definição única definida por uma lista!)\n",
        "<br>\n",
        "\n",
        "Dicionários são declarados entre chaves, e acessados com colchetes (usando as palavras-chave e não as <i>indexes</i>) ou com a função get() usando a palavra-chave como parâmetro. Além disso com a função keys() podemos listar todas as palavras-chave de um dado dicionário."
      ]
    },
    {
      "cell_type": "code",
      "execution_count": null,
      "metadata": {
        "id": "T_UF8qnMh8I-"
      },
      "outputs": [],
      "source": [
        "chave : valor\n",
        "palavra : string com significado da palavra"
      ]
    },
    {
      "cell_type": "code",
      "execution_count": null,
      "metadata": {
        "colab": {
          "base_uri": "https://localhost:8080/"
        },
        "id": "v2oYkwLfh9Sm",
        "outputId": "2cb230ad-fd2f-4d36-c61e-4496459e8a1a"
      },
      "outputs": [
        {
          "data": {
            "text/plain": [
              "{'nome': 'José',\n",
              " 'idade': 32,\n",
              " 'profissao': 'empreendedor',\n",
              " 'filhos': ['Ana', 'Bernardo', 'Joao']}"
            ]
          },
          "execution_count": 1,
          "metadata": {},
          "output_type": "execute_result"
        }
      ],
      "source": [
        "pessoa = {\"nome\": \"José\",\n",
        " \"idade\": 32,\n",
        " \"profissao\": \"empreendedor\",\n",
        " \"filhos\": [\"Ana\", \"Bernardo\", \"Joao\"]}\n",
        "pessoa"
      ]
    },
    {
      "cell_type": "code",
      "execution_count": null,
      "metadata": {
        "colab": {
          "base_uri": "https://localhost:8080/"
        },
        "id": "7e3Beucq9BAl",
        "outputId": "5c59c86f-5e0f-4946-a773-086f93876409"
      },
      "outputs": [
        {
          "data": {
            "text/plain": [
              "3"
            ]
          },
          "execution_count": 3,
          "metadata": {},
          "output_type": "execute_result"
        }
      ],
      "source": [
        "pessoa['filhos']"
      ]
    },
    {
      "cell_type": "code",
      "execution_count": null,
      "metadata": {
        "id": "z0FoxgetvOJQ"
      },
      "outputs": [],
      "source": [
        "[[\"nome\",\"jose\"],[\"idade\",32],[\"profissao\",\"empreendedor\"],[\"filhos\",[\"ana\", \"bernardo\",\"joao\"]]]"
      ]
    },
    {
      "cell_type": "markdown",
      "metadata": {
        "id": "YSwfBZAiV6UA"
      },
      "source": [
        "---\n",
        "<div align=\"justify\">\n",
        "&emsp; Podemos adicionar itens de um dicionário usando <b>nomeDic[\"novaPalavraChave\"] = valor</b>, podemos atualizar da mesma maneira mas usando uma palavra-chave já existente, ou mesmo usar o método update() com o parâmetro <b>{\"palavraChave\": novoValor}</b>. Já para apagar itens temos várias maneiras: podemos usar o método pop() com a palavra-chave a ser deletada como parâmetro, ou o método popitem() para deletar o último item, ou mesmo a <b>del dicionario[\"chaveParaDeletar\"]</b>, por fim temos o método clear() que limpa o dicionário todo.<br>\n",
        "</div>"
      ]
    },
    {
      "cell_type": "code",
      "execution_count": null,
      "metadata": {
        "colab": {
          "base_uri": "https://localhost:8080/"
        },
        "id": "x8y1I1yQh_EW",
        "outputId": "ffbfcbfc-0462-4658-e863-8cb600718ec7"
      },
      "outputs": [
        {
          "name": "stdout",
          "output_type": "stream",
          "text": [
            "dicionário inicial: {'nome': 'José', 'idade': 32, 'profissao': 'empreendedor', 'filhos': ['Ana', 'Bernardo', 'Joao']} \n",
            "\n",
            "dicionario incrementado {'nome': 'José', 'idade': 32, 'profissao': 'empreendedor', 'filhos': ['Ana', 'Bernardo', 'Joao'], 'nacionalidade': 'brasileiro'} \n",
            "\n",
            "dicionario atualizado {'nome': 'pedro', 'idade': 35, 'profissao': 'empreendedor', 'filhos': ['Ana', 'Bernardo', 'Joao'], 'nacionalidade': 'chileno', 'cachorro': 'zeus'} \n",
            "\n"
          ]
        }
      ],
      "source": [
        "print(\"dicionário inicial:\",pessoa,\"\\n\")\n",
        "\n",
        "pessoa['nome']\n",
        "\n",
        "pessoa['nacionalidade'] = \"brasileiro\"\n",
        "\n",
        "print(\"dicionario incrementado\", pessoa,\"\\n\")\n",
        "\n",
        "pessoa['nome'] = \"pedro\"\n",
        "\n",
        "# .update() insere ou substitui um valor baseado na chave que é passada\n",
        "pessoa.update({\"idade\": 35, \"nacionalidade\": \"chileno\", \"cachorro\": \"zeus\"})\n",
        "\n",
        "print(\"dicionario atualizado\", pessoa,\"\\n\")\n",
        "\n",
        "# passamos uma chave e ele apaga o respectivo par chave e valor\n",
        "pessoa.pop('nome')\n",
        "\n",
        "# remove última chave valor do dicionário\n",
        "pessoa.popitem()\n",
        "\n"
      ]
    },
    {
      "cell_type": "code",
      "execution_count": null,
      "metadata": {
        "colab": {
          "base_uri": "https://localhost:8080/"
        },
        "id": "Gy0rpgW68gjf",
        "outputId": "75fcaf89-2fe1-4621-f639-77c906c8a4bc"
      },
      "outputs": [
        {
          "data": {
            "text/plain": [
              "{'nome': 'José',\n",
              " 'idade': 32,\n",
              " 'profissao': 'empreendedor',\n",
              " 'netos': ['Ana', 'Bernardo', 'Joao']}"
            ]
          },
          "execution_count": 69,
          "metadata": {},
          "output_type": "execute_result"
        }
      ],
      "source": [
        "# caso eu queria \"renomear\" um chave no meu dicionário, posso fazer da seguinte forma:\n",
        "pessoa['netos'] = pessoa.pop(\"filhos\")\n",
        "pessoa"
      ]
    },
    {
      "cell_type": "markdown",
      "metadata": {
        "id": "PSPhhklXV6UB"
      },
      "source": [
        "---\n",
        "<div align=\"justify\">\n",
        "&emsp; Dicionários podem ser usados em <i>loops</i> normalmente também. Existem alguns métodos que podem ser úteis de serem utilizados.<br>\n",
        "</div>"
      ]
    },
    {
      "cell_type": "code",
      "execution_count": null,
      "metadata": {
        "id": "uAOkCgHhiEMA"
      },
      "outputs": [],
      "source": [
        "pessoa = {\"nome\": \"José\",\n",
        " \"idade\": 32,\n",
        " \"profissao\": \"empreendedor\"}\n",
        "\n"
      ]
    },
    {
      "cell_type": "code",
      "execution_count": null,
      "metadata": {
        "colab": {
          "base_uri": "https://localhost:8080/"
        },
        "id": "cB-rFr2XiESE",
        "outputId": "48a79255-8560-4fb1-8ad4-bae550411993"
      },
      "outputs": [
        {
          "name": "stdout",
          "output_type": "stream",
          "text": [
            "nome\n",
            "idade\n",
            "profissao\n"
          ]
        }
      ],
      "source": [
        "for chave in pessoa:\n",
        "  print(chave)"
      ]
    },
    {
      "cell_type": "code",
      "execution_count": null,
      "metadata": {
        "colab": {
          "base_uri": "https://localhost:8080/"
        },
        "id": "6M9u29-_Eoj1",
        "outputId": "76d0160a-9e2c-4452-d4d9-1901f75d4221"
      },
      "outputs": [
        {
          "name": "stdout",
          "output_type": "stream",
          "text": [
            "nome\n",
            "idade\n",
            "profissao\n"
          ]
        }
      ],
      "source": [
        "for chave in pessoa.keys():\n",
        "  print(chave)"
      ]
    },
    {
      "cell_type": "code",
      "execution_count": null,
      "metadata": {
        "colab": {
          "base_uri": "https://localhost:8080/"
        },
        "id": "CRcGJraD-EEN",
        "outputId": "93ff4165-148f-45fe-a6c4-a12211dc1009"
      },
      "outputs": [
        {
          "data": {
            "text/plain": [
              "dict_keys(['nome', 'idade', 'profissao'])"
            ]
          },
          "execution_count": 9,
          "metadata": {},
          "output_type": "execute_result"
        }
      ],
      "source": [
        "pessoa.keys()"
      ]
    },
    {
      "cell_type": "code",
      "execution_count": null,
      "metadata": {
        "colab": {
          "base_uri": "https://localhost:8080/"
        },
        "id": "bhiuYVcQiEbI",
        "outputId": "24fab006-69ce-45da-8170-7c00607457ec"
      },
      "outputs": [
        {
          "name": "stdout",
          "output_type": "stream",
          "text": [
            "José\n",
            "32\n",
            "empreendedor\n"
          ]
        }
      ],
      "source": [
        "for valor in pessoa.values():\n",
        "  print(valor)"
      ]
    },
    {
      "cell_type": "code",
      "execution_count": null,
      "metadata": {
        "colab": {
          "base_uri": "https://localhost:8080/",
          "height": 35
        },
        "id": "FnGPixdu_F26",
        "outputId": "1b2cd57a-6839-4a65-9bd4-8b83dd90acb8"
      },
      "outputs": [
        {
          "data": {
            "application/vnd.google.colaboratory.intrinsic+json": {
              "type": "string"
            },
            "text/plain": [
              "'José'"
            ]
          },
          "execution_count": 76,
          "metadata": {},
          "output_type": "execute_result"
        }
      ],
      "source": [
        "pessoa['nome']"
      ]
    },
    {
      "cell_type": "code",
      "execution_count": null,
      "metadata": {
        "colab": {
          "base_uri": "https://localhost:8080/"
        },
        "id": "XjQe4JM7iEj7",
        "outputId": "3c5e2fd8-75e3-4c26-9acb-0a00bc6b1b4a"
      },
      "outputs": [
        {
          "name": "stdout",
          "output_type": "stream",
          "text": [
            "José\n",
            "32\n",
            "empreendedor\n"
          ]
        }
      ],
      "source": [
        "for chave in pessoa:\n",
        "  print(pessoa[chave])"
      ]
    },
    {
      "cell_type": "code",
      "execution_count": null,
      "metadata": {
        "colab": {
          "base_uri": "https://localhost:8080/"
        },
        "id": "NIpykYW3_d7i",
        "outputId": "66b96d51-eb20-4304-f56c-dae7d76756ee"
      },
      "outputs": [
        {
          "name": "stdout",
          "output_type": "stream",
          "text": [
            "0 1\n",
            "1 2\n",
            "2 3\n"
          ]
        }
      ],
      "source": [
        "lista = [1,2,3]\n",
        "for indice,element in enumerate(lista):\n",
        "  print(indice,element)"
      ]
    },
    {
      "cell_type": "code",
      "execution_count": null,
      "metadata": {
        "colab": {
          "base_uri": "https://localhost:8080/"
        },
        "id": "p6HiQznTiEr3",
        "outputId": "cba77f2e-3dcb-48a5-b74f-8bc696271342"
      },
      "outputs": [
        {
          "name": "stdout",
          "output_type": "stream",
          "text": [
            "0 nome\n",
            "1 idade\n",
            "2 profissao\n"
          ]
        }
      ],
      "source": [
        "for seq,chave in enumerate(pessoa):\n",
        "  print(seq,chave)"
      ]
    },
    {
      "cell_type": "code",
      "execution_count": null,
      "metadata": {
        "id": "pUYdUyb2Ag9p"
      },
      "outputs": [],
      "source": [
        "pessoa = {\"nome\": \"José\",\n",
        " \"idade\": 32,\n",
        " \"profissao\": \"empreendedor\"}\n",
        "\n"
      ]
    },
    {
      "cell_type": "code",
      "execution_count": null,
      "metadata": {
        "id": "M9fP2WSxAwlc"
      },
      "outputs": [],
      "source": [
        "element = (\"nome\", \"josé\")"
      ]
    },
    {
      "cell_type": "code",
      "execution_count": null,
      "metadata": {
        "colab": {
          "base_uri": "https://localhost:8080/"
        },
        "id": "o19Bi4ThBCzf",
        "outputId": "d7760686-9850-465d-8fd7-f8374e9ea77f"
      },
      "outputs": [
        {
          "name": "stdout",
          "output_type": "stream",
          "text": [
            "nome josé\n"
          ]
        }
      ],
      "source": [
        "chave,valor = (\"nome\", \"josé\")\n",
        "print(chave, valor)"
      ]
    },
    {
      "cell_type": "code",
      "execution_count": null,
      "metadata": {
        "colab": {
          "base_uri": "https://localhost:8080/"
        },
        "id": "ac3Y11stiIld",
        "outputId": "82631777-6355-4923-dda5-b09c6dc5c85e"
      },
      "outputs": [
        {
          "name": "stdout",
          "output_type": "stream",
          "text": [
            "1 [2, 3]\n",
            "4 [5, 6]\n"
          ]
        }
      ],
      "source": [
        "listas = [[1,2,3],[4,5,6]]\n",
        "for e0,*e1 in listas:\n",
        "  print(e0,e1)"
      ]
    },
    {
      "cell_type": "code",
      "execution_count": null,
      "metadata": {
        "colab": {
          "base_uri": "https://localhost:8080/"
        },
        "id": "Oe54e-QE_Ubc",
        "outputId": "ec141120-76c8-483b-94fc-7fe6919423e9"
      },
      "outputs": [
        {
          "name": "stdout",
          "output_type": "stream",
          "text": [
            "a chave nome possui valor José\n",
            "a chave idade possui valor 32\n",
            "a chave profissao possui valor empreendedor\n"
          ]
        }
      ],
      "source": [
        "for chave,valor in pessoa.items():\n",
        "  print(f\"a chave {chave} possui valor {valor}\")"
      ]
    },
    {
      "cell_type": "code",
      "execution_count": null,
      "metadata": {
        "id": "Ekan4NaeCR2M"
      },
      "outputs": [],
      "source": [
        "{\"chave\":\"valor pode ser lista, dicionario, string, numero\"}"
      ]
    },
    {
      "cell_type": "markdown",
      "metadata": {
        "id": "3_HGOIBzV6UB"
      },
      "source": [
        "---\n",
        "<div align=\"justify\">\n",
        "&emsp; Assim como listas podem armazenar listas, dicionários podem armazenar dicionários, formando dicionários de mais de uma dimensão. Veja o exemplo:<br>\n",
        "</div>"
      ]
    },
    {
      "cell_type": "code",
      "execution_count": null,
      "metadata": {
        "id": "ntUwV4xYiIsD"
      },
      "outputs": [],
      "source": [
        "filhos = {\n",
        "    \"filho1\": {\n",
        "        \"nome\": \"gabriel\",\n",
        "        \"ano\" : 2004\n",
        "    }\n",
        "}"
      ]
    },
    {
      "cell_type": "code",
      "execution_count": null,
      "metadata": {
        "id": "t1r8R_UjDyLJ"
      },
      "outputs": [],
      "source": [
        "pessoa = {\n",
        "    \"nome\": \"joao\",\n",
        "    \"endereco\": {\n",
        "        \"rua\": \"rua travessa\",\n",
        "        \"cep\" : 200439424\n",
        "    }\n",
        "}"
      ]
    },
    {
      "cell_type": "code",
      "execution_count": null,
      "metadata": {
        "colab": {
          "base_uri": "https://localhost:8080/"
        },
        "id": "2tBN1T4GEYdV",
        "outputId": "a14aa455-c705-447a-8ed4-a9dc6136578f"
      },
      "outputs": [
        {
          "data": {
            "text/plain": [
              "dict_items([('filho1', {'nome': 'gabriel', 'ano': 2004})])"
            ]
          },
          "execution_count": 106,
          "metadata": {},
          "output_type": "execute_result"
        }
      ],
      "source": [
        "filhos.items()"
      ]
    },
    {
      "cell_type": "code",
      "execution_count": null,
      "metadata": {
        "colab": {
          "base_uri": "https://localhost:8080/"
        },
        "id": "OupGRrILDlpG",
        "outputId": "297fb5d6-382d-49c9-9d15-70b1621d0329"
      },
      "outputs": [
        {
          "data": {
            "text/plain": [
              "dict_values([{'nome': 'gabriel', 'ano': 2004}])"
            ]
          },
          "execution_count": 115,
          "metadata": {},
          "output_type": "execute_result"
        }
      ],
      "source": [
        "filhos.values()"
      ]
    },
    {
      "cell_type": "code",
      "execution_count": null,
      "metadata": {
        "colab": {
          "base_uri": "https://localhost:8080/"
        },
        "id": "QUzlfwA7iIyN",
        "outputId": "b703ffbb-43d7-43c7-e490-f147c2cbe4c4"
      },
      "outputs": [
        {
          "data": {
            "text/plain": [
              "dict_values(['joao', {'rua': 'rua travessa', 'cep': 200439424}])"
            ]
          },
          "execution_count": 116,
          "metadata": {},
          "output_type": "execute_result"
        }
      ],
      "source": [
        "pessoa.values()"
      ]
    },
    {
      "cell_type": "code",
      "execution_count": null,
      "metadata": {
        "colab": {
          "base_uri": "https://localhost:8080/"
        },
        "id": "Hv_8ysjiiI6u",
        "outputId": "ded5e162-4859-43d3-e9bf-24afcd164299"
      },
      "outputs": [
        {
          "data": {
            "text/plain": [
              "dict_keys(['nome', 'endereco'])"
            ]
          },
          "execution_count": 117,
          "metadata": {},
          "output_type": "execute_result"
        }
      ],
      "source": [
        "pessoa.keys()"
      ]
    },
    {
      "cell_type": "code",
      "execution_count": null,
      "metadata": {
        "colab": {
          "base_uri": "https://localhost:8080/"
        },
        "id": "wLbHhKYpiJCg",
        "outputId": "b40ee2ce-2e87-4dac-ad00-4aca58288336"
      },
      "outputs": [
        {
          "data": {
            "text/plain": [
              "True"
            ]
          },
          "execution_count": 16,
          "metadata": {},
          "output_type": "execute_result"
        }
      ],
      "source": [
        "pessoa['endereco']['cep'] > 100"
      ]
    },
    {
      "cell_type": "markdown",
      "metadata": {
        "id": "WEQqy6YjV6UC"
      },
      "source": [
        "---\n",
        "<div align=\"justify\">\n",
        "&emsp; No contexto de dicionários o comando <b>in</b> é útil. Imagine que você quer adicionar valores em uma chave mas não sabe sequer se ela existe naquele contexto, como poderiamos fazer?<br>\n",
        "</div>"
      ]
    },
    {
      "cell_type": "code",
      "execution_count": null,
      "metadata": {
        "id": "8xKClnyhig47"
      },
      "outputs": [],
      "source": [
        "estudante = {\"nome\": \"theo\",\n",
        "             \"graduacao\": \"medicina\"}\n",
        "\n"
      ]
    },
    {
      "cell_type": "code",
      "execution_count": null,
      "metadata": {
        "colab": {
          "base_uri": "https://localhost:8080/"
        },
        "id": "v1ShC_sYihtq",
        "outputId": "914c7896-22d4-48b7-822c-af715534e1de"
      },
      "outputs": [
        {
          "data": {
            "text/plain": [
              "True"
            ]
          },
          "execution_count": 18,
          "metadata": {},
          "output_type": "execute_result"
        }
      ],
      "source": [
        "\"graduacao\" in estudante"
      ]
    },
    {
      "cell_type": "code",
      "execution_count": null,
      "metadata": {
        "colab": {
          "base_uri": "https://localhost:8080/"
        },
        "id": "RwsNaFyiijLV",
        "outputId": "a8c33412-4d0d-43ed-b09f-347a2f8aee83"
      },
      "outputs": [
        {
          "data": {
            "text/plain": [
              "True"
            ]
          },
          "execution_count": 20,
          "metadata": {},
          "output_type": "execute_result"
        }
      ],
      "source": [
        "\"graduacao\" in estudante.keys()"
      ]
    },
    {
      "cell_type": "code",
      "execution_count": null,
      "metadata": {
        "colab": {
          "base_uri": "https://localhost:8080/"
        },
        "id": "tigv9yEnVAKf",
        "outputId": "7fc23483-4ec1-44eb-c1b2-37ae8bb764da"
      },
      "outputs": [
        {
          "data": {
            "text/plain": [
              "True"
            ]
          },
          "execution_count": 22,
          "metadata": {},
          "output_type": "execute_result"
        }
      ],
      "source": [
        "\"theo\" in estudante.values()"
      ]
    },
    {
      "cell_type": "code",
      "execution_count": null,
      "metadata": {
        "colab": {
          "base_uri": "https://localhost:8080/"
        },
        "id": "CiOKAhcYANxj",
        "outputId": "fe6a894f-8f7f-40b3-d5fa-df1e07fe34a1"
      },
      "outputs": [
        {
          "data": {
            "text/plain": [
              "{'nome': 'theo',\n",
              " 'graduacao': 'medicina',\n",
              " 'materiais': ['jaleco', 'bisturi', 'estetoscópio']}"
            ]
          },
          "execution_count": 23,
          "metadata": {},
          "output_type": "execute_result"
        }
      ],
      "source": [
        "lista_materiais = ['jaleco', 'bisturi', 'estetoscópio']\n",
        "\n",
        "if 'materiais' not in estudante:\n",
        "  estudante['materiais'] = lista_materiais\n",
        "\n",
        "estudante"
      ]
    },
    {
      "cell_type": "code",
      "execution_count": null,
      "metadata": {
        "colab": {
          "base_uri": "https://localhost:8080/"
        },
        "id": "vtPHIhq1Am_h",
        "outputId": "ac7d4282-d18b-4246-be58-5ac263623d7c"
      },
      "outputs": [
        {
          "name": "stdout",
          "output_type": "stream",
          "text": [
            "nota encontrada. aluno: aluno1 tirou 10. Quantidade: 2\n",
            "nota encontrada. aluno: aluno3 tirou 10. Quantidade: 3\n"
          ]
        }
      ],
      "source": [
        "notas_alunos = {\"aluno1\": [7,8,9,10,10],\n",
        "                \"aluno2\": [5,6,9,9.6,9.8],\n",
        "                \"aluno3\": [7,8,10,10,10]}\n",
        "\n",
        "for aluno,lista_notas_do_aluno in notas_alunos.items():\n",
        "  if 10 in lista_notas_do_aluno:\n",
        "    print(f\"nota encontrada. aluno: {aluno} tirou 10. Quantidade: {lista_notas_do_aluno.count(10)}\")\n"
      ]
    },
    {
      "cell_type": "markdown",
      "metadata": {
        "id": "yDWcAyLGVA-C"
      },
      "source": [
        "## Exercícios"
      ]
    },
    {
      "cell_type": "markdown",
      "metadata": {
        "id": "CHB_o1_k8cPK"
      },
      "source": [
        "1) Crie um dicionário para as seguintes relações:\n",
        "\n",
        "<center>\n",
        "\n",
        ". |  |\n",
        "--- | --- | \n",
        "banana| 3.0 | \n",
        "cebola | 4.0 |\n",
        "maçã | 5.7\n",
        "abacaxi | 8.0\n",
        "\n",
        "\n",
        "</center>"
      ]
    },
    {
      "cell_type": "code",
      "execution_count": null,
      "metadata": {
        "colab": {
          "base_uri": "https://localhost:8080/"
        },
        "id": "Cfi0lMmg87bi",
        "outputId": "1d70b801-2891-4c4d-cc76-d68972545706"
      },
      "outputs": [
        {
          "name": "stdout",
          "output_type": "stream",
          "text": [
            "{'banana': 3.0, 'cebola': 4.0, 'maca': 5.7, 'abacaxi': 8.0}\n"
          ]
        }
      ],
      "source": [
        "fruta = {\"banana\":3.0,\n",
        "         \"cebola\":4.0,\n",
        "         \"maca\":5.7,\n",
        "         \"abacaxi\":8.0}\n",
        "print(fruta)"
      ]
    },
    {
      "cell_type": "code",
      "execution_count": null,
      "metadata": {
        "colab": {
          "base_uri": "https://localhost:8080/"
        },
        "id": "y5wlQjNt-dyA",
        "outputId": "348bab5a-8468-42c6-e5b3-c78ffa9dd768"
      },
      "outputs": [
        {
          "name": "stdout",
          "output_type": "stream",
          "text": [
            "{'banana': 3.0, 'cebola': 4.0, 'maca': 8.6, 'abacaxi': 8.0}\n"
          ]
        }
      ],
      "source": [
        "fruta['maca']=8.6\n",
        "print(fruta)"
      ]
    },
    {
      "cell_type": "code",
      "execution_count": null,
      "metadata": {
        "colab": {
          "background_save": true,
          "base_uri": "https://localhost:8080/"
        },
        "id": "olMbbb3r-11s",
        "outputId": "d1cf4790-3bba-46b0-ef19-fa4da9a720a8"
      },
      "outputs": [
        {
          "name": "stdout",
          "output_type": "stream",
          "text": [
            "['maca']\n",
            "['maca', 'banana']\n",
            "['maca', 'banana', 'manga']\n",
            "['maca', 'banana', 'manga', 'maca']\n",
            "['maca', 'banana', 'manga', 'maca', 'banana']\n",
            "['maca', 'banana', 'manga', 'maca', 'banana', 'limao']\n",
            "['maca', 'banana', 'manga', 'maca', 'banana', 'limao', 'limao']\n",
            "['maca', 'banana', 'manga', 'maca', 'banana', 'limao', 'limao', 'limao']\n"
          ]
        }
      ],
      "source": [
        "lista = ['maca', 'banana', 'manga', 'maca', 'banana', 'limao', 'limao', 'limao']\n",
        "\n",
        "nova = []\n",
        "rep = []\n",
        "for i in range(len(lista)):\n",
        "    if i == i:\n",
        "            rep.append(i)\n",
        "            print(rep)\n"
      ]
    },
    {
      "cell_type": "code",
      "execution_count": null,
      "metadata": {
        "colab": {
          "base_uri": "https://localhost:8080/"
        },
        "id": "f6RDaSnGVojo",
        "outputId": "3615fb25-042a-4bfa-dd04-f7804acc23d5"
      },
      "outputs": [
        {
          "name": "stdout",
          "output_type": "stream",
          "text": [
            "<class 'dict'> {'banana': 3.0, 'cebola': 4.0, 'maçã': 5.7, 'abacaxi': 8.0}\n"
          ]
        }
      ],
      "source": [
        "frutas = {\"banana\": 3.0,\n",
        " \"cebola\": 4.0,\n",
        " \"maçã\": 5.7,\n",
        " \"abacaxi\": 8.0}\n",
        "\n",
        "print(type(frutas), frutas)"
      ]
    },
    {
      "cell_type": "code",
      "execution_count": null,
      "metadata": {
        "colab": {
          "base_uri": "https://localhost:8080/"
        },
        "id": "qK0ZER0IK5DO",
        "outputId": "96ae97a6-d77d-4cf3-839e-e99abc4602d6"
      },
      "outputs": [
        {
          "name": "stdout",
          "output_type": "stream",
          "text": [
            "5.7 milhões\n"
          ]
        }
      ],
      "source": [
        "frutas = { \n",
        "\"Banana\":{\"Quantidade\":3.0}, \n",
        "\"Cebola\":{\"Quantidade\":4.0},\n",
        "\"Maçã\":{\"Quantidade\":5.7,\n",
        "        \"unidade\": \"milhões\"},\n",
        "\"Abacaxi\":{\"Quantidade\":8.0}\n",
        "}\n",
        "\n",
        "print(f\"{frutas['Maçã']['Quantidade']} {frutas['Maçã']['unidade']}\")"
      ]
    },
    {
      "cell_type": "code",
      "execution_count": null,
      "metadata": {
        "id": "1HcW7UFfODqW"
      },
      "outputs": [],
      "source": [
        "[9,8,10]\n",
        "{\n",
        "\"notas1\": 9, \n",
        "\"notas2\": 8,\n",
        "\"notas3\": 10\n",
        "}\n"
      ]
    },
    {
      "cell_type": "markdown",
      "metadata": {
        "id": "9-sArzdz8eou"
      },
      "source": [
        "2) Altere o valor da chave ‘Maçã’ no dicionário do exercício anterior para 8.6."
      ]
    },
    {
      "cell_type": "code",
      "execution_count": null,
      "metadata": {
        "colab": {
          "base_uri": "https://localhost:8080/"
        },
        "id": "uNf2kWC4VnSE",
        "outputId": "885a6bb7-879a-4e5f-fb06-13063955d223"
      },
      "outputs": [
        {
          "data": {
            "text/plain": [
              "8.6"
            ]
          },
          "execution_count": 35,
          "metadata": {},
          "output_type": "execute_result"
        }
      ],
      "source": [
        "frutas['maçã'] = 8600000\n",
        "frutas['maçã']"
      ]
    },
    {
      "cell_type": "markdown",
      "metadata": {
        "id": "nT4xMUCK-yWy"
      },
      "source": [
        "3) Faça uma função que conte quantas vezes cada elemento aparece em uma lista. Essa função deverá guardar os dados em um dicionário no qual as chaves são os elementos inseridos e os valores são a contagem de quantas vezes esse elemento aparece. ex de output: {\"banana\":2, \"maçã\":1}"
      ]
    },
    {
      "cell_type": "code",
      "execution_count": null,
      "metadata": {
        "colab": {
          "base_uri": "https://localhost:8080/"
        },
        "id": "7nZyUb4TVltD",
        "outputId": "7ed86ae3-2fc9-4b85-e201-366c4cfc6170"
      },
      "outputs": [
        {
          "name": "stdout",
          "output_type": "stream",
          "text": [
            "está na lista\n"
          ]
        }
      ],
      "source": [
        "lista = ['joao', 'maria', 'jose']\n",
        "if \"joao\" in lista:\n",
        "  print(\"está na lista\")\n",
        "else:\n",
        "  print(\"não está na lista\")"
      ]
    },
    {
      "cell_type": "code",
      "execution_count": null,
      "metadata": {
        "id": "Tj12CetuPNJR"
      },
      "outputs": [],
      "source": [
        "def conta_elementos(elementos):\n",
        "  contagem = {}\n",
        "  for elemento in elementos:\n",
        "    if elemento not in contagem.keys():\n",
        "      contagem[elemento] = 1\n",
        "    else:\n",
        "      contagem[elemento] += 1\n",
        "  \n",
        "  return contagem\n"
      ]
    },
    {
      "cell_type": "code",
      "execution_count": null,
      "metadata": {
        "colab": {
          "base_uri": "https://localhost:8080/"
        },
        "id": "xaFKj1ZFP1Xe",
        "outputId": "951cfbfd-6b91-45a9-b6a6-abd35b7b01a9"
      },
      "outputs": [
        {
          "data": {
            "text/plain": [
              "{'banana': 2, 'maçã': 1, 'abacaxi': 2}"
            ]
          },
          "execution_count": 41,
          "metadata": {},
          "output_type": "execute_result"
        }
      ],
      "source": [
        "conta_elementos((\"banana\", \"maçã\", \"banana\", \"abacaxi\", \"abacaxi\"))"
      ]
    },
    {
      "cell_type": "code",
      "execution_count": null,
      "metadata": {
        "id": "JE1-zcolQMN4"
      },
      "outputs": [],
      "source": [
        "def conta_elemento(lista):\n",
        "  \n",
        "  contagem = {}\n",
        "\n",
        "  for elemento in lista:\n",
        "    if elemento not in contagem:\n",
        "      contagem[elemento] = lista.count(elemento)\n",
        "\n",
        "  return contagem"
      ]
    },
    {
      "cell_type": "code",
      "execution_count": null,
      "metadata": {
        "id": "ecR9on7mQW8S"
      },
      "outputs": [],
      "source": [
        "# para cada valor único da minha lista_ quantas vezes ela aparece na minha lista original (com repetições) \n",
        "def contar_elementos(lista_):\n",
        "    return {elemento: lista_.count(elemento) for elemento in set(lista_)}\n",
        "\n",
        "lista = [\"a\", None, \"b\", \"a\", 0, \"d\", \"c\", 0, None, 1.5, None]\n",
        "print(contar_elementos(lista))"
      ]
    },
    {
      "cell_type": "code",
      "execution_count": null,
      "metadata": {
        "id": "gsqVxPNJQ94-"
      },
      "outputs": [],
      "source": [
        "def contar_frutas(lista):\n",
        "\n",
        "  dict_frutas = {}\n",
        "\n",
        "  for itens in lista:\n",
        "    dict_frutas[itens] = lista.count(itens)\n",
        "    \n",
        "  return dict_frutas\n",
        "\n",
        "\n"
      ]
    },
    {
      "cell_type": "code",
      "execution_count": null,
      "metadata": {
        "id": "EcsuhTPCSr0U"
      },
      "outputs": [],
      "source": [
        "# para curiosidade: código eduardo que utiliza set para comparar listas\n",
        "import pandas as pd\n",
        "import openpyxl\n",
        "import xlrd\n",
        "\n",
        "#ler os arquivos e salva numa vavialvel\n",
        "excel_novo = pd.read_excel(r'C:\\Users\\edusa\\OneDrive\\Documents\\Programção\\Python\\MATRICULADOS EM 2022.2.xlsx')\n",
        "excel_antigo = pd.read_excel(r'C:\\Users\\edusa\\OneDrive\\Documents\\Programção\\Python\\DISCENTE MATRICULADOS.xls')\n",
        "\n",
        "#cria novas listas em branco para cada arqruivo\n",
        "lista_novo = []\n",
        "lista_antigo = []\n",
        "\n",
        "#com o for uso o metodo append para adicionar os nomes as listas\n",
        "for nomes in excel_novo[\"nome\"]:\n",
        "    lista_novo.append(nomes)\n",
        "\n",
        "for nome in excel_antigo[\"nome\"]:\n",
        "    lista_antigo.append(nome)\n",
        "\n",
        "\n",
        "print(len(lista_novo))\n",
        "print(len(lista_antigo))\n",
        "#usa metodo set para transforma em conjunto, pq alem de eliminar os dados duplicados, também permite utilizar outros metodos\n",
        "conjunto_a = set(lista_novo)\n",
        "\n",
        "#salvo na variavel os diferentes diferentes entre a primeira e segunda lista\n",
        "inter = conjunto_a.difference(lista_antigo)\n",
        "print(inter)"
      ]
    },
    {
      "cell_type": "markdown",
      "metadata": {
        "id": "mXg45HMJZBXQ"
      },
      "source": [
        "4) Faça  uma  função que  receba  múltiplos \n",
        "números inteiros em seguida informe quantos são pares e quantos são ímpares."
      ]
    },
    {
      "cell_type": "code",
      "execution_count": null,
      "metadata": {
        "colab": {
          "base_uri": "https://localhost:8080/"
        },
        "id": "MNHFaiWQVlVF",
        "outputId": "90bf6e20-843c-47b0-e6b5-7e56eb8d637f"
      },
      "outputs": [
        {
          "name": "stdout",
          "output_type": "stream",
          "text": [
            "1\n",
            "0\n",
            "1\n"
          ]
        }
      ],
      "source": [
        "for element in (1,2,3):\n",
        "  print(element % 2)"
      ]
    },
    {
      "cell_type": "code",
      "execution_count": null,
      "metadata": {
        "colab": {
          "base_uri": "https://localhost:8080/",
          "height": 35
        },
        "id": "trwLCdDuadWq",
        "outputId": "94ca477b-2a07-49c0-ba0e-2cd20b257f58"
      },
      "outputs": [
        {
          "data": {
            "application/vnd.google.colaboratory.intrinsic+json": {
              "type": "string"
            },
            "text/plain": [
              "'temos 1 pares e 2 ímpares'"
            ]
          },
          "execution_count": 47,
          "metadata": {},
          "output_type": "execute_result"
        }
      ],
      "source": [
        "def num_par_impar(numeros):\n",
        "  par = 0\n",
        "  impar = 0\n",
        "  for num in numeros:\n",
        "    if num % 2 == 0:\n",
        "      par += 1\n",
        "    else:\n",
        "      impar += 1\n",
        "  return f\"temos {par} pares e {impar} ímpares\"\n",
        "\n",
        "num_par_impar((1,2,3))"
      ]
    },
    {
      "cell_type": "code",
      "execution_count": null,
      "metadata": {
        "id": "Ju4ywRFfbI2u"
      },
      "outputs": [],
      "source": [
        "def par_ou_impar():\n",
        "  contador = int(input('Quantos números deseja adicionar? '))\n",
        "  lista_de_numero = [] #Para guardar os dados do usuário. Assunto de listas\n",
        "  dicionario_de_numero = {} #Usei dicionário só para protagem, praticando assim o uso de {chave:valor}\n",
        "  for num in range(contador): #Método usado para fazer loop de iterações do usuário\n",
        "    numero = int(input('Digite o número: '))\n",
        "    lista_de_numero.append(numero)\n",
        "  \n",
        "  numeros_pares = 0\n",
        "  numeros_impares = 0\n",
        "#Neste exercicio foi utilizado\n",
        "  for observar in lista_de_numero:\n",
        "    if observar % 2 == 0:\n",
        "      numeros_pares += 1\n",
        "    else:\n",
        "      numeros_impares += 1\n",
        "    dicionario_de_numero.update({'Números pares:':numeros_pares})\n",
        "    dicionario_de_numero.update({'Números impares:':numeros_impares})\n",
        "  return dicionario_de_numero\n",
        "\n",
        "par_ou_impar()"
      ]
    },
    {
      "cell_type": "code",
      "execution_count": null,
      "metadata": {
        "id": "MRrnDfGXbgrd"
      },
      "outputs": [],
      "source": [
        "def contar_pares_e_impares(numeros):\n",
        "    contagem = {\"pares\": 0, \"impares\": 0}\n",
        "    \n",
        "    for num in numeros:\n",
        "        grupo = \"pares\" if num % 2 == 0 else \"impares\"\n",
        "        contagem[grupo] = contagem.get(grupo) + 1\n",
        "\n",
        "    return contagem\n",
        "\n",
        "\n",
        "print(contar_pares_e_impares([1, 3, 6, 9, 0, 50, 48]))"
      ]
    },
    {
      "cell_type": "markdown",
      "metadata": {
        "id": "_YPnh2-bcTm8"
      },
      "source": [
        "5) faça uma função que recebe um elemento a ser encontrado no texto e substitui por outro elemento \n",
        "\n",
        "- pode utilizar o método .replace()"
      ]
    },
    {
      "cell_type": "code",
      "execution_count": null,
      "metadata": {
        "colab": {
          "base_uri": "https://localhost:8080/",
          "height": 35
        },
        "id": "8asnfOqqfIfo",
        "outputId": "207fe462-e53f-4a3f-d1b0-ff0e3495e0f6"
      },
      "outputs": [
        {
          "data": {
            "application/vnd.google.colaboratory.intrinsic+json": {
              "type": "string"
            },
            "text/plain": [
              "'OLá.'"
            ]
          },
          "execution_count": 64,
          "metadata": {},
          "output_type": "execute_result"
        }
      ],
      "source": [
        "\"olá!\".replace(\"!\", \".\").replace(\"o\",\"O\").replace(\"l\",\"L\")"
      ]
    },
    {
      "cell_type": "code",
      "execution_count": null,
      "metadata": {
        "colab": {
          "base_uri": "https://localhost:8080/",
          "height": 35
        },
        "id": "GB94mOX9hSb7",
        "outputId": "19267d0b-9e8d-404d-ae8b-5c52ca93d74f"
      },
      "outputs": [
        {
          "data": {
            "application/vnd.google.colaboratory.intrinsic+json": {
              "type": "string"
            },
            "text/plain": [
              "'oooOlá'"
            ]
          },
          "execution_count": 75,
          "metadata": {},
          "output_type": "execute_result"
        }
      ],
      "source": [
        "\"oooolá\"[::-1].replace(\"o\",\"O\",1)[::-1]"
      ]
    },
    {
      "cell_type": "code",
      "execution_count": null,
      "metadata": {
        "colab": {
          "base_uri": "https://localhost:8080/"
        },
        "id": "V6KgMPQFdL_M",
        "outputId": "19428fe6-6c76-4ccc-d147-7be59d07684c"
      },
      "outputs": [
        {
          "name": "stdout",
          "output_type": "stream",
          "text": [
            "chave: ! , valor: .\n",
            "chave: o , valor: O\n"
          ]
        }
      ],
      "source": [
        "dic_exemplo = {\"!\":\".\", \"o\":\"O\"}\n",
        "\n",
        "for chave,valor in dic_exemplo.items():\n",
        "  print(f\"chave: {chave} , valor: {valor}\")"
      ]
    },
    {
      "cell_type": "code",
      "execution_count": null,
      "metadata": {
        "colab": {
          "base_uri": "https://localhost:8080/",
          "height": 35
        },
        "id": "dtUEPQsGcTsa",
        "outputId": "6a00d1ac-467e-42d3-8be6-f78793b5b1ee"
      },
      "outputs": [
        {
          "data": {
            "application/vnd.google.colaboratory.intrinsic+json": {
              "type": "string"
            },
            "text/plain": [
              "'OLá.'"
            ]
          },
          "execution_count": 63,
          "metadata": {},
          "output_type": "execute_result"
        }
      ],
      "source": [
        "def replaces(string,dicionario):\n",
        "  nova_string = string[:]\n",
        "  for chave,valor in dicionario.items():\n",
        "    nova_string = nova_string.replace(chave,valor)\n",
        "  return nova_string\n",
        "\n",
        "replaces(\"olá!\", {\"!\":\".\", \"o\":\"O\", \"l\":\"L\"})"
      ]
    },
    {
      "cell_type": "code",
      "execution_count": null,
      "metadata": {
        "colab": {
          "base_uri": "https://localhost:8080/"
        },
        "id": "THzMsGiMgVql",
        "outputId": "804bdb03-599a-4486-acd3-a46cb1326fe2"
      },
      "outputs": [
        {
          "name": "stdout",
          "output_type": "stream",
          "text": [
            "O r@t0 r0eu @ r0up@ d0 rei de R0m@\n"
          ]
        }
      ],
      "source": [
        "def replace_using_dict(text: str, base_dict: dict) -> str:\n",
        "    return text.translate(text.maketrans(base_dict))\n",
        "\n",
        "\n",
        "print(replace_using_dict(\n",
        "    text=\"O rato roeu a roupa do rei de Roma\", \n",
        "    base_dict={\"a\": \"@\", \"o\": \"0\"}\n",
        "))\n",
        "\n"
      ]
    },
    {
      "cell_type": "code",
      "execution_count": null,
      "metadata": {
        "colab": {
          "base_uri": "https://localhost:8080/"
        },
        "id": "BcWYrmydgppw",
        "outputId": "66c0d8bc-c663-407d-de55-7b5461ddbcce"
      },
      "outputs": [
        {
          "data": {
            "text/plain": [
              "{97: '@', 111: '0'}"
            ]
          },
          "execution_count": 66,
          "metadata": {},
          "output_type": "execute_result"
        }
      ],
      "source": [
        "\"O rato roeu a roupa do rei de Roma\".maketrans({\"a\": \"@\", \"o\": \"0\"})"
      ]
    },
    {
      "cell_type": "markdown",
      "metadata": {
        "id": "UThmKFrwZDVJ"
      },
      "source": [
        "6) Faça  um  código  contador  de \n",
        "palavras.  O  usuário  vai  inserir  um  texto  qualquer  e  o  programa  vai  contar  a \n",
        "quantidade de cada palavra no texto, armazenando o resultado em um dicionário \n",
        "e exibindo o resultado para o usuário.\n",
        "- caso queira pode utilizar o .split() e .replace()"
      ]
    },
    {
      "cell_type": "code",
      "execution_count": null,
      "metadata": {
        "colab": {
          "base_uri": "https://localhost:8080/"
        },
        "id": "CugBxuPhVk6a",
        "outputId": "017aea1e-0d71-422b-ca0f-ae4ec4cb9adb"
      },
      "outputs": [
        {
          "data": {
            "text/plain": [
              "['olá!', 'olá.', 'tudo', 'bem', 'com', 'você?', 'tudo', 'bem.']"
            ]
          },
          "execution_count": 82,
          "metadata": {},
          "output_type": "execute_result"
        }
      ],
      "source": [
        "\"olá! olá. tudo bem com você? tudo bem.\".split()"
      ]
    },
    {
      "cell_type": "code",
      "execution_count": null,
      "metadata": {
        "id": "K9qgxLdEifjp"
      },
      "outputs": [],
      "source": [
        "dic = {\"texto\": 1, \"recebido\": 1}\n",
        "if \"joao\" in dic:\n",
        "  print('está no meu dicionário')\n",
        "\n"
      ]
    },
    {
      "cell_type": "code",
      "execution_count": null,
      "metadata": {
        "id": "w7WcCGiSi8vZ"
      },
      "outputs": [],
      "source": [
        "def contador(texto):\n",
        "  texto = replaces(texto)\n",
        "  dic = {}\n",
        "  for palavra in texto.split():\n",
        "    if palavra in dic:\n",
        "      dic[palavra] += 1\n",
        "    else:\n",
        "      dic[palavra] = 1\n",
        "  return dic"
      ]
    }
  ],
  "metadata": {
    "colab": {
      "provenance": [],
      "include_colab_link": true
    },
    "kernelspec": {
      "display_name": "Python 3",
      "language": "python",
      "name": "python3"
    },
    "language_info": {
      "codemirror_mode": {
        "name": "ipython",
        "version": 3
      },
      "file_extension": ".py",
      "mimetype": "text/x-python",
      "name": "python",
      "nbconvert_exporter": "python",
      "pygments_lexer": "ipython3",
      "version": "3.8.5"
    }
  },
  "nbformat": 4,
  "nbformat_minor": 0
}