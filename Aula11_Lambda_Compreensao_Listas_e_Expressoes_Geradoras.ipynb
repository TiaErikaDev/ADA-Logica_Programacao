{
  "cells": [
    {
      "cell_type": "markdown",
      "metadata": {
        "id": "view-in-github",
        "colab_type": "text"
      },
      "source": [
        "<a href=\"https://colab.research.google.com/github/TiaErikaDev/ADA-Logica_Programacao/blob/main/Aula11_Lambda_Compreensao_Listas_e_Expressoes_Geradoras.ipynb\" target=\"_parent\"><img src=\"https://colab.research.google.com/assets/colab-badge.svg\" alt=\"Open In Colab\"/></a>"
      ]
    },
    {
      "cell_type": "markdown",
      "source": [
        "## funções lambda"
      ],
      "metadata": {
        "id": "IHvMOoqVdibm"
      }
    },
    {
      "cell_type": "markdown",
      "source": [
        "A função lambda é mais uma maneira de criar as funções que já conhecemos.\n",
        "\n",
        "A lambda function acaba sendo utilizada quando você procura criar uma função relativamente curta e/ou que será executada para uma ação específica e não há necessidade tão grande de reutiliza-la, principalmente quando comparada com a criação que já havíamos conhecido anteriormente utilizando o def\n",
        "\n",
        "Além disso, as funções lambda são uma única expressão. E não é necessário escrever \"return\" para ela retornar o valor, pois ela já fará isso \"automaticamente\".\n",
        "\n",
        "\n",
        "Por essas características mencionadas, não é \"esperado\" que funções desse tipo tenham bastante código. Outro fator que estimula a deixá-la sucinta é o fato de não aceitar doc strings"
      ],
      "metadata": {
        "id": "EbeAiTfkdibn"
      }
    },
    {
      "cell_type": "markdown",
      "source": [
        "estrutura da lambda function:\n",
        "```python\n",
        "lambda parametros: expressao a ser retornada\n",
        "```"
      ],
      "metadata": {
        "id": "8pvs_2NLdibm"
      }
    },
    {
      "cell_type": "markdown",
      "source": [
        "como podemos perceber, as lambda functions não recebem um nome, diferente de quando chamamos da outra forma que conhecíamos\n",
        "\n",
        "```python\n",
        "def minha_funcao()\n",
        "```\n",
        "\n",
        "é por isso que as funções lambda também são chamadas de funções anônimas"
      ],
      "metadata": {
        "id": "ys4RNVzQ3GRN"
      }
    },
    {
      "cell_type": "code",
      "source": [
        "def minha_funcao(x):\n",
        "  return x ** 2\n"
      ],
      "metadata": {
        "id": "GgwAcsBpg6zw"
      },
      "execution_count": null,
      "outputs": []
    },
    {
      "cell_type": "code",
      "source": [
        "lambda x: x ** 2"
      ],
      "metadata": {
        "colab": {
          "base_uri": "https://localhost:8080/"
        },
        "id": "PObujFapg66H",
        "outputId": "68040f3b-8565-49be-d39a-9856e9a1bd60"
      },
      "execution_count": null,
      "outputs": [
        {
          "output_type": "execute_result",
          "data": {
            "text/plain": [
              "<function __main__.<lambda>(x)>"
            ]
          },
          "metadata": {},
          "execution_count": 2
        }
      ]
    },
    {
      "cell_type": "code",
      "source": [
        "minha_funcao(2)"
      ],
      "metadata": {
        "colab": {
          "base_uri": "https://localhost:8080/"
        },
        "id": "khl8Mslwg6_u",
        "outputId": "d3e201be-6b02-41c4-a1de-804234279951"
      },
      "execution_count": null,
      "outputs": [
        {
          "output_type": "execute_result",
          "data": {
            "text/plain": [
              "4"
            ]
          },
          "metadata": {},
          "execution_count": 3
        }
      ]
    },
    {
      "cell_type": "code",
      "source": [
        "# a ideia da lambda não é ser reutilizada e/ou utilizada para atribuir a uma variável\n",
        "minha_funcao = lambda x: x ** 2\n",
        "minha_funcao(2)"
      ],
      "metadata": {
        "colab": {
          "base_uri": "https://localhost:8080/"
        },
        "id": "WJL1u_Brg7E7",
        "outputId": "e823e865-5438-42b1-eb53-d416c5508462"
      },
      "execution_count": null,
      "outputs": [
        {
          "output_type": "execute_result",
          "data": {
            "text/plain": [
              "4"
            ]
          },
          "metadata": {},
          "execution_count": 5
        }
      ]
    },
    {
      "cell_type": "code",
      "source": [
        "# todos os formatos que vimos de parâmetros nas funções com nome, também se aplicam para a lambda. por exemplo:"
      ],
      "metadata": {
        "id": "VTZhDa_Xg7Wv"
      },
      "execution_count": null,
      "outputs": []
    },
    {
      "cell_type": "code",
      "source": [
        "(lambda x: x ** 2)(3)"
      ],
      "metadata": {
        "colab": {
          "base_uri": "https://localhost:8080/"
        },
        "id": "KMXBulFog7KN",
        "outputId": "f0eae78c-c4c3-4d0b-a96e-007641603de2"
      },
      "execution_count": null,
      "outputs": [
        {
          "output_type": "execute_result",
          "data": {
            "text/plain": [
              "9"
            ]
          },
          "metadata": {},
          "execution_count": 7
        }
      ]
    },
    {
      "cell_type": "code",
      "source": [
        "(lambda x,y,z: x + y + z)(1,2,3)"
      ],
      "metadata": {
        "colab": {
          "base_uri": "https://localhost:8080/"
        },
        "id": "WB0flqM3g7O1",
        "outputId": "22530b3f-dccc-4d3f-e3bb-45494d0d54f0"
      },
      "execution_count": null,
      "outputs": [
        {
          "output_type": "execute_result",
          "data": {
            "text/plain": [
              "6"
            ]
          },
          "metadata": {},
          "execution_count": 8
        }
      ]
    },
    {
      "cell_type": "code",
      "source": [
        "(lambda x,y,z=3: x + y + z)(1,2)"
      ],
      "metadata": {
        "colab": {
          "base_uri": "https://localhost:8080/"
        },
        "id": "F3KLyqwDg7TH",
        "outputId": "0f9c1f5f-7cd4-4879-fdcd-159438447425"
      },
      "execution_count": null,
      "outputs": [
        {
          "output_type": "execute_result",
          "data": {
            "text/plain": [
              "6"
            ]
          },
          "metadata": {},
          "execution_count": 9
        }
      ]
    },
    {
      "cell_type": "code",
      "source": [
        "from functools import reduce\n",
        "\n",
        "reduce(lambda x,y: x * y, [1,2,3,4])"
      ],
      "metadata": {
        "colab": {
          "base_uri": "https://localhost:8080/"
        },
        "id": "zGX8e9tEGMo-",
        "outputId": "ec87f1c9-6dc0-491c-d72f-1414586cfb42"
      },
      "execution_count": null,
      "outputs": [
        {
          "output_type": "execute_result",
          "data": {
            "text/plain": [
              "24"
            ]
          },
          "metadata": {},
          "execution_count": 10
        }
      ]
    },
    {
      "cell_type": "code",
      "source": [
        "def is_par(x):\n",
        "  if x % 2 == 0:\n",
        "    return True\n",
        "  else:\n",
        "    return False\n",
        "\n",
        "is_par(5)\n"
      ],
      "metadata": {
        "colab": {
          "base_uri": "https://localhost:8080/"
        },
        "id": "Ncrv3cKVG38n",
        "outputId": "d6db060c-6f60-4e80-ed0a-deb56b093d0b"
      },
      "execution_count": null,
      "outputs": [
        {
          "output_type": "execute_result",
          "data": {
            "text/plain": [
              "False"
            ]
          },
          "metadata": {},
          "execution_count": 13
        }
      ]
    },
    {
      "cell_type": "code",
      "source": [
        "list(filter(lambda x: True if x % 2 == 0 else False, (1,2,3,4)))"
      ],
      "metadata": {
        "colab": {
          "base_uri": "https://localhost:8080/"
        },
        "id": "-FdNfymmG3-6",
        "outputId": "baf8cd15-d4ba-4926-f3f3-25bb1da758be"
      },
      "execution_count": null,
      "outputs": [
        {
          "output_type": "execute_result",
          "data": {
            "text/plain": [
              "[2, 4]"
            ]
          },
          "metadata": {},
          "execution_count": 15
        }
      ]
    },
    {
      "cell_type": "markdown",
      "metadata": {
        "id": "i3mG2KMEgUZH"
      },
      "source": [
        "# Compreensão de listas e expressões geradoras\n",
        "\n",
        "Muito do que estudamos até o momento em Python pode ser reproduzido de maneira muito parecida em outras linguagens. Comandos como if, else, while e for, bem como conceitos como criar funções, passar parâmetros e retornar valores são comuns a uma infinidade de linguagens de programação.\n",
        "\n",
        "Porém, um dos objetivos da linguagem Python é realizar o máximo possível de trabalho com a menor quantidade possível de código, resultando em um código mais limpo e com menos efeitos colaterais. \n",
        "\n",
        "Com isso, o Python traz maneiras diferentes e mais enxutas de resolver problemas que já lidávamos bem utilizando outras técnicas. \n",
        "\n",
        "As **compreensões de listas** e **expressões geradoras** são algumas dessas ferramentas."
      ]
    },
    {
      "cell_type": "markdown",
      "metadata": {
        "id": "JTEAgNkAgUZK"
      },
      "source": [
        "## Compreensão de listas\n",
        "\n",
        "Vamos considerar um probleminha simples: montar uma lista com os quadrados dos números de 1 até 10. Uma das maneiras de resolver esse problema seria:"
      ]
    },
    {
      "cell_type": "code",
      "execution_count": null,
      "metadata": {
        "colab": {
          "base_uri": "https://localhost:8080/"
        },
        "id": "cRf3RyEmgUZL",
        "outputId": "2f53e7bd-94d4-4482-cbd8-3191f5cd16fe"
      },
      "outputs": [
        {
          "output_type": "stream",
          "name": "stdout",
          "text": [
            "[1, 4, 9, 16, 25, 36, 49, 64, 81, 100]\n",
            "10\n"
          ]
        }
      ],
      "source": [
        "quadrados = []\n",
        "\n",
        "for x in range(1, 11):\n",
        "    quadrados.append(x**2)\n",
        "\n",
        "print(quadrados)\n",
        "print(x)"
      ]
    },
    {
      "cell_type": "markdown",
      "metadata": {
        "id": "mLlKXfFqgUZN"
      },
      "source": [
        "Note que utilizamos 3 linhas de código para criar uma lista: uma para declarar uma lista, uma para percorrer alguns valores e uma para executar o cálculo e adicionar o resultado à lista.\n",
        "\n",
        "Além disso, criamos uma variável extra, ```x```, que segue existindo em nosso programa mesmo após o loop, como você pode observar pelo segundo ```print``` do exemplo.\n",
        "\n",
        "A **compreensão de listas** resolve todos esses problemas: iremos resumir em uma única linha a criação da nova lista já com todos os valores desejados, e sem variáveis *sobrando* após a execução:"
      ]
    },
    {
      "cell_type": "code",
      "source": [
        "quadrados = []\n",
        "\n",
        "for xx in range(1, 11):\n",
        "    quadrados+= [xx**2]\n",
        "\n",
        "print(quadrados)\n",
        "print(xx)"
      ],
      "metadata": {
        "colab": {
          "base_uri": "https://localhost:8080/"
        },
        "id": "xmqXLX1zhlWF",
        "outputId": "b72044dd-dc55-4674-b719-08067e9123ed"
      },
      "execution_count": null,
      "outputs": [
        {
          "output_type": "stream",
          "name": "stdout",
          "text": [
            "[1, 4, 9, 16, 25, 36, 49, 64, 81, 100]\n",
            "10\n"
          ]
        }
      ]
    },
    {
      "cell_type": "code",
      "source": [
        "[num**2 for num in range(1, 11)]"
      ],
      "metadata": {
        "colab": {
          "base_uri": "https://localhost:8080/"
        },
        "id": "K94wC-NPhlYU",
        "outputId": "d0016a7c-c3d0-472d-89d2-367553657fab"
      },
      "execution_count": null,
      "outputs": [
        {
          "output_type": "execute_result",
          "data": {
            "text/plain": [
              "[1, 4, 9, 16, 25, 36, 49, 64, 81, 100]"
            ]
          },
          "metadata": {},
          "execution_count": 29
        }
      ]
    },
    {
      "cell_type": "code",
      "source": [
        "sum([num**2 for num in range(1, 11)])"
      ],
      "metadata": {
        "colab": {
          "base_uri": "https://localhost:8080/"
        },
        "id": "vuncKgPML-Ie",
        "outputId": "f5a7b9a4-ca7b-4752-c97e-50ff29c14fa0"
      },
      "execution_count": null,
      "outputs": [
        {
          "output_type": "execute_result",
          "data": {
            "text/plain": [
              "385"
            ]
          },
          "metadata": {},
          "execution_count": 30
        }
      ]
    },
    {
      "cell_type": "markdown",
      "metadata": {
        "id": "C6ua16uEgUZN"
      },
      "source": [
        "Note que a variável criada na versão extensa ainda existe. A variável ```num``` utilizada na compreensão, não:"
      ]
    },
    {
      "cell_type": "code",
      "source": [
        "print(\"for sem list comprehension\", x)\n",
        "print(\"for COM list comprehension\", num)"
      ],
      "metadata": {
        "colab": {
          "base_uri": "https://localhost:8080/",
          "height": 201
        },
        "id": "JZZosWVWhnLM",
        "outputId": "6a00d3d2-02b3-4988-d93d-f670470d81cc"
      },
      "execution_count": null,
      "outputs": [
        {
          "output_type": "stream",
          "name": "stdout",
          "text": [
            "for sem list comprehension 10\n"
          ]
        },
        {
          "output_type": "error",
          "ename": "NameError",
          "evalue": "ignored",
          "traceback": [
            "\u001b[0;31m---------------------------------------------------------------------------\u001b[0m",
            "\u001b[0;31mNameError\u001b[0m                                 Traceback (most recent call last)",
            "\u001b[0;32m<ipython-input-31-7de76b03e92d>\u001b[0m in \u001b[0;36m<module>\u001b[0;34m\u001b[0m\n\u001b[1;32m      1\u001b[0m \u001b[0mprint\u001b[0m\u001b[0;34m(\u001b[0m\u001b[0;34m\"for sem list comprehension\"\u001b[0m\u001b[0;34m,\u001b[0m \u001b[0mx\u001b[0m\u001b[0;34m)\u001b[0m\u001b[0;34m\u001b[0m\u001b[0;34m\u001b[0m\u001b[0m\n\u001b[0;32m----> 2\u001b[0;31m \u001b[0mprint\u001b[0m\u001b[0;34m(\u001b[0m\u001b[0;34m\"for COM list comprehension\"\u001b[0m\u001b[0;34m,\u001b[0m \u001b[0mnum\u001b[0m\u001b[0;34m)\u001b[0m\u001b[0;34m\u001b[0m\u001b[0;34m\u001b[0m\u001b[0m\n\u001b[0m",
            "\u001b[0;31mNameError\u001b[0m: name 'num' is not defined"
          ]
        }
      ]
    },
    {
      "cell_type": "markdown",
      "metadata": {
        "id": "aIWmVK3VgUZP"
      },
      "source": [
        "Vale destacar que você não precisa necessariamente utilizar ```range``` em suas compreensões. Você pode utilizar **qualquer** tipo de iterável, como listas, tuplas, strings etc.\n",
        "\n",
        "O exemplo abaixo monta uma lista contendo a metade do valor de cada elemento de uma outra lista:"
      ]
    },
    {
      "cell_type": "code",
      "source": [
        "numeros = [1,2,3,4,5]\n",
        "\n",
        "[n/2 for n in numeros]"
      ],
      "metadata": {
        "colab": {
          "base_uri": "https://localhost:8080/"
        },
        "id": "oSIhm4wthq5D",
        "outputId": "756cbb34-e8bf-413a-bb9b-6a155ce488e6"
      },
      "execution_count": null,
      "outputs": [
        {
          "output_type": "execute_result",
          "data": {
            "text/plain": [
              "[0.5, 1.0, 1.5, 2.0, 2.5]"
            ]
          },
          "metadata": {},
          "execution_count": 34
        }
      ]
    },
    {
      "cell_type": "code",
      "source": [
        "lista_strings  = ['joao augusto', 'maria antonieta', 'josé bonifácio']\n",
        "\n",
        "[elemento.split()[0] for elemento in lista_strings]"
      ],
      "metadata": {
        "colab": {
          "base_uri": "https://localhost:8080/"
        },
        "id": "8YCa5ggyhq7i",
        "outputId": "8de7c858-c07d-4d34-820c-abede41bf2fe"
      },
      "execution_count": null,
      "outputs": [
        {
          "output_type": "execute_result",
          "data": {
            "text/plain": [
              "[['joao', 'augusto'], ['maria', 'antonieta'], ['josé', 'bonifácio']]"
            ]
          },
          "metadata": {},
          "execution_count": 36
        }
      ]
    },
    {
      "cell_type": "markdown",
      "metadata": {
        "id": "izavFpergUZQ"
      },
      "source": [
        "### Condicionais em compreensões\n",
        "\n",
        "Podemos utilizar compreensões em nossas condicionais. Imagine que no exemplo anterior não pudéssemos aceitar valores \"quebrados\", e para isso não iremos dividir números ímpares, apenas pares. Podemos colocar um ```if``` na expressão:"
      ]
    },
    {
      "cell_type": "code",
      "source": [
        "numeros"
      ],
      "metadata": {
        "colab": {
          "base_uri": "https://localhost:8080/"
        },
        "id": "cDSNAqohPWu1",
        "outputId": "1d1dd9c7-45cd-4b8b-fcef-ecad57d63349"
      },
      "execution_count": null,
      "outputs": [
        {
          "output_type": "execute_result",
          "data": {
            "text/plain": [
              "[1, 2, 3, 4, 5]"
            ]
          },
          "metadata": {},
          "execution_count": 38
        }
      ]
    },
    {
      "cell_type": "code",
      "source": [
        "# se o número na minha lsita for par, divida por 2\n",
        "[n/2 for n in numeros if n % 2 == 0]"
      ],
      "metadata": {
        "colab": {
          "base_uri": "https://localhost:8080/"
        },
        "id": "bvYAuUReiMPv",
        "outputId": "f26bd846-6ec1-42e0-f51c-881d11569706"
      },
      "execution_count": null,
      "outputs": [
        {
          "output_type": "execute_result",
          "data": {
            "text/plain": [
              "[1.0, 2.0]"
            ]
          },
          "metadata": {},
          "execution_count": 37
        }
      ]
    },
    {
      "cell_type": "markdown",
      "metadata": {
        "id": "RHB4XHhAgUZR"
      },
      "source": [
        "Podemos também utilizar ```else``` na expressão. Vejamos mais um exemplo e em seguida generalizaremos a sintaxe das compreensões de lista. \n",
        "\n",
        "Considere que vamos, sim, aceitar números quebrados no exemplo das metades. Porém, não queremos utilizar o tipo float desnecessariamente. Portanto, faremos uma divisão **inteira** quando o número for par (para que o resultado seja int) e uma divisão **real** quando o número for ímpar (para que o resultado seja float). A expressão ficaria assim:"
      ]
    },
    {
      "cell_type": "code",
      "source": [
        "100 // 2"
      ],
      "metadata": {
        "colab": {
          "base_uri": "https://localhost:8080/"
        },
        "id": "UNCnBRzziV9o",
        "outputId": "679bdaf0-5764-4175-b48c-7d1b5ad45124"
      },
      "execution_count": null,
      "outputs": [
        {
          "output_type": "execute_result",
          "data": {
            "text/plain": [
              "50"
            ]
          },
          "metadata": {},
          "execution_count": 42
        }
      ]
    },
    {
      "cell_type": "code",
      "source": [
        "10 / 2"
      ],
      "metadata": {
        "colab": {
          "base_uri": "https://localhost:8080/"
        },
        "id": "gn5cKhXviWBA",
        "outputId": "d068fe3c-9127-474d-b3b7-1bf75bf6dd23"
      },
      "execution_count": null,
      "outputs": [
        {
          "output_type": "execute_result",
          "data": {
            "text/plain": [
              "5.0"
            ]
          },
          "metadata": {},
          "execution_count": 40
        }
      ]
    },
    {
      "cell_type": "code",
      "source": [
        "se for par: n//2\n",
        "\n",
        "se for ímpar: n/2"
      ],
      "metadata": {
        "id": "GK2HJNvhPtbT"
      },
      "execution_count": null,
      "outputs": []
    },
    {
      "cell_type": "code",
      "source": [
        "numeros"
      ],
      "metadata": {
        "colab": {
          "base_uri": "https://localhost:8080/"
        },
        "id": "4IxDRBb3QUaZ",
        "outputId": "484e287a-3c8b-415b-b426-971a7bcf15f3"
      },
      "execution_count": null,
      "outputs": [
        {
          "output_type": "execute_result",
          "data": {
            "text/plain": [
              "[1, 2, 3, 4, 5]"
            ]
          },
          "metadata": {},
          "execution_count": 44
        }
      ]
    },
    {
      "cell_type": "code",
      "source": [
        "[n//2 if n % 2 == 0 else n/2 for n in numeros]"
      ],
      "metadata": {
        "colab": {
          "base_uri": "https://localhost:8080/"
        },
        "id": "am1icmoSP4cG",
        "outputId": "1757c305-4ce1-4137-f325-acd4f2937c10"
      },
      "execution_count": null,
      "outputs": [
        {
          "output_type": "execute_result",
          "data": {
            "text/plain": [
              "[0.5, 1, 1.5, 2, 2.5]"
            ]
          },
          "metadata": {},
          "execution_count": 43
        }
      ]
    },
    {
      "cell_type": "code",
      "source": [
        "[n//2 for n in numeros if n % 2 == 0 else n/2]"
      ],
      "metadata": {
        "colab": {
          "base_uri": "https://localhost:8080/",
          "height": 131
        },
        "id": "NSXHBEy-RXRY",
        "outputId": "d6671d33-e3d7-4fe4-d709-601b03be96cd"
      },
      "execution_count": null,
      "outputs": [
        {
          "output_type": "error",
          "ename": "SyntaxError",
          "evalue": "ignored",
          "traceback": [
            "\u001b[0;36m  File \u001b[0;32m\"<ipython-input-47-3bb21e466c6a>\"\u001b[0;36m, line \u001b[0;32m1\u001b[0m\n\u001b[0;31m    [n//2 for n in numeros if n % 2 == 0 else n/2]\u001b[0m\n\u001b[0m                                            ^\u001b[0m\n\u001b[0;31mSyntaxError\u001b[0m\u001b[0;31m:\u001b[0m invalid syntax\n"
          ]
        }
      ]
    },
    {
      "cell_type": "code",
      "source": [
        "[n//2 if n % 2 == 0 for n in numeros ]"
      ],
      "metadata": {
        "colab": {
          "base_uri": "https://localhost:8080/",
          "height": 131
        },
        "id": "1-07tNuDRHcq",
        "outputId": "894614e6-c1e0-4bfa-ca24-59b8dd7d7a9f"
      },
      "execution_count": null,
      "outputs": [
        {
          "output_type": "error",
          "ename": "SyntaxError",
          "evalue": "ignored",
          "traceback": [
            "\u001b[0;36m  File \u001b[0;32m\"<ipython-input-46-3d0e4b753c13>\"\u001b[0;36m, line \u001b[0;32m1\u001b[0m\n\u001b[0;31m    [n//2 if n % 2 == 0 for n in numeros ]\u001b[0m\n\u001b[0m                          ^\u001b[0m\n\u001b[0;31mSyntaxError\u001b[0m\u001b[0;31m:\u001b[0m invalid syntax\n"
          ]
        }
      ]
    },
    {
      "cell_type": "markdown",
      "metadata": {
        "id": "WkxJP1pOgUZS"
      },
      "source": [
        "Note que quando colocamos o ```else```, a ordem da compreensão sofreu uma alteração. Quando era apenas ```if```, ele vinha após o ```for```. Com o ```else```, ambos vem antes.\n",
        "\n",
        "Outro ponto importante é que no caso do ```else``` passamos a ter uma segunda expressão. Quando a condição do ```if``` é verdadeira, a compreensão irá executar a expressão original. Caso contrário, ele irá executar a expressão do ```else```.\n",
        "\n",
        "Resumindo as combinações possíveis:\n",
        "\n",
        "```py\n",
        "lista = [expressao for item in colecao]\n",
        "\n",
        "# equivale a:\n",
        "\n",
        "for item in colecao:\n",
        "    lista.append(expressao)\n",
        "```\n",
        "---\n",
        "\n",
        "```py\n",
        "[expressao for item in colecao if condicao]\n",
        "\n",
        "# equivale a:\n",
        "\n",
        "for item in colecao:\n",
        "    if condicao:\n",
        "        lista.append(expressao)\n",
        "```\n",
        "\n",
        "---\n",
        "\n",
        "```py\n",
        "[expressao if condicao else expressao_alternativa for item in colecao] \n",
        "\n",
        "# equivale a:\n",
        "\n",
        "for item in colecao:\n",
        "    if condicao:\n",
        "        lista.append(expressao)\n",
        "    else:\n",
        "        lista.append(expressao_alternativa)\n",
        "```\n",
        "\n",
        "### Aninhando compreensões\n",
        "\n",
        "É possível aninhar compreensões de lista. Ao colocarmos mais de um ```for``` consecutivo, o primeiro for será considerado o mais externo, e o seguinte, mais interno. O exemplo abaixo mostra todas as combinações possíveis entre alguns nomes e sobrenomes:"
      ]
    },
    {
      "cell_type": "code",
      "source": [
        "nomes = ['ana', 'bruno', 'carla', 'daniel']\n",
        "sobrenomes = [\"silva\", \"oliveira\"]\n",
        "\n",
        "for nome in nomes:\n",
        "  for sobrenome in sobrenomes:\n",
        "    nome_completo = nome + \" \" + sobrenome\n",
        "    print(nome_completo)"
      ],
      "metadata": {
        "colab": {
          "base_uri": "https://localhost:8080/"
        },
        "id": "cQH8sfXCickY",
        "outputId": "6e2a093e-6d73-4d26-97f1-3e0f2d47c9e1"
      },
      "execution_count": null,
      "outputs": [
        {
          "output_type": "stream",
          "name": "stdout",
          "text": [
            "ana silva\n",
            "ana oliveira\n",
            "bruno silva\n",
            "bruno oliveira\n",
            "carla silva\n",
            "carla oliveira\n",
            "daniel silva\n",
            "daniel oliveira\n"
          ]
        }
      ]
    },
    {
      "cell_type": "code",
      "source": [
        "[nome + \" \" + sobrenome for nome in nomes for sobrenome in sobrenomes]"
      ],
      "metadata": {
        "colab": {
          "base_uri": "https://localhost:8080/"
        },
        "id": "x_zocJ0mTVD8",
        "outputId": "6409e9e7-a50a-48ed-a62f-bf5fd0dbbc6c"
      },
      "execution_count": null,
      "outputs": [
        {
          "output_type": "execute_result",
          "data": {
            "text/plain": [
              "['ana silva',\n",
              " 'ana oliveira',\n",
              " 'bruno silva',\n",
              " 'bruno oliveira',\n",
              " 'carla silva',\n",
              " 'carla oliveira',\n",
              " 'daniel silva',\n",
              " 'daniel oliveira']"
            ]
          },
          "metadata": {},
          "execution_count": 52
        }
      ]
    },
    {
      "cell_type": "markdown",
      "metadata": {
        "id": "8a736QH2gUZT"
      },
      "source": [
        "Inclusive podemos utilizar essa forma para trabalhar com matrizes. O exemplo abaixo lê pelo teclado a quantidade de vitórias, empates e derrotas para cada time em um grupo:"
      ]
    },
    {
      "cell_type": "code",
      "source": [
        "times = ['atletico', 'real madrid', 'barcelona']\n",
        "entradas = ['V', 'E', 'D']\n",
        "\n",
        "listas_resultados = [[int(input(f\"digite a quantidade de {tipo} do time {time}\")) for tipo in entradas] for time in times]"
      ],
      "metadata": {
        "colab": {
          "base_uri": "https://localhost:8080/"
        },
        "id": "_A4oLOEHie_q",
        "outputId": "7c95e500-d65e-42cf-e89e-2f2491716250"
      },
      "execution_count": null,
      "outputs": [
        {
          "name": "stdout",
          "output_type": "stream",
          "text": [
            "digite a quantidade de V do time atletico3\n",
            "digite a quantidade de E do time atletico5\n",
            "digite a quantidade de D do time atletico4\n",
            "digite a quantidade de V do time real madrid5\n",
            "digite a quantidade de E do time real madrid5\n",
            "digite a quantidade de D do time real madrid3\n",
            "digite a quantidade de V do time barcelona2\n",
            "digite a quantidade de E do time barcelona5\n",
            "digite a quantidade de D do time barcelona6\n"
          ]
        }
      ]
    },
    {
      "cell_type": "code",
      "source": [
        "meu_dict = {}"
      ],
      "metadata": {
        "id": "eB7BYxeDWJyz"
      },
      "execution_count": null,
      "outputs": []
    },
    {
      "cell_type": "code",
      "source": [
        "meu_dict['atletico'] = listas_resultados[0]\n",
        "meu_dict"
      ],
      "metadata": {
        "colab": {
          "base_uri": "https://localhost:8080/"
        },
        "id": "7wCdTxH5WMco",
        "outputId": "4b6bb2bf-2d60-4c1a-ba96-1511ec67272b"
      },
      "execution_count": null,
      "outputs": [
        {
          "output_type": "execute_result",
          "data": {
            "text/plain": [
              "{'atletico': [3, 5, 4]}"
            ]
          },
          "metadata": {},
          "execution_count": 60
        }
      ]
    },
    {
      "cell_type": "markdown",
      "metadata": {
        "id": "wY-tvN42gUZT"
      },
      "source": [
        "### Compreensão de dicionários\n",
        "\n",
        "Da mesma forma que utilizamos compreensão para listas, podemos utilizá-la para dicionários. A diferença é que precisamos, obrigatoriamente, passar um par chave-valor. O exemplo abaixo parte de uma lista de notas e uma lista de alunos e chega em um dicionário associando cada aluno a uma nota.\n",
        "\n"
      ]
    },
    {
      "cell_type": "code",
      "execution_count": null,
      "metadata": {
        "colab": {
          "base_uri": "https://localhost:8080/"
        },
        "id": "yvDI688cgUZU",
        "outputId": "bcfd2902-5e31-410c-9f37-83ef512e4daa"
      },
      "outputs": [
        {
          "output_type": "stream",
          "name": "stdout",
          "text": [
            "{'Ana': 9.0, 'Bruno': 8.0, 'Carla': 8.0, 'Daniel': 6.5, 'Emília': 7.0}\n"
          ]
        }
      ],
      "source": [
        "alunos = ['Ana', 'Bruno', 'Carla', 'Daniel', 'Emília']\n",
        "medias = [9.0, 8.0, 8.0, 6.5, 7.0]\n",
        "\n",
        "cadastro = {alunos[i]:medias[i] for i in range(len(alunos))}\n",
        "\n",
        "print(cadastro)"
      ]
    },
    {
      "cell_type": "markdown",
      "metadata": {
        "id": "ETEYOOjYgUZU"
      },
      "source": [
        "Também podemos chegar no mesmo resultado de uma forma mais *pythonica* usando o zip():"
      ]
    },
    {
      "cell_type": "code",
      "source": [
        "for aluno,media in zip(alunos,medias):\n",
        "  print(aluno,media)"
      ],
      "metadata": {
        "colab": {
          "base_uri": "https://localhost:8080/"
        },
        "id": "p5KXSTzXXKvk",
        "outputId": "608583d9-45de-4a94-fa65-da0c1614a988"
      },
      "execution_count": null,
      "outputs": [
        {
          "output_type": "stream",
          "name": "stdout",
          "text": [
            "Ana 9.0\n",
            "Bruno 8.0\n",
            "Carla 8.0\n",
            "Daniel 6.5\n",
            "Emília 7.0\n"
          ]
        }
      ]
    },
    {
      "cell_type": "code",
      "source": [
        "alunos = ['Ana', 'Bruno', 'Carla', 'Daniel', 'Emília']\n",
        "medias = [9.0, 8.0, 8.0, 6.5, 7.0]\n",
        "\n",
        "cadastro = {aluno:media for aluno,media in zip(alunos,medias)}\n",
        "\n",
        "print(cadastro)"
      ],
      "metadata": {
        "colab": {
          "base_uri": "https://localhost:8080/"
        },
        "id": "vT95HCP_i0S2",
        "outputId": "a4985dec-3fd2-41a0-fd87-51bfba361349"
      },
      "execution_count": null,
      "outputs": [
        {
          "output_type": "stream",
          "name": "stdout",
          "text": [
            "{'Ana': 9.0, 'Bruno': 8.0, 'Carla': 8.0, 'Daniel': 6.5, 'Emília': 7.0}\n"
          ]
        }
      ]
    },
    {
      "cell_type": "markdown",
      "metadata": {
        "id": "nFnbPJmIgUZV"
      },
      "source": [
        "O *zip* montou uma coleção onde cada elemento é uma tupla contendo um elemento da primeira lista associado ao elemento da mesma posição na segunda lista. Utilizando o nosso bom e velho *tuple unpacking*, podemos tirar proveito disso para percorrer duas listas em paralelo:"
      ]
    },
    {
      "cell_type": "markdown",
      "metadata": {
        "id": "y48tZK8agUZV"
      },
      "source": [
        "## Expressões geradoras\n",
        "\n",
        "Se você executar o código abaixo, não notará nenhum erro de execução. Ambas as linhas executam com sucesso:"
      ]
    },
    {
      "cell_type": "code",
      "source": [
        "colchetes = [x for x in range(10)]\n",
        "\n",
        "parenteses = (x for x in range(10))"
      ],
      "metadata": {
        "id": "mYZYwNK3j8Ze"
      },
      "execution_count": null,
      "outputs": []
    },
    {
      "cell_type": "markdown",
      "metadata": {
        "id": "ITXE-ehIgUZW"
      },
      "source": [
        "Listas são representadas por colchetes, e fazemos compreensão de listas utilizando colchetes. Dicionários utilizam chaves (**{** e **}**), e utilizamos chaves para fazer compreensão de dicionários. A expressão entre parênteses só pode ser uma tupla, certo?"
      ]
    },
    {
      "cell_type": "code",
      "source": [
        "print(type(colchetes))\n",
        "\n",
        "print(type(parenteses))"
      ],
      "metadata": {
        "colab": {
          "base_uri": "https://localhost:8080/"
        },
        "id": "Of57JjAsj-NF",
        "outputId": "a6f2476a-0fad-4edb-bdda-67f494ac6450"
      },
      "execution_count": null,
      "outputs": [
        {
          "output_type": "stream",
          "name": "stdout",
          "text": [
            "<class 'list'>\n",
            "<class 'generator'>\n"
          ]
        }
      ]
    },
    {
      "cell_type": "markdown",
      "metadata": {
        "id": "hGxpDTprgUZW"
      },
      "source": [
        "Não existe compreensão de tuplas em Python. Quando colocamos uma expressão semelhante a uma compreensão de lista entre parênteses, estamos criando uma expressão geradora. Note que podemos iterar uma expressão geradora:"
      ]
    },
    {
      "cell_type": "code",
      "source": [
        "gerador = (x**2 for x in range(10))\n",
        "\n",
        "for quadrado in gerador:\n",
        "  print(quadrado)"
      ],
      "metadata": {
        "colab": {
          "base_uri": "https://localhost:8080/"
        },
        "id": "fRMvDtPDkAl9",
        "outputId": "efbfc682-f66e-4d96-af0a-bb60a17b6b85"
      },
      "execution_count": null,
      "outputs": [
        {
          "output_type": "stream",
          "name": "stdout",
          "text": [
            "0\n",
            "1\n",
            "4\n",
            "9\n",
            "16\n",
            "25\n",
            "36\n",
            "49\n",
            "64\n",
            "81\n"
          ]
        }
      ]
    },
    {
      "cell_type": "markdown",
      "metadata": {
        "id": "g0O-TL6vgUZW"
      },
      "source": [
        "Também podemos convertê-lo para outras estruturas, como uma lista ou uma tupla:"
      ]
    },
    {
      "cell_type": "markdown",
      "metadata": {
        "id": "iAJ9BcozgUZX"
      },
      "source": [
        "Porém, não podemos utilizar nosso gerador uma segunda vez. Vamos tentar:"
      ]
    },
    {
      "cell_type": "code",
      "execution_count": null,
      "metadata": {
        "colab": {
          "base_uri": "https://localhost:8080/"
        },
        "id": "d9Q2hB-7gUZX",
        "outputId": "56b33499-b75f-44e0-8663-ada66ad1ae86"
      },
      "outputs": [
        {
          "output_type": "stream",
          "name": "stdout",
          "text": [
            "0\n",
            "1\n",
            "4\n",
            "9\n",
            "16\n",
            "25\n",
            "36\n",
            "49\n",
            "64\n",
            "81\n",
            "[]\n"
          ]
        }
      ],
      "source": [
        "gerador_quadrados = (x**2 for x in range(10))\n",
        "\n",
        "for quadrado in gerador_quadrados:\n",
        "    print(quadrado)\n",
        "\n",
        "lista_quadrados = list(gerador_quadrados)\n",
        "print(lista_quadrados)"
      ]
    },
    {
      "cell_type": "markdown",
      "metadata": {
        "id": "MMaH2qqtgUZX"
      },
      "source": [
        "Para entender porque a lista saiu vazia, precisamos entender a diferença entre um **iterável** e um **iterador** em Python.\n",
        "\n",
        "### Iteráveis e iteradores\n",
        "\n",
        "Um **iterável** é um objeto em Python que podemos percorrer utilizando um loop. Geralmente pensamos em iteráveis como algum tipo de coleção. Listas, tuplas, dicionários e strings são todos iteráveis.\n",
        "\n",
        "Porém, o que o loop realmente utiliza não é o iterável, mas o **iterador**. Quando tentamos percorrer um iterável, é criado um iterador a partir dele utilizando a função ```iter```. Em cada passo da iteração (do loop), a função ```next``` é chamada, e ela irá retornar o próximo elemento. Quando os elementos são esgotados, ela irá lançar a exceção ```StopIteration```.\n",
        "\n",
        "Veja o exemplo abaixo:"
      ]
    },
    {
      "cell_type": "code",
      "source": [
        "meu_iter = iter([1,2,3])\n",
        "\n",
        "for element in meu_iter:\n",
        "  print(f\"primeiro for {element}\")\n",
        "\n",
        "for element in meu_iter:\n",
        "  print(\"segundo for\")"
      ],
      "metadata": {
        "colab": {
          "base_uri": "https://localhost:8080/"
        },
        "id": "dnaTu5U-l--y",
        "outputId": "b49f8409-8458-4e9e-c47e-d97875673fbe"
      },
      "execution_count": null,
      "outputs": [
        {
          "output_type": "stream",
          "name": "stdout",
          "text": [
            "primeiro for 1\n",
            "primeiro for 2\n",
            "primeiro for 3\n"
          ]
        }
      ]
    },
    {
      "cell_type": "code",
      "source": [
        "meu_iter = iter([1,2,3])\n",
        "\n",
        "print(next(meu_iter))\n",
        "print(next(meu_iter))\n",
        "print(next(meu_iter))\n",
        "print(next(meu_iter))"
      ],
      "metadata": {
        "colab": {
          "base_uri": "https://localhost:8080/",
          "height": 253
        },
        "id": "JnBi1tDPl_FV",
        "outputId": "33ef5426-1c78-4e8d-9273-23cfb8610d6c"
      },
      "execution_count": null,
      "outputs": [
        {
          "output_type": "stream",
          "name": "stdout",
          "text": [
            "1\n",
            "2\n",
            "3\n"
          ]
        },
        {
          "output_type": "error",
          "ename": "StopIteration",
          "evalue": "ignored",
          "traceback": [
            "\u001b[0;31m---------------------------------------------------------------------------\u001b[0m",
            "\u001b[0;31mStopIteration\u001b[0m                             Traceback (most recent call last)",
            "\u001b[0;32m<ipython-input-83-4609b86a0697>\u001b[0m in \u001b[0;36m<module>\u001b[0;34m\u001b[0m\n\u001b[1;32m      4\u001b[0m \u001b[0mprint\u001b[0m\u001b[0;34m(\u001b[0m\u001b[0mnext\u001b[0m\u001b[0;34m(\u001b[0m\u001b[0mmeu_iter\u001b[0m\u001b[0;34m)\u001b[0m\u001b[0;34m)\u001b[0m\u001b[0;34m\u001b[0m\u001b[0;34m\u001b[0m\u001b[0m\n\u001b[1;32m      5\u001b[0m \u001b[0mprint\u001b[0m\u001b[0;34m(\u001b[0m\u001b[0mnext\u001b[0m\u001b[0;34m(\u001b[0m\u001b[0mmeu_iter\u001b[0m\u001b[0;34m)\u001b[0m\u001b[0;34m)\u001b[0m\u001b[0;34m\u001b[0m\u001b[0;34m\u001b[0m\u001b[0m\n\u001b[0;32m----> 6\u001b[0;31m \u001b[0mprint\u001b[0m\u001b[0;34m(\u001b[0m\u001b[0mnext\u001b[0m\u001b[0;34m(\u001b[0m\u001b[0mmeu_iter\u001b[0m\u001b[0;34m)\u001b[0m\u001b[0;34m)\u001b[0m\u001b[0;34m\u001b[0m\u001b[0;34m\u001b[0m\u001b[0m\n\u001b[0m",
            "\u001b[0;31mStopIteration\u001b[0m: "
          ]
        }
      ]
    },
    {
      "cell_type": "markdown",
      "metadata": {
        "id": "_rJRrBE4gUZY"
      },
      "source": [
        "Uma expressão geradora não é um **iterável**, ela é um **iterador**. Uma lista é um **iterável**.\n",
        "\n",
        "Quando nós fazemos uma compreensão de lista, a expressão é avaliada na mesma hora e todos os elementos são gerados e salvos na memória.\n",
        "\n",
        "Quando utilizamos uma expressão geradora, cada elemento é gerado apenas quando solicitado, e os elementos não ficam salvos.\n",
        "\n"
      ]
    },
    {
      "cell_type": "markdown",
      "metadata": {
        "id": "EFmDa45KgUZY"
      },
      "source": [
        "Podemos utilizar expressões geradoras quando:\n",
        "\n",
        "* Iremos trabalhar com uma base de dados tão grande que a geração da lista pode ser excessivamente lenta ou consumir memória demais.\n",
        "* Quando desejamos obter dados infinitos (uma sequência numérica sem fim, ou então um *stream* de dados que pode estar chegando por um sensor ou pela internet, por exemplo).\n",
        "* Quando sabemos com certeza absoluta que só precisaremos iterar uma única vez por cada elemento e não precisaremos deles posteriormente.\n",
        "\n",
        "Caso você precise dos dados mais de uma vez, a expressão geradora deixa de ser atrativa e compensa mais utilizar compreensão de listas.\n"
      ]
    },
    {
      "cell_type": "markdown",
      "metadata": {
        "id": "S5R1Y6EEgUZY"
      },
      "source": [
        "## Funções geradoras\n",
        "\n",
        "Expressões geradoras são uma forma compacta para criar iteradores. Uma das formas mais completas envolve utilizar programação orientada a objeto para definir uma classe com alguns métodos específicos para que os objetos se comportem como geradores. A outra envolve utilizar uma função geradora.\n",
        "\n",
        "Funções geradoras lembram bastante funções convencionais, mas ao invés de ```return``` elas utilizarão a palavra ```yield```. \n",
        "\n",
        "A função irá retornar um iterador, e iremos sempre chamar ```next``` passando esse gerador.\n",
        "\n",
        "Cada vez que o ```next``` for chamado, o iterador irá executar a função até encontrar o ```yield```. O estado da função é salvo e o valor do ```yield``` é retornado. Quando chamarmos ```next``` novamente, a função irá executar do ponto que parou até encontrar novamente o ```yield```. Quando não houver mais ```yield```, a exceção ```StopIteraction``` será lançada.\n",
        "\n",
        "Vejamos um exemplo:"
      ]
    },
    {
      "cell_type": "code",
      "execution_count": null,
      "metadata": {
        "colab": {
          "base_uri": "https://localhost:8080/",
          "height": 253
        },
        "id": "dOCt3i5ygUZY",
        "outputId": "3caa98d6-f7d0-41f3-ca66-4340a3720d76"
      },
      "outputs": [
        {
          "output_type": "stream",
          "name": "stdout",
          "text": [
            "1\n",
            "3\n",
            "5\n"
          ]
        },
        {
          "output_type": "error",
          "ename": "StopIteration",
          "evalue": "ignored",
          "traceback": [
            "\u001b[0;31m---------------------------------------------------------------------------\u001b[0m",
            "\u001b[0;31mStopIteration\u001b[0m                             Traceback (most recent call last)",
            "\u001b[0;32m<ipython-input-84-c87b58fb1162>\u001b[0m in \u001b[0;36m<module>\u001b[0;34m\u001b[0m\n\u001b[1;32m      9\u001b[0m \u001b[0mprint\u001b[0m\u001b[0;34m(\u001b[0m\u001b[0mnext\u001b[0m\u001b[0;34m(\u001b[0m\u001b[0mmeu_gerador\u001b[0m\u001b[0;34m)\u001b[0m\u001b[0;34m)\u001b[0m\u001b[0;34m\u001b[0m\u001b[0;34m\u001b[0m\u001b[0m\n\u001b[1;32m     10\u001b[0m \u001b[0mprint\u001b[0m\u001b[0;34m(\u001b[0m\u001b[0mnext\u001b[0m\u001b[0;34m(\u001b[0m\u001b[0mmeu_gerador\u001b[0m\u001b[0;34m)\u001b[0m\u001b[0;34m)\u001b[0m\u001b[0;34m\u001b[0m\u001b[0;34m\u001b[0m\u001b[0m\n\u001b[0;32m---> 11\u001b[0;31m \u001b[0mprint\u001b[0m\u001b[0;34m(\u001b[0m\u001b[0mnext\u001b[0m\u001b[0;34m(\u001b[0m\u001b[0mmeu_gerador\u001b[0m\u001b[0;34m)\u001b[0m\u001b[0;34m)\u001b[0m\u001b[0;34m\u001b[0m\u001b[0;34m\u001b[0m\u001b[0m\n\u001b[0m",
            "\u001b[0;31mStopIteration\u001b[0m: "
          ]
        }
      ],
      "source": [
        "def funcao_geradora():\n",
        "    yield 1\n",
        "    yield 3\n",
        "    yield 5\n",
        "\n",
        "meu_gerador = funcao_geradora()\n",
        "\n",
        "print(next(meu_gerador))\n",
        "print(next(meu_gerador))\n",
        "print(next(meu_gerador))\n",
        "print(next(meu_gerador))"
      ]
    },
    {
      "cell_type": "markdown",
      "metadata": {
        "id": "r9wanIkhgUZZ"
      },
      "source": [
        "A nossa função geradora pode, inclusive, ter malhas de repetição:"
      ]
    },
    {
      "cell_type": "markdown",
      "metadata": {
        "id": "SmKFLaoUgUZZ"
      },
      "source": [
        "> \n",
        "> **Observação:** se você tentou fazer uma compreensão de dicionário e esqueceu de utilizar um par chave-valor, talvez você tenha se surpreendido ao notar que não deu erro. Isso ocorre porque existe *outra* estrutura de dados em Python que não estudamos no curso que utiliza os símbolos **{** e **}**: o ```set``` (conjunto). Ele é uma coleção **mutável** de elementos (como a lista), mas ele não possui índice (porque a ordem não importa) e ele não aceita elementos repetidos. Caso tenha curiosidade, segue material de referência com o básico de como trabalhar com conjuntos: https://www.programiz.com/python-programming/set\n",
        "> "
      ]
    },
    {
      "cell_type": "markdown",
      "metadata": {
        "id": "ZKCNy7TfgUZZ"
      },
      "source": [
        "Caso tenha interesse em se aprofundar nos assuntos de hoje e ver alguns experimentos envolvendo tamanho e performance de cada um, segue algumas boas referências:\n",
        "\n",
        ">https://djangostars.com/blog/list-comprehensions-and-generator-expressions/\n",
        ">\n",
        ">https://towardsdatascience.com/comprehensions-and-generator-expression-in-python-2ae01c48fc50\n",
        ">\n",
        ">https://docs.python.org/3/howto/functional.html#generator-expressions-and-list-comprehensions"
      ]
    },
    {
      "cell_type": "markdown",
      "metadata": {
        "id": "KUQxxRe5gUZZ"
      },
      "source": [
        "# Exercícios\n",
        "\n",
        "> Nos exercícios mais simples, que consistem apenas em gerar uma lista ou dicionário, sugiro utilizar compreensão de lista/dicionário. Em exercícios com instruções mais específicas, siga as instruções."
      ]
    },
    {
      "cell_type": "markdown",
      "source": [
        "crie um código que recebe uma lista ou tupla, para cada elemento da coleção abrevie as primeiras 3 letras e retorna uma string única com todos seus valores minúsculos e separados por espaço\n",
        "\n",
        "sugestão:\n",
        "- utilize lambda\n",
        "- utilize map"
      ],
      "metadata": {
        "id": "RTOZtWbnemJy"
      }
    },
    {
      "cell_type": "code",
      "source": [
        "lista = ['Amanda', 'Bruno', 'Caio']\n",
        "\n",
        "print['a m a b r u c a i']"
      ],
      "metadata": {
        "id": "K7mCJ67syRCo"
      },
      "execution_count": null,
      "outputs": []
    },
    {
      "cell_type": "code",
      "source": [
        "\" \".join(map(lambda x: str(x).lower()[0:3], [\"Mayara\",\"Stephanie\",\"Igor\"]))"
      ],
      "metadata": {
        "colab": {
          "base_uri": "https://localhost:8080/",
          "height": 35
        },
        "id": "slgLPtm3jbuu",
        "outputId": "f7dd9986-c191-4dc9-c6fa-878267320057"
      },
      "execution_count": null,
      "outputs": [
        {
          "output_type": "execute_result",
          "data": {
            "text/plain": [
              "'may ste igo'"
            ],
            "application/vnd.google.colaboratory.intrinsic+json": {
              "type": "string"
            }
          },
          "metadata": {},
          "execution_count": 27
        }
      ]
    },
    {
      "cell_type": "markdown",
      "source": [
        "Crie um código que recebe uma lista e retorna apenas números >=0\n",
        "\n",
        "- sugestão: utilize filter() e lambda"
      ],
      "metadata": {
        "id": "1ErAtk2RemJz"
      }
    },
    {
      "cell_type": "code",
      "source": [
        "list(filter(lambda x: True if x >= 0 else False, [-1,-2,-3,0,1,2,4]))"
      ],
      "metadata": {
        "id": "rJMSuH5fpta0",
        "colab": {
          "base_uri": "https://localhost:8080/"
        },
        "outputId": "db92a301-6a60-4b1b-d2d9-695ec458511e"
      },
      "execution_count": null,
      "outputs": [
        {
          "output_type": "execute_result",
          "data": {
            "text/plain": [
              "[0, 1, 2, 4]"
            ]
          },
          "metadata": {},
          "execution_count": 28
        }
      ]
    },
    {
      "cell_type": "markdown",
      "source": [
        "Um professor precisou anular uma questão de uma prova. Faça uma código que recebe a lista de notas da turma, o valor da questão anulada e soma esse valor em todas as notas."
      ],
      "metadata": {
        "id": "TPnLTAMu7JzB"
      }
    },
    {
      "cell_type": "code",
      "source": [
        "notas = [1,5,7,8]\n",
        "valor_questao_anulada = 1\n",
        "\n",
        "notas_finais = []\n",
        "for nota in notas:\n",
        "  notas_finais.append(nota + valor_questao_anulada)\n",
        "\n",
        "print(notas_finais)"
      ],
      "metadata": {
        "id": "mD6NL7TgqEdc",
        "colab": {
          "base_uri": "https://localhost:8080/"
        },
        "outputId": "b57928dc-fdf3-4d1a-ed16-2af59944f1f5"
      },
      "execution_count": null,
      "outputs": [
        {
          "output_type": "stream",
          "name": "stdout",
          "text": [
            "[2, 6, 8, 9]\n"
          ]
        }
      ]
    },
    {
      "cell_type": "code",
      "source": [
        "notas = [9,5,6,4]\n",
        "valor_questao_anulada = 1\n",
        "\n",
        "novas_notas = [nota + valor_questao_anulada for nota in notas]\n",
        "novas_notas"
      ],
      "metadata": {
        "colab": {
          "base_uri": "https://localhost:8080/"
        },
        "id": "Eox4DO3zqE2_",
        "outputId": "c5bf4e2d-3caa-4ca6-e860-571c9960ab2d"
      },
      "execution_count": null,
      "outputs": [
        {
          "output_type": "execute_result",
          "data": {
            "text/plain": [
              "[10, 6, 7, 5]"
            ]
          },
          "metadata": {},
          "execution_count": 46
        }
      ]
    },
    {
      "cell_type": "markdown",
      "metadata": {
        "id": "WjXDfvGGgUZa"
      },
      "source": [
        "Faça um código que recebe uma lista de números e retorna uma lista contendo os cubos dos números maiores ou iguais a zero e o quadrado dos números negativos."
      ]
    },
    {
      "cell_type": "code",
      "source": [
        "notas = [9,5,6,4,-1,-2,-5]\n",
        "\n",
        "notas_finais=[]\n",
        "for i in notas:\n",
        "    if i>=0:\n",
        "        notas_finais.append(i+=**3)\n",
        "\n",
        "novas_notas = [nota + valor_questao_anulada for nota in notas]\n",
        "novas_notas\n"
      ],
      "metadata": {
        "id": "bel5EfcaqK3b"
      },
      "execution_count": null,
      "outputs": []
    },
    {
      "cell_type": "code",
      "source": [
        "notas = [9,5,6,4,-1,-2,-5]\n",
        "\n",
        "notas_finais=[]\n",
        "for i in notas:\n",
        "    if i>=0:\n",
        "        notas_finais.append(i**3)\n",
        "    else:\n",
        "        notas_finais.append(i**2)\n",
        "print(notas_finais)"
      ],
      "metadata": {
        "id": "QcizekPxqK5b",
        "colab": {
          "base_uri": "https://localhost:8080/"
        },
        "outputId": "8fab9af3-1d1b-435c-bd0f-600ddd3bfdca"
      },
      "execution_count": null,
      "outputs": [
        {
          "output_type": "stream",
          "name": "stdout",
          "text": [
            "[729, 125, 216, 64, 1, 4, 25]\n"
          ]
        }
      ]
    },
    {
      "cell_type": "code",
      "source": [
        "notas = [9,5,6,4,-1,-2,-5]\n",
        "[i**3 if i>=0 else i**2 for i in notas]"
      ],
      "metadata": {
        "colab": {
          "base_uri": "https://localhost:8080/"
        },
        "id": "Bp18Cfzcv6e4",
        "outputId": "7b13c71c-6d0c-4d02-9fa6-d03cd4cb0a8d"
      },
      "execution_count": null,
      "outputs": [
        {
          "output_type": "execute_result",
          "data": {
            "text/plain": [
              "[729, 125, 216, 64, 1, 4, 25]"
            ]
          },
          "metadata": {},
          "execution_count": 57
        }
      ]
    },
    {
      "cell_type": "markdown",
      "metadata": {
        "id": "b9gfRU2XgUZa"
      },
      "source": [
        "Faça uma função que retorna uma lista contendo apenas float a partir de uma lista contendo variáveis inteiras, float e strings. Exemplo:\n",
        "\n",
        "Entrada: [1, 2.0, '3', 4.0, '5.5', 6]\n",
        "\n",
        "Saída: [1.0, 2.0, 3.0, 4.0, 5.5, 6.0]"
      ]
    },
    {
      "cell_type": "code",
      "source": [
        "def funcao(*lista):\n",
        "    return list(map(float, lista))"
      ],
      "metadata": {
        "id": "DUhxiyxmgYuP"
      },
      "execution_count": null,
      "outputs": []
    },
    {
      "cell_type": "code",
      "source": [
        "entrada = [1, 2.0, '3', 4.0, '5.5', 6]\n",
        "saida = [float(elemento) for elemento in entrada]\n",
        "saida"
      ],
      "metadata": {
        "colab": {
          "base_uri": "https://localhost:8080/"
        },
        "id": "IxfyR5hJwpZz",
        "outputId": "13670723-fee0-41f0-ce28-a76b8a810c94"
      },
      "execution_count": null,
      "outputs": [
        {
          "output_type": "execute_result",
          "data": {
            "text/plain": [
              "[1.0, 2.0, 3.0, 4.0, 5.5, 6.0]"
            ]
          },
          "metadata": {},
          "execution_count": 86
        }
      ]
    },
    {
      "cell_type": "markdown",
      "metadata": {
        "id": "bJiVYoNEgUZb"
      },
      "source": [
        "Faça uma função que recebe uma lista de nomes, uma lista de médias e a nota mínima para aprovação. Ela deverá retornar um dicionário contendo os nomes dos alunos e \"APR\" ou \"REP\" indicando a situação de cada um deles.\n",
        "\n",
        "- dica: há uma peculiaridade na condicional de um dicionário que possa ser necessário pensar em mudar uma pequena parte do código para funcionar como esperado :)"
      ]
    },
    {
      "cell_type": "code",
      "source": [
        "lista_nomes = [\"joao\", \"maria\", \"theo\"]\n",
        "lista_medias = [4, 5, 6]\n",
        "nota_minima = 5\n",
        "\n",
        "{aluno:(\"APR\" if media >= nota_minima else \"REP\") for aluno, media in zip(lista_nomes, lista_medias)}"
      ],
      "metadata": {
        "id": "ImkaXMLFqYjD"
      },
      "execution_count": null,
      "outputs": []
    },
    {
      "cell_type": "markdown",
      "metadata": {
        "id": "n-7h4CJqgUZb"
      },
      "source": [
        "Crie o seu próprio gerador que funcione como um contador similar ao **range**. \n",
        "\n",
        "* Esse iterador receberá um argumento indicando até que valor ele irá contar. Ele sempre começará a contar pelo 0 e irá aumentando de 1 em 1"
      ]
    },
    {
      "cell_type": "code",
      "source": [
        "def range_manual(final):\n",
        "  inicial = 0\n",
        "  while inicial < final:\n",
        "    yield inicial\n",
        "    inicial += 1\n",
        "\n",
        "for element in range_manual(5):\n",
        "  print(element)"
      ],
      "metadata": {
        "id": "UoADNVsZqaTO",
        "colab": {
          "base_uri": "https://localhost:8080/"
        },
        "outputId": "e103dfb8-6d9f-4245-abf5-6734c78e9c55"
      },
      "execution_count": null,
      "outputs": [
        {
          "output_type": "stream",
          "name": "stdout",
          "text": [
            "0\n",
            "1\n",
            "2\n",
            "3\n",
            "4\n"
          ]
        }
      ]
    },
    {
      "cell_type": "code",
      "execution_count": null,
      "metadata": {
        "id": "BETf9QsjgUZd",
        "colab": {
          "base_uri": "https://localhost:8080/",
          "height": 235
        },
        "outputId": "b1c87861-c197-4c9b-b5ff-45bf8e7ec030"
      },
      "outputs": [
        {
          "output_type": "stream",
          "name": "stdout",
          "text": [
            "John:\t8.1875\n"
          ]
        },
        {
          "output_type": "error",
          "ename": "TypeError",
          "evalue": "ignored",
          "traceback": [
            "\u001b[0;31m---------------------------------------------------------------------------\u001b[0m",
            "\u001b[0;31mTypeError\u001b[0m                                 Traceback (most recent call last)",
            "\u001b[0;32m<ipython-input-88-eac6a0730f91>\u001b[0m in \u001b[0;36m<module>\u001b[0;34m\u001b[0m\n\u001b[1;32m     10\u001b[0m \u001b[0;34m\u001b[0m\u001b[0m\n\u001b[1;32m     11\u001b[0m \u001b[0;32mfor\u001b[0m \u001b[0maluno\u001b[0m \u001b[0;32min\u001b[0m \u001b[0malunos\u001b[0m\u001b[0;34m:\u001b[0m\u001b[0;34m\u001b[0m\u001b[0;34m\u001b[0m\u001b[0m\n\u001b[0;32m---> 12\u001b[0;31m     \u001b[0mmedia\u001b[0m \u001b[0;34m=\u001b[0m \u001b[0msum\u001b[0m\u001b[0;34m(\u001b[0m\u001b[0mnotas\u001b[0m\u001b[0;34m[\u001b[0m\u001b[0maluno\u001b[0m\u001b[0;34m]\u001b[0m\u001b[0;34m)\u001b[0m\u001b[0;34m/\u001b[0m\u001b[0mlen\u001b[0m\u001b[0;34m(\u001b[0m\u001b[0mnotas\u001b[0m\u001b[0;34m[\u001b[0m\u001b[0maluno\u001b[0m\u001b[0;34m]\u001b[0m\u001b[0;34m)\u001b[0m\u001b[0;34m\u001b[0m\u001b[0;34m\u001b[0m\u001b[0m\n\u001b[0m\u001b[1;32m     13\u001b[0m     \u001b[0mprint\u001b[0m\u001b[0;34m(\u001b[0m\u001b[0;34mf'{aluno}:\\t{media}'\u001b[0m\u001b[0;34m)\u001b[0m\u001b[0;34m\u001b[0m\u001b[0;34m\u001b[0m\u001b[0m\n",
            "\u001b[0;31mTypeError\u001b[0m: unsupported operand type(s) for +: 'float' and 'str'"
          ]
        }
      ],
      "source": [
        "alunos = ['John', 'Paul', 'George', 'Ringo', 'Joao', 'Pete']\n",
        "\n",
        "notas = {\n",
        "    'John':[7.5, 9.0, 8.25, 8.0],\n",
        "    'Paul':[9.0, 8.5, '10.0', 8.5],\n",
        "    'George':[6.0, '7.0', 8.0, 9],\n",
        "    'Ringo':[4.5, 4.0, 6.0, 7.0],\n",
        "    'Pete':[]\n",
        "}\n",
        "\n",
        "for aluno in alunos:\n",
        "    media = sum(notas[aluno])/len(notas[aluno])\n",
        "    print(f'{aluno}:\\t{media}')"
      ]
    },
    {
      "cell_type": "markdown",
      "source": [
        "# link úteis\n",
        "\n",
        "lambda:\n",
        "\n",
        "\n",
        "https://www.programiz.com/python-programming/anonymous-function\n",
        "\n",
        "https://realpython.com/python-lambda/\n",
        "\n",
        "https://towardsdatascience.com/lambda-functions-with-practical-examples-in-python-45934f3653a8\n",
        "\n",
        "<br>\n",
        "list comprehension / generator expression:\n",
        "\n",
        "https://pythonguides.com/python-list-comprehension-using-if-else/\n",
        "\n",
        "https://stackoverflow.com/questions/15248272/python-list-comprehension-with-multiple-ifs\n",
        "\n",
        "https://www.datacamp.com/tutorial/python-list-comprehension\n",
        "\n",
        "https://towardsdatascience.com/5-wrong-use-cases-of-python-list-comprehensions-e8455fb75692\n",
        "\n",
        "destaque especial: https://holycoders.com/python-list-comprehension/"
      ],
      "metadata": {
        "id": "xPAKakFnNpTb"
      }
    }
  ],
  "metadata": {
    "kernelspec": {
      "display_name": "Python 3.9.7 ('base')",
      "language": "python",
      "name": "python3"
    },
    "language_info": {
      "codemirror_mode": {
        "name": "ipython",
        "version": 3
      },
      "file_extension": ".py",
      "mimetype": "text/x-python",
      "name": "python",
      "nbconvert_exporter": "python",
      "pygments_lexer": "ipython3",
      "version": "3.9.7"
    },
    "orig_nbformat": 4,
    "vscode": {
      "interpreter": {
        "hash": "ad2bdc8ecc057115af97d19610ffacc2b4e99fae6737bb82f5d7fb13d2f2c186"
      }
    },
    "colab": {
      "provenance": [],
      "include_colab_link": true
    }
  },
  "nbformat": 4,
  "nbformat_minor": 0
}