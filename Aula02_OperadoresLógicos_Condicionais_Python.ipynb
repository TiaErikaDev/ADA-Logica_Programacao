{
  "nbformat": 4,
  "nbformat_minor": 0,
  "metadata": {
    "colab": {
      "provenance": [],
      "collapsed_sections": [],
      "include_colab_link": true
    },
    "kernelspec": {
      "name": "python3",
      "display_name": "Python 3"
    },
    "language_info": {
      "name": "python"
    }
  },
  "cells": [
    {
      "cell_type": "markdown",
      "metadata": {
        "id": "view-in-github",
        "colab_type": "text"
      },
      "source": [
        "<a href=\"https://colab.research.google.com/github/TiaErikaDev/ADA-Logica_Programacao/blob/main/Aula02_OperadoresL%C3%B3gicos_Condicionais_Python.ipynb\" target=\"_parent\"><img src=\"https://colab.research.google.com/assets/colab-badge.svg\" alt=\"Open In Colab\"/></a>"
      ]
    },
    {
      "cell_type": "markdown",
      "source": [
        "# Aula - Operadores Lógicos e Condicionais em Python"
      ],
      "metadata": {
        "id": "4vwYaEbEZ4nY"
      }
    },
    {
      "cell_type": "markdown",
      "source": [
        "## Operadores Lógicos"
      ],
      "metadata": {
        "id": "dBg7xRIjEcuW"
      }
    },
    {
      "cell_type": "markdown",
      "source": [
        "\n",
        "Em muitos problemas de programação, há necessidade de se fazer comparações entre variáveis.\n",
        "\n",
        "por exemplo:\n",
        "\n",
        "checar se um número é maior que outro\n",
        "checar se uma variável é igual a outra\n",
        "checar se há números diferentes, etc.\n",
        "\n",
        "\n",
        "Para fazer essas comparações, utilizamos os operadores lógicos de comparação. Em python, há 6 desses operadores:\n",
        "\n",
        "- Maior que: >\n",
        "- Maior ou igual: >=\n",
        "- Menor que: <\n",
        "- Menor ou igual: <=\n",
        "- Igual: ==\n",
        "- Diferente: !=\n",
        "\n",
        "\n",
        "O resultado de uma comparação sempre vai ser um booleano, isto é, True ou False!\n",
        "\n",
        "Dica: Sempre leia as comparações como uma pergunta\n",
        "\n",
        "\n",
        "- Ex: \"numero < 100\", leia \"o valor na variável número é menor que 100?\"\n",
        "\n",
        "Os operadores de comparação são destacados em roxo no colab\n"
      ],
      "metadata": {
        "id": "YeU3sU98EhN-"
      }
    },
    {
      "cell_type": "code",
      "source": [
        "100 > 100"
      ],
      "metadata": {
        "colab": {
          "base_uri": "https://localhost:8080/"
        },
        "id": "6lGJ95_ZLRR2",
        "outputId": "e509fe1d-2122-4dec-ac00-6afac87f9872"
      },
      "execution_count": null,
      "outputs": [
        {
          "output_type": "execute_result",
          "data": {
            "text/plain": [
              "False"
            ]
          },
          "metadata": {},
          "execution_count": 1
        }
      ]
    },
    {
      "cell_type": "code",
      "source": [
        "100 < 10"
      ],
      "metadata": {
        "colab": {
          "base_uri": "https://localhost:8080/"
        },
        "id": "XXu8ZvjoLRT5",
        "outputId": "0b540b52-b89b-4f39-b74e-6670d26559bd"
      },
      "execution_count": null,
      "outputs": [
        {
          "output_type": "execute_result",
          "data": {
            "text/plain": [
              "False"
            ]
          },
          "metadata": {},
          "execution_count": 2
        }
      ]
    },
    {
      "cell_type": "code",
      "source": [
        "10 == 1"
      ],
      "metadata": {
        "colab": {
          "base_uri": "https://localhost:8080/"
        },
        "id": "ajtLP1mWLRWi",
        "outputId": "afac7886-759e-4748-b10c-bf4e5905f624"
      },
      "execution_count": null,
      "outputs": [
        {
          "output_type": "execute_result",
          "data": {
            "text/plain": [
              "False"
            ]
          },
          "metadata": {},
          "execution_count": 3
        }
      ]
    },
    {
      "cell_type": "code",
      "source": [
        "10 != 1"
      ],
      "metadata": {
        "colab": {
          "base_uri": "https://localhost:8080/"
        },
        "id": "xzBXr9hiLRYy",
        "outputId": "98b47e5c-1141-40b2-9870-0bc22c634fcf"
      },
      "execution_count": null,
      "outputs": [
        {
          "output_type": "execute_result",
          "data": {
            "text/plain": [
              "True"
            ]
          },
          "metadata": {},
          "execution_count": 4
        }
      ]
    },
    {
      "cell_type": "code",
      "source": [],
      "metadata": {
        "id": "4oD3Xa8PGI_W"
      },
      "execution_count": null,
      "outputs": []
    },
    {
      "cell_type": "markdown",
      "source": [
        "A comparacão pode ser feito entre duas variáveis também:"
      ],
      "metadata": {
        "id": "MdmqL-4TGQL6"
      }
    },
    {
      "cell_type": "code",
      "source": [
        "valor_a = 100\n",
        "valor_b = 100\n",
        "valor_a <= valor_b"
      ],
      "metadata": {
        "colab": {
          "base_uri": "https://localhost:8080/"
        },
        "id": "H_PZ0zbtLSML",
        "outputId": "fada31b6-bca9-407d-e58d-3eb92443938f"
      },
      "execution_count": null,
      "outputs": [
        {
          "output_type": "execute_result",
          "data": {
            "text/plain": [
              "True"
            ]
          },
          "metadata": {},
          "execution_count": 5
        }
      ]
    },
    {
      "cell_type": "markdown",
      "source": [
        "Python aceita multiplicar comparações de ordem na mesma expressão"
      ],
      "metadata": {
        "id": "bntDRxL3GjGE"
      }
    },
    {
      "cell_type": "code",
      "source": [
        "n = 1000\n",
        "10 < n <= 1000"
      ],
      "metadata": {
        "colab": {
          "base_uri": "https://localhost:8080/"
        },
        "id": "L31b8Wz0LS7t",
        "outputId": "f58469a0-01c9-4db1-c0f2-ec6ce42601e4"
      },
      "execution_count": null,
      "outputs": [
        {
          "output_type": "execute_result",
          "data": {
            "text/plain": [
              "True"
            ]
          },
          "metadata": {},
          "execution_count": 6
        }
      ]
    },
    {
      "cell_type": "markdown",
      "source": [
        "Podemos também comparar strings"
      ],
      "metadata": {
        "id": "xP3CuPzxGtku"
      }
    },
    {
      "cell_type": "code",
      "source": [
        "\"olá mundo\" == \"olá mundo\""
      ],
      "metadata": {
        "colab": {
          "base_uri": "https://localhost:8080/"
        },
        "id": "JhifjeGWLUNJ",
        "outputId": "d5902593-1920-426e-9b48-6d28451c1816"
      },
      "execution_count": null,
      "outputs": [
        {
          "output_type": "execute_result",
          "data": {
            "text/plain": [
              "True"
            ]
          },
          "metadata": {},
          "execution_count": 10
        }
      ]
    },
    {
      "cell_type": "markdown",
      "source": [
        "Os operadores >, >=, <, <= atuam comparando ordem alfabética quando aplicados a strings"
      ],
      "metadata": {
        "id": "clEhGrZ8HUv5"
      }
    },
    {
      "cell_type": "code",
      "source": [
        "print(ord(\"a\"))\n",
        "print(chr(97))"
      ],
      "metadata": {
        "colab": {
          "base_uri": "https://localhost:8080/"
        },
        "id": "fPhIwpaOouhz",
        "outputId": "35cc44a0-0de0-437a-d103-557dc0bb64cd"
      },
      "execution_count": null,
      "outputs": [
        {
          "output_type": "stream",
          "name": "stdout",
          "text": [
            "97\n",
            "a\n"
          ]
        }
      ]
    },
    {
      "cell_type": "code",
      "source": [
        "\"banana\"  >= \"abacaxi\""
      ],
      "metadata": {
        "colab": {
          "base_uri": "https://localhost:8080/"
        },
        "id": "0TX6bP9QLVWq",
        "outputId": "e51004bc-c27e-4313-c12f-5fabca3c1727"
      },
      "execution_count": null,
      "outputs": [
        {
          "output_type": "execute_result",
          "data": {
            "text/plain": [
              "True"
            ]
          },
          "metadata": {},
          "execution_count": 13
        }
      ]
    },
    {
      "cell_type": "code",
      "source": [
        "\"Banana\" > \"abacaxi\""
      ],
      "metadata": {
        "colab": {
          "base_uri": "https://localhost:8080/"
        },
        "id": "Fi7IjhvrLVZh",
        "outputId": "93d44476-e57b-49b7-d77c-15e1065cf7f3"
      },
      "execution_count": null,
      "outputs": [
        {
          "output_type": "execute_result",
          "data": {
            "text/plain": [
              "False"
            ]
          },
          "metadata": {},
          "execution_count": 17
        }
      ]
    },
    {
      "cell_type": "markdown",
      "source": [
        "Podemos fazer comparação entre tipos númericos diferentes (int e float)"
      ],
      "metadata": {
        "id": "vFKe7panH9J0"
      }
    },
    {
      "cell_type": "code",
      "source": [
        "3.0 == 3"
      ],
      "metadata": {
        "colab": {
          "base_uri": "https://localhost:8080/"
        },
        "id": "Djh8I_fhLWRj",
        "outputId": "0239e26f-cbdc-4ec0-943b-6bf9f0460e1a"
      },
      "execution_count": null,
      "outputs": [
        {
          "output_type": "execute_result",
          "data": {
            "text/plain": [
              "True"
            ]
          },
          "metadata": {},
          "execution_count": 24
        }
      ]
    },
    {
      "cell_type": "markdown",
      "source": [
        "Mas comparações entre string e tipos números são possíveis apenas para == e !="
      ],
      "metadata": {
        "id": "ojFXAxxEIKUf"
      }
    },
    {
      "cell_type": "code",
      "source": [
        "\"1\" + 1"
      ],
      "metadata": {
        "colab": {
          "base_uri": "https://localhost:8080/",
          "height": 166
        },
        "id": "tUc3vv68LYSr",
        "outputId": "e90a86ef-b3a5-4e90-9df7-bccf56410c4c"
      },
      "execution_count": null,
      "outputs": [
        {
          "output_type": "error",
          "ename": "TypeError",
          "evalue": "ignored",
          "traceback": [
            "\u001b[0;31m---------------------------------------------------------------------------\u001b[0m",
            "\u001b[0;31mTypeError\u001b[0m                                 Traceback (most recent call last)",
            "\u001b[0;32m<ipython-input-19-ec358fc6499a>\u001b[0m in \u001b[0;36m<module>\u001b[0;34m\u001b[0m\n\u001b[0;32m----> 1\u001b[0;31m \u001b[0;34m\"1\"\u001b[0m \u001b[0;34m+\u001b[0m \u001b[0;36m1\u001b[0m\u001b[0;34m\u001b[0m\u001b[0;34m\u001b[0m\u001b[0m\n\u001b[0m",
            "\u001b[0;31mTypeError\u001b[0m: can only concatenate str (not \"int\") to str"
          ]
        }
      ]
    },
    {
      "cell_type": "code",
      "source": [
        "\"1\" > 1"
      ],
      "metadata": {
        "colab": {
          "base_uri": "https://localhost:8080/",
          "height": 166
        },
        "id": "0e1HlfqgLYVu",
        "outputId": "15ed1a35-66a0-4588-cffe-855ac5dbc8d0"
      },
      "execution_count": null,
      "outputs": [
        {
          "output_type": "error",
          "ename": "TypeError",
          "evalue": "ignored",
          "traceback": [
            "\u001b[0;31m---------------------------------------------------------------------------\u001b[0m",
            "\u001b[0;31mTypeError\u001b[0m                                 Traceback (most recent call last)",
            "\u001b[0;32m<ipython-input-20-004f75758fdc>\u001b[0m in \u001b[0;36m<module>\u001b[0;34m\u001b[0m\n\u001b[0;32m----> 1\u001b[0;31m \u001b[0;34m\"1\"\u001b[0m \u001b[0;34m>\u001b[0m \u001b[0;36m1\u001b[0m\u001b[0;34m\u001b[0m\u001b[0;34m\u001b[0m\u001b[0m\n\u001b[0m",
            "\u001b[0;31mTypeError\u001b[0m: '>' not supported between instances of 'str' and 'int'"
          ]
        }
      ]
    },
    {
      "cell_type": "code",
      "source": [
        "\"1\" == 1"
      ],
      "metadata": {
        "colab": {
          "base_uri": "https://localhost:8080/"
        },
        "id": "ntp_RB7rLYYd",
        "outputId": "d533c0f1-6472-4053-9c2f-3cf495c0f6f3"
      },
      "execution_count": null,
      "outputs": [
        {
          "output_type": "execute_result",
          "data": {
            "text/plain": [
              "False"
            ]
          },
          "metadata": {},
          "execution_count": 21
        }
      ]
    },
    {
      "cell_type": "code",
      "source": [
        "int(\"1\") == 1"
      ],
      "metadata": {
        "colab": {
          "base_uri": "https://localhost:8080/"
        },
        "id": "XP3C3wLDqKtq",
        "outputId": "e89322c6-026e-46b6-f4b0-2e81e0a7d24f"
      },
      "execution_count": null,
      "outputs": [
        {
          "output_type": "execute_result",
          "data": {
            "text/plain": [
              "True"
            ]
          },
          "metadata": {},
          "execution_count": 22
        }
      ]
    },
    {
      "cell_type": "code",
      "source": [
        "\"2\" != str(1)"
      ],
      "metadata": {
        "colab": {
          "base_uri": "https://localhost:8080/"
        },
        "id": "Qj1AtonfLYbd",
        "outputId": "13116e13-3ece-45bc-a29a-2cb933993cda"
      },
      "execution_count": null,
      "outputs": [
        {
          "output_type": "execute_result",
          "data": {
            "text/plain": [
              "True"
            ]
          },
          "metadata": {},
          "execution_count": 25
        }
      ]
    },
    {
      "cell_type": "markdown",
      "source": [
        "Além dos operadores lógicos de comparação que vimos, também temos os operadores lógicos de conjunção, que são utilizados para fazer uma combinação entre comparações\n",
        "\n",
        "Os operadores de conjunção são: and e or, e eles seguem a seguinte regra:\n",
        "\n",
        "- and só será True se ambas as comparações forem True:\n",
        " - False and True resulta em \"False\"\n",
        " - False and False resulta em \"False\"\n",
        " - True and True resulta em \"True\"\n",
        "- or é true se pelo menos uma das comparações for True:\n",
        " - False or True resulta em \"True\"\n",
        " - True or True resulta em \"True\"\n",
        " - False or False resulta em \"False\"\n",
        "\n",
        "\n",
        "Os operadores de conjunção são destacados em azul no Colab"
      ],
      "metadata": {
        "id": "YpqOIkzmJiWJ"
      }
    },
    {
      "cell_type": "code",
      "source": [
        "print(\"operador and: \")\n",
        "print(False and False)\n",
        "print(True and False)"
      ],
      "metadata": {
        "colab": {
          "base_uri": "https://localhost:8080/"
        },
        "id": "9c8IOiKzLaig",
        "outputId": "5b3caf6e-a4a6-4d0f-e3c9-91ec024d2fb6"
      },
      "execution_count": null,
      "outputs": [
        {
          "output_type": "stream",
          "name": "stdout",
          "text": [
            "operador and: \n",
            "False\n",
            "False\n"
          ]
        }
      ]
    },
    {
      "cell_type": "code",
      "source": [
        "10 < 50 and 5 == 5"
      ],
      "metadata": {
        "colab": {
          "base_uri": "https://localhost:8080/"
        },
        "id": "vNm0JBn-Lanv",
        "outputId": "e080335d-f859-4ddd-b0f7-0a6e01a7aa53"
      },
      "execution_count": null,
      "outputs": [
        {
          "output_type": "execute_result",
          "data": {
            "text/plain": [
              "True"
            ]
          },
          "metadata": {},
          "execution_count": 28
        }
      ]
    },
    {
      "cell_type": "code",
      "source": [
        "2 > 1 and 3 < 5 and 10 < 15"
      ],
      "metadata": {
        "colab": {
          "base_uri": "https://localhost:8080/"
        },
        "id": "2CCoyJvFLas-",
        "outputId": "67d7dc69-079a-4b4e-ae0e-f4521fcd69e1"
      },
      "execution_count": null,
      "outputs": [
        {
          "output_type": "execute_result",
          "data": {
            "text/plain": [
              "True"
            ]
          },
          "metadata": {},
          "execution_count": 29
        }
      ]
    },
    {
      "cell_type": "code",
      "source": [
        "print(\"operador or:\")\n",
        "print(False or True)\n",
        "print(False or False)\n",
        "print(True or True)"
      ],
      "metadata": {
        "colab": {
          "base_uri": "https://localhost:8080/"
        },
        "id": "l9KhKs7iLayE",
        "outputId": "ffade842-8247-470a-bd0c-bcde4928dd1d"
      },
      "execution_count": null,
      "outputs": [
        {
          "output_type": "stream",
          "name": "stdout",
          "text": [
            "operador or:\n",
            "True\n",
            "False\n",
            "True\n"
          ]
        }
      ]
    },
    {
      "cell_type": "code",
      "source": [
        "2 > 1 or 3 < 5 or 10 < 15"
      ],
      "metadata": {
        "colab": {
          "base_uri": "https://localhost:8080/"
        },
        "id": "ftLzX7DrLa3O",
        "outputId": "941ba837-033c-4446-ec91-a409ba321ee0"
      },
      "execution_count": null,
      "outputs": [
        {
          "output_type": "execute_result",
          "data": {
            "text/plain": [
              "True"
            ]
          },
          "metadata": {},
          "execution_count": 33
        }
      ]
    },
    {
      "cell_type": "markdown",
      "source": [
        "Se tivermos mais de duas comparacões para fazer conjunção, é melhor usarmos parênteses. Parênteses mesmo as vezes não sendo necessário para funcionar corretamente ajuda a facilitar a leitura\n",
        "\n",
        "Primeiro a conjunção entre parênteses é feita, e depois o resultado é usado para avaliar a conjunção total"
      ],
      "metadata": {
        "id": "s43uukfEMCMT"
      }
    },
    {
      "cell_type": "code",
      "source": [
        "3 < 10 and (\"caio\" == \"caio\" or 50 >= 500)"
      ],
      "metadata": {
        "colab": {
          "base_uri": "https://localhost:8080/"
        },
        "id": "v1DER6OrLcBS",
        "outputId": "5db4af5f-ba01-4503-f498-59636dea90ce"
      },
      "execution_count": null,
      "outputs": [
        {
          "output_type": "execute_result",
          "data": {
            "text/plain": [
              "True"
            ]
          },
          "metadata": {},
          "execution_count": 35
        }
      ]
    },
    {
      "cell_type": "markdown",
      "source": [
        "## Condicionais"
      ],
      "metadata": {
        "id": "rLkj-2pghoYv"
      }
    },
    {
      "cell_type": "markdown",
      "source": [
        "### if"
      ],
      "metadata": {
        "id": "PUrbN0odIaRF"
      }
    },
    {
      "cell_type": "markdown",
      "source": [
        "O condicional if tem a seguinte estrutura:"
      ],
      "metadata": {
        "id": "UaYOBQxfGGvd"
      }
    },
    {
      "cell_type": "code",
      "source": [
        "condicao = \"valor a ser checado a condicao\"\n",
        "\n",
        "if condicao:\n",
        "  \"código a ser executado se a condição for satisfeita\""
      ],
      "metadata": {
        "id": "bzBvnX_gLdMZ"
      },
      "execution_count": null,
      "outputs": []
    },
    {
      "cell_type": "markdown",
      "source": [
        "Note que seu programa vai seguir um fluxo linha a linha e, na condicional, haverá um possível desvio de fluxo, isto é, caso a condição não seja satisfeira o código pula tudo que está dentro do if.\n",
        "\n",
        "se a condição for satisfeita será executado linha a linha o que estiver dentro do if (identado), ou seja, está um tab mais a frente que o if. Ele não irá executar os elifs  ou else posteriores"
      ],
      "metadata": {
        "id": "eq0oAs1CG30C"
      }
    },
    {
      "cell_type": "code",
      "source": [
        "a = int(input(\"digite valor de a: \"))\n",
        "b = int(input(\"digite valor de b: \"))\n",
        "\n",
        "if a > b:\n",
        "  print(\"'a' maior que 'b'\")\n"
      ],
      "metadata": {
        "colab": {
          "base_uri": "https://localhost:8080/"
        },
        "id": "dZJiBmwELeEx",
        "outputId": "e042736c-ecb0-4989-b558-c303714badf8"
      },
      "execution_count": null,
      "outputs": [
        {
          "output_type": "stream",
          "name": "stdout",
          "text": [
            "digite valor de a: 10\n",
            "digite valor de b: 0\n",
            "'a' maior que 'b'\n"
          ]
        }
      ]
    },
    {
      "cell_type": "markdown",
      "source": [
        "### elif"
      ],
      "metadata": {
        "id": "GuIGWXVMILH_"
      }
    },
    {
      "cell_type": "markdown",
      "source": [
        "O elif deve ser lido como \"se não\", portanto, ele será uma nova condição que será testada caso a condição do if (ou outros elifs acima) NÃO seja satisfeita. A sua estrutura é a seguinte:"
      ],
      "metadata": {
        "id": "od2FoIXkIuU_"
      }
    },
    {
      "cell_type": "code",
      "source": [
        "if condicao:\n",
        "  # executa essa parte do código caso if seja satisfeito\n",
        "elif condicao_elif:\n",
        "  # código caso elif seja satifeito\n",
        "#(...)\n"
      ],
      "metadata": {
        "id": "YgySRbgSLfF3"
      },
      "execution_count": null,
      "outputs": []
    },
    {
      "cell_type": "code",
      "source": [
        "nota = 8\n",
        "if nota >7:\n",
        "  print(\"entrou aqui\")\n",
        "if nota>3:\n",
        "  print(\"entrou aqui também\")\n",
        "\n"
      ],
      "metadata": {
        "id": "_7sBvdtAGDRj",
        "colab": {
          "base_uri": "https://localhost:8080/"
        },
        "outputId": "e3ce0c44-287b-4af5-ff73-3510c310cf39"
      },
      "execution_count": null,
      "outputs": [
        {
          "output_type": "stream",
          "name": "stdout",
          "text": [
            "entrou aqui\n",
            "entrou aqui também\n"
          ]
        }
      ]
    },
    {
      "cell_type": "markdown",
      "source": [
        "Note que podemos ter de 0 a n elifs, e seu código seguirá uma ordem de conferir as condições uma a uma até que a primeira condição seja satisfeita. Seu código executa e todo o resto do bloco de if e elif será ignorado.\n",
        "\n",
        "Note também que caso nenhuma condição seja satisfeita nada dentro (identado) do if e elifs é executado e o código \"passa reto\" (pula)"
      ],
      "metadata": {
        "id": "4oT2kfeLKAKk"
      }
    },
    {
      "cell_type": "code",
      "source": [
        "nota = int(input(\"digite o valor de uma nota: \"))\n",
        "\n",
        "if nota == 10:\n",
        "  print(\"excelente. nota maior ou igual a 10\")\n",
        "elif nota > 7:\n",
        "  print(\"muito bem. nota maior que 7\")\n",
        "elif nota > 3:\n",
        "  print(\"não foi bem. nota maior que três\")\n",
        "elif nota >= 0:\n",
        "  print(\"nota maor que 0 e menor ou igual a 3\")"
      ],
      "metadata": {
        "colab": {
          "base_uri": "https://localhost:8080/"
        },
        "id": "pubq21FyLf8E",
        "outputId": "c1500b5b-e158-4589-ffa6-58403d302646"
      },
      "execution_count": null,
      "outputs": [
        {
          "output_type": "stream",
          "name": "stdout",
          "text": [
            "digite o valor de uma nota: 8\n",
            "muito bem. nota maior que 7\n"
          ]
        }
      ]
    },
    {
      "cell_type": "markdown",
      "source": [
        "Mas e se, por exemplo, eu puder receber notas negativas, poosso continuar colocando múltiplos elifs.\n",
        "\n",
        "Mas e se eu quiser uma condição para cair todos os outros casos? Uma espécia de \"caso contrário\" depois dos meus \"se\" e \"se não\" ?"
      ],
      "metadata": {
        "id": "IbzOEtQZLzEQ"
      }
    },
    {
      "cell_type": "markdown",
      "source": [
        "### else"
      ],
      "metadata": {
        "id": "a5DDELgHMZgt"
      }
    },
    {
      "cell_type": "markdown",
      "source": [
        "O else deve ser lido como um então ou caso contrário, ele diferente dos exemplos acima, não tem uma condição, ele será colocado ao fim do bloco if e será executado quando todas as condições anteriores forem insatisfeitas, a estrutura como else fica da seguinte maneira:"
      ],
      "metadata": {
        "id": "mgOMixf_NsEP"
      }
    },
    {
      "cell_type": "code",
      "source": [
        "if condicao:\n",
        "  # executa essa parte do código caso satisfaça a condição. E não executa o restro das estruturar condicionais\n",
        "elif condicao_elif:\n",
        "  # executa essa parte do código caso satisfaça a condição. E não executa o restro das estruturar condicionais\n",
        "elif condicao_elif2:\n",
        "  # executa essa parte do código caso satisfaça a condição. E não executa o restro das estruturar condicionais\n",
        "else:\n",
        "\n"
      ],
      "metadata": {
        "id": "p89oA2m1LhP7"
      },
      "execution_count": null,
      "outputs": []
    },
    {
      "cell_type": "code",
      "source": [
        "if condicao:\n",
        "  # codigo\n",
        "else:\n",
        "  # codigo"
      ],
      "metadata": {
        "id": "t-_6WiROLhSd"
      },
      "execution_count": null,
      "outputs": []
    },
    {
      "cell_type": "markdown",
      "source": [
        "Vamos pegar o exemplo da nota e adicionar o else:"
      ],
      "metadata": {
        "id": "ub6IjGRrO6bZ"
      }
    },
    {
      "cell_type": "code",
      "source": [
        "nota = int(input(\"digite o valor de uma nota: \"))\n",
        "\n",
        "if nota == 10:\n",
        "  print(\"excelente. nota maior ou igual a 10\")\n",
        "elif nota > 7:\n",
        "  print(\"muito bem. nota maior que 7\")\n",
        "elif nota > 3:\n",
        "  print(\"não foi bem. nota maior que três\")\n",
        "elif nota >= 0:\n",
        "  print(\"nota maor que 0 e menor ou igual a 3\")\n",
        "else:\n",
        "  print(\"nota menor ou igual a zero\")\n",
        "  \n",
        "print(\"fim\")"
      ],
      "metadata": {
        "id": "FGPgm1fTO9Bo",
        "colab": {
          "base_uri": "https://localhost:8080/"
        },
        "outputId": "7e0f942b-e42e-4648-e56a-4324ffa26ddb"
      },
      "execution_count": null,
      "outputs": [
        {
          "output_type": "stream",
          "name": "stdout",
          "text": [
            "digite o valor de uma nota: 8\n",
            "muito bem. nota maior que 7\n",
            "fim\n"
          ]
        }
      ]
    },
    {
      "cell_type": "markdown",
      "source": [
        "### Condicional Aninhada"
      ],
      "metadata": {
        "id": "QzE_W7iIPphh"
      }
    },
    {
      "cell_type": "code",
      "source": [
        "if maior_de_idade \n",
        "  if habilitado"
      ],
      "metadata": {
        "id": "KRypMqsD3S9e"
      },
      "execution_count": null,
      "outputs": []
    },
    {
      "cell_type": "code",
      "source": [
        "nome = input(\"digite seu nome: \")\n",
        "idade = int(input(\"digite sua idade: \"))\n",
        "\n",
        "if idade >= 18:\n",
        "  habilitado = input(\"você tem habilitação (S/N)?\")\n",
        "  if habilitado == \"S\":\n",
        "    print(\"olá\", nome, \"você tem \", idade, \"anos e pode dirigir\")\n",
        "  else:\n",
        "    print(\"olá\", nome, \"você tem\", idade, \"anos e não pode dirigir\")\n",
        "else:\n",
        "  print(\"olá\", nome, \" você tem\", idade, \"anos e, portanto, você é menor de idade e não pode dirigir\")"
      ],
      "metadata": {
        "colab": {
          "base_uri": "https://localhost:8080/"
        },
        "id": "2E3tbZ_m3S7F",
        "outputId": "8a21bd30-52be-4ca3-ad91-29aff027a8b4"
      },
      "execution_count": null,
      "outputs": [
        {
          "output_type": "stream",
          "name": "stdout",
          "text": [
            "digite seu nome: theo\n",
            "digite sua idade: 15\n",
            "olá theo  você tem 15  anos e, portanto, você é menor de idade e não pode dirigir\n"
          ]
        }
      ]
    },
    {
      "cell_type": "markdown",
      "source": [
        "### Condicional Curta (operador ternário)"
      ],
      "metadata": {
        "id": "5PshsbBgRC41"
      }
    },
    {
      "cell_type": "markdown",
      "source": [
        "Operadores ternários são maneiras mais \"enxutas\" de escrever condicionais simples em apenas uma linha"
      ],
      "metadata": {
        "id": "coZtuKR1R293"
      }
    },
    {
      "cell_type": "markdown",
      "source": [
        "if curto"
      ],
      "metadata": {
        "id": "hG4RBjMpSAK7"
      }
    },
    {
      "cell_type": "code",
      "source": [
        "a = int(input(\"digite um valor para a: \"))\n",
        "\n",
        "if a > 10:\n",
        "  print(\"a maior que 10\")\n",
        "\n"
      ],
      "metadata": {
        "colab": {
          "base_uri": "https://localhost:8080/"
        },
        "id": "t_7OZwFXLlz5",
        "outputId": "98cc54f1-cf83-496a-b88e-5079347ebe53"
      },
      "execution_count": null,
      "outputs": [
        {
          "output_type": "stream",
          "name": "stdout",
          "text": [
            "digite um valor para a: 11\n",
            "a maior que 10\n"
          ]
        }
      ]
    },
    {
      "cell_type": "code",
      "source": [
        "a = int(input(\"digite um valor para a: \"))\n",
        "\n",
        "if a > 10: print(\"a maior que 10\")"
      ],
      "metadata": {
        "colab": {
          "base_uri": "https://localhost:8080/"
        },
        "id": "EHA-s99oLl35",
        "outputId": "a8fadf71-6959-487f-f2d3-0577d18ea3c0"
      },
      "execution_count": null,
      "outputs": [
        {
          "output_type": "stream",
          "name": "stdout",
          "text": [
            "digite um valor para a: 11\n",
            "a maior que 10\n"
          ]
        }
      ]
    },
    {
      "cell_type": "markdown",
      "source": [
        "E se tiver um if e um else?"
      ],
      "metadata": {
        "id": "_eqduDbhSeew"
      }
    },
    {
      "cell_type": "code",
      "source": [
        "a = int(input(\"digite um valor para a: \"))\n",
        "\n",
        "if a > 10:\n",
        "  print(\"a maior que 10\")\n",
        "else:\n",
        "  print(\"a menor ou igual a 10\")"
      ],
      "metadata": {
        "colab": {
          "base_uri": "https://localhost:8080/"
        },
        "id": "fgrR3wjdLnbI",
        "outputId": "c9f39687-7bff-4341-8615-8cb91250d955"
      },
      "execution_count": null,
      "outputs": [
        {
          "output_type": "stream",
          "name": "stdout",
          "text": [
            "digite um valor para a: 8\n",
            "a menor ou igual a 10\n"
          ]
        }
      ]
    },
    {
      "cell_type": "code",
      "source": [
        "print(\"a maior que 10\") if a>10 else print(\"a menor ou igual a 10\")\n",
        "\n",
        "# faça isso se (if) for verdade, caso contrário, faça isso"
      ],
      "metadata": {
        "colab": {
          "base_uri": "https://localhost:8080/"
        },
        "id": "chfJ52glLneO",
        "outputId": "0def29c4-cb7a-472a-af90-2b150f2c1b67"
      },
      "execution_count": null,
      "outputs": [
        {
          "output_type": "stream",
          "name": "stdout",
          "text": [
            "a menor ou igual a 10\n"
          ]
        }
      ]
    },
    {
      "cell_type": "code",
      "source": [
        "a = 5\n",
        "print(\"a igual a 10\") if a==10 else print(\"a maior que 7\") if a>7 else print(\"a menor ou igual a 7\")\n"
      ],
      "metadata": {
        "colab": {
          "base_uri": "https://localhost:8080/"
        },
        "id": "mHKe23r8Lnhc",
        "outputId": "c930a295-2199-4a75-ae62-f4d97815b2a2"
      },
      "execution_count": null,
      "outputs": [
        {
          "output_type": "stream",
          "name": "stdout",
          "text": [
            "a menor ou igual a 7\n"
          ]
        }
      ]
    },
    {
      "cell_type": "markdown",
      "source": [
        "O ternário é comum de ser encontrado quando a pessoa desenvolvendo gostaria de atribuir um valor a uma variável"
      ],
      "metadata": {
        "id": "yoFdylOEVMsr"
      }
    },
    {
      "cell_type": "markdown",
      "source": [
        "quero criar uma variável que me diga se um determinado valor é positivo (>0).\n",
        "\n",
        "- como eu quero que a variável me informe?\n",
        "me retorne True ou False. Se for positivo, retorne True caso contrário, retorne False."
      ],
      "metadata": {
        "id": "j-PR6228-Odf"
      }
    },
    {
      "cell_type": "code",
      "source": [
        "a = 0\n",
        "is_a_positivo = True if a>0 else False\n",
        "is_positivo = a > 0\n",
        "print(is_a_positivo)"
      ],
      "metadata": {
        "id": "ZWOB9tqQVYZb",
        "colab": {
          "base_uri": "https://localhost:8080/"
        },
        "outputId": "1f04d5e7-b405-4bfc-8193-8988ff014f00"
      },
      "execution_count": null,
      "outputs": [
        {
          "output_type": "stream",
          "name": "stdout",
          "text": [
            "False\n"
          ]
        }
      ]
    },
    {
      "cell_type": "markdown",
      "source": [
        "### Inversão lógica"
      ],
      "metadata": {
        "id": "BDc4tKwMWaGA"
      }
    },
    {
      "cell_type": "markdown",
      "source": [
        "#### not"
      ],
      "metadata": {
        "id": "whqhxSYyaEkr"
      }
    },
    {
      "cell_type": "code",
      "source": [
        "x = 100\n",
        "y = 100"
      ],
      "metadata": {
        "id": "m5dK4VeULqu0"
      },
      "execution_count": null,
      "outputs": []
    },
    {
      "cell_type": "code",
      "source": [
        "x > y "
      ],
      "metadata": {
        "id": "X0sBqsd3LqzY",
        "colab": {
          "base_uri": "https://localhost:8080/"
        },
        "outputId": "54a57e1e-400e-4334-ce8e-a64e082f3355"
      },
      "execution_count": null,
      "outputs": [
        {
          "output_type": "execute_result",
          "data": {
            "text/plain": [
              "False"
            ]
          },
          "metadata": {},
          "execution_count": 2
        }
      ]
    },
    {
      "cell_type": "code",
      "source": [
        "not x>y"
      ],
      "metadata": {
        "id": "FiqYsQXpLq3P",
        "colab": {
          "base_uri": "https://localhost:8080/"
        },
        "outputId": "3eff8b7e-9044-4dec-fae0-636aef2d2ba2"
      },
      "execution_count": null,
      "outputs": [
        {
          "output_type": "execute_result",
          "data": {
            "text/plain": [
              "True"
            ]
          },
          "metadata": {},
          "execution_count": 3
        }
      ]
    },
    {
      "cell_type": "code",
      "source": [
        "x == y and \"B\" != \"b\"\n"
      ],
      "metadata": {
        "id": "1EockW5gLq7F",
        "colab": {
          "base_uri": "https://localhost:8080/"
        },
        "outputId": "52c0221a-25e5-434d-b5d4-dba2cc8a0b02"
      },
      "execution_count": null,
      "outputs": [
        {
          "output_type": "execute_result",
          "data": {
            "text/plain": [
              "True"
            ]
          },
          "metadata": {},
          "execution_count": 4
        }
      ]
    },
    {
      "cell_type": "code",
      "source": [
        "not(x == y and \"B\" != \"b\")"
      ],
      "metadata": {
        "id": "nJfzc0njLrAF",
        "colab": {
          "base_uri": "https://localhost:8080/"
        },
        "outputId": "c80ee372-924c-43b9-eeda-97417a244496"
      },
      "execution_count": null,
      "outputs": [
        {
          "output_type": "execute_result",
          "data": {
            "text/plain": [
              "False"
            ]
          },
          "metadata": {},
          "execution_count": 5
        }
      ]
    },
    {
      "cell_type": "markdown",
      "source": [
        "### o inverso com outros operadores"
      ],
      "metadata": {
        "id": "fzpgE272aKEV"
      }
    },
    {
      "cell_type": "code",
      "source": [
        "atual | inverso\n",
        "== | !=\n",
        "< | >=\n",
        "> | <=\n",
        "\n",
        "exp1 and exp2 | not(exp1) or not(exp2)\n",
        "exp1 or exp2 | not(exp1) and not(exp2)"
      ],
      "metadata": {
        "id": "4b3emJlHaVt5"
      },
      "execution_count": null,
      "outputs": []
    },
    {
      "cell_type": "code",
      "source": [
        "1 > 0 and 2 > 3"
      ],
      "metadata": {
        "id": "d5tzzyySZ4UQ",
        "colab": {
          "base_uri": "https://localhost:8080/"
        },
        "outputId": "5034d88e-6687-461d-aa7f-ef4f7e8cc62a"
      },
      "execution_count": null,
      "outputs": [
        {
          "output_type": "execute_result",
          "data": {
            "text/plain": [
              "False"
            ]
          },
          "metadata": {},
          "execution_count": 6
        }
      ]
    },
    {
      "cell_type": "code",
      "source": [
        "not(1>0) or not(2>3)"
      ],
      "metadata": {
        "id": "ywXCyCr-Z3E7",
        "colab": {
          "base_uri": "https://localhost:8080/"
        },
        "outputId": "b5e52de2-942b-48a9-e07c-836cdd5aa34b"
      },
      "execution_count": null,
      "outputs": [
        {
          "output_type": "execute_result",
          "data": {
            "text/plain": [
              "True"
            ]
          },
          "metadata": {},
          "execution_count": 10
        }
      ]
    },
    {
      "cell_type": "code",
      "source": [
        "1 > 0 or 1 < 0"
      ],
      "metadata": {
        "id": "ESEBGDdkLyUv",
        "colab": {
          "base_uri": "https://localhost:8080/"
        },
        "outputId": "09d2a3eb-b5e3-4c85-f18e-8b21ac542f35"
      },
      "execution_count": null,
      "outputs": [
        {
          "output_type": "execute_result",
          "data": {
            "text/plain": [
              "True"
            ]
          },
          "metadata": {},
          "execution_count": 11
        }
      ]
    },
    {
      "cell_type": "code",
      "source": [
        "not(1>0) and not(1<0)"
      ],
      "metadata": {
        "id": "AlmbV5bNLyYb",
        "colab": {
          "base_uri": "https://localhost:8080/"
        },
        "outputId": "ab8d434b-a111-4e75-93e3-324a6d48eb92"
      },
      "execution_count": null,
      "outputs": [
        {
          "output_type": "execute_result",
          "data": {
            "text/plain": [
              "False"
            ]
          },
          "metadata": {},
          "execution_count": 12
        }
      ]
    },
    {
      "cell_type": "markdown",
      "source": [
        "logo, são formas diferentes para fazer a mesma coisa:"
      ],
      "metadata": {
        "id": "IQHQZTsCbzZH"
      }
    },
    {
      "cell_type": "code",
      "source": [
        "# expressão original\n",
        "x == y and \"B\" != \"b\""
      ],
      "metadata": {
        "colab": {
          "base_uri": "https://localhost:8080/"
        },
        "id": "513-1YTt1Pwk",
        "outputId": "ac68e2d3-357c-4bc2-e578-95da025eeceb"
      },
      "execution_count": null,
      "outputs": [
        {
          "output_type": "execute_result",
          "data": {
            "text/plain": [
              "True"
            ]
          },
          "metadata": {},
          "execution_count": 15
        }
      ]
    },
    {
      "cell_type": "code",
      "source": [
        "not( x == y  and \"B\" != \"b\")\n"
      ],
      "metadata": {
        "id": "0nndj-eCLzle",
        "colab": {
          "base_uri": "https://localhost:8080/"
        },
        "outputId": "2c711744-115c-4ec2-f656-7c489655cb41"
      },
      "execution_count": null,
      "outputs": [
        {
          "output_type": "execute_result",
          "data": {
            "text/plain": [
              "False"
            ]
          },
          "metadata": {},
          "execution_count": 13
        }
      ]
    },
    {
      "cell_type": "code",
      "source": [
        "x != y or \"B\" == \"b\""
      ],
      "metadata": {
        "id": "s5HwgLPTLzol",
        "colab": {
          "base_uri": "https://localhost:8080/"
        },
        "outputId": "fa2e2347-0444-4c2f-80e4-ac2aa439aa95"
      },
      "execution_count": null,
      "outputs": [
        {
          "output_type": "execute_result",
          "data": {
            "text/plain": [
              "False"
            ]
          },
          "metadata": {},
          "execution_count": 14
        }
      ]
    },
    {
      "cell_type": "markdown",
      "source": [
        "## Exercícios parte 1"
      ],
      "metadata": {
        "id": "aKR4Sw-CSmUa"
      }
    },
    {
      "cell_type": "markdown",
      "source": [
        "1) Um posto está vendendo combustíveis com a seguinte tabela de descontos:\n",
        "\n",
        "- Álcool\n",
        " - menor que 20 litros, desconto de 3% no total de litros\n",
        " - a partir de 20 litros, desconto de 5% no total de litros\n",
        "\n",
        "- Gasolina\n",
        " - menor que 20 litros, desconto de 4% no total de litros\n",
        " - a partir de 20 litros, desconto de 6% no total de litros\n",
        "\n",
        "\n",
        "Escreva um algoritmo que leia o número de litros vendidos, o tipo de combustível (codificado da seguinte forma: A-álcool, G-gasolina), calcule e imprima o valor a ser pago pelo cliente sabendo-se que:\n",
        "- o preço do litro da gasolina é R\\$ 2,50\n",
        "- o preço do litro do álcool é R$ 1,90"
      ],
      "metadata": {
        "id": "jIglYm4DTpFf"
      }
    },
    {
      "cell_type": "code",
      "source": [
        "litros = float(input(\"digite a quantidade de litros: \"))\n",
        "combustivel = input(\"digite o tipo de combustível (A/G)\")\n",
        "\n",
        "preco_alcool = 1.90\n",
        "preco_gasolina = 2.50\n",
        "\n",
        "if combustivel == 'A':\n",
        "  if litros < 20:\n",
        "    preco = preco_alcool * litros * (1-0.03)\n",
        "  else:\n",
        "    preco = preco_alcool * litros * (1-0.05)\n",
        "  print(f\"você comprou {litros} litros com o valor total de: R${preco:.2f}\")\n",
        "\n",
        "elif combustivel == 'G':\n",
        "  if litros < 20:\n",
        "    preco = preco_gasolina * litros * (1-0.04)\n",
        "  else:\n",
        "    preco = preco_gasolina * litros * (1-0.06)\n",
        "  print(f\"você comprou {litros} litros com o valor total de: R${preco:.2f}\")\n",
        "\n",
        "else:\n",
        "  print(\"tipo de combustível inválido\")  "
      ],
      "metadata": {
        "id": "DKdxXuyQL2DF",
        "colab": {
          "base_uri": "https://localhost:8080/"
        },
        "outputId": "4667873f-00f6-48d2-9063-15a63d09d428"
      },
      "execution_count": null,
      "outputs": [
        {
          "output_type": "stream",
          "name": "stdout",
          "text": [
            "digite a quantidade de litros: 20\n",
            "digite o tipo de combustível (A/G)T\n",
            "tipo de combustível inválido\n"
          ]
        }
      ]
    },
    {
      "cell_type": "markdown",
      "source": [
        "2) Faça um programa que faça  5 perguntas para uma pessoa sobre um crime. As perguntas são:\n",
        "- telefonou para a vítima?\n",
        "- esteve no local do crime?\n",
        "- mora perto da vítima?\n",
        "- devia para a vítima?\n",
        "- já trabalhou com a vítima?\n",
        "\n",
        "o programa deve no final emitir uma classificação sobre a participação da pessoa no crime. Se a pessoa responder positivamente a 2 questões ela deve ser classificada como \"suspeita\", entre 3 e 4 como \"cúmplice\" e 5 como \"assassino\". Caso contrário, ele será classificado como \"inocente\""
      ],
      "metadata": {
        "id": "C6fRDeUkTpH4"
      }
    },
    {
      "cell_type": "code",
      "source": [
        "opcoes_respostas = \"(S/N)\"\n",
        "p1 = input(\"telefonou para a vítima?\"+opcoes_respostas)\n",
        "p2 = input(\"esteve no local do crime?\"+opcoes_respostas)\n",
        "p3 = input(\"mora perto da vítima?\"+opcoes_respostas)\n",
        "p4 = input(\"devia para a vítima?\"+opcoes_respostas)\n",
        "p5 = input(\"já trabalhou com a vítima?\"+opcoes_respostas)\n",
        "\n",
        "pontuacao = 0\n",
        "\n",
        "# importante aqui não ser elif\n",
        "if p1 == \"S\":\n",
        "  pontuacao = pontuacao + 1\n",
        "if p2 == \"S\":\n",
        "  pontuacao = pontuacao + 1\n",
        "if p3 == \"S\":\n",
        "  pontuacao = pontuacao + 1\n",
        "if p4 == \"S\":\n",
        "  pontuacao = pontuacao + 1\n",
        "if p5 == \"S\":\n",
        "  pontuacao += 1\n",
        "\n",
        "\n",
        "if pontuacao == 5:\n",
        "  print(\"assassino\")\n",
        "elif pontuacao >= 3:\n",
        "  print(\"essa pessoa é cúmplice\")\n",
        "elif pontuacao>= 2:\n",
        "  print(\"essa pessoa é suspeita\")\n",
        "else:\n",
        "  print(\"essa pessoa é inocente\")"
      ],
      "metadata": {
        "id": "XAjRGDXnL3dF",
        "colab": {
          "base_uri": "https://localhost:8080/"
        },
        "outputId": "f855241e-5d15-4fa2-9c2d-b40c7c5737cc"
      },
      "execution_count": null,
      "outputs": [
        {
          "output_type": "stream",
          "name": "stdout",
          "text": [
            "telefonou para a vítima?(S/N)S\n",
            "esteve no local do crime?(S/N)S\n",
            "mora perto da vítima?(S/N)S\n",
            "devia para a vítima?(S/N)N\n",
            "já trabalhou com a vítima?(S/N)N\n",
            "essa pessoa é cúmplice\n"
          ]
        }
      ]
    },
    {
      "cell_type": "markdown",
      "source": [
        "3) Faça um programa que leia um número inteiro positivo menor que 1000 e guarde em diferentes variáveis: centena, dezena e unidade.\n"
      ],
      "metadata": {
        "id": "VAQEzFCLTpQW"
      }
    },
    {
      "cell_type": "code",
      "source": [
        "#\n",
        "123: centena x , dezena y , unidade z\n",
        "12: centena 0 , 1 ,2 \n",
        "1: 1"
      ],
      "metadata": {
        "id": "gomu4jhVL4y5"
      },
      "execution_count": null,
      "outputs": []
    },
    {
      "cell_type": "code",
      "source": [
        "9\n",
        "10\n",
        "11\n",
        "12\n",
        "13\n",
        "(...)"
      ],
      "metadata": {
        "id": "kKIKtyaFL44L"
      },
      "execution_count": null,
      "outputs": []
    },
    {
      "cell_type": "code",
      "source": [
        "7%5"
      ],
      "metadata": {
        "id": "u3op0_wHL489",
        "colab": {
          "base_uri": "https://localhost:8080/"
        },
        "outputId": "04a359d1-6b47-488f-f06a-d1bf489b997b"
      },
      "execution_count": null,
      "outputs": [
        {
          "output_type": "execute_result",
          "data": {
            "text/plain": [
              "2"
            ]
          },
          "metadata": {},
          "execution_count": 22
        }
      ]
    },
    {
      "cell_type": "code",
      "source": [
        "771 % 10"
      ],
      "metadata": {
        "colab": {
          "base_uri": "https://localhost:8080/"
        },
        "id": "_hpJU4vhILgs",
        "outputId": "5fdb0b83-467e-4393-f332-63581b019207"
      },
      "execution_count": null,
      "outputs": [
        {
          "output_type": "execute_result",
          "data": {
            "text/plain": [
              "1"
            ]
          },
          "metadata": {},
          "execution_count": 26
        }
      ]
    },
    {
      "cell_type": "code",
      "source": [
        "77%10"
      ],
      "metadata": {
        "colab": {
          "base_uri": "https://localhost:8080/"
        },
        "id": "Yn9uUKQKIxuv",
        "outputId": "ecfe5bc5-2139-4f2b-b061-23f1cce756f3"
      },
      "execution_count": null,
      "outputs": [
        {
          "output_type": "execute_result",
          "data": {
            "text/plain": [
              "7"
            ]
          },
          "metadata": {},
          "execution_count": 27
        }
      ]
    },
    {
      "cell_type": "code",
      "source": [
        "# calculamos assim nossas centenas\n",
        "771 // 100"
      ],
      "metadata": {
        "colab": {
          "base_uri": "https://localhost:8080/"
        },
        "id": "dP_lwwUBI04v",
        "outputId": "add7e17d-c2db-4028-f198-4733c854c551"
      },
      "execution_count": null,
      "outputs": [
        {
          "output_type": "execute_result",
          "data": {
            "text/plain": [
              "7"
            ]
          },
          "metadata": {},
          "execution_count": 31
        }
      ]
    },
    {
      "cell_type": "code",
      "source": [
        "# % //\n",
        "77 // 10\n",
        "7 % 10"
      ],
      "metadata": {
        "colab": {
          "base_uri": "https://localhost:8080/"
        },
        "id": "bm7AJr60NRAX",
        "outputId": "8a5aa88c-94b4-43e8-d0c6-e5093105f528"
      },
      "execution_count": null,
      "outputs": [
        {
          "output_type": "execute_result",
          "data": {
            "text/plain": [
              "7"
            ]
          },
          "metadata": {},
          "execution_count": 35
        }
      ]
    },
    {
      "cell_type": "code",
      "source": [
        "367 // 10 % 10 "
      ],
      "metadata": {
        "colab": {
          "base_uri": "https://localhost:8080/"
        },
        "id": "bC8DbGUFJZZg",
        "outputId": "5d73ac45-c0cc-4e1e-f01b-f10436884d86"
      },
      "execution_count": null,
      "outputs": [
        {
          "output_type": "execute_result",
          "data": {
            "text/plain": [
              "6"
            ]
          },
          "metadata": {},
          "execution_count": 36
        }
      ]
    },
    {
      "cell_type": "code",
      "source": [
        "print(456// 100) # centena\n",
        "print(456// 10 % 10) # dezena\n",
        "print(456 % 10 ) # unidade"
      ],
      "metadata": {
        "colab": {
          "base_uri": "https://localhost:8080/"
        },
        "id": "eu1mi8m5OTVz",
        "outputId": "0e4375d9-f5d7-4140-e97c-5f158e3ed0a7"
      },
      "execution_count": null,
      "outputs": [
        {
          "output_type": "stream",
          "name": "stdout",
          "text": [
            "4\n",
            "5\n",
            "6\n"
          ]
        }
      ]
    },
    {
      "cell_type": "code",
      "source": [
        "(123 % 100) # // 10"
      ],
      "metadata": {
        "colab": {
          "base_uri": "https://localhost:8080/"
        },
        "id": "2wAThBehO6jC",
        "outputId": "452ec851-5e2a-4ef0-9992-94e79a660fe1"
      },
      "execution_count": null,
      "outputs": [
        {
          "output_type": "execute_result",
          "data": {
            "text/plain": [
              "23"
            ]
          },
          "metadata": {},
          "execution_count": 38
        }
      ]
    },
    {
      "cell_type": "code",
      "source": [
        "numero = int(input('Entre com um número inteiro menor do que 1000: '))\n",
        "centena = numero // 100\n",
        "dezena = (numero % 100) // 10\n",
        "unidade = numero % 10\n",
        "print(centena, dezena, unidade)"
      ],
      "metadata": {
        "colab": {
          "base_uri": "https://localhost:8080/"
        },
        "id": "p0ClMhQiO2bC",
        "outputId": "393fc3ef-ae4a-4eb4-92ba-b02e27d886bc"
      },
      "execution_count": null,
      "outputs": [
        {
          "output_type": "stream",
          "name": "stdout",
          "text": [
            "Entre com um número inteiro menor do que 1000: 456\n",
            "4 5 6\n"
          ]
        }
      ]
    },
    {
      "cell_type": "markdown",
      "source": [
        "4) Faça um programa para um caixa eletrônico. o programa deverá perguntar ao usuário o valor do saque e depois informar quantas notas de cada valor serão fornecidas. O caixa deve otimizar para disponibilizar a menor quantidade de cédulas possíveis. As notas disponíveis serão as de 1, 2, 5, 10, 50 e 100 reais."
      ],
      "metadata": {
        "id": "OjMVLgXw3b7m"
      }
    },
    {
      "cell_type": "code",
      "source": [
        "# quantas cédulas de 5 reais \"cabem\" dentro do valor que quero sacar\n",
        "cedulas_5 = 7//5\n",
        "7 // 5"
      ],
      "metadata": {
        "colab": {
          "base_uri": "https://localhost:8080/"
        },
        "id": "q-v32zp-3cVI",
        "outputId": "388fb6de-2ae3-47b6-f01e-f78018b1dd4e"
      },
      "execution_count": null,
      "outputs": [
        {
          "output_type": "execute_result",
          "data": {
            "text/plain": [
              "1"
            ]
          },
          "metadata": {},
          "execution_count": 51
        }
      ]
    },
    {
      "cell_type": "code",
      "source": [
        "7 % 5"
      ],
      "metadata": {
        "colab": {
          "base_uri": "https://localhost:8080/"
        },
        "id": "wSup_d9OS1rY",
        "outputId": "ed9c8931-0219-419d-f71b-4037d8b4874c"
      },
      "execution_count": null,
      "outputs": [
        {
          "output_type": "execute_result",
          "data": {
            "text/plain": [
              "2"
            ]
          },
          "metadata": {},
          "execution_count": 52
        }
      ]
    },
    {
      "cell_type": "code",
      "source": [
        "7 % 5 "
      ],
      "metadata": {
        "colab": {
          "base_uri": "https://localhost:8080/"
        },
        "id": "YzzN8gZIPwGB",
        "outputId": "43d70a02-cf9f-4742-c613-90bce785052f"
      },
      "execution_count": null,
      "outputs": [
        {
          "output_type": "execute_result",
          "data": {
            "text/plain": [
              "2"
            ]
          },
          "metadata": {},
          "execution_count": 42
        }
      ]
    },
    {
      "cell_type": "code",
      "source": [
        "2 // 2"
      ],
      "metadata": {
        "colab": {
          "base_uri": "https://localhost:8080/"
        },
        "id": "zK68JLIcQD0n",
        "outputId": "400722ae-6b20-45f2-9ba8-88a0c797a007"
      },
      "execution_count": null,
      "outputs": [
        {
          "output_type": "execute_result",
          "data": {
            "text/plain": [
              "1"
            ]
          },
          "metadata": {},
          "execution_count": 44
        }
      ]
    },
    {
      "cell_type": "code",
      "source": [
        "# 1, 2, 5, 10, 50 e 100 reais"
      ],
      "metadata": {
        "id": "mdenSfMtQHBp"
      },
      "execution_count": null,
      "outputs": []
    },
    {
      "cell_type": "code",
      "source": [
        "valor_que_falta = int(input(\"digite o valor a sacar: \"))\n",
        "\n",
        "notas_100 = valor_que_falta // 100\n",
        "valor_que_falta = valor_que_falta % 100\n",
        "\n",
        "notas_50 = valor_que_falta // 50\n",
        "valor_que_falta = valor_que_falta % 50\n",
        "\n",
        "notas_10 = valor_que_falta // 10\n",
        "valor_que_falta = valor_que_falta % 10\n",
        "\n",
        "notas_5 = valor_que_falta // 5\n",
        "valor_que_falta = valor_que_falta % 5\n",
        "\n",
        "notas_2 = valor_que_falta // 2\n",
        "valor_que_falta = valor_que_falta % 2\n",
        "\n",
        "notas_1 = valor_que_falta\n",
        "\n",
        "print(\"notas_100:\", notas_100)\n",
        "print(\"notas_50:\", notas_50)\n",
        "print(\"notas_10:\", notas_10)\n",
        "print(\"notas_5:\", notas_5)\n",
        "print(\"notas_2:\", notas_2)\n",
        "print(\"notas_1:\", notas_1)"
      ],
      "metadata": {
        "colab": {
          "base_uri": "https://localhost:8080/"
        },
        "id": "Yl1u0YQ7Qn42",
        "outputId": "5e4befe4-8e41-4bbc-a05a-ad2586141526"
      },
      "execution_count": null,
      "outputs": [
        {
          "output_type": "stream",
          "name": "stdout",
          "text": [
            "digite o valor a sacar: 123\n",
            "notas_100: 1\n",
            "notas_50: 0\n",
            "notas_10: 2\n",
            "notas_5: 0\n",
            "notas_2: 1\n",
            "notas_1: 1\n"
          ]
        }
      ]
    },
    {
      "cell_type": "code",
      "source": [
        "1 % 2"
      ],
      "metadata": {
        "colab": {
          "base_uri": "https://localhost:8080/"
        },
        "id": "vUlSpFu_RHaJ",
        "outputId": "27c0634d-3ed1-44e1-caa7-69d2a99a8bb4"
      },
      "execution_count": null,
      "outputs": [
        {
          "output_type": "execute_result",
          "data": {
            "text/plain": [
              "1"
            ]
          },
          "metadata": {},
          "execution_count": 48
        }
      ]
    },
    {
      "cell_type": "markdown",
      "source": [
        "5) Faca um programa que peça os 3 lados de um triângulo. O programa deverá informar se os valores podem ser triângulo. Indique, caso os lados formem um triângulo, se o mesmo é:\n",
        "equilátero, isósceles ou escaleno\n",
        "\n",
        "\n",
        "- Para tornar um pouco mais desafiador, vamos evitar de pedir para o usuário ter que mandar em ordem crescente ou descrescente. Dessa forma, o usuário pode mandar em qualquer ordem. exemplo: 1,5,3 e 5,1,3 e 1,3,5 etc\n",
        "\n",
        "Para resolver é importante saber:\n",
        "- Como determinar se três comprimentos compõem um triângulo (Teorema da desigualdade do triângulo)\n",
        "- Diferenças entre tipos de triângulo"
      ],
      "metadata": {
        "id": "-TDxuhUzTOvJ"
      }
    },
    {
      "cell_type": "code",
      "source": [
        "c1 = float(input(\"Coloque o primeiro comprimento: \"))\n",
        "c2 = float(input(\"Coloque o segundo comprimento: \"))\n",
        "c3 = float(input(\"Coloque o terceiro comprimento: \"))\n",
        "\n",
        "if c1 + c2 >= c3 and c1 + c3 >= c2 and c2 + c3 >= c1:\n",
        "    if c1 != c2 and c1 != c3 and c2 != c3:\n",
        "        print(\"Triângulo escaleno\")\n",
        "    elif (c1 == c2 and c1 != c3) or (c1 == c3 and c1 != c2) or (c2 == c3 and c2 != c1):\n",
        "        print(\"Triângulo isóceles\")\n",
        "    else:\n",
        "        print(\"Triângulo equilátero\")\n",
        "else:\n",
        "    print(\"Não é um triângulo!\")"
      ],
      "metadata": {
        "id": "0vfPJxayTTe3",
        "colab": {
          "base_uri": "https://localhost:8080/"
        },
        "outputId": "3dccfab3-ed9a-4f79-bca0-a53e169a374e"
      },
      "execution_count": null,
      "outputs": [
        {
          "output_type": "stream",
          "name": "stdout",
          "text": [
            "Coloque o primeiro comprimento: 1\n",
            "Coloque o segundo comprimento: 2\n",
            "Coloque o terceiro comprimento: 2\n",
            "Triângulo isóceles\n"
          ]
        }
      ]
    }
  ]
}