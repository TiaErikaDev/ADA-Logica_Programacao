{
  "cells": [
    {
      "cell_type": "markdown",
      "metadata": {
        "id": "view-in-github",
        "colab_type": "text"
      },
      "source": [
        "<a href=\"https://colab.research.google.com/github/TiaErikaDev/ADA-Logica_Programacao/blob/main/Aula07_Funcoes.ipynb\" target=\"_parent\"><img src=\"https://colab.research.google.com/assets/colab-badge.svg\" alt=\"Open In Colab\"/></a>"
      ]
    },
    {
      "cell_type": "markdown",
      "metadata": {
        "id": "M7v1M8siSU0H"
      },
      "source": [
        "#  Funções\n",
        "\n",
        "Na aula de hoje, vamos explorar o seguinte tópico em Python:\n",
        "\n",
        "- 1) Funções\n",
        "_______\n",
        "\n",
        "### Habilidades a serem desenvolvidas\n",
        "\n",
        "Ao final da aula o aluno deve:\n",
        "\n",
        "- Conhecer o conceito de funções e sua importância;\n",
        "- Saber criar funções em Python;"
      ]
    },
    {
      "cell_type": "markdown",
      "metadata": {
        "id": "YYA32uPKSU0M"
      },
      "source": [
        "___\n"
      ]
    },
    {
      "cell_type": "markdown",
      "metadata": {
        "id": "i5qq6gA6SU0M"
      },
      "source": [
        "## 1) Funções\n",
        "\n",
        "Até o momento, já vimos diversas funções em Python.\n",
        "\n",
        "- Na primeira aula, tivemos contato com a função `print()`, que exibe um texto na tela;\n",
        "\n",
        "- Depois, aprendemos sobre a função `input()`, que serve pra capturar algo que o usuário digita;\n",
        "\n",
        "- Em seguida, vimos algumas funções aplicada à listas, como a `sorted()`, para ordenar uma lista;\n"
      ]
    },
    {
      "cell_type": "code",
      "source": [
        "max([1,2,3])"
      ],
      "metadata": {
        "colab": {
          "base_uri": "https://localhost:8080/"
        },
        "id": "2T3aG6a4dK35",
        "outputId": "191fb488-ab62-4faa-974e-7bc0478eb872"
      },
      "execution_count": null,
      "outputs": [
        {
          "output_type": "execute_result",
          "data": {
            "text/plain": [
              "3"
            ]
          },
          "metadata": {},
          "execution_count": 60
        }
      ]
    },
    {
      "cell_type": "code",
      "source": [
        "sorted([3,1,2])"
      ],
      "metadata": {
        "colab": {
          "base_uri": "https://localhost:8080/"
        },
        "id": "Ye73kySrdK8_",
        "outputId": "5b4f4ef9-6df5-4e20-bce8-f4e331668712"
      },
      "execution_count": null,
      "outputs": [
        {
          "output_type": "execute_result",
          "data": {
            "text/plain": [
              "[1, 2, 3]"
            ]
          },
          "metadata": {},
          "execution_count": 61
        }
      ]
    },
    {
      "cell_type": "markdown",
      "metadata": {
        "id": "BncD-zoKSU0P"
      },
      "source": [
        "\n",
        "A intuição sobre funções, então, já nos é familiar:\n",
        "\n",
        "Uma função é um objeto utilizado para **fazer determinadas ações**.\n",
        "\n",
        "Podemos ver uma função como uma \"caixinha\" que pega uma **entrada** (o argumento), faz algum **processamento**, e então **retorna uma saída** (o output)\n",
        "\n",
        "<img src=\"https://s3.amazonaws.com/illustrativemathematics/images/000/000/782/medium/Task_1_8c7a6a9a2e1421586c40f125bd783de3.jpg?1335065782\" width=300>\n",
        "\n",
        "\n",
        "<img src=\"https://1.bp.blogspot.com/_MhOt9n2UJbM/TC6emeqHdqI/AAAAAAAAAiQ/1brsWuWvOC0/s1600/function-machine.png\" width=300>\n"
      ]
    },
    {
      "cell_type": "markdown",
      "metadata": {
        "id": "sM3wAGw6SU0Q"
      },
      "source": [
        "Aprenderemos agora como criar **nossas próprias funções** em Python!"
      ]
    },
    {
      "cell_type": "markdown",
      "metadata": {
        "id": "La8LM_vwSU0R"
      },
      "source": [
        "A estrutura de **definição de uma função** é dada por:\n",
        "\n",
        "```python\n",
        "def nomeDaFuncao(argumento1, argumento2, ...):\n",
        "    \n",
        "    instrucoes\n",
        "    \n",
        "    return saida\n",
        "```"
      ]
    },
    {
      "cell_type": "markdown",
      "metadata": {
        "id": "ZJnIGpjvSU0R"
      },
      "source": [
        "Há 5 elementos fundamentais para a criação de novas funções em Python:\n",
        "\n",
        "- Primeiramente, usamos \"def\" para deixar claro que estamos **definindo** uma função;\n",
        "- Depois, damos um **nome** para nossa função;\n",
        "- Em parênteses, falamos quais serão os **argumentos** da função -- esses são os inputs, e em python, esses elementos são opcionais!\n",
        "- Depois, explicitamos qual é o **processamento** feito pela função;\n",
        "- Ao fim, dizemos o que a função irá **retornar** -- esses são os outputs, e em Python esse elemento é opcional!"
      ]
    },
    {
      "cell_type": "markdown",
      "metadata": {
        "id": "OGDno3L3SU0S"
      },
      "source": [
        "Sempre que quisermos **executar** uma função, basta **chamá-la**, dando os argumentos desejados!\n",
        "\n",
        "```python\n",
        "nome_da_funcao(argumentos)\n",
        "```"
      ]
    },
    {
      "cell_type": "markdown",
      "metadata": {
        "id": "PBkDXOHTSU0S"
      },
      "source": [
        "__Uma função sem argumentos e sem return__\n",
        "\n",
        "Apenas imprime algo na tela, mas sempre A MESMA COISA\n"
      ]
    },
    {
      "cell_type": "code",
      "source": [
        "def cumprimenta():\n",
        "  print(\"olá\")"
      ],
      "metadata": {
        "id": "Q5p1HNEedM9D"
      },
      "execution_count": null,
      "outputs": []
    },
    {
      "cell_type": "markdown",
      "metadata": {
        "id": "lMGehoAHSU0T"
      },
      "source": [
        "__Chamando a função__"
      ]
    },
    {
      "cell_type": "code",
      "source": [
        "cumprimenta()"
      ],
      "metadata": {
        "colab": {
          "base_uri": "https://localhost:8080/"
        },
        "id": "Av77h_OedN0T",
        "outputId": "f272940a-021f-414f-ca0e-ee544af57a89"
      },
      "execution_count": null,
      "outputs": [
        {
          "output_type": "stream",
          "name": "stdout",
          "text": [
            "olá\n"
          ]
        }
      ]
    },
    {
      "cell_type": "markdown",
      "metadata": {
        "id": "N5fI0g4pSU0T"
      },
      "source": [
        "__Uma função com argumento, mas sem return__\n",
        "\n",
        "Imprime o que eu mandar na tela, como argumento!"
      ]
    },
    {
      "cell_type": "code",
      "source": [
        "def cumprimenta(nome):\n",
        "  print(f\"olá, {nome}\")\n"
      ],
      "metadata": {
        "id": "P3GMTPlGdO2E"
      },
      "execution_count": null,
      "outputs": []
    },
    {
      "cell_type": "code",
      "source": [
        "cumprimenta()"
      ],
      "metadata": {
        "colab": {
          "base_uri": "https://localhost:8080/",
          "height": 165
        },
        "id": "gBXT1IdgdO4y",
        "outputId": "9bf1e49b-4325-4162-ee04-0f84ff53987a"
      },
      "execution_count": null,
      "outputs": [
        {
          "output_type": "error",
          "ename": "TypeError",
          "evalue": "ignored",
          "traceback": [
            "\u001b[0;31m---------------------------------------------------------------------------\u001b[0m",
            "\u001b[0;31mTypeError\u001b[0m                                 Traceback (most recent call last)",
            "\u001b[0;32m<ipython-input-65-66fb9e28d8f6>\u001b[0m in \u001b[0;36m<module>\u001b[0;34m\u001b[0m\n\u001b[0;32m----> 1\u001b[0;31m \u001b[0mcumprimenta\u001b[0m\u001b[0;34m(\u001b[0m\u001b[0;34m)\u001b[0m\u001b[0;34m\u001b[0m\u001b[0;34m\u001b[0m\u001b[0m\n\u001b[0m",
            "\u001b[0;31mTypeError\u001b[0m: cumprimenta() missing 1 required positional argument: 'nome'"
          ]
        }
      ]
    },
    {
      "cell_type": "code",
      "source": [
        "cumprimenta(\"theo\")"
      ],
      "metadata": {
        "id": "9KKG4T9JT_hY"
      },
      "execution_count": null,
      "outputs": []
    },
    {
      "cell_type": "code",
      "source": [
        "def printa(variavel):\n",
        "  \"\"\"essa função imprime informações\"\"\"\n",
        "  \n",
        "  print(variavel)\n",
        "\n"
      ],
      "metadata": {
        "id": "6ROQ1GiDU_2L"
      },
      "execution_count": null,
      "outputs": []
    },
    {
      "cell_type": "markdown",
      "metadata": {
        "id": "uC7UpEpASU0U"
      },
      "source": [
        "__Uma função com dois argumentos, mas ainda sem return__\n",
        "\n",
        "Imprime algo na tela, mas dependendo do segundo argumento que eu passar"
      ]
    },
    {
      "cell_type": "code",
      "source": [
        "def cumprimenta_horario(nome,hora):\n",
        "  if hora < 12:\n",
        "    print(f\"bom dia, {nome}\")\n",
        "  elif hora < 18:\n",
        "    print(f\"boa tarde, {nome}\")\n",
        "  else:\n",
        "    print(f\"boa noite, {nome}\")"
      ],
      "metadata": {
        "id": "Spbxq5HlwtdM"
      },
      "execution_count": null,
      "outputs": []
    },
    {
      "cell_type": "code",
      "source": [
        "cumprimenta_horario(\"theo\",14)"
      ],
      "metadata": {
        "id": "YgQJN1cswtiW"
      },
      "execution_count": null,
      "outputs": []
    },
    {
      "cell_type": "markdown",
      "metadata": {
        "id": "lNdf1oo6SU0V"
      },
      "source": [
        "Posso mudar a ordem dos argumentos, mas para essa função que criamos devo explicitar exatamente quais são os argumentos que estou passando para cada parâmetro!"
      ]
    },
    {
      "cell_type": "code",
      "source": [
        "cumprimenta_horario(nome=\"theo\", hora=12)"
      ],
      "metadata": {
        "id": "eYmmZH43deNv"
      },
      "execution_count": null,
      "outputs": []
    },
    {
      "cell_type": "code",
      "source": [
        "cumprimenta_horario(hora=12, nome=\"theo\")"
      ],
      "metadata": {
        "id": "HhfDvWfLdr59"
      },
      "execution_count": null,
      "outputs": []
    },
    {
      "cell_type": "markdown",
      "metadata": {
        "id": "jkgTP6BtSU0W"
      },
      "source": [
        "__Mas e o return?__\n",
        "\n",
        "\n",
        "Todas as funções acima de fato fazem alguma operação, mas nós não conseguimos **acessar** o resultado das operações! Veja um exemplo mais claro: uma função que calcula a soma de dois números:"
      ]
    },
    {
      "cell_type": "code",
      "source": [
        "def cumprimenta_horario(nome,hora):\n",
        "  if hora < 12:\n",
        "    return f\"bom dia, {nome}\"\n",
        "  elif hora < 18:\n",
        "    return f\"boa tarde, {nome}\"\n",
        "  else:\n",
        "    return f\"boa noite, {nome}\""
      ],
      "metadata": {
        "id": "YpIA6wjMd9z3"
      },
      "execution_count": null,
      "outputs": []
    },
    {
      "cell_type": "code",
      "source": [
        "cumprimenta_horario(\"theo\", 14)"
      ],
      "metadata": {
        "id": "fBYLgQjAd92j"
      },
      "execution_count": null,
      "outputs": []
    },
    {
      "cell_type": "markdown",
      "metadata": {
        "id": "TVQtOvgNSU0W"
      },
      "source": [
        "Note que a função calcula a soma dos números, mas apenas exibe este resultado com o print! \n",
        "\n",
        "**A variável \"soma\" é uma variável que existe apenas no interior da função!!**"
      ]
    },
    {
      "cell_type": "code",
      "source": [
        "def calc_soma(n1,n2):\n",
        "  soma = n1 + n2\n",
        "  return soma\n",
        "\n",
        "calc_soma(10,32)"
      ],
      "metadata": {
        "id": "3sa27HnNd-3r"
      },
      "execution_count": null,
      "outputs": []
    },
    {
      "cell_type": "code",
      "source": [
        "resultado = calc_soma(10,32)"
      ],
      "metadata": {
        "id": "fcwMCHAPZHMg"
      },
      "execution_count": null,
      "outputs": []
    },
    {
      "cell_type": "code",
      "source": [
        "resultado"
      ],
      "metadata": {
        "id": "fSsbkeYEZLbC"
      },
      "execution_count": null,
      "outputs": []
    },
    {
      "cell_type": "markdown",
      "metadata": {
        "id": "V7mTfZSrSU0X"
      },
      "source": [
        "Se quisermos armazenar o valor da soma, podemos **retornar** o valor desta variável!\n",
        "\n",
        "**OBS.:** apenas o **valor** da variável é retornado, não o nome dela!!\n",
        "\n",
        "Fora da função, o nome de variável \"soma\" ainda continua não existindo!!"
      ]
    },
    {
      "cell_type": "code",
      "source": [
        "soma"
      ],
      "metadata": {
        "id": "U2vL7FlFeACn"
      },
      "execution_count": null,
      "outputs": []
    },
    {
      "cell_type": "code",
      "source": [
        "def calc_soma(n1,n2):\n",
        "  soma = n1 + n2\n",
        "  return soma\n",
        "\n",
        "valor_soma = calc_soma(10,32)\n",
        "print(f\"o valor da soma é {valor_soma}\")"
      ],
      "metadata": {
        "id": "LdaGmwq2eAGt"
      },
      "execution_count": null,
      "outputs": []
    },
    {
      "cell_type": "markdown",
      "metadata": {
        "id": "U3NFlUM9SU0X"
      },
      "source": [
        "Daí, basta armazenar o resultado retornado em uma variável, **como fazíamos com o input()!**"
      ]
    },
    {
      "cell_type": "code",
      "source": [
        "resposta = input(\"pergunta\")\n",
        "valor_soma = calc_soma(10,32) "
      ],
      "metadata": {
        "id": "2cGI6W4beA6n"
      },
      "execution_count": null,
      "outputs": []
    },
    {
      "cell_type": "markdown",
      "metadata": {
        "id": "zAl9nViISU0X"
      },
      "source": [
        "Um outro exemplo:"
      ]
    },
    {
      "cell_type": "code",
      "source": [
        "# exemplo que já chegamos a mencionar anteriormente\n",
        "def cumprimenta_horario(nome,hora):\n",
        "  if hora < 12:\n",
        "    return f\"bom dia, {nome}\"\n",
        "  elif hora < 18:\n",
        "    return f\"boa tarde, {nome}\"\n",
        "  else:\n",
        "    return f\"boa noite, {nome}\""
      ],
      "metadata": {
        "id": "dah3h4nkeB0h"
      },
      "execution_count": null,
      "outputs": []
    },
    {
      "cell_type": "code",
      "source": [],
      "metadata": {
        "id": "V5u1biV1eB3V"
      },
      "execution_count": null,
      "outputs": []
    },
    {
      "cell_type": "markdown",
      "metadata": {
        "id": "TITbhXoDSU0Y"
      },
      "source": [
        "Vamos elaborar um pouco mais?\n",
        "\n",
        "Que tal fazermos uma função calculadora?"
      ]
    },
    {
      "cell_type": "code",
      "source": [
        "def calculadora(num1,num2, operacao):\n",
        "  if operacao == \"+\":\n",
        "    return num1 + num2\n",
        "  elif operacao == \"-\":\n",
        "    return num1 - num2\n",
        "  elif operacao == \"*\":\n",
        "    return num1 * num2\n",
        "  elif operacao == \"/\":\n",
        "    return num1 / num2\n",
        "  else:\n",
        "    return \"operação não suportada. operações disponíveis: +, - , *, /\"\n",
        "\n"
      ],
      "metadata": {
        "id": "GtxawZDCeDCL"
      },
      "execution_count": null,
      "outputs": []
    },
    {
      "cell_type": "code",
      "source": [
        "calculadora(3,4,\"/\")"
      ],
      "metadata": {
        "id": "lVlnPiCMeDGv"
      },
      "execution_count": null,
      "outputs": []
    },
    {
      "cell_type": "markdown",
      "metadata": {
        "id": "5Mt_O9AQSU0Z"
      },
      "source": [
        "Também é possível utilizar a função calculadora para definir uma função que calcula a média entre dois números:"
      ]
    },
    {
      "cell_type": "code",
      "source": [
        "def media(num1,num2):\n",
        "  return calculadora(num1,num2, \"+\") / 2"
      ],
      "metadata": {
        "id": "2s2LICz-eEMi"
      },
      "execution_count": null,
      "outputs": []
    },
    {
      "cell_type": "code",
      "source": [
        "media(10,2)"
      ],
      "metadata": {
        "id": "AoIfOOfzeEO7"
      },
      "execution_count": null,
      "outputs": []
    },
    {
      "cell_type": "markdown",
      "source": [
        "\n",
        "É importante também destacar que conseguimos passar valores padrão (default) como argumento da nossa função.\n",
        "\n",
        "Vamos ver no exemplo da calculadora como isso funcionaria, mas antes vamos olhar uma função que conhecemos. A print()\n",
        "\n",
        "documentação da print(): https://docs.python.org/3/library/functions.html#print"
      ],
      "metadata": {
        "id": "JLVB0fowbYVg"
      }
    },
    {
      "cell_type": "code",
      "source": [
        " # parâmetro da função print() : sep=' '\n",
        "print('oi', \"tudo bem?\", \"tudo sim\")"
      ],
      "metadata": {
        "id": "eyvRHQFneFTk"
      },
      "execution_count": null,
      "outputs": []
    },
    {
      "cell_type": "markdown",
      "source": [
        "o argumento padrão que é recebido para o parâmetro \"sep\" é \" \" (espaço). Não precisamos passar argumento para ele. Nesse caso, ele é opcional."
      ],
      "metadata": {
        "id": "Z6hs1d64b_iz"
      }
    },
    {
      "cell_type": "code",
      "source": [
        "print('oi', \"tudo bem?\", \"tudo sim\", sep=\" separador \")"
      ],
      "metadata": {
        "id": "soeTqovjeGFU"
      },
      "execution_count": null,
      "outputs": []
    },
    {
      "cell_type": "markdown",
      "source": [
        "Vamos ver como fazer para passar um argumento padrão para nossa função calculadora"
      ],
      "metadata": {
        "id": "u0SqMzm_cSP_"
      }
    },
    {
      "cell_type": "code",
      "source": [
        "def calculadora(num1,num2, operacao=\"+\"):\n",
        "  if operacao == \"+\":\n",
        "    return num1 + num2\n",
        "  elif operacao == \"-\":\n",
        "    return num1 - num2\n",
        "  elif operacao == \"*\":\n",
        "    return num1 * num2\n",
        "  elif operacao == \"/\":\n",
        "    return num1 / num2\n",
        "  else:\n",
        "    return \"operação não suportada. operações disponíveis: +, - , *, /\"\n",
        "\n"
      ],
      "metadata": {
        "id": "dOPk4k3-bCj_"
      },
      "execution_count": null,
      "outputs": []
    },
    {
      "cell_type": "code",
      "source": [
        "def calculadora(num1,num2, operacao=\"+\"):\n",
        "  if operacao == \"+\":\n",
        "    return num1 + num2\n",
        "  elif operacao == \"-\":\n",
        "    return num1 - num2\n",
        "  elif operacao == \"*\":\n",
        "    return num1 * num2\n",
        "  elif operacao == \"/\":\n",
        "    return num1 / num2\n",
        "  else:\n",
        "    return \"operação não suportada. operações disponíveis: +, - , *, /\"\n",
        "\n"
      ],
      "metadata": {
        "id": "17a8L3_5gar8"
      },
      "execution_count": null,
      "outputs": []
    },
    {
      "cell_type": "code",
      "source": [
        "calculadora()"
      ],
      "metadata": {
        "id": "swYsA50oeGw0"
      },
      "execution_count": null,
      "outputs": []
    },
    {
      "cell_type": "code",
      "source": [
        "def funcao_input():\n",
        "  idade = int(input(\"qual sua idade?\"))\n",
        "  nome = input(\"qual seu nome?\")\n",
        "  if idade >15:\n",
        "    escolaridade = input(\"qual sua escolaridade\")\n",
        "    return escolaridade\n",
        "  else:\n",
        "    return [idade,nome]\n",
        "\n"
      ],
      "metadata": {
        "id": "LhfGiEhPfUKo"
      },
      "execution_count": null,
      "outputs": []
    },
    {
      "cell_type": "code",
      "source": [
        "funcao_input()"
      ],
      "metadata": {
        "id": "_fpoUBeafmms"
      },
      "execution_count": null,
      "outputs": []
    },
    {
      "cell_type": "markdown",
      "metadata": {
        "id": "4hzbPSsESU0Z"
      },
      "source": [
        "## Exercícios"
      ]
    },
    {
      "cell_type": "markdown",
      "metadata": {
        "id": "-gO9bv07SU0a"
      },
      "source": [
        "1) Faça uma função que recebe um texto e um letra e retorne a quantidade daquela letra naquele texto (ignore diferenças de capitalização, 'A' e 'a' são a mesma letra)"
      ]
    },
    {
      "cell_type": "code",
      "source": [
        "def quantas_letras():\n",
        "    texto = input(\"Digite um texto: \").lower()\n",
        "    letra = input(\"Escolha uma letra: \").lower()\n",
        "    if letra in texto:\n",
        "        resultado = print(texto.count(letra))\n",
        "        return resultado"
      ],
      "metadata": {
        "id": "xrcxMKZAphAW"
      },
      "execution_count": null,
      "outputs": []
    },
    {
      "cell_type": "code",
      "source": [
        "quantas_letras()"
      ],
      "metadata": {
        "colab": {
          "base_uri": "https://localhost:8080/"
        },
        "id": "_LO06axEo5pT",
        "outputId": "1486c6bd-170d-42e2-8a65-7bfcc33b72ad"
      },
      "execution_count": null,
      "outputs": [
        {
          "output_type": "stream",
          "name": "stdout",
          "text": [
            "Digite um texto: olamundo \n",
            "Escolha uma letra: o\n",
            "2\n"
          ]
        }
      ]
    },
    {
      "cell_type": "markdown",
      "source": [
        "2) Faça uma função que recebe uma string e retorna ela ao contrário.\n"
      ],
      "metadata": {
        "id": "gztZ-jKTMCUp"
      }
    },
    {
      "cell_type": "code",
      "source": [
        "def inverso(palavra):\n",
        "    inverso = ''.join(reversed(palavra))\n",
        "    return inverso"
      ],
      "metadata": {
        "id": "4ay5anT2QQHX"
      },
      "execution_count": null,
      "outputs": []
    },
    {
      "cell_type": "code",
      "source": [
        "inverso(\"mayara\")"
      ],
      "metadata": {
        "colab": {
          "base_uri": "https://localhost:8080/",
          "height": 35
        },
        "id": "IWda5mOquYuK",
        "outputId": "01a616c4-5611-47c5-cf6c-e90f56b0e71a"
      },
      "execution_count": null,
      "outputs": [
        {
          "output_type": "execute_result",
          "data": {
            "text/plain": [
              "'arayam'"
            ],
            "application/vnd.google.colaboratory.intrinsic+json": {
              "type": "string"
            }
          },
          "metadata": {},
          "execution_count": 92
        }
      ]
    },
    {
      "cell_type": "markdown",
      "source": [
        "3) Agora faça uma função que recebe uma palavra e diz se ela é um palíndromo, ou seja, se ela é igual a ela mesma ao contrário.\n",
        "\n",
        "Sugestão: use a função do exercício anterior."
      ],
      "metadata": {
        "id": "4PQVQpvjLtJ9"
      }
    },
    {
      "cell_type": "code",
      "source": [
        "\"ana\" = \"ana\" # isso é um palíndromo\n",
        "\"joao\"= \"oaoj\"# isso não é um palíndromo"
      ],
      "metadata": {
        "id": "_KSCTkjnmex7"
      },
      "execution_count": null,
      "outputs": []
    },
    {
      "cell_type": "code",
      "source": [
        "def is_palindrome(palavra):\n",
        "    if palavra.lower() == inverso(palavra.lower()):\n",
        "        return print(f\"palavra {palavra.lower()} é igual a {inverso(palavra.lower())}\")\n",
        "    else:\n",
        "        return False\n",
        "\n",
        "is_palindrome(\"renner\")"
      ],
      "metadata": {
        "id": "OQqRGPJsQQeH",
        "colab": {
          "base_uri": "https://localhost:8080/"
        },
        "outputId": "6a04a0cf-9c71-47fe-a28e-d95aed0b016a"
      },
      "execution_count": null,
      "outputs": [
        {
          "output_type": "stream",
          "name": "stdout",
          "text": [
            "palavra renner é igual a renner\n"
          ]
        }
      ]
    },
    {
      "cell_type": "code",
      "source": [
        "def e_palindromo(palavra):\n",
        "    if palavra.lower() == inverso(palavra.lower()):\n",
        "        return True\n",
        "    else:\n",
        "        return False"
      ],
      "metadata": {
        "id": "rZpvV8EW4gOw"
      },
      "execution_count": null,
      "outputs": []
    },
    {
      "cell_type": "code",
      "source": [
        "e_palindromo(\"renner\")"
      ],
      "metadata": {
        "colab": {
          "base_uri": "https://localhost:8080/"
        },
        "id": "DzodfUpnufi7",
        "outputId": "3a279ca8-6464-457b-ee36-a8a2c6b941ff"
      },
      "execution_count": null,
      "outputs": [
        {
          "output_type": "execute_result",
          "data": {
            "text/plain": [
              "True"
            ]
          },
          "metadata": {},
          "execution_count": 94
        }
      ]
    },
    {
      "cell_type": "markdown",
      "metadata": {
        "id": "Vfc33ya6SU0a"
      },
      "source": [
        "4) Faça uma função max lista que faz a mesma coisa que a funcão _max_ faz ao receber uma lista"
      ]
    },
    {
      "cell_type": "code",
      "source": [
        "def max_lista(lista):\n",
        "  max_atual = lista[0]\n",
        "  for element in lista[1:]:\n",
        "    if element > max_atual:\n",
        "      max_atual = element\n",
        "  return max_atual\n"
      ],
      "metadata": {
        "id": "xbWq-qCYQ7ba"
      },
      "execution_count": 2,
      "outputs": []
    },
    {
      "cell_type": "code",
      "source": [
        "max_lista([1,2,3,4,5,6,4939,38485,39393939393])"
      ],
      "metadata": {
        "colab": {
          "base_uri": "https://localhost:8080/"
        },
        "id": "2yD9xQzqMODa",
        "outputId": "fa9be9fb-5690-4d1f-e21d-5023e8380e36"
      },
      "execution_count": 3,
      "outputs": [
        {
          "output_type": "execute_result",
          "data": {
            "text/plain": [
              "39393939393"
            ]
          },
          "metadata": {},
          "execution_count": 3
        }
      ]
    }
  ],
  "metadata": {
    "kernelspec": {
      "display_name": "Python 3",
      "language": "python",
      "name": "python3"
    },
    "language_info": {
      "codemirror_mode": {
        "name": "ipython",
        "version": 3
      },
      "file_extension": ".py",
      "mimetype": "text/x-python",
      "name": "python",
      "nbconvert_exporter": "python",
      "pygments_lexer": "ipython3",
      "version": "3.8.5"
    },
    "varInspector": {
      "cols": {
        "lenName": 16,
        "lenType": 16,
        "lenVar": 40
      },
      "kernels_config": {
        "python": {
          "delete_cmd_postfix": "",
          "delete_cmd_prefix": "del ",
          "library": "var_list.py",
          "varRefreshCmd": "print(var_dic_list())"
        },
        "r": {
          "delete_cmd_postfix": ") ",
          "delete_cmd_prefix": "rm(",
          "library": "var_list.r",
          "varRefreshCmd": "cat(var_dic_list()) "
        }
      },
      "types_to_exclude": [
        "module",
        "function",
        "builtin_function_or_method",
        "instance",
        "_Feature"
      ],
      "window_display": false
    },
    "colab": {
      "provenance": [],
      "include_colab_link": true
    }
  },
  "nbformat": 4,
  "nbformat_minor": 0
}