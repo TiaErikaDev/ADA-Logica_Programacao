{
  "cells": [
    {
      "cell_type": "markdown",
      "metadata": {
        "id": "view-in-github",
        "colab_type": "text"
      },
      "source": [
        "<a href=\"https://colab.research.google.com/github/TiaErikaDev/ADA-Logica_Programacao/blob/main/Aula09_Funcoes_com_funcoes_parametros_de_funcoes.ipynb\" target=\"_parent\"><img src=\"https://colab.research.google.com/assets/colab-badge.svg\" alt=\"Open In Colab\"/></a>"
      ]
    },
    {
      "cell_type": "markdown",
      "source": [
        "#Vamos relembrar alguns conceitos sobre funções"
      ],
      "metadata": {
        "id": "-Vr_srev4eS2"
      }
    },
    {
      "cell_type": "markdown",
      "source": [
        "Uma função é um objeto utilizado para **fazer determinadas ações**.\n",
        "\n",
        "<br>\n",
        "\n",
        "Podemos pensar como uma máquina que quando inserimos argumentos nos seus parâmetros faz algo e pode ou não retornar algo"
      ],
      "metadata": {
        "id": "eV7n2RMz4eS2"
      }
    },
    {
      "cell_type": "code",
      "source": [
        "def nome_da_funcao(parametro_1=\"argumento_1\"):\n",
        "  instrucoes = str(parametro_1) + \". instrucao aplicada!\"\n",
        "  saida = \"saída: \" + instrucoes\n",
        "  return saida\n"
      ],
      "metadata": {
        "id": "-6eFPJHN4oSy"
      },
      "execution_count": null,
      "outputs": []
    },
    {
      "cell_type": "code",
      "source": [
        "nome_da_funcao(\"meu argumento\")"
      ],
      "metadata": {
        "colab": {
          "base_uri": "https://localhost:8080/",
          "height": 35
        },
        "id": "qupJu6qT4oVk",
        "outputId": "c7490317-937d-44c9-bed6-5172da6d20b4"
      },
      "execution_count": null,
      "outputs": [
        {
          "output_type": "execute_result",
          "data": {
            "text/plain": [
              "'saída: meu argumento. instrucao aplicada!'"
            ],
            "application/vnd.google.colaboratory.intrinsic+json": {
              "type": "string"
            }
          },
          "metadata": {},
          "execution_count": 4
        }
      ]
    },
    {
      "cell_type": "markdown",
      "source": [
        "O que fizemos acima é:\n",
        "\n",
        "- usamos \"def\" para deixar claro para o Python que estamos **definindo** uma função;\n",
        "- Depois, demos um **nome** para nossa função;\n",
        "- Em parênteses, determinamos quais serão os **parâmetros** que quando a função for utilizada será \"preenchida\" pelos argumentos -- esses são os inputs, e em python, esses elementos podem ser opcionais!\n",
        "- Depois, realizamos uma série de instruções. Nesse caso, concatenamos dois textos.\n",
        "- Ao fim, dizemos o que a função irá **retornar** -- esses são os outputs, e em Python esse elemento pode ser opcional!"
      ],
      "metadata": {
        "id": "mJIOb-0R4eS3"
      }
    },
    {
      "cell_type": "markdown",
      "source": [
        "Importante lembrar que as variáveis criadas dentro da função como padrão ficarão dentro do escopo da função. Isto é, não serão salvas se você chama-las fora"
      ],
      "metadata": {
        "id": "f3pY4K_p4eS3"
      }
    },
    {
      "cell_type": "markdown",
      "source": [
        "# Funções com funções"
      ],
      "metadata": {
        "id": "-RvyHw98cl0V"
      }
    },
    {
      "cell_type": "markdown",
      "source": [
        "Uma função, assim como outras \"informações\" que aprendemos, também consegue ser atribuída a uma variável.\n",
        "\n",
        "```python\n",
        "var1 = 2\n",
        "var2 = sum\n",
        "```\n",
        "\n",
        "As funções também conseguem ser passadas como argumento para outras funções. Essa combinação entre funções pode ser útil quando queremos executar uma mesma sequência de passos"
      ],
      "metadata": {
        "id": "cBgGm21sc2Yp"
      }
    },
    {
      "cell_type": "markdown",
      "source": [
        "vamos a um exemplo"
      ],
      "metadata": {
        "id": "gjI9wfWkgUOY"
      }
    },
    {
      "cell_type": "code",
      "source": [
        "nome_da_funcao(\"meu argumento\")"
      ],
      "metadata": {
        "colab": {
          "base_uri": "https://localhost:8080/",
          "height": 35
        },
        "id": "vkuSv9Ho4vJS",
        "outputId": "eb516b4b-bf06-4704-a3ad-b62cda26a1b0"
      },
      "execution_count": null,
      "outputs": [
        {
          "output_type": "execute_result",
          "data": {
            "text/plain": [
              "'saída: meu argumento. instrucao aplicada!'"
            ],
            "application/vnd.google.colaboratory.intrinsic+json": {
              "type": "string"
            }
          },
          "metadata": {},
          "execution_count": 7
        }
      ]
    },
    {
      "cell_type": "code",
      "source": [
        "nome_da_funcao"
      ],
      "metadata": {
        "colab": {
          "base_uri": "https://localhost:8080/"
        },
        "id": "XpbdouJdqnB2",
        "outputId": "96400c35-4196-4e58-8684-772f37220cd1"
      },
      "execution_count": null,
      "outputs": [
        {
          "output_type": "execute_result",
          "data": {
            "text/plain": [
              "<function __main__.nome_da_funcao(parametro_1='argumento_1')>"
            ]
          },
          "metadata": {},
          "execution_count": 10
        }
      ]
    },
    {
      "cell_type": "code",
      "source": [
        "def minha_funcao(n):\n",
        "  return n\n",
        "\n",
        "minha_funcao(5)"
      ],
      "metadata": {
        "colab": {
          "base_uri": "https://localhost:8080/"
        },
        "id": "7qfFMgd54vRf",
        "outputId": "7446f12d-542d-46f5-acdc-d173c454ff34"
      },
      "execution_count": null,
      "outputs": [
        {
          "output_type": "execute_result",
          "data": {
            "text/plain": [
              "5"
            ]
          },
          "metadata": {},
          "execution_count": 13
        }
      ]
    },
    {
      "cell_type": "code",
      "source": [
        "minha_funcao()"
      ],
      "metadata": {
        "colab": {
          "base_uri": "https://localhost:8080/",
          "height": 166
        },
        "id": "_cIgGWyu4vYZ",
        "outputId": "3e0b02ec-2c20-431d-c915-3e00069dda38"
      },
      "execution_count": null,
      "outputs": [
        {
          "output_type": "error",
          "ename": "TypeError",
          "evalue": "ignored",
          "traceback": [
            "\u001b[0;31m---------------------------------------------------------------------------\u001b[0m",
            "\u001b[0;31mTypeError\u001b[0m                                 Traceback (most recent call last)",
            "\u001b[0;32m<ipython-input-14-89122eda3537>\u001b[0m in \u001b[0;36m<module>\u001b[0;34m\u001b[0m\n\u001b[0;32m----> 1\u001b[0;31m \u001b[0mminha_funcao\u001b[0m\u001b[0;34m(\u001b[0m\u001b[0;34m)\u001b[0m\u001b[0;34m\u001b[0m\u001b[0;34m\u001b[0m\u001b[0m\n\u001b[0m",
            "\u001b[0;31mTypeError\u001b[0m: minha_funcao() missing 1 required positional argument: 'n'"
          ]
        }
      ]
    },
    {
      "cell_type": "code",
      "source": [
        "type(minha_funcao)"
      ],
      "metadata": {
        "colab": {
          "base_uri": "https://localhost:8080/"
        },
        "id": "1mtqfKee4veg",
        "outputId": "8fc472bb-fffe-438a-d5f1-ec6ff19be6f3"
      },
      "execution_count": null,
      "outputs": [
        {
          "output_type": "execute_result",
          "data": {
            "text/plain": [
              "function"
            ]
          },
          "metadata": {},
          "execution_count": 18
        }
      ]
    },
    {
      "cell_type": "code",
      "source": [
        "def minha_outra_funcao(numero,funcao):\n",
        "  return funcao(numero) * numero\n",
        "\n",
        "\n",
        "minha_outra_funcao(3,minha_funcao)"
      ],
      "metadata": {
        "colab": {
          "base_uri": "https://localhost:8080/"
        },
        "id": "OCDpfxVk4vjR",
        "outputId": "73b5bda0-bea9-43c8-c4ef-1076d2a5bbf3"
      },
      "execution_count": null,
      "outputs": [
        {
          "output_type": "execute_result",
          "data": {
            "text/plain": [
              "12"
            ]
          },
          "metadata": {},
          "execution_count": 23
        }
      ]
    },
    {
      "cell_type": "markdown",
      "source": [
        "vamos a outro exemplo:"
      ],
      "metadata": {
        "id": "vHIMDX5Sk--W"
      }
    },
    {
      "cell_type": "code",
      "source": [
        "def soma(a,b):\n",
        "  return a + b\n",
        "\n",
        "def multiplicacao(a,b):\n",
        "  return a * b\n",
        "\n"
      ],
      "metadata": {
        "id": "_MKc7zMq4yA7"
      },
      "execution_count": null,
      "outputs": []
    },
    {
      "cell_type": "code",
      "source": [
        "def cumulativo(inicial, quantidade, operacao):\n",
        "  contador = 1\n",
        "  acumulado = inicial\n",
        "  while contador <= quantidade:\n",
        "    acumulado = operacao(acumulado, contador)\n",
        "    contador += 1\n",
        "  return acumulado\n",
        "\n",
        "\n",
        "cumulativo(0,2,soma)"
      ],
      "metadata": {
        "colab": {
          "base_uri": "https://localhost:8080/"
        },
        "id": "B41KPQeX4yIk",
        "outputId": "94b30604-4fe7-4c6b-9493-955336002ab8"
      },
      "execution_count": null,
      "outputs": [
        {
          "output_type": "execute_result",
          "data": {
            "text/plain": [
              "3"
            ]
          },
          "metadata": {},
          "execution_count": 25
        }
      ]
    },
    {
      "cell_type": "code",
      "source": [
        "cumulativo(1,4,soma)"
      ],
      "metadata": {
        "colab": {
          "base_uri": "https://localhost:8080/"
        },
        "id": "D6C4eaQn4yP5",
        "outputId": "dc37d231-3cd1-4e10-ac68-9174d970e250"
      },
      "execution_count": null,
      "outputs": [
        {
          "output_type": "execute_result",
          "data": {
            "text/plain": [
              "11"
            ]
          },
          "metadata": {},
          "execution_count": 26
        }
      ]
    },
    {
      "cell_type": "code",
      "source": [
        "cumulativo(1,3,multiplicacao)"
      ],
      "metadata": {
        "colab": {
          "base_uri": "https://localhost:8080/"
        },
        "id": "eRKVem-14yWf",
        "outputId": "05f2a6a4-c88a-4af9-f8d9-2ec2cb02c59c"
      },
      "execution_count": null,
      "outputs": [
        {
          "output_type": "execute_result",
          "data": {
            "text/plain": [
              "6"
            ]
          },
          "metadata": {},
          "execution_count": 27
        }
      ]
    },
    {
      "cell_type": "markdown",
      "source": [
        "vamos a outro exemplo"
      ],
      "metadata": {
        "id": "EOah0SvyvMtS"
      }
    },
    {
      "cell_type": "code",
      "source": [
        "def soma(a,b):\n",
        "  return a + b\n",
        "\n",
        "def subtracao(a,b):\n",
        "  return a - b\n",
        "\n",
        "def multiplicacao(a,b):\n",
        "  return a * b\n",
        "\n",
        "def divisao(a,b):\n",
        "  return a / b\n"
      ],
      "metadata": {
        "id": "DRN21T7W4zay"
      },
      "execution_count": null,
      "outputs": []
    },
    {
      "cell_type": "code",
      "source": [
        "def operador_para_funcao(operador):\n",
        "  if operador == \"+\":\n",
        "    return soma\n",
        "  elif operador == \"-\":\n",
        "    return subtracao\n",
        "  elif operador == \"*\":\n",
        "    return multiplicacao\n",
        "  else:\n",
        "    return divisao\n",
        "\n"
      ],
      "metadata": {
        "id": "QCtO-ko94zlA"
      },
      "execution_count": null,
      "outputs": []
    },
    {
      "cell_type": "code",
      "source": [
        "sum((1,2,3))"
      ],
      "metadata": {
        "colab": {
          "base_uri": "https://localhost:8080/"
        },
        "id": "5X_k6GUExokh",
        "outputId": "9d07ed64-9978-457d-d6f6-4529d1b5f304"
      },
      "execution_count": null,
      "outputs": [
        {
          "output_type": "execute_result",
          "data": {
            "text/plain": [
              "6"
            ]
          },
          "metadata": {},
          "execution_count": 63
        }
      ]
    },
    {
      "cell_type": "code",
      "source": [
        "soma"
      ],
      "metadata": {
        "colab": {
          "base_uri": "https://localhost:8080/"
        },
        "id": "rBkhTaHCv2mL",
        "outputId": "895b6126-c870-4b76-c3eb-67a254332a6d"
      },
      "execution_count": null,
      "outputs": [
        {
          "output_type": "execute_result",
          "data": {
            "text/plain": [
              "<function __main__.soma(a=3, b=2)>"
            ]
          },
          "metadata": {},
          "execution_count": 46
        }
      ]
    },
    {
      "cell_type": "code",
      "source": [
        "operador_para_funcao(\"+\")(3,2)"
      ],
      "metadata": {
        "colab": {
          "base_uri": "https://localhost:8080/"
        },
        "id": "LI-D6UBTvrRb",
        "outputId": "278fd591-fe6e-4bac-bf27-28c6669df231"
      },
      "execution_count": null,
      "outputs": [
        {
          "output_type": "execute_result",
          "data": {
            "text/plain": [
              "5"
            ]
          },
          "metadata": {},
          "execution_count": 64
        }
      ]
    },
    {
      "cell_type": "markdown",
      "source": [
        "Como vimos:\n",
        "- As funções se passadas sem parênteses () podem ser utilizadas (sem necessariamente executa-las) dentro de outras funções.\n",
        "\n",
        "- Conseguimos passar uma função como argumento e utiliza-la dentro da função"
      ],
      "metadata": {
        "id": "fkOD5g_AwmLN"
      }
    },
    {
      "cell_type": "markdown",
      "source": [
        "## função filter()"
      ],
      "metadata": {
        "id": "_JsOqvUbxYMq"
      }
    },
    {
      "cell_type": "markdown",
      "source": [
        "documentação: https://docs.python.org/3/library/functions.html#filter"
      ],
      "metadata": {
        "id": "vWcqv7Rm4iIQ"
      }
    },
    {
      "cell_type": "code",
      "source": [
        "3 % 2"
      ],
      "metadata": {
        "colab": {
          "base_uri": "https://localhost:8080/"
        },
        "id": "za6N7YfX0Vhs",
        "outputId": "2fb2adcf-66d1-463e-fbec-aa927203df31"
      },
      "execution_count": null,
      "outputs": [
        {
          "output_type": "execute_result",
          "data": {
            "text/plain": [
              "1"
            ]
          },
          "metadata": {},
          "execution_count": 69
        }
      ]
    },
    {
      "cell_type": "code",
      "source": [
        "if 3 % 2:\n",
        "  print(\"verdadeiro\")"
      ],
      "metadata": {
        "colab": {
          "base_uri": "https://localhost:8080/"
        },
        "id": "7fywkbAP0p99",
        "outputId": "6d6e1bcd-5834-41c3-bd25-47be83a20e74"
      },
      "execution_count": null,
      "outputs": [
        {
          "output_type": "stream",
          "name": "stdout",
          "text": [
            "verdadeiro\n"
          ]
        }
      ]
    },
    {
      "cell_type": "code",
      "source": [
        "string_exemplo = \"uma frase aleatória\"\n",
        "string_exemplo[:11]"
      ],
      "metadata": {
        "colab": {
          "base_uri": "https://localhost:8080/",
          "height": 35
        },
        "id": "vuFvetpPIR3K",
        "outputId": "3ff78f3d-bed9-48d3-f469-37a5eb974f9b"
      },
      "execution_count": null,
      "outputs": [
        {
          "output_type": "execute_result",
          "data": {
            "text/plain": [
              "'uma frase a'"
            ],
            "application/vnd.google.colaboratory.intrinsic+json": {
              "type": "string"
            }
          },
          "metadata": {},
          "execution_count": 119
        }
      ]
    },
    {
      "cell_type": "code",
      "source": [
        "# outro exemplo utilizando strings\n",
        "def string_pequena(n):\n",
        "  if len(n) > 10:\n",
        "    return False\n",
        "  else:\n",
        "    return True\n",
        "  \n",
        "\n",
        "\n",
        "\n",
        "lista = [\"oi\",\"olá\",\"olá tudo bem com você?\"]\n",
        "\n",
        "list(filter(string_pequena,lista))"
      ],
      "metadata": {
        "colab": {
          "base_uri": "https://localhost:8080/"
        },
        "id": "ATsmb4Y4ILjb",
        "outputId": "035332eb-3775-4ca4-86b1-4921cdb647cb"
      },
      "execution_count": null,
      "outputs": [
        {
          "output_type": "execute_result",
          "data": {
            "text/plain": [
              "['oi', 'olá']"
            ]
          },
          "metadata": {},
          "execution_count": 122
        }
      ]
    },
    {
      "cell_type": "code",
      "source": [
        "def is_impar(n):\n",
        "  if n % 2 == 1:\n",
        "    return True\n",
        "  else:\n",
        "    return False\n",
        "\n",
        "is_impar(2)\n",
        "\n",
        "lista = [1,2,3,4]\n",
        "\n",
        "filter(is_impar,lista)"
      ],
      "metadata": {
        "id": "m8U83tFKxa86",
        "colab": {
          "base_uri": "https://localhost:8080/"
        },
        "outputId": "a6c895db-ed36-4860-b2ca-8b7894d8a3c4"
      },
      "execution_count": null,
      "outputs": [
        {
          "output_type": "execute_result",
          "data": {
            "text/plain": [
              "<filter at 0x7f3ece590110>"
            ]
          },
          "metadata": {},
          "execution_count": 82
        }
      ]
    },
    {
      "cell_type": "code",
      "source": [
        "tuple(filter(is_impar,lista))"
      ],
      "metadata": {
        "colab": {
          "base_uri": "https://localhost:8080/"
        },
        "id": "C3GqG_Me13Uo",
        "outputId": "86596d8a-ae48-4f87-ded2-5a4f2745f107"
      },
      "execution_count": null,
      "outputs": [
        {
          "output_type": "execute_result",
          "data": {
            "text/plain": [
              "(1, 3)"
            ]
          },
          "metadata": {},
          "execution_count": 83
        }
      ]
    },
    {
      "cell_type": "code",
      "source": [
        "for element in filter(is_impar,lista):\n",
        "  print(element)"
      ],
      "metadata": {
        "colab": {
          "base_uri": "https://localhost:8080/"
        },
        "id": "E8TCqgym19dO",
        "outputId": "3541f7dc-ac34-4013-8607-8f7b616f82c0"
      },
      "execution_count": null,
      "outputs": [
        {
          "output_type": "stream",
          "name": "stdout",
          "text": [
            "1\n",
            "3\n"
          ]
        }
      ]
    },
    {
      "cell_type": "code",
      "source": [
        "is_impar(3)\n",
        "#guardar essa informação: 1\n",
        "#guardar essa informação: 3"
      ],
      "metadata": {
        "colab": {
          "base_uri": "https://localhost:8080/"
        },
        "id": "qt_U14lU1gbB",
        "outputId": "61e05ddf-22c4-40f8-d1ce-5e6674a53456"
      },
      "execution_count": null,
      "outputs": [
        {
          "output_type": "execute_result",
          "data": {
            "text/plain": [
              "True"
            ]
          },
          "metadata": {},
          "execution_count": 80
        }
      ]
    },
    {
      "cell_type": "markdown",
      "source": [
        "## função map()"
      ],
      "metadata": {
        "id": "eHESMeePwkAy"
      }
    },
    {
      "cell_type": "markdown",
      "source": [
        "links úteis:\n",
        "- https://docs.python.org/3/library/functions.html#map\n",
        "- https://www.geeksforgeeks.org/python-map-function/\n"
      ],
      "metadata": {
        "id": "XuZ2yXbayH83"
      }
    },
    {
      "cell_type": "code",
      "source": [
        "def quadrado(n):\n",
        "  return n ** 2\n",
        "\n",
        "var1 = map(quadrado,[1,2,3,4])"
      ],
      "metadata": {
        "id": "dG4u4HMq45u8"
      },
      "execution_count": null,
      "outputs": []
    },
    {
      "cell_type": "code",
      "source": [
        "tuple(var1)"
      ],
      "metadata": {
        "colab": {
          "base_uri": "https://localhost:8080/"
        },
        "id": "R5OuWZdj4jSZ",
        "outputId": "57cba15e-7ee0-4c87-82c9-9cf0c13f2d23"
      },
      "execution_count": null,
      "outputs": [
        {
          "output_type": "execute_result",
          "data": {
            "text/plain": [
              "(1, 4, 9, 16)"
            ]
          },
          "metadata": {},
          "execution_count": 94
        }
      ]
    },
    {
      "cell_type": "code",
      "source": [
        "\n",
        "list(map(quadrado,[1,2,3,4]))"
      ],
      "metadata": {
        "colab": {
          "base_uri": "https://localhost:8080/"
        },
        "id": "8fE_xasP452K",
        "outputId": "c63824cb-30de-4240-fcdf-80fb0b3ce571"
      },
      "execution_count": null,
      "outputs": [
        {
          "output_type": "execute_result",
          "data": {
            "text/plain": [
              "[1, 4, 9, 16]"
            ]
          },
          "metadata": {},
          "execution_count": 88
        }
      ]
    },
    {
      "cell_type": "code",
      "source": [
        "for element in map(quadrado, [1,2,3,4]):\n",
        "  print(element)"
      ],
      "metadata": {
        "colab": {
          "base_uri": "https://localhost:8080/"
        },
        "id": "ZWHuoBJ_4585",
        "outputId": "9671a1ed-6d31-4c79-ca75-51109146bef0"
      },
      "execution_count": null,
      "outputs": [
        {
          "output_type": "stream",
          "name": "stdout",
          "text": [
            "1\n",
            "4\n",
            "9\n",
            "16\n"
          ]
        }
      ]
    },
    {
      "cell_type": "code",
      "source": [
        "list(map(quadrado,[1,2,3,4],[2,3,4,5]))"
      ],
      "metadata": {
        "colab": {
          "base_uri": "https://localhost:8080/",
          "height": 166
        },
        "id": "3T2zEctA46B5",
        "outputId": "998d4be0-713e-4c7a-f536-5e6740d50d7b"
      },
      "execution_count": null,
      "outputs": [
        {
          "output_type": "error",
          "ename": "TypeError",
          "evalue": "ignored",
          "traceback": [
            "\u001b[0;31m---------------------------------------------------------------------------\u001b[0m",
            "\u001b[0;31mTypeError\u001b[0m                                 Traceback (most recent call last)",
            "\u001b[0;32m<ipython-input-99-fd9a1877f07e>\u001b[0m in \u001b[0;36m<module>\u001b[0;34m\u001b[0m\n\u001b[0;32m----> 1\u001b[0;31m \u001b[0mlist\u001b[0m\u001b[0;34m(\u001b[0m\u001b[0mmap\u001b[0m\u001b[0;34m(\u001b[0m\u001b[0mquadrado\u001b[0m\u001b[0;34m,\u001b[0m\u001b[0;34m[\u001b[0m\u001b[0;36m1\u001b[0m\u001b[0;34m,\u001b[0m\u001b[0;36m2\u001b[0m\u001b[0;34m,\u001b[0m\u001b[0;36m3\u001b[0m\u001b[0;34m,\u001b[0m\u001b[0;36m4\u001b[0m\u001b[0;34m]\u001b[0m\u001b[0;34m,\u001b[0m\u001b[0;34m[\u001b[0m\u001b[0;36m2\u001b[0m\u001b[0;34m,\u001b[0m\u001b[0;36m3\u001b[0m\u001b[0;34m,\u001b[0m\u001b[0;36m4\u001b[0m\u001b[0;34m,\u001b[0m\u001b[0;36m5\u001b[0m\u001b[0;34m]\u001b[0m\u001b[0;34m)\u001b[0m\u001b[0;34m)\u001b[0m\u001b[0;34m\u001b[0m\u001b[0;34m\u001b[0m\u001b[0m\n\u001b[0m",
            "\u001b[0;31mTypeError\u001b[0m: quadrado() takes 1 positional argument but 2 were given"
          ]
        }
      ]
    },
    {
      "cell_type": "code",
      "source": [
        "def potencia(base, expoente):\n",
        "  return base ** expoente\n",
        "\n",
        "lista = [1,2,3,4]\n",
        "lista2 = [2,2,3,3]\n",
        "\n",
        "list(map(potencia,lista,lista2))"
      ],
      "metadata": {
        "colab": {
          "base_uri": "https://localhost:8080/"
        },
        "id": "WFR5Woq690qD",
        "outputId": "cc6d349d-ace3-45fb-85c1-0ad290ef5e5c"
      },
      "execution_count": null,
      "outputs": [
        {
          "output_type": "execute_result",
          "data": {
            "text/plain": [
              "[1, 4, 27, 64]"
            ]
          },
          "metadata": {},
          "execution_count": 104
        }
      ]
    },
    {
      "cell_type": "code",
      "source": [
        "def potencia(base, expoente):\n",
        "  return base ** expoente\n",
        "\n",
        "lista = [1,2,3,4]\n",
        "lista2 = [2,2,3]\n",
        "\n",
        "list(map(potencia,lista,lista2))"
      ],
      "metadata": {
        "colab": {
          "base_uri": "https://localhost:8080/"
        },
        "id": "ZcKZyQOX9idR",
        "outputId": "7227eeb7-4741-4274-cd32-8e703ea1752d"
      },
      "execution_count": null,
      "outputs": [
        {
          "output_type": "execute_result",
          "data": {
            "text/plain": [
              "[1, 4, 27]"
            ]
          },
          "metadata": {},
          "execution_count": 105
        }
      ]
    },
    {
      "cell_type": "markdown",
      "source": [
        "## função reduce()"
      ],
      "metadata": {
        "id": "PuZteKs1xbcQ"
      }
    },
    {
      "cell_type": "markdown",
      "source": [
        "documentação: https://docs.python.org/3/library/functools.html"
      ],
      "metadata": {
        "id": "tCw_PDLu5RQD"
      }
    },
    {
      "cell_type": "markdown",
      "source": [
        "imagem ilustrativa do que acontece com o reduce() : https://editor.analyticsvidhya.com/uploads/57493Untitled.png"
      ],
      "metadata": {
        "id": "xZhEP1vbB855"
      }
    },
    {
      "cell_type": "markdown",
      "source": [
        "vamos fazer algo um pouco diferente dessa vez, vamos importar (import) algo de uma biblioteca biblioteca, mais especificamente a função reduce dessa biblioteca."
      ],
      "metadata": {
        "id": "4fUaBEvE5V1r"
      }
    },
    {
      "cell_type": "code",
      "source": [
        "from functools import reduce\n",
        "\n",
        "def subtracao(x,y):\n",
        "  return x-y\n",
        "\n",
        "reduce(subtracao,[3,2,1])"
      ],
      "metadata": {
        "id": "VuC4-pzb5VA0",
        "colab": {
          "base_uri": "https://localhost:8080/"
        },
        "outputId": "11ad0d4b-4125-489f-9820-9af1640fcc58"
      },
      "execution_count": null,
      "outputs": [
        {
          "output_type": "execute_result",
          "data": {
            "text/plain": [
              "0"
            ]
          },
          "metadata": {},
          "execution_count": 114
        }
      ]
    },
    {
      "cell_type": "code",
      "source": [
        "# como podemos ver, a função espera 3 argumentos. mas o reduce só passa de 2 argumentos em 2 argumentos\n",
        "def subtracao(x,y,z):\n",
        "  return x-y\n",
        "\n",
        "reduce(subtracao,[3,2,1])"
      ],
      "metadata": {
        "colab": {
          "base_uri": "https://localhost:8080/",
          "height": 201
        },
        "id": "h7QJ6QR_48w8",
        "outputId": "1d3698ce-061f-4057-dbbd-304c05fad8a2"
      },
      "execution_count": null,
      "outputs": [
        {
          "output_type": "error",
          "ename": "TypeError",
          "evalue": "ignored",
          "traceback": [
            "\u001b[0;31m---------------------------------------------------------------------------\u001b[0m",
            "\u001b[0;31mTypeError\u001b[0m                                 Traceback (most recent call last)",
            "\u001b[0;32m<ipython-input-116-0477d84b1930>\u001b[0m in \u001b[0;36m<module>\u001b[0;34m\u001b[0m\n\u001b[1;32m      3\u001b[0m   \u001b[0;32mreturn\u001b[0m \u001b[0mx\u001b[0m\u001b[0;34m-\u001b[0m\u001b[0my\u001b[0m\u001b[0;34m\u001b[0m\u001b[0;34m\u001b[0m\u001b[0m\n\u001b[1;32m      4\u001b[0m \u001b[0;34m\u001b[0m\u001b[0m\n\u001b[0;32m----> 5\u001b[0;31m \u001b[0mreduce\u001b[0m\u001b[0;34m(\u001b[0m\u001b[0msubtracao\u001b[0m\u001b[0;34m,\u001b[0m\u001b[0;34m[\u001b[0m\u001b[0;36m3\u001b[0m\u001b[0;34m,\u001b[0m\u001b[0;36m2\u001b[0m\u001b[0;34m,\u001b[0m\u001b[0;36m1\u001b[0m\u001b[0;34m]\u001b[0m\u001b[0;34m)\u001b[0m\u001b[0;34m\u001b[0m\u001b[0;34m\u001b[0m\u001b[0m\n\u001b[0m",
            "\u001b[0;31mTypeError\u001b[0m: subtracao() missing 1 required positional argument: 'z'"
          ]
        }
      ]
    },
    {
      "cell_type": "code",
      "source": [
        "# como podemos ver, a função espera 3 argumentos. mas o reduce só passa de 2 argumentos em 2 argumentos\n",
        "def subtracao(x):\n",
        "  return x\n",
        "\n",
        "reduce(subtracao,[3,2,1])"
      ],
      "metadata": {
        "colab": {
          "base_uri": "https://localhost:8080/",
          "height": 201
        },
        "id": "R7cBx1Kl481g",
        "outputId": "d28828c0-ec37-40c7-dece-a965d02ff1aa"
      },
      "execution_count": null,
      "outputs": [
        {
          "output_type": "error",
          "ename": "TypeError",
          "evalue": "ignored",
          "traceback": [
            "\u001b[0;31m---------------------------------------------------------------------------\u001b[0m",
            "\u001b[0;31mTypeError\u001b[0m                                 Traceback (most recent call last)",
            "\u001b[0;32m<ipython-input-117-705b024c8353>\u001b[0m in \u001b[0;36m<module>\u001b[0;34m\u001b[0m\n\u001b[1;32m      3\u001b[0m   \u001b[0;32mreturn\u001b[0m \u001b[0mx\u001b[0m\u001b[0;34m\u001b[0m\u001b[0;34m\u001b[0m\u001b[0m\n\u001b[1;32m      4\u001b[0m \u001b[0;34m\u001b[0m\u001b[0m\n\u001b[0;32m----> 5\u001b[0;31m \u001b[0mreduce\u001b[0m\u001b[0;34m(\u001b[0m\u001b[0msubtracao\u001b[0m\u001b[0;34m,\u001b[0m\u001b[0;34m[\u001b[0m\u001b[0;36m3\u001b[0m\u001b[0;34m,\u001b[0m\u001b[0;36m2\u001b[0m\u001b[0;34m,\u001b[0m\u001b[0;36m1\u001b[0m\u001b[0;34m]\u001b[0m\u001b[0;34m)\u001b[0m\u001b[0;34m\u001b[0m\u001b[0;34m\u001b[0m\u001b[0m\n\u001b[0m",
            "\u001b[0;31mTypeError\u001b[0m: subtracao() takes 1 positional argument but 2 were given"
          ]
        }
      ]
    },
    {
      "cell_type": "code",
      "source": [
        "from functools import reduce\n",
        "\n",
        "n = int(input(\"Digite um número: \"))\n",
        "\n",
        "def produto(x,y):\n",
        "  return x*y\n",
        "\n",
        "# se n = 3\n",
        "# range = [1,2,3]\n",
        "# primeira coisa que reduce faz: [1*2, 3] = [2,3]\n",
        "# depois ele faz: [2*3] = 6\n",
        "\n",
        "reduce(produto, range(1,n+1,1))"
      ],
      "metadata": {
        "colab": {
          "base_uri": "https://localhost:8080/"
        },
        "id": "cuGo_oFRJxr1",
        "outputId": "bf7a59f0-b940-407f-bb82-39790c74af2b"
      },
      "execution_count": null,
      "outputs": [
        {
          "name": "stdout",
          "output_type": "stream",
          "text": [
            "Digite um número: 3\n"
          ]
        },
        {
          "output_type": "execute_result",
          "data": {
            "text/plain": [
              "6"
            ]
          },
          "metadata": {},
          "execution_count": 123
        }
      ]
    },
    {
      "cell_type": "markdown",
      "source": [
        "## Destaques aprendizado map/reduce/filter:\n",
        "\n",
        "- mais um kit de ferramentas que pode ser utilizado passando uma função dentro de outra\n",
        "- é mais 'sucinto' de escrever do que um for loop\n",
        "- pode ser bastante performático"
      ],
      "metadata": {
        "id": "Ynx5L7NzgBei"
      }
    },
    {
      "cell_type": "markdown",
      "metadata": {
        "id": "E9tjadLM4eS_"
      },
      "source": [
        "# Parâmetros de funções\n",
        "\n",
        "Quando estudamos funções, aprendemos que elas podem fornecer uma resposta (return) e  podem ter parâmetros.\n",
        "\n",
        "- Também vimos que a função poderia retornar exatamente um resultado.\n",
        "\n",
        "- Para os parâmetros: Vimos que o número de argumentos a serem passados era fixo para cada função. Um argumento para cada parâmetro que declaramos na definição da função.\n",
        "\n",
        "\n",
        "Em alguns casos, mais flexibilidade seria útil."
      ]
    },
    {
      "cell_type": "markdown",
      "source": [
        "\n",
        "## Funções com retorno múltiplo\n",
        "Vejamos um caso simples: uma função que responde os valores máximo e mínimo de uma coleção."
      ],
      "metadata": {
        "id": "hL7Ie6YL4eS_"
      }
    },
    {
      "cell_type": "code",
      "source": [
        "def min_max(colecao):\n",
        "  print(min(colecao))\n",
        "  print(max(colecao))\n",
        "\n",
        "min_max([1,2])"
      ],
      "metadata": {
        "colab": {
          "base_uri": "https://localhost:8080/"
        },
        "id": "UI-LGEXT5QXh",
        "outputId": "f273f303-4041-46d6-dedc-8bdca8ad03bd"
      },
      "execution_count": null,
      "outputs": [
        {
          "output_type": "stream",
          "name": "stdout",
          "text": [
            "1\n",
            "2\n"
          ]
        }
      ]
    },
    {
      "cell_type": "markdown",
      "source": [
        "Você pode retornar os valores separados por vírgula. \n",
        "Vamos imprimir o resultado e verificar o que acontece."
      ],
      "metadata": {
        "id": "BtII-5oc4eTA"
      }
    },
    {
      "cell_type": "code",
      "source": [
        "def min_max(colecao):\n",
        "  lista = (min(colecao), max(colecao))\n",
        "  return lista\n",
        "min_max([1,2])"
      ],
      "metadata": {
        "colab": {
          "base_uri": "https://localhost:8080/"
        },
        "id": "Gslr1uVq5RqX",
        "outputId": "475a7cc6-759d-4f39-f4a4-784df9d14b76"
      },
      "execution_count": null,
      "outputs": [
        {
          "output_type": "execute_result",
          "data": {
            "text/plain": [
              "(1, 2)"
            ]
          },
          "metadata": {},
          "execution_count": 3
        }
      ]
    },
    {
      "cell_type": "code",
      "source": [
        "def min_max(colecao):\n",
        "  return min(colecao), max(colecao)\n",
        "\n",
        "min_max([1,2])"
      ],
      "metadata": {
        "colab": {
          "base_uri": "https://localhost:8080/"
        },
        "id": "7DnesK135RtY",
        "outputId": "0008603a-f6d4-40d4-9227-5ac67b85bdd7"
      },
      "execution_count": null,
      "outputs": [
        {
          "output_type": "execute_result",
          "data": {
            "text/plain": [
              "(1, 2)"
            ]
          },
          "metadata": {},
          "execution_count": 6
        }
      ]
    },
    {
      "cell_type": "markdown",
      "source": [
        "Por que retornar uma tupla?"
      ],
      "metadata": {
        "id": "Jd4D1YSC4eTA"
      }
    },
    {
      "cell_type": "code",
      "source": [
        "# imutáveis\n",
        "# performática em consumo de memória do que as listas"
      ],
      "metadata": {
        "id": "JRCmZa-55S64"
      },
      "execution_count": null,
      "outputs": []
    },
    {
      "cell_type": "code",
      "source": [
        "menor = min_max([1,2])[0]\n",
        "maior = min_max([1,2])[1]"
      ],
      "metadata": {
        "id": "LynNK_ct5S9q"
      },
      "execution_count": null,
      "outputs": []
    },
    {
      "cell_type": "code",
      "source": [
        "maior"
      ],
      "metadata": {
        "colab": {
          "base_uri": "https://localhost:8080/"
        },
        "id": "ny3el2t14eTB",
        "outputId": "0e42300c-a973-407f-a47a-5268f32cb8c3"
      },
      "execution_count": null,
      "outputs": [
        {
          "output_type": "execute_result",
          "data": {
            "text/plain": [
              "2"
            ]
          },
          "metadata": {},
          "execution_count": 10
        }
      ]
    },
    {
      "cell_type": "markdown",
      "source": [
        "como podemos ver, conseguimos atribuir uma variável para o menor e o maior valor. mas será que não existe uma forma melhor de fazer isso?"
      ],
      "metadata": {
        "id": "NydoHKw94eTB"
      }
    },
    {
      "cell_type": "code",
      "source": [
        "menor, maior = min_max([1,2])"
      ],
      "metadata": {
        "id": "P5aVBP-_5UAS"
      },
      "execution_count": null,
      "outputs": []
    },
    {
      "cell_type": "markdown",
      "source": [
        "Por que é importante lembrarmos/sabermos isso? "
      ],
      "metadata": {
        "id": "AeggzyA54eTB"
      }
    },
    {
      "cell_type": "code",
      "source": [
        "X_train , X_test , y_train , y_test = train_test_split(X,y ...)"
      ],
      "metadata": {
        "id": "qqpfHqK24eTB"
      },
      "execution_count": null,
      "outputs": []
    },
    {
      "cell_type": "markdown",
      "metadata": {
        "id": "qZgzPcA44eTB"
      },
      "source": [
        "Vamos resumir então.\n",
        "- Quando utilizamos valores separados por vírgula em Python, os valores são agrupados em uma tupla, mesmo que não estejamos utilizando parênteses.\n",
        "- Essa informação é relevante porque podemos separar a tupla em varias variáveis usando a mesma sintaxe:"
      ]
    },
    {
      "cell_type": "markdown",
      "metadata": {
        "id": "Pq0Kyie64eTH"
      },
      "source": [
        "No exemplo acima é mais perceptível a sensação de que a função retornou 2 valores e o programa recebeu esses 2 valores individualmente. Por dentro, tupla. Por fora, retorno múltiplo."
      ]
    },
    {
      "cell_type": "markdown",
      "metadata": {
        "id": "MZ4DnTXy4eTH"
      },
      "source": [
        "## Parâmetros com valores padrão\n",
        "\n",
        "Uma primeira forma de trabalhar com a ideia de parâmetros opcionais é atribuir valores padrão para nossos parâmetros. Quando fazemos isso, quando a função for chamada, o parâmetro pode **ou** não ser passado. Caso ele não seja passado, é adotado o valor padrão.\n",
        "\n",
        "Devemos primeiro colocar os parâmetros \"comuns\" (conhecidos como _argumentos posicionais_) para depois colocar os argumentos com valor padrão. Imagine, por exemplo, uma função que padroniza _strings_ jogando todo seu conteúdo para upper ou lower. Podemos implementá-la da seguinte maneira:"
      ]
    },
    {
      "cell_type": "code",
      "source": [
        "def padroniza_string(texto, lower=True):\n",
        "  if lower:\n",
        "    return texto.lower()\n",
        "  else:\n",
        "    return texto.upper()\n",
        "\n",
        "padroniza_string(\"olá tudo BeM com Você?\", lower=False)"
      ],
      "metadata": {
        "colab": {
          "base_uri": "https://localhost:8080/",
          "height": 35
        },
        "id": "5DKieFZs5an0",
        "outputId": "d11dd956-0a1b-4c17-cb5e-8c6a584dd8c1"
      },
      "execution_count": null,
      "outputs": [
        {
          "output_type": "execute_result",
          "data": {
            "text/plain": [
              "'OLÁ TUDO BEM COM VOCÊ?'"
            ],
            "application/vnd.google.colaboratory.intrinsic+json": {
              "type": "string"
            }
          },
          "metadata": {},
          "execution_count": 15
        }
      ]
    },
    {
      "cell_type": "markdown",
      "metadata": {
        "id": "it-NF0S44eTH"
      },
      "source": [
        "## Funções com quantidade variável de parâmetros\n",
        "Talvez você já tenha notado que o _print_ é uma função. Se não notou, esse é um bom momento para pensar a respeito. Nós sempre usamos com parênteses, nós passamos informações dentro dos parênteses (os dados a serem impressos) e ele faz um monte de coisa automaticamente: converte todos os dados passados para _string_, contatena todas as _strings_ com um espaço entre elas e as escreve na tela.\n",
        "\n",
        "Algo que o _print_ tem que as nossas funções não tinham é a capacidade de receber uma quantidade variável de parâmetros. Nós podemos passar 0 dados (e, neste caso, ele apenas pulará uma linha), 1 dado, 2 dados, 3 dados... Quantos dados quisermos, separados por vírgula, e ele funcionará para todos esses casos. Se até o momento temos que declarar todos os parâmetros, como fazer para que múltiplos dados possam ser passados?"
      ]
    },
    {
      "cell_type": "markdown",
      "source": [
        "\n",
        "### Agrupando parâmetros\n",
        "A solução é utilizar o operador **\\***  que, neste caso, não será uma multiplicação.\n",
        "\n",
        "- Ao colocarmos o **\\*** ao lado do nome de um parâmetro na definição da função, estamos dizendo que aquele argumento será uma coleção. Mais especificamente, uma tupla.\n",
        " - Porém, o usuário não irá passar uma tupla. Ele irá passar quantos argumentos ele quiser (inclusive nenhum se quiser), e o Python automaticamente criará uma tupla com eles. "
      ],
      "metadata": {
        "id": "bkZHk1d34eTH"
      }
    },
    {
      "cell_type": "code",
      "source": [
        "tupla_exemplo = (1,2,3,4)"
      ],
      "metadata": {
        "id": "HGHk8yNi5dVg"
      },
      "execution_count": null,
      "outputs": []
    },
    {
      "cell_type": "code",
      "source": [
        "print(*tupla_exemplo)"
      ],
      "metadata": {
        "colab": {
          "base_uri": "https://localhost:8080/"
        },
        "id": "jg6qtvwi5dcg",
        "outputId": "94ee198b-ba0a-4a56-c01e-aa464209b418"
      },
      "execution_count": null,
      "outputs": [
        {
          "output_type": "stream",
          "name": "stdout",
          "text": [
            "1 2 3 4\n"
          ]
        }
      ]
    },
    {
      "cell_type": "code",
      "source": [
        "print(tupla_exemplo[0],tupla_exemplo[1], tupla_exemplo[2], tupla_exemplo[3])"
      ],
      "metadata": {
        "colab": {
          "base_uri": "https://localhost:8080/"
        },
        "id": "Y15SaiNcGVMG",
        "outputId": "e469b495-4213-494d-d6a5-27958b788649"
      },
      "execution_count": null,
      "outputs": [
        {
          "output_type": "stream",
          "name": "stdout",
          "text": [
            "1 2 3 4\n"
          ]
        }
      ]
    },
    {
      "cell_type": "code",
      "source": [
        "a,*b,c = (1,2,3,4,5)\n",
        "b"
      ],
      "metadata": {
        "colab": {
          "base_uri": "https://localhost:8080/"
        },
        "id": "T6ujLCh-5dje",
        "outputId": "9c33fd83-db67-4daa-f3a1-5b116d353d95"
      },
      "execution_count": null,
      "outputs": [
        {
          "output_type": "execute_result",
          "data": {
            "text/plain": [
              "[2, 3, 4]"
            ]
          },
          "metadata": {},
          "execution_count": 19
        }
      ]
    },
    {
      "cell_type": "markdown",
      "source": [
        "O que aconteceu no código que executamos acima?"
      ],
      "metadata": {
        "id": "9E03zktA4eTJ"
      }
    },
    {
      "cell_type": "markdown",
      "source": [
        "<br> <br> <br> <br> <br>\n",
        "\n",
        "Agora que aprendemos esses conceitos, vamos criar uma função que tem comportamento de receber argumentos similar ao do _print()_\n",
        "\n",
        "vamos criar uma função de somatório que pode receber uma quantidade arbitrária de números (argumentos)."
      ],
      "metadata": {
        "id": "Ay83sRub4eTJ"
      }
    },
    {
      "cell_type": "code",
      "source": [
        "var = 2\n",
        "var2 = 3\n",
        "\n",
        "var + var2"
      ],
      "metadata": {
        "colab": {
          "base_uri": "https://localhost:8080/"
        },
        "id": "9r5kmxLNHMJa",
        "outputId": "b86bcf8d-ca4d-4241-8676-a7fd3558da81"
      },
      "execution_count": null,
      "outputs": [
        {
          "output_type": "execute_result",
          "data": {
            "text/plain": [
              "5"
            ]
          },
          "metadata": {},
          "execution_count": 21
        }
      ]
    },
    {
      "cell_type": "code",
      "source": [
        "def soma(a,b):\n",
        "  return a + b\n",
        "\n",
        "soma(2,3)"
      ],
      "metadata": {
        "colab": {
          "base_uri": "https://localhost:8080/"
        },
        "id": "EYD29EpR5hYu",
        "outputId": "4d87d41b-8215-41d9-ea71-bf884306919b"
      },
      "execution_count": null,
      "outputs": [
        {
          "output_type": "execute_result",
          "data": {
            "text/plain": [
              "5"
            ]
          },
          "metadata": {},
          "execution_count": 41
        }
      ]
    },
    {
      "cell_type": "code",
      "source": [
        "def soma_lista(lista):\n",
        "  return sum(lista)\n",
        "\n",
        "lista = [1,2,3,4]\n",
        "soma_lista(lista)"
      ],
      "metadata": {
        "colab": {
          "base_uri": "https://localhost:8080/"
        },
        "id": "wE0QaOsbHWWc",
        "outputId": "7e82656a-8fbe-4e90-ecba-0cb48beece89"
      },
      "execution_count": null,
      "outputs": [
        {
          "output_type": "execute_result",
          "data": {
            "text/plain": [
              "10"
            ]
          },
          "metadata": {},
          "execution_count": 26
        }
      ]
    },
    {
      "cell_type": "code",
      "source": [
        "def soma(*numeros):\n",
        "  \n",
        "  print(numeros)\n",
        "  print(type(numeros))\n",
        "  somatorio = 0\n",
        "  for n in numeros:\n",
        "    somatorio += n\n",
        "  return somatorio\n",
        "\n",
        "soma(3,2,3,4,5)"
      ],
      "metadata": {
        "colab": {
          "base_uri": "https://localhost:8080/"
        },
        "id": "Qf-illuz5hdm",
        "outputId": "39a42536-0fc8-42e3-ad35-3420f66a96d0"
      },
      "execution_count": null,
      "outputs": [
        {
          "output_type": "stream",
          "name": "stdout",
          "text": [
            "(3, 2, 3, 4, 5)\n",
            "<class 'tuple'>\n"
          ]
        },
        {
          "output_type": "execute_result",
          "data": {
            "text/plain": [
              "17"
            ]
          },
          "metadata": {},
          "execution_count": 42
        }
      ]
    },
    {
      "cell_type": "code",
      "source": [
        "def soma(*valores):\n",
        "  \n",
        "  return valores\n",
        "\n",
        "soma(3,True,3,4,\"oi\")"
      ],
      "metadata": {
        "colab": {
          "base_uri": "https://localhost:8080/"
        },
        "id": "6u4V8WWpKTnw",
        "outputId": "dde532b1-1ee2-4018-d0bb-1d702a4d9e86"
      },
      "execution_count": null,
      "outputs": [
        {
          "output_type": "execute_result",
          "data": {
            "text/plain": [
              "3"
            ]
          },
          "metadata": {},
          "execution_count": 47
        }
      ]
    },
    {
      "cell_type": "code",
      "source": [
        "var = 10\n",
        "var2 = 5\n",
        "print(\"o resultado da soma é\", var+var2)"
      ],
      "metadata": {
        "colab": {
          "base_uri": "https://localhost:8080/"
        },
        "id": "OdfKoiKrKedF",
        "outputId": "03e2305f-79c6-47d8-c75c-894631bea11a"
      },
      "execution_count": null,
      "outputs": [
        {
          "output_type": "stream",
          "name": "stdout",
          "text": [
            "o resultado da soma é 15\n"
          ]
        }
      ]
    },
    {
      "cell_type": "markdown",
      "metadata": {
        "id": "RN71xnK04eTJ"
      },
      "source": [
        "### Expandindo uma coleção\n",
        "O exemplo acima funciona muito bem quando o usuário da função possui vários dados avulsos, pois ele os agrupa em uma coleção. Mas o que acontece quando os dados já estão agrupados?"
      ]
    },
    {
      "cell_type": "code",
      "source": [
        "def soma(*numeros):\n",
        "  \n",
        "  print(numeros)\n",
        "  print(type(numeros))\n",
        "  somatorio = 0\n",
        "  for n in numeros:\n",
        "    somatorio += n\n",
        "  return somatorio\n",
        "\n",
        "\n",
        "lista = [1,2,3,4,5]\n",
        "soma(lista)\n",
        "\n",
        "\n",
        "([1,2,3,4,5])"
      ],
      "metadata": {
        "colab": {
          "base_uri": "https://localhost:8080/",
          "height": 391
        },
        "id": "1_SoOkdF5jpV",
        "outputId": "34be1194-a2af-475d-c4b5-d79c0f780eb7"
      },
      "execution_count": null,
      "outputs": [
        {
          "output_type": "stream",
          "name": "stdout",
          "text": [
            "([1, 2, 3, 4, 5],)\n",
            "<class 'tuple'>\n"
          ]
        },
        {
          "output_type": "error",
          "ename": "TypeError",
          "evalue": "ignored",
          "traceback": [
            "\u001b[0;31m---------------------------------------------------------------------------\u001b[0m",
            "\u001b[0;31mTypeError\u001b[0m                                 Traceback (most recent call last)",
            "\u001b[0;32m<ipython-input-49-4afaaeb47697>\u001b[0m in \u001b[0;36m<module>\u001b[0;34m\u001b[0m\n\u001b[1;32m     10\u001b[0m \u001b[0;34m\u001b[0m\u001b[0m\n\u001b[1;32m     11\u001b[0m \u001b[0mlista\u001b[0m \u001b[0;34m=\u001b[0m \u001b[0;34m[\u001b[0m\u001b[0;36m1\u001b[0m\u001b[0;34m,\u001b[0m\u001b[0;36m2\u001b[0m\u001b[0;34m,\u001b[0m\u001b[0;36m3\u001b[0m\u001b[0;34m,\u001b[0m\u001b[0;36m4\u001b[0m\u001b[0;34m,\u001b[0m\u001b[0;36m5\u001b[0m\u001b[0;34m]\u001b[0m\u001b[0;34m\u001b[0m\u001b[0;34m\u001b[0m\u001b[0m\n\u001b[0;32m---> 12\u001b[0;31m \u001b[0msoma\u001b[0m\u001b[0;34m(\u001b[0m\u001b[0mlista\u001b[0m\u001b[0;34m)\u001b[0m\u001b[0;34m\u001b[0m\u001b[0;34m\u001b[0m\u001b[0m\n\u001b[0m\u001b[1;32m     13\u001b[0m \u001b[0;34m\u001b[0m\u001b[0m\n\u001b[1;32m     14\u001b[0m \u001b[0;34m\u001b[0m\u001b[0m\n",
            "\u001b[0;32m<ipython-input-49-4afaaeb47697>\u001b[0m in \u001b[0;36msoma\u001b[0;34m(*numeros)\u001b[0m\n\u001b[1;32m      5\u001b[0m   \u001b[0msomatorio\u001b[0m \u001b[0;34m=\u001b[0m \u001b[0;36m0\u001b[0m\u001b[0;34m\u001b[0m\u001b[0;34m\u001b[0m\u001b[0m\n\u001b[1;32m      6\u001b[0m   \u001b[0;32mfor\u001b[0m \u001b[0mn\u001b[0m \u001b[0;32min\u001b[0m \u001b[0mnumeros\u001b[0m\u001b[0;34m:\u001b[0m\u001b[0;34m\u001b[0m\u001b[0;34m\u001b[0m\u001b[0m\n\u001b[0;32m----> 7\u001b[0;31m     \u001b[0msomatorio\u001b[0m \u001b[0;34m+=\u001b[0m \u001b[0mn\u001b[0m\u001b[0;34m\u001b[0m\u001b[0;34m\u001b[0m\u001b[0m\n\u001b[0m\u001b[1;32m      8\u001b[0m   \u001b[0;32mreturn\u001b[0m \u001b[0msomatorio\u001b[0m\u001b[0;34m\u001b[0m\u001b[0;34m\u001b[0m\u001b[0m\n\u001b[1;32m      9\u001b[0m \u001b[0;34m\u001b[0m\u001b[0m\n",
            "\u001b[0;31mTypeError\u001b[0m: unsupported operand type(s) for +=: 'int' and 'list'"
          ]
        }
      ]
    },
    {
      "cell_type": "code",
      "source": [
        "tupla = tuple([1,2,3,4])\n",
        "for element in tupla:\n",
        "  print(element)"
      ],
      "metadata": {
        "colab": {
          "base_uri": "https://localhost:8080/"
        },
        "id": "K08eZcb8NU_A",
        "outputId": "370c26fa-b492-4d35-ddc2-f0d05f357d0a"
      },
      "execution_count": null,
      "outputs": [
        {
          "output_type": "stream",
          "name": "stdout",
          "text": [
            "1\n",
            "2\n",
            "3\n",
            "4\n"
          ]
        }
      ]
    },
    {
      "cell_type": "code",
      "source": [
        "def soma(*numeros):\n",
        "  \n",
        "  print(numeros)\n",
        "  print(type(numeros))\n",
        "  somatorio = 0\n",
        "  for n in numeros:\n",
        "    somatorio += n\n",
        "  return somatorio\n",
        "\n",
        "\n",
        "lista = [1,2,3,4,5]\n",
        "soma(*lista,5)\n",
        "\n"
      ],
      "metadata": {
        "colab": {
          "base_uri": "https://localhost:8080/"
        },
        "id": "BGNO_a1J5kVu",
        "outputId": "3af1c427-b588-4e09-9158-74e9c9bd07a2"
      },
      "execution_count": null,
      "outputs": [
        {
          "output_type": "stream",
          "name": "stdout",
          "text": [
            "(1, 2, 3, 4, 5, 5)\n",
            "<class 'tuple'>\n"
          ]
        },
        {
          "output_type": "execute_result",
          "data": {
            "text/plain": [
              "20"
            ]
          },
          "metadata": {},
          "execution_count": 55
        }
      ]
    },
    {
      "cell_type": "code",
      "source": [
        "sum((1,2,3)) + a"
      ],
      "metadata": {
        "colab": {
          "base_uri": "https://localhost:8080/"
        },
        "id": "B5FQP-o7PYa8",
        "outputId": "dbe642c0-e68e-4049-cd64-0e9b8ecfb7d7"
      },
      "execution_count": null,
      "outputs": [
        {
          "output_type": "execute_result",
          "data": {
            "text/plain": [
              "7"
            ]
          },
          "metadata": {},
          "execution_count": 64
        }
      ]
    },
    {
      "cell_type": "code",
      "source": [
        "def soma(a,*b):\n",
        "  return a + sum(b)\n",
        "\n",
        "soma(1,1,2,3)"
      ],
      "metadata": {
        "colab": {
          "base_uri": "https://localhost:8080/"
        },
        "id": "_NwYlOaZPH8s",
        "outputId": "b25e9a62-1767-4d9e-99e7-7a90221c4bea"
      },
      "execution_count": null,
      "outputs": [
        {
          "output_type": "execute_result",
          "data": {
            "text/plain": [
              "7"
            ]
          },
          "metadata": {},
          "execution_count": 65
        }
      ]
    },
    {
      "cell_type": "code",
      "source": [
        "print(*lista)"
      ],
      "metadata": {
        "colab": {
          "base_uri": "https://localhost:8080/"
        },
        "id": "8UlrOVg1NxUa",
        "outputId": "cc318f5d-283a-47fa-c17e-edcab679bddf"
      },
      "execution_count": null,
      "outputs": [
        {
          "output_type": "stream",
          "name": "stdout",
          "text": [
            "1 2 3 4 5\n"
          ]
        }
      ]
    },
    {
      "cell_type": "code",
      "source": [
        "# O print deve funcionar assim:\n",
        "def imprimir(*args, sep: str = \" \", end: str =\"\\n\") -> str:\n",
        "    return sep.join(map(str, args)) + end"
      ],
      "metadata": {
        "id": "GyOhZYX3OBeV"
      },
      "execution_count": null,
      "outputs": []
    },
    {
      "cell_type": "markdown",
      "metadata": {
        "id": "f8qZho354eTK"
      },
      "source": [
        "Note que o programa dará erro, pois como os _print_ dentro da função ilustram, foi criada uma tupla, e na primeira posição da tupla foi armazenada a lista. Isso não funciona com a lógica que projetamos.\n",
        "\n",
        "Para casos que quisermos utilizar dessa maneira, utilizaremos o operador **\\*** na chamada da função também. \n",
        "\n",
        "- Na definição da função, o operador **\\*** indica que devemos agrupar itens (argumentos) avulsos em uma coleção. \n",
        "\n",
        "- Na chamada, ele indica que uma coleção deve ser expandida em itens avulsos."
      ]
    },
    {
      "cell_type": "code",
      "source": [
        "def soma(*numeros):\n",
        "  \n",
        "  print(numeros)\n",
        "  print(type(numeros))\n",
        "  somatorio = 0\n",
        "  for n in numeros:\n",
        "    somatorio += n\n",
        "  return somatorio\n",
        "\n",
        "\n",
        "lista = [1,2,3,4,5]\n",
        "soma(*lista,5)\n",
        "\n"
      ],
      "metadata": {
        "id": "nd8F_k5h5lyu"
      },
      "execution_count": null,
      "outputs": []
    },
    {
      "cell_type": "markdown",
      "metadata": {
        "id": "2hdG9Kkh4eTK"
      },
      "source": [
        "No programa acima, a lista é expandida em 5 valores avulsos, e em seguida a função agrupa os 5 itens em uma tupla chamada \"numeros\". "
      ]
    },
    {
      "cell_type": "code",
      "source": [],
      "metadata": {
        "id": "7CSAMsXh5nxy"
      },
      "execution_count": null,
      "outputs": []
    },
    {
      "cell_type": "markdown",
      "source": [
        "E vale mencionar/reforçar também que os parâmetros com * terão seus argumentos opcionais, podendo ou não serem preenchidos\n",
        "\n",
        "vamos criar uma função de multiplicação como exemplo"
      ],
      "metadata": {
        "id": "P8-sLS5d4eTK"
      }
    },
    {
      "cell_type": "code",
      "source": [
        "def soma(*numeros):\n",
        "  return numeros\n",
        "\n",
        "soma()"
      ],
      "metadata": {
        "colab": {
          "base_uri": "https://localhost:8080/"
        },
        "id": "E62jUDa_5pGe",
        "outputId": "13b1b88e-6187-4711-83a2-ead611c9ebf3"
      },
      "execution_count": null,
      "outputs": [
        {
          "output_type": "execute_result",
          "data": {
            "text/plain": [
              "()"
            ]
          },
          "metadata": {},
          "execution_count": 67
        }
      ]
    },
    {
      "cell_type": "markdown",
      "metadata": {
        "id": "l1QM2Fp54eTL"
      },
      "source": [
        "## Outros parâmetros opcionais\n",
        "Outra possibilidade são funções com parâmetros opcionais. Note que isso é diferente de termos quantidade variável de argumentos para um mesmo parâmetro. \n",
        "\n",
        "No caso da quantidade variável de argumentos para um mesmo parâmetro, normalmente são diversos argumentos com a mesma utilidade (números a serem somados, valores a serem exibidos etc). \n",
        "\n",
        "\n",
        "Já estudamos uma forma de parâmetros opcionais utilizando valores padrão.\n",
        "\n",
        "Mas para funções com uma **grande** quantidade de parâmetros e/ou de variação na utilização do parâmetros opcionais, existe outra forma utilizando dicionários, apelidada como ```**kwargs```.\n"
      ]
    },
    {
      "cell_type": "code",
      "source": [],
      "metadata": {
        "id": "qtmBCcK6Qrlq"
      },
      "execution_count": null,
      "outputs": []
    },
    {
      "cell_type": "markdown",
      "source": [
        "\n",
        "### Criando **kwargs\n",
        "Para criar parâmetros opcionais, usaremos **\\*\\***, e os parâmetros passados serão agrupados em um dicionário: o nome do parâmetro será a chave do dicionário, e o valor será... O valor desse dicionário.\n",
        "\n"
      ],
      "metadata": {
        "id": "hhNGs1d34eTL"
      }
    },
    {
      "cell_type": "code",
      "source": [
        "kwargs == keyword argumentos\n",
        "# key == chave\n",
        "# word == palavra\n",
        "\n"
      ],
      "metadata": {
        "id": "IwuBsB1O5tJb"
      },
      "execution_count": null,
      "outputs": []
    },
    {
      "cell_type": "code",
      "source": [
        "def dados_usuario(**kwargs):\n",
        "  print(kwargs)\n",
        "  print(type(kwargs))\n",
        "  return kwargs['nome']\n",
        "\n",
        "\n",
        "dados_usuario(\"nome\", profissao=\"professor\", idade=45)\n",
        "\n"
      ],
      "metadata": {
        "colab": {
          "base_uri": "https://localhost:8080/",
          "height": 218
        },
        "id": "K1jR2mJ25tPu",
        "outputId": "91aa7092-e65d-4e67-a24d-4659150d8ba7"
      },
      "execution_count": null,
      "outputs": [
        {
          "output_type": "error",
          "ename": "TypeError",
          "evalue": "ignored",
          "traceback": [
            "\u001b[0;31m---------------------------------------------------------------------------\u001b[0m",
            "\u001b[0;31mTypeError\u001b[0m                                 Traceback (most recent call last)",
            "\u001b[0;32m<ipython-input-78-1e0ea516ca64>\u001b[0m in \u001b[0;36m<module>\u001b[0;34m\u001b[0m\n\u001b[1;32m      5\u001b[0m \u001b[0;34m\u001b[0m\u001b[0m\n\u001b[1;32m      6\u001b[0m \u001b[0mnome\u001b[0m \u001b[0;34m=\u001b[0m \u001b[0;34m\"theo\"\u001b[0m\u001b[0;34m\u001b[0m\u001b[0;34m\u001b[0m\u001b[0m\n\u001b[0;32m----> 7\u001b[0;31m \u001b[0mdados_usuario\u001b[0m\u001b[0;34m(\u001b[0m\u001b[0mnome\u001b[0m\u001b[0;34m,\u001b[0m \u001b[0mprofissao\u001b[0m\u001b[0;34m=\u001b[0m\u001b[0;34m\"professor\"\u001b[0m\u001b[0;34m,\u001b[0m \u001b[0midade\u001b[0m\u001b[0;34m=\u001b[0m\u001b[0;36m45\u001b[0m\u001b[0;34m)\u001b[0m\u001b[0;34m\u001b[0m\u001b[0;34m\u001b[0m\u001b[0m\n\u001b[0m\u001b[1;32m      8\u001b[0m \u001b[0;34m\u001b[0m\u001b[0m\n",
            "\u001b[0;31mTypeError\u001b[0m: dados_usuario() takes 0 positional arguments but 1 was given"
          ]
        }
      ]
    },
    {
      "cell_type": "code",
      "source": [
        "def teste(a,b=\"opcionais\", *args)"
      ],
      "metadata": {
        "id": "-Q9U6sGZ5tWp"
      },
      "execution_count": null,
      "outputs": []
    },
    {
      "cell_type": "code",
      "source": [
        "def cadastro(**usuario):\n",
        "  print(usuario)\n",
        "  if not ('nome' in usuario) and not ('cpf' in usuario):\n",
        "    print('nenhum dado básico do usuário localizado')\n",
        "  else:\n",
        "    print('informacões básicas do usuário encontrada')\n",
        "    if 'nome' in usuario:\n",
        "      print('nome cadastrado', usuario['nome'])\n",
        "    if 'cpf' in usuario:\n",
        "      print('cpf cadastrado', usuario['cpf'])\n",
        "  print('cadastro realizado com sucesso!')"
      ],
      "metadata": {
        "id": "6FmtzuBT5td-"
      },
      "execution_count": null,
      "outputs": []
    },
    {
      "cell_type": "code",
      "source": [
        "cadastro(cpf=12345639)"
      ],
      "metadata": {
        "colab": {
          "base_uri": "https://localhost:8080/"
        },
        "id": "syCVcfOz5tlr",
        "outputId": "2a637544-c164-413e-cef3-a3d933de5951"
      },
      "execution_count": null,
      "outputs": [
        {
          "output_type": "stream",
          "name": "stdout",
          "text": [
            "{'cpf': 12345639}\n",
            "informacões básicas do usuário encontrada\n",
            "cpf cadastrado 12345639\n",
            "cadastro realizado com sucesso!\n"
          ]
        }
      ]
    },
    {
      "cell_type": "markdown",
      "source": [
        "<br> <br> <br> <br>\n",
        "\n",
        "E se eu adicionar um argumento que eu não mapeei nas condicões da minha função?"
      ],
      "metadata": {
        "id": "YFoHcM-74eTM"
      }
    },
    {
      "cell_type": "code",
      "source": [
        "cadastro(rg=1234592)"
      ],
      "metadata": {
        "colab": {
          "base_uri": "https://localhost:8080/"
        },
        "id": "Ijc9NKcl5tsh",
        "outputId": "b6b3c3bf-5ab9-4c10-cf13-49fe93ec6e99"
      },
      "execution_count": null,
      "outputs": [
        {
          "output_type": "stream",
          "name": "stdout",
          "text": [
            "{'rg': 1234592}\n",
            "nenhum dado básico do usuário localizado\n",
            "cadastro realizado com sucesso!\n"
          ]
        }
      ]
    },
    {
      "cell_type": "markdown",
      "metadata": {
        "id": "mxd9C-eH4eTM"
      },
      "source": [
        "### Expandindo um dicionário\n",
        "\n",
        "Analogamente ao caso dos argumentos múltiplos, é possível que o usuário da função já tenha os dados organizados em um dicionário. Neste caso, basta usar **\\*\\*** na chamada da função para expandir o dicionário em vários parâmetros opcionais."
      ]
    },
    {
      "cell_type": "code",
      "source": [
        "dicionario = {\"nome\": \"theo\", \"tipo sanguíneo\": \"ab\"}\n",
        "cadastro(**dicionario)\n",
        "cadastro(nome=\"theo\", tipo_sanguíneo='ab')"
      ],
      "metadata": {
        "colab": {
          "base_uri": "https://localhost:8080/"
        },
        "id": "PNT2DOPI6HR7",
        "outputId": "fb2c85a6-35a1-4ca2-c1a6-5c2180164ed5"
      },
      "execution_count": null,
      "outputs": [
        {
          "output_type": "stream",
          "name": "stdout",
          "text": [
            "{'nome': 'theo', 'tipo sanguíneo': 'ab'}\n",
            "informacões básicas do usuário encontrada\n",
            "nome cadastrado theo\n",
            "cadastro realizado com sucesso!\n",
            "{'nome': 'theo', 'tipo_sanguíneo': 'ab'}\n",
            "informacões básicas do usuário encontrada\n",
            "nome cadastrado theo\n",
            "cadastro realizado com sucesso!\n"
          ]
        }
      ]
    },
    {
      "cell_type": "markdown",
      "source": [
        "## Como todos os parâmetros ficam ordenados dentro da criação da função?"
      ],
      "metadata": {
        "id": "vRhgIyZn4eTN"
      }
    },
    {
      "cell_type": "code",
      "source": [
        "# organização dos parâmetros da minha função\n",
        "def funcao_com_muitos_parametros(posicional_obrigatorio, param_padrao=True, *args_tupla, **kwargs_dicionario):\n",
        "  print(\"posicional_obrigatorio: \", posicional_obrigatorio, \"paramas_padrao: \", param_padrao, \"args_tupla: \",\n",
        "               args_tupla, \"kwargs_dicionario: \", kwargs_dicionario)\n"
      ],
      "metadata": {
        "id": "drs9yVbB6J-K"
      },
      "execution_count": null,
      "outputs": []
    },
    {
      "cell_type": "code",
      "source": [
        "funcao_com_muitos_parametros(1,2,3,4,5,6,7,8,9,texto='theo', numero=43)"
      ],
      "metadata": {
        "colab": {
          "base_uri": "https://localhost:8080/"
        },
        "id": "CFnqmSZd6Lka",
        "outputId": "ede5670e-6cd7-431a-f845-caff1ece370f"
      },
      "execution_count": null,
      "outputs": [
        {
          "output_type": "stream",
          "name": "stdout",
          "text": [
            "posicional_obrigatorio:  1 paramas_padrao:  2 args_tupla:  (3, 4, 5, 6, 7, 8, 9) kwargs_dicionario:  {'texto': 'theo', 'numero': 43}\n"
          ]
        }
      ]
    },
    {
      "cell_type": "code",
      "source": [
        "funcao_com_muitos_parametros(1,2,3,4,5,6)"
      ],
      "metadata": {
        "colab": {
          "base_uri": "https://localhost:8080/"
        },
        "id": "VEH_DtGe6Lqv",
        "outputId": "4138a0b4-1184-49ca-dd3b-a7441c7a2fc4"
      },
      "execution_count": null,
      "outputs": [
        {
          "output_type": "stream",
          "name": "stdout",
          "text": [
            "posicional_obrigatorio:  1 paramas_padrao:  2 args_tupla:  (3, 4, 5, 6) kwargs_dicionario:  {}\n"
          ]
        }
      ]
    },
    {
      "cell_type": "code",
      "source": [
        "funcao_com_muitos_parametros(1)"
      ],
      "metadata": {
        "colab": {
          "base_uri": "https://localhost:8080/"
        },
        "id": "yELUKk6Tdih0",
        "outputId": "5d97369d-4f61-4bd9-b00b-10b7370f6b39"
      },
      "execution_count": null,
      "outputs": [
        {
          "output_type": "stream",
          "name": "stdout",
          "text": [
            "posicional_obrigatorio:  1 paramas_padrao:  True args_tupla:  () kwargs_dicionario:  {}\n"
          ]
        }
      ]
    },
    {
      "cell_type": "code",
      "source": [
        "funcao_com_muitos_parametros(1,texto='theo', numero=43)"
      ],
      "metadata": {
        "colab": {
          "base_uri": "https://localhost:8080/"
        },
        "id": "sO2Nv2oV6Lws",
        "outputId": "cc2c9572-9099-4d9e-e0bd-f4f74fc59c6e"
      },
      "execution_count": null,
      "outputs": [
        {
          "output_type": "stream",
          "name": "stdout",
          "text": [
            "posicional_obrigatorio:  1 paramas_padrao:  True args_tupla:  () kwargs_dicionario:  {'texto': 'theo'}\n"
          ]
        }
      ]
    },
    {
      "cell_type": "markdown",
      "metadata": {
        "id": "baCpXiIM4eTO"
      },
      "source": [
        "## Exercícios"
      ]
    },
    {
      "cell_type": "markdown",
      "source": [
        "vamos fazer até o exercício 5 (incluso)"
      ],
      "metadata": {
        "id": "aHO0pW7OgZX8"
      }
    },
    {
      "cell_type": "markdown",
      "source": [
        "1) Faça um código que faça a subtracao entre elementos de diferentes listas e eleve esse resultado ao quadrado .\n",
        "\n",
        "exemplo:\n",
        "\n",
        "<center>\n",
        "\n",
        "|listas  | 0 | 1 | 2 | \n",
        "--- | --- | --- | --- |\n",
        "lista1| 3 | 5 | 15 \n",
        "lista2 | 4 | 4 | 10\n",
        "diferença | -1 | 1 | 5\n",
        "quadrado da diferença | 1 | 1 | 25\n",
        "\n",
        "</center>\n",
        "\n",
        "- sugestão: utilize a função map()"
      ],
      "metadata": {
        "id": "Z-x_pI8FI7Gh"
      }
    },
    {
      "cell_type": "code",
      "source": [
        "def subtracao_listas(lista1,lista2):\n",
        "\n",
        "  nova_lista = []\n",
        "\n",
        "  for element in range(len(lista1)):\n",
        "    nova_lista.append((lista1[element] - lista2[element])**2)\n",
        "  return nova_lista\n",
        "\n",
        "subtracao_listas([1,2,3],[7,8,9])"
      ],
      "metadata": {
        "colab": {
          "base_uri": "https://localhost:8080/"
        },
        "id": "at_0vab4qTV2",
        "outputId": "845e0a2f-af50-4c27-971b-0e642560b42b"
      },
      "execution_count": null,
      "outputs": [
        {
          "output_type": "execute_result",
          "data": {
            "text/plain": [
              "[36, 36, 36]"
            ]
          },
          "metadata": {},
          "execution_count": 5
        }
      ]
    },
    {
      "cell_type": "code",
      "source": [
        "def subtracao(x,y):\n",
        "  return (x-y) ** 2\n",
        "\n",
        "lista = [3,5,15]\n",
        "lista_2 = [4,4,10]\n",
        "\n",
        "list(map(subtracao,lista,lista_2))"
      ],
      "metadata": {
        "colab": {
          "base_uri": "https://localhost:8080/"
        },
        "id": "rwmnMgCgqZ47",
        "outputId": "030e4d86-aa79-4b3d-9ff1-0bb2d1a4f9c7"
      },
      "execution_count": null,
      "outputs": [
        {
          "output_type": "execute_result",
          "data": {
            "text/plain": [
              "[1, 1, 25]"
            ]
          },
          "metadata": {},
          "execution_count": 2
        }
      ]
    },
    {
      "cell_type": "code",
      "source": [
        "def subtracao(a,b):\n",
        "  return (a-b) ** 2\n",
        "\n",
        "lista_1 = [1,3,6]\n",
        "lista_2 = [5,6,7]\n",
        "\n",
        "list(map(subtracao,lista_1,lista_2))"
      ],
      "metadata": {
        "colab": {
          "base_uri": "https://localhost:8080/"
        },
        "id": "PqVRGkN_u6mQ",
        "outputId": "37f8cf86-4647-4a34-9683-ecb92548bcba"
      },
      "execution_count": null,
      "outputs": [
        {
          "output_type": "execute_result",
          "data": {
            "text/plain": [
              "[16, 9, 1]"
            ]
          },
          "metadata": {},
          "execution_count": 8
        }
      ]
    },
    {
      "cell_type": "code",
      "source": [
        "def subtracao(*list):\n",
        "    nova = []\n",
        "    for n in range(lista1):\n",
        "        nova.append((list[n]-list[n])**2)\n",
        "    return list(nova)"
      ],
      "metadata": {
        "id": "rZ2krqeR6QDY"
      },
      "execution_count": null,
      "outputs": []
    },
    {
      "cell_type": "code",
      "source": [
        "\n",
        "lista1 = [5,4,3]\n",
        "lista2 = [1,2,3]\n",
        "subtracao(lista1, lista2)"
      ],
      "metadata": {
        "id": "WXCFG0m571u6"
      },
      "execution_count": null,
      "outputs": []
    },
    {
      "cell_type": "code",
      "source": [
        "def sub_quad(*list):\n",
        "    nova = []\n",
        "    for n in range(len(list)):\n",
        "        nova.append((list[n]-list[n])**2)\n",
        "    return nova\n",
        "\n",
        "lista1 = [5,4,3]\n",
        "lista2 = [1,2,3]\n",
        "subtracao(lista1, lista2)"
      ],
      "metadata": {
        "id": "5jI_JJiSyqV7"
      },
      "execution_count": null,
      "outputs": []
    },
    {
      "cell_type": "code",
      "source": [
        "def quadrado(n):\n",
        "  return n ** 2\n",
        "\n",
        "var1 = map(quadrado,[1,2,3,4])"
      ],
      "metadata": {
        "id": "UTGAxf9j6Km9"
      },
      "execution_count": null,
      "outputs": []
    },
    {
      "cell_type": "code",
      "source": [
        "list(map(quadrado, subtracao))"
      ],
      "metadata": {
        "id": "npRDfMoq6ycP"
      },
      "execution_count": null,
      "outputs": []
    },
    {
      "cell_type": "code",
      "source": [
        "# por que esse código está dando erro?\n",
        "def subtracao_listas(lista1,lista2):\n",
        "\n",
        "  nova_lista = []\n",
        "\n",
        "  for element in range(lista1):\n",
        "    nova_lista.append((lista1[element] - lista2[element])**2)\n",
        "  return nova_lista\n",
        "\n",
        "lista = [3,5,15]\n",
        "lista_2 = [4,4,10]\n",
        "\n",
        "list(map(subtracao_listas,lista,lista_2))"
      ],
      "metadata": {
        "id": "aLJdLzuX6P_y"
      },
      "execution_count": null,
      "outputs": []
    },
    {
      "cell_type": "code",
      "source": [
        "from functools import reduce\n",
        "\n",
        "def multiplicacao(a,b):\n",
        "  return (a*b)\n",
        "\n",
        "lista = [1,3,5]\n",
        "\n",
        "reduce(multiplicacao,lista)"
      ],
      "metadata": {
        "colab": {
          "base_uri": "https://localhost:8080/"
        },
        "id": "WB4DNxy8DO1_",
        "outputId": "da766e91-1588-4d2d-8f3e-5a4933c4367b"
      },
      "execution_count": null,
      "outputs": [
        {
          "output_type": "execute_result",
          "data": {
            "text/plain": [
              "15"
            ]
          },
          "metadata": {},
          "execution_count": 7
        }
      ]
    },
    {
      "cell_type": "markdown",
      "source": [
        "2) Escreva um código que recebe uma tupla ou lista e retorna os elementos que têm uma vogal\n",
        "\n",
        "- sugestão: utilize a função filter()"
      ],
      "metadata": {
        "id": "OuFRmrFjSvJt"
      }
    },
    {
      "cell_type": "code",
      "source": [
        "def tem_vogal(string):\n",
        "    for caract in string.lower():\n",
        "      if caract in ('a', 'e', 'i', 'o', 'u'):\n",
        "        return True\n",
        "    return False\n",
        "\n",
        "list(filter(tem_vogal, ['ErikA', 'Mayara', '123', 'Python']))"
      ],
      "metadata": {
        "id": "SHCj2k5O6QGW",
        "colab": {
          "base_uri": "https://localhost:8080/"
        },
        "outputId": "5d73a3cd-3261-4070-e31b-8518346364da"
      },
      "execution_count": null,
      "outputs": [
        {
          "output_type": "execute_result",
          "data": {
            "text/plain": [
              "['ErikA', 'Mayara', 'Python']"
            ]
          },
          "metadata": {},
          "execution_count": 18
        }
      ]
    },
    {
      "cell_type": "markdown",
      "source": [
        "3) Faça um código que retorne a multiplicacao entre todos os elementos da lista\n",
        "\n",
        "- sugestão: utilize a função reduce()"
      ],
      "metadata": {
        "id": "GHBBNkGQXwtt"
      }
    },
    {
      "cell_type": "code",
      "source": [
        "from functools import reduce\n",
        "\n",
        "def multiplicacao(a,b):\n",
        "  return a*b\n",
        "\n",
        "lista = [1,3,5]\n",
        "\n",
        "reduce(multiplicacao,lista)"
      ],
      "metadata": {
        "id": "f1i1ecxbYA-H",
        "colab": {
          "base_uri": "https://localhost:8080/"
        },
        "outputId": "add1faf2-fdfe-4621-c93b-d84c1dd35f33"
      },
      "execution_count": null,
      "outputs": [
        {
          "output_type": "execute_result",
          "data": {
            "text/plain": [
              "15"
            ]
          },
          "metadata": {},
          "execution_count": 19
        }
      ]
    },
    {
      "cell_type": "markdown",
      "source": [
        "4) Faça uma função que sempre some 3 valores e retorne o total de sua soma"
      ],
      "metadata": {
        "id": "cKN9Ae5WA4QG"
      }
    },
    {
      "cell_type": "code",
      "source": [
        "def soma_tres(a,b,c):\n",
        "    return a+b+c\n",
        "\n",
        "soma_tres(100,200,300)"
      ],
      "metadata": {
        "id": "jOsIjVV66T4k",
        "colab": {
          "base_uri": "https://localhost:8080/"
        },
        "outputId": "2173a6ec-5bb4-44bd-926f-d5d067392b76"
      },
      "execution_count": null,
      "outputs": [
        {
          "output_type": "execute_result",
          "data": {
            "text/plain": [
              "600"
            ]
          },
          "metadata": {},
          "execution_count": 21
        }
      ]
    },
    {
      "cell_type": "markdown",
      "source": [
        "5) Agora faça uma função que pode receber múltiplos argumentos e retorne o total de sua soma"
      ],
      "metadata": {
        "id": "ixAwezLmBot8"
      }
    },
    {
      "cell_type": "code",
      "source": [
        "def soma_tudo(*numero):\n",
        "    return sum(numero)\n",
        "\n",
        "soma_tudo(100,200,500)"
      ],
      "metadata": {
        "id": "Eedxf_A26Vmz",
        "colab": {
          "base_uri": "https://localhost:8080/"
        },
        "outputId": "0bc54fa3-e9ad-4f4a-a9a4-f275b4b7b730"
      },
      "execution_count": null,
      "outputs": [
        {
          "output_type": "execute_result",
          "data": {
            "text/plain": [
              "800"
            ]
          },
          "metadata": {},
          "execution_count": 31
        }
      ]
    },
    {
      "cell_type": "markdown",
      "source": [
        "6) Faça uma função que recebe uma quantidade arbitrária de variáveis de qualquer tipo e retorna uma string contendo todas as suas representações separadas por espaço"
      ],
      "metadata": {
        "id": "DrT6AKrRXjvO"
      }
    },
    {
      "cell_type": "code",
      "source": [
        "def junta_variaveis(*variaveis):\n",
        "    return ' '.join(map(str, variaveis))\n",
        "\n",
        "junta_variaveis('hello', 'word', 100, True)"
      ],
      "metadata": {
        "id": "G2o_4d-N6xL7",
        "colab": {
          "base_uri": "https://localhost:8080/",
          "height": 35
        },
        "outputId": "bb5530ce-5398-426f-c312-c63ed54dda8c"
      },
      "execution_count": null,
      "outputs": [
        {
          "output_type": "execute_result",
          "data": {
            "text/plain": [
              "'hello word 100 True'"
            ],
            "application/vnd.google.colaboratory.intrinsic+json": {
              "type": "string"
            }
          },
          "metadata": {},
          "execution_count": 50
        }
      ]
    },
    {
      "cell_type": "markdown",
      "source": [
        "7) Modifique a função anterior para incluir um parâmetro opcional indicando o caractere de separação entre as variáveis. Seu valor padrão será 1 espaço em branco"
      ],
      "metadata": {
        "id": "B2HGDYut7NPy"
      }
    },
    {
      "cell_type": "code",
      "source": [
        "def junta_variaveis(*variaveis, separador=' '):\n",
        "    return separador.join(map(str, variaveis))\n",
        "\n",
        "junta_variaveis('hello', 'word', 100, True)"
      ],
      "metadata": {
        "id": "vQxazQYi6zzi",
        "colab": {
          "base_uri": "https://localhost:8080/",
          "height": 35
        },
        "outputId": "ef3dbd3c-88bf-4ba7-9201-398c66526325"
      },
      "execution_count": null,
      "outputs": [
        {
          "output_type": "execute_result",
          "data": {
            "text/plain": [
              "'hello word 100 True'"
            ],
            "application/vnd.google.colaboratory.intrinsic+json": {
              "type": "string"
            }
          },
          "metadata": {},
          "execution_count": 51
        }
      ]
    },
    {
      "cell_type": "markdown",
      "source": [
        "8) Faça uma função que quando o valor do argumento:\n",
        "- for divisível por 3 retornar \"Fizz\"\n",
        "- for divisível por 5 retornar \"Buzz\"\n",
        "- for divisível por 3 e por 5 retornar \"FizzBuzz\"\n",
        "-  não for divisível por 3 nem por 5 retorne o valor que foi inserido"
      ],
      "metadata": {
        "id": "einuh7K6TiOw"
      }
    },
    {
      "cell_type": "code",
      "source": [
        "def fizz(a):\n",
        "    if a % 15 == 0:\n",
        "        return 'FizzBuzz'\n",
        "    elif a % 5 == 0:\n",
        "        return 'Buzz'\n",
        "    elif a % 3 == 0:\n",
        "        return 'Fizz'\n",
        "    else:\n",
        "        return a\n",
        "\n",
        "fizz(90)"
      ],
      "metadata": {
        "id": "Bxx0WpJK64PM",
        "colab": {
          "base_uri": "https://localhost:8080/",
          "height": 35
        },
        "outputId": "17b03079-35c0-4413-a894-dfe5beba19e1"
      },
      "execution_count": null,
      "outputs": [
        {
          "output_type": "execute_result",
          "data": {
            "text/plain": [
              "'FizzBuzz'"
            ],
            "application/vnd.google.colaboratory.intrinsic+json": {
              "type": "string"
            }
          },
          "metadata": {},
          "execution_count": 88
        }
      ]
    },
    {
      "cell_type": "markdown",
      "source": [
        "9) Faca uma função que diga \"Olá usuário\" se nada for passado como argumento. Caso contrário a função dirá Olá e o nome da pessoa "
      ],
      "metadata": {
        "id": "Mihb2lIsT5lE"
      }
    },
    {
      "cell_type": "code",
      "source": [
        "def ola(user=\"usuário\"):\n",
        "  return \"olá \" + user\n",
        "\n",
        "print(ola())"
      ],
      "metadata": {
        "id": "FqbAQAZIT67f",
        "colab": {
          "base_uri": "https://localhost:8080/"
        },
        "outputId": "68844536-91f1-4c87-96f2-581921ac443b"
      },
      "execution_count": null,
      "outputs": [
        {
          "output_type": "stream",
          "name": "stdout",
          "text": [
            "olá usuário\n"
          ]
        }
      ]
    },
    {
      "cell_type": "markdown",
      "source": [
        "10) criar uma função que consiga registrar dados sobre animais.\n",
        "- tenha um parâmetro obrigatorio para identificar o animal (ex: gato, cachorro, etc.)\n",
        "- tenha um parâmetro país com padrão Brasil\n",
        "- aceite através de múltiplos argumentos características desse animal (ex:quantidade_asas, raca, etc)\n",
        "- retornar um texto que contenha o valores que foram inputadas em animal, país e:\n",
        " - caso tenha alguma outra característica extra: também retorna no texto a quantidade de características (argumentos) que foram registrados e seus nomes.\n",
        " - caso não tenha característica extra  mencionar no texto de retorno"
      ],
      "metadata": {
        "id": "pyMAA4FkUCFo"
      }
    },
    {
      "cell_type": "code",
      "source": [
        "def registro(animal, pais='Brasil', **caracteristicas):\n",
        "    descritivo = (f'O animal {animal} foi registrado no país {pais}.')\n",
        "    if caracteristicas:\n",
        "        descritivo += (f' Outras {str(len(caracteristicas))} características foram registradas: {\", \".join(caracteristicas.keys())}.')\n",
        "    else:\n",
        "        descritivo += (' Não houve caracteristicas adicionais a serem registradas.')\n",
        "    return descritivo\n",
        "\n",
        "registro(\"gato\", pais=\"Brasil\", quantidade_patas=4, raca='siamês')\n"
      ],
      "metadata": {
        "id": "3WNCKinXUCZR",
        "colab": {
          "base_uri": "https://localhost:8080/",
          "height": 35
        },
        "outputId": "682ded24-63ba-4b3b-b67d-a638eb84bb40"
      },
      "execution_count": null,
      "outputs": [
        {
          "output_type": "execute_result",
          "data": {
            "text/plain": [
              "'O animal gato foi registrado no país Brasil. Outras 2 características foram registradas: quantidade_patas, raca.'"
            ],
            "application/vnd.google.colaboratory.intrinsic+json": {
              "type": "string"
            }
          },
          "metadata": {},
          "execution_count": 97
        }
      ]
    },
    {
      "cell_type": "markdown",
      "source": [
        "# Link úteis"
      ],
      "metadata": {
        "id": "xV6N4w5f4eTV"
      }
    },
    {
      "cell_type": "markdown",
      "source": [
        "https://docs.python.org/3/tutorial/controlflow.html#more-on-defining-functions"
      ],
      "metadata": {
        "id": "3TAowvfi4eTV"
      }
    },
    {
      "cell_type": "markdown",
      "source": [
        "https://peps.python.org/pep-0008/"
      ],
      "metadata": {
        "id": "lsZ82SKh4eTV"
      }
    },
    {
      "cell_type": "markdown",
      "source": [
        "https://www.w3schools.com/python/ref_func_print.asp"
      ],
      "metadata": {
        "id": "QHSAwRm24eTV"
      }
    }
  ],
  "metadata": {
    "interpreter": {
      "hash": "ad2bdc8ecc057115af97d19610ffacc2b4e99fae6737bb82f5d7fb13d2f2c186"
    },
    "kernelspec": {
      "display_name": "Python 3.9.7 ('base')",
      "language": "python",
      "name": "python3"
    },
    "language_info": {
      "codemirror_mode": {
        "name": "ipython",
        "version": 3
      },
      "file_extension": ".py",
      "mimetype": "text/x-python",
      "name": "python",
      "nbconvert_exporter": "python",
      "pygments_lexer": "ipython3",
      "version": "3.9.7"
    },
    "orig_nbformat": 4,
    "colab": {
      "provenance": [],
      "collapsed_sections": [
        "C5V0VTLK4lts",
        "xHv4tYkB4ltv",
        "xMA1zZDk4ltx",
        "wuIeN3GS4lt0",
        "cnIXrLEy4lt1",
        "cKN9Ae5WA4QG",
        "ixAwezLmBot8",
        "DrT6AKrRXjvO",
        "ni3JFtaI4n9i",
        "B2HGDYut7NPy",
        "einuh7K6TiOw",
        "VhMf4m56c_j6",
        "fq_Zxo_Rnf_W"
      ],
      "include_colab_link": true
    }
  },
  "nbformat": 4,
  "nbformat_minor": 0
}