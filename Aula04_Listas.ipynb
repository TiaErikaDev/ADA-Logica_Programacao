{
  "cells": [
    {
      "cell_type": "markdown",
      "metadata": {
        "id": "view-in-github",
        "colab_type": "text"
      },
      "source": [
        "<a href=\"https://colab.research.google.com/github/TiaErikaDev/ADA-Logica_Programacao/blob/main/Aula04_Listas.ipynb\" target=\"_parent\"><img src=\"https://colab.research.google.com/assets/colab-badge.svg\" alt=\"Open In Colab\"/></a>"
      ]
    },
    {
      "cell_type": "markdown",
      "metadata": {
        "id": "JXFwuD8pQr4_"
      },
      "source": [
        "# Listas\n",
        "\n",
        "Na aula de hoje, vamos explorar os seguintes tópicos em Python:\n",
        "\n",
        "- 1) Listas\n",
        "- 2) Métodos e funções de listas\n",
        "\n",
        "_________________\n",
        "\n",
        "### Objetivos\n",
        "\n",
        "Apresentar o conceito de lista, e as principais propriedades desta estrutura de dados; Depois, introduzir as principais funções aplicadas a listas."
      ]
    },
    {
      "cell_type": "code",
      "source": [
        "# o nome é intuitivo\n",
        "# lista de to dos (a fazer)\n",
        "# lista de supermercados\n",
        "- maçã\n",
        "- feijão\n",
        "- arroz\n",
        "- farinha\n",
        "- comprar 3kg de manteiga"
      ],
      "metadata": {
        "id": "6FqPQRPdspY7"
      },
      "execution_count": null,
      "outputs": []
    },
    {
      "cell_type": "markdown",
      "metadata": {
        "id": "SN3XjmmFQr5E"
      },
      "source": [
        "## 1) Listas\n",
        "\n",
        "Imagine que você quer armazenar várias variáveis relacionadas, como, por exemplo, todas suas notas em provas.\n",
        "\n",
        "Se houver muitas notas, não é muito prático criar uma variável para cada uma. Seria muito mais conveniente armazenar todas as notas em uma **lista**, não é mesmo? \n",
        "\n",
        "Em python, temos uma estrutura de dados que é exatamente isso: uma lista! Listas são indicadas por colchete []\n",
        "\n",
        "Uma lista nada mais é que um **conjunto de objetos**, que podem ser de diversos tipos:"
      ]
    },
    {
      "cell_type": "markdown",
      "metadata": {
        "id": "eaoOulRbQr5E"
      },
      "source": [
        "Lista de números (int e float)"
      ]
    },
    {
      "cell_type": "code",
      "source": [
        "x1 = 1\n",
        "y1 = 0\n",
        "x2 = 2\n",
        "y2 = 4"
      ],
      "metadata": {
        "id": "CNwLHvFwWDD5"
      },
      "execution_count": null,
      "outputs": []
    },
    {
      "cell_type": "code",
      "source": [
        "lista = [1,67, 3.14, -3456]"
      ],
      "metadata": {
        "id": "y2JB_jPmWDF-"
      },
      "execution_count": null,
      "outputs": []
    },
    {
      "cell_type": "code",
      "source": [
        "type(lista)"
      ],
      "metadata": {
        "colab": {
          "base_uri": "https://localhost:8080/"
        },
        "id": "ejEwp0_nt3yY",
        "outputId": "1446620b-a24e-48b0-a3b3-7b7bc0cba2be"
      },
      "execution_count": null,
      "outputs": [
        {
          "output_type": "execute_result",
          "data": {
            "text/plain": [
              "list"
            ]
          },
          "metadata": {},
          "execution_count": 2
        }
      ]
    },
    {
      "cell_type": "markdown",
      "metadata": {
        "id": "RvkijMv2Qr5H"
      },
      "source": [
        "Lista de strings"
      ]
    },
    {
      "cell_type": "code",
      "source": [
        "lista_de_strings = [\"a\", \"olá\", \"theo\", \"qualquer coisa\"]"
      ],
      "metadata": {
        "id": "mtUF6lJ9WEY2"
      },
      "execution_count": null,
      "outputs": []
    },
    {
      "cell_type": "code",
      "source": [
        "lista_de_strings"
      ],
      "metadata": {
        "colab": {
          "base_uri": "https://localhost:8080/"
        },
        "id": "2x-dAS67WEbG",
        "outputId": "9d1eeea0-388c-468d-b835-d8660e6f7ff3"
      },
      "execution_count": null,
      "outputs": [
        {
          "output_type": "execute_result",
          "data": {
            "text/plain": [
              "['a', 'olá', 'theo', 'qualquer coisa']"
            ]
          },
          "metadata": {},
          "execution_count": 4
        }
      ]
    },
    {
      "cell_type": "markdown",
      "metadata": {
        "id": "zevr0UyoQr5J"
      },
      "source": [
        "Lista de números e strings"
      ]
    },
    {
      "cell_type": "code",
      "source": [
        "lista_numeros_strings = ['ola', 4, '6894', 4.5]"
      ],
      "metadata": {
        "id": "OZ44GjhPWFi9"
      },
      "execution_count": null,
      "outputs": []
    },
    {
      "cell_type": "markdown",
      "metadata": {
        "id": "3szJ3HlgQr5M"
      },
      "source": [
        "Lista de listas"
      ]
    },
    {
      "cell_type": "code",
      "source": [
        "lista_de_listas = [[1,2,3], \"oi\", [\"oi\"], [\"tchau\"] ]"
      ],
      "metadata": {
        "id": "JGkd4A3UWGZY"
      },
      "execution_count": null,
      "outputs": []
    },
    {
      "cell_type": "markdown",
      "metadata": {
        "id": "C94RgNwBQr5N"
      },
      "source": [
        "Tudo junto"
      ]
    },
    {
      "cell_type": "code",
      "source": [
        "numero = 2\n",
        "nome = \"theo\"\n",
        "\n",
        "lista = [nome, False, numero, \"oi\", \"tchau\"]"
      ],
      "metadata": {
        "id": "kjZHVVB3WHVY"
      },
      "execution_count": null,
      "outputs": []
    },
    {
      "cell_type": "code",
      "source": [
        "lista[-3]"
      ],
      "metadata": {
        "colab": {
          "base_uri": "https://localhost:8080/"
        },
        "id": "PjelIR6Tw_PW",
        "outputId": "84035061-b9f6-4575-a262-dfa49c031c68"
      },
      "execution_count": null,
      "outputs": [
        {
          "output_type": "execute_result",
          "data": {
            "text/plain": [
              "2"
            ]
          },
          "metadata": {},
          "execution_count": 16
        }
      ]
    },
    {
      "cell_type": "markdown",
      "source": [
        "### Acessando elementos da minha lista"
      ],
      "metadata": {
        "id": "32X9Qmyxpi1i"
      }
    },
    {
      "cell_type": "markdown",
      "metadata": {
        "id": "2QPxcFcXQr5O"
      },
      "source": [
        "Muitas vezes, queremos **acessar elementos individuais** da lista. \n",
        "\n",
        "Para fazer isso, devemos indicar qual é o **índice** respectivo ao elemento, isto é, qual é a **posição** do elemento dentro da lista\n",
        "\n",
        "Para acessar o elemento na **posição i** da lista \"minha_lista\", fazemos:\n",
        "\n",
        "```python\n",
        "minha_lista[i]\n",
        "```\n",
        "\n",
        "__Muito importante: a numeração de índice começa em zero!__\n",
        "\n",
        "Ou seja:\n",
        "\n",
        "- O primeiro elemento tem índice 0: ```minha_lista[0]``` ,\n",
        "- O segundo tem índice 1: ```minha_lista[1]```,\n",
        "\n",
        "E assim por diante!\n",
        "\n",
        "Também podemos acessar os últimos elementos, usando índices negativos:\n",
        "\n",
        "- O último elemento tem índice -1: ```minha_lista[-1]```,\n",
        "- O penúltimo tem índice -2: ```minha_lista[-2]```,\n",
        "\n",
        "E assim por diante!"
      ]
    },
    {
      "cell_type": "code",
      "source": [
        "minha_lista = [\"a\", \"b\", \"c\"]"
      ],
      "metadata": {
        "id": "Q2aBRLG3WK9d"
      },
      "execution_count": null,
      "outputs": []
    },
    {
      "cell_type": "code",
      "source": [
        "minha_lista[0]"
      ],
      "metadata": {
        "colab": {
          "base_uri": "https://localhost:8080/",
          "height": 35
        },
        "id": "2mvQDJylWLCq",
        "outputId": "f8aaf306-c335-415f-8e12-262821535e70"
      },
      "execution_count": null,
      "outputs": [
        {
          "output_type": "execute_result",
          "data": {
            "text/plain": [
              "'a'"
            ],
            "application/vnd.google.colaboratory.intrinsic+json": {
              "type": "string"
            }
          },
          "metadata": {},
          "execution_count": 18
        }
      ]
    },
    {
      "cell_type": "code",
      "source": [
        "minha_lista[1]"
      ],
      "metadata": {
        "colab": {
          "base_uri": "https://localhost:8080/",
          "height": 35
        },
        "id": "drri5vsrWLHH",
        "outputId": "98efaba8-10b3-469c-db9d-d88ca9ef62f6"
      },
      "execution_count": null,
      "outputs": [
        {
          "output_type": "execute_result",
          "data": {
            "text/plain": [
              "'b'"
            ],
            "application/vnd.google.colaboratory.intrinsic+json": {
              "type": "string"
            }
          },
          "metadata": {},
          "execution_count": 19
        }
      ]
    },
    {
      "cell_type": "code",
      "source": [
        "minha_lista[-2]"
      ],
      "metadata": {
        "colab": {
          "base_uri": "https://localhost:8080/",
          "height": 35
        },
        "id": "DltRDe79WLLE",
        "outputId": "96d9706a-65fc-44ab-fd24-014fbb928eba"
      },
      "execution_count": null,
      "outputs": [
        {
          "output_type": "execute_result",
          "data": {
            "text/plain": [
              "'b'"
            ],
            "application/vnd.google.colaboratory.intrinsic+json": {
              "type": "string"
            }
          },
          "metadata": {},
          "execution_count": 20
        }
      ]
    },
    {
      "cell_type": "markdown",
      "metadata": {
        "id": "Hdg0v2v-Qr5Q"
      },
      "source": [
        "Também podemos **acessar pedaços da lista**, indicando o intervalo de índices que queremos, separados por \":\",  **com intervalo superior aberto**:\n",
        "\n",
        "- ```minha_lista[1:3]```: seleciona os elementos de indice 1 até indice 2\n",
        "- ```minha_lista[:4]```: seleciona do primeiro elemento até o de índice 3\n",
        "- ```minha_lista[3:]```: seleciona do elemento de índice 3 até o final\n",
        "- ```minha_lista[:]```: seleciona a lista inteira\n",
        "\n",
        "Este conceito é chamado de \"slicing\" em Python, pois você está pegando \"fatias\" da lista!"
      ]
    },
    {
      "cell_type": "markdown",
      "source": [
        "\n",
        "<center>\n",
        "\n",
        "\n",
        "\n",
        "índice: | 0 | 1 | 2 | 3 | 4 | 5 | 6\n",
        "--- | --- | --- | --- | --- | --- | --- | --- |\n",
        "minha_lista| \"a\" | \"b\" | \"c\" | \"d\" | \"e\" | \"f\" | \"g\" |  \n",
        "índice: | -7 | -6 | -5 | -4 | -3 | -2 | -1\n",
        "\n",
        "sentido de leitura do slice &rarr;\n",
        "</center>\n"
      ],
      "metadata": {
        "id": "VVfh-onQchU9"
      }
    },
    {
      "cell_type": "code",
      "source": [
        "minha_lista = [\"a\", \"b\", \"c\" , \"d\", \"e\", \"f\", \"g\"]\n",
        "minha_lista[-5:-2]"
      ],
      "metadata": {
        "colab": {
          "base_uri": "https://localhost:8080/"
        },
        "id": "8jKtWVwsWN1A",
        "outputId": "774c5d3c-f5f7-401d-fa4e-48252ce9ddc5"
      },
      "execution_count": null,
      "outputs": [
        {
          "output_type": "execute_result",
          "data": {
            "text/plain": [
              "['c', 'd', 'e']"
            ]
          },
          "metadata": {},
          "execution_count": 31
        }
      ]
    },
    {
      "cell_type": "code",
      "source": [
        "minha_lista = [\"a\", \"b\", \"c\", 432, 68 , 39, [1,3,4,5,6,[6,\"oi\", True]]]"
      ],
      "metadata": {
        "id": "QV2bGGAwWN5q"
      },
      "execution_count": null,
      "outputs": []
    },
    {
      "cell_type": "code",
      "source": [
        "minha_lista[6][5][1]"
      ],
      "metadata": {
        "colab": {
          "base_uri": "https://localhost:8080/",
          "height": 35
        },
        "id": "eixC4X9yWN-w",
        "outputId": "96dde0a7-f7e3-475d-cbae-27aecad35941"
      },
      "execution_count": null,
      "outputs": [
        {
          "output_type": "execute_result",
          "data": {
            "text/plain": [
              "'oi'"
            ],
            "application/vnd.google.colaboratory.intrinsic+json": {
              "type": "string"
            }
          },
          "metadata": {},
          "execution_count": 4
        }
      ]
    },
    {
      "cell_type": "code",
      "source": [
        "minha_lista[:4]"
      ],
      "metadata": {
        "colab": {
          "base_uri": "https://localhost:8080/"
        },
        "id": "bdM67FNtWODz",
        "outputId": "eac0947a-2a88-4e5b-9939-fab6aef392cd"
      },
      "execution_count": null,
      "outputs": [
        {
          "output_type": "execute_result",
          "data": {
            "text/plain": [
              "['a', 'b', 'c', 432]"
            ]
          },
          "metadata": {},
          "execution_count": 39
        }
      ]
    },
    {
      "cell_type": "code",
      "source": [
        "minha_lista[-4:]"
      ],
      "metadata": {
        "colab": {
          "base_uri": "https://localhost:8080/"
        },
        "id": "unGYD1bGWOIs",
        "outputId": "5cd9e47c-af8d-44e3-b544-8ee576dcd9d9"
      },
      "execution_count": null,
      "outputs": [
        {
          "output_type": "execute_result",
          "data": {
            "text/plain": [
              "[432, 68, 39, [1, 3, 4, 5, 6, [6, 'oi', True]]]"
            ]
          },
          "metadata": {},
          "execution_count": 48
        }
      ]
    },
    {
      "cell_type": "markdown",
      "source": [
        "O que já vimos até agora e mais uma coisa: o step (passo)\n",
        "```python\n",
        "lista[começo:fim] # retorna começo até fim-1\n",
        "lista[começo:]     # retorna começo até final da lista\n",
        "lista[:fim]       # retorna início até fim-1\n",
        "lista[:]          # retorna toda a lista\n",
        "lista[começo:fim:passo] # retorna do começo ao fim-1 com um parâmetro de \"passo a passo\"\n",
        "```"
      ],
      "metadata": {
        "id": "Fomh-3FlIEq2"
      }
    },
    {
      "cell_type": "markdown",
      "source": [
        "uma forma de pensar é que o meu índice de começo virá sempre primeiro que o meu índice de fim na ordem da minha lista.\n",
        "\n",
        "Vamos ver na prática o que quero dizer:"
      ],
      "metadata": {
        "id": "mE9lj43wXcK9"
      }
    },
    {
      "cell_type": "code",
      "source": [
        "minha_lista = [\"a\", \"b\", \"c\" , \"d\", \"e\", \"f\", \"g\"]"
      ],
      "metadata": {
        "id": "rcwasBxZWQkj"
      },
      "execution_count": null,
      "outputs": []
    },
    {
      "cell_type": "code",
      "source": [
        "minha_lista[0:2]"
      ],
      "metadata": {
        "colab": {
          "base_uri": "https://localhost:8080/"
        },
        "id": "_0i3g3ulWQnd",
        "outputId": "73124fe3-0a18-4b03-eb3f-f6169116fef2"
      },
      "execution_count": null,
      "outputs": [
        {
          "output_type": "execute_result",
          "data": {
            "text/plain": [
              "['a', 'b']"
            ]
          },
          "metadata": {},
          "execution_count": 52
        }
      ]
    },
    {
      "cell_type": "code",
      "source": [
        "minha_lista[-7:-5]"
      ],
      "metadata": {
        "colab": {
          "base_uri": "https://localhost:8080/"
        },
        "id": "3BEKfZ00WQrn",
        "outputId": "ce7212d1-362f-41d0-927a-a02d9c308f11"
      },
      "execution_count": null,
      "outputs": [
        {
          "output_type": "execute_result",
          "data": {
            "text/plain": [
              "['a', 'b']"
            ]
          },
          "metadata": {},
          "execution_count": 53
        }
      ]
    },
    {
      "cell_type": "code",
      "source": [
        "minha_lista[-7:2]"
      ],
      "metadata": {
        "colab": {
          "base_uri": "https://localhost:8080/"
        },
        "id": "K_v9Ri3AWQvA",
        "outputId": "a7fad2f6-7d33-46db-9b74-b86cbe3025fe"
      },
      "execution_count": null,
      "outputs": [
        {
          "output_type": "execute_result",
          "data": {
            "text/plain": [
              "['a', 'b']"
            ]
          },
          "metadata": {},
          "execution_count": 54
        }
      ]
    },
    {
      "cell_type": "code",
      "source": [
        "minha_lista[0:-5]"
      ],
      "metadata": {
        "colab": {
          "base_uri": "https://localhost:8080/"
        },
        "id": "14n5Du5uWQye",
        "outputId": "0eb4df40-582b-4894-b333-a73a36f71272"
      },
      "execution_count": null,
      "outputs": [
        {
          "output_type": "execute_result",
          "data": {
            "text/plain": [
              "['a', 'b']"
            ]
          },
          "metadata": {},
          "execution_count": 55
        }
      ]
    },
    {
      "cell_type": "markdown",
      "source": [
        "Agora se eu trocar a posição ele retorna uma lista vazia"
      ],
      "metadata": {
        "id": "EsMtuS1sbn5L"
      }
    },
    {
      "cell_type": "code",
      "source": [
        "minha_lista = [\"a\", \"b\", \"c\" , \"d\", \"e\", \"f\", \"g\"]"
      ],
      "metadata": {
        "id": "sssD8AMv8a70"
      },
      "execution_count": null,
      "outputs": []
    },
    {
      "cell_type": "code",
      "source": [
        "minha_lista[2:0]"
      ],
      "metadata": {
        "colab": {
          "base_uri": "https://localhost:8080/"
        },
        "id": "oEMF48VSWTSW",
        "outputId": "71311d8d-ed35-44b0-b519-cc2b40b1656a"
      },
      "execution_count": null,
      "outputs": [
        {
          "output_type": "execute_result",
          "data": {
            "text/plain": [
              "[]"
            ]
          },
          "metadata": {},
          "execution_count": 57
        }
      ]
    },
    {
      "cell_type": "code",
      "source": [
        "minha_lista[-5:-7]"
      ],
      "metadata": {
        "colab": {
          "base_uri": "https://localhost:8080/"
        },
        "id": "aSSXHqxFWTWA",
        "outputId": "7639643b-8577-40f8-a01f-225fea1db8f2"
      },
      "execution_count": null,
      "outputs": [
        {
          "output_type": "execute_result",
          "data": {
            "text/plain": [
              "[]"
            ]
          },
          "metadata": {},
          "execution_count": 58
        }
      ]
    },
    {
      "cell_type": "code",
      "source": [
        "minha_lista[2:-7]"
      ],
      "metadata": {
        "colab": {
          "base_uri": "https://localhost:8080/"
        },
        "id": "M8nA6zPJWTZ9",
        "outputId": "f10bc850-ddcd-485e-b001-0f3fc354aec1"
      },
      "execution_count": null,
      "outputs": [
        {
          "output_type": "execute_result",
          "data": {
            "text/plain": [
              "[]"
            ]
          },
          "metadata": {},
          "execution_count": 59
        }
      ]
    },
    {
      "cell_type": "code",
      "source": [
        "minha_lista[-5:0]"
      ],
      "metadata": {
        "colab": {
          "base_uri": "https://localhost:8080/"
        },
        "id": "KQs0wxyBWTc_",
        "outputId": "60ee9c38-4916-41c8-a98c-bd68996c7b2e"
      },
      "execution_count": null,
      "outputs": [
        {
          "output_type": "execute_result",
          "data": {
            "text/plain": [
              "[]"
            ]
          },
          "metadata": {},
          "execution_count": 60
        }
      ]
    },
    {
      "cell_type": "markdown",
      "source": [
        "Vamos agora ver o step/passo:\n",
        "\n",
        "```python\n",
        "minha_lista[inicio:fim:passo]\n",
        "```"
      ],
      "metadata": {
        "id": "rYXGw_3aj3JR"
      }
    },
    {
      "cell_type": "code",
      "source": [
        "minha_lista = [\"a\", \"b\", \"c\" , \"d\", \"e\", \"f\", \"g\"]"
      ],
      "metadata": {
        "id": "T3F5sFqT-H1W"
      },
      "execution_count": null,
      "outputs": []
    },
    {
      "cell_type": "code",
      "source": [
        "minha_lista[0:3]"
      ],
      "metadata": {
        "colab": {
          "base_uri": "https://localhost:8080/"
        },
        "id": "g4X5DLpvWWsl",
        "outputId": "89dc6114-7abb-4167-c200-31c027bb127f"
      },
      "execution_count": null,
      "outputs": [
        {
          "output_type": "execute_result",
          "data": {
            "text/plain": [
              "['a', 'b', 'c']"
            ]
          },
          "metadata": {},
          "execution_count": 62
        }
      ]
    },
    {
      "cell_type": "code",
      "source": [
        "minha_lista[0:3:1]"
      ],
      "metadata": {
        "colab": {
          "base_uri": "https://localhost:8080/"
        },
        "id": "zQU2oKqUWWzj",
        "outputId": "9586558b-81e9-4130-f216-f55c8270b1cf"
      },
      "execution_count": null,
      "outputs": [
        {
          "output_type": "execute_result",
          "data": {
            "text/plain": [
              "['a', 'b', 'c']"
            ]
          },
          "metadata": {},
          "execution_count": 64
        }
      ]
    },
    {
      "cell_type": "code",
      "source": [
        "minha_lista[0:3:2]"
      ],
      "metadata": {
        "colab": {
          "base_uri": "https://localhost:8080/"
        },
        "id": "Muqn9UK6WW5w",
        "outputId": "217fe92f-a29f-4b5c-bc21-06ee5da15f3e"
      },
      "execution_count": null,
      "outputs": [
        {
          "output_type": "execute_result",
          "data": {
            "text/plain": [
              "['a', 'c']"
            ]
          },
          "metadata": {},
          "execution_count": 11
        }
      ]
    },
    {
      "cell_type": "code",
      "source": [
        "minha_lista[0:2:1]"
      ],
      "metadata": {
        "colab": {
          "base_uri": "https://localhost:8080/"
        },
        "id": "guCUJlDJWW_g",
        "outputId": "70222b68-8455-4121-cd25-12b9b6b0d0b7"
      },
      "execution_count": null,
      "outputs": [
        {
          "output_type": "execute_result",
          "data": {
            "text/plain": [
              "['a', 'b']"
            ]
          },
          "metadata": {},
          "execution_count": 69
        }
      ]
    },
    {
      "cell_type": "code",
      "source": [
        "minha_lista[:]"
      ],
      "metadata": {
        "colab": {
          "base_uri": "https://localhost:8080/"
        },
        "id": "XqexNXD5WXF2",
        "outputId": "9bf9531f-eafa-405f-9af9-168f1b00eb32"
      },
      "execution_count": null,
      "outputs": [
        {
          "output_type": "execute_result",
          "data": {
            "text/plain": [
              "['a', 'b', 'c', 'd', 'e', 'f', 'g']"
            ]
          },
          "metadata": {},
          "execution_count": 70
        }
      ]
    },
    {
      "cell_type": "code",
      "source": [
        "minha_lista[::2]"
      ],
      "metadata": {
        "colab": {
          "base_uri": "https://localhost:8080/"
        },
        "id": "ct-IzROqWXNS",
        "outputId": "3999412a-00a5-426d-cdbd-f08fe2ac0d49"
      },
      "execution_count": null,
      "outputs": [
        {
          "output_type": "execute_result",
          "data": {
            "text/plain": [
              "['a', 'c', 'e', 'g']"
            ]
          },
          "metadata": {},
          "execution_count": 71
        }
      ]
    },
    {
      "cell_type": "markdown",
      "source": [
        "Lembrete importante:\n",
        "\n",
        "quando invertemos usando o step negativo, nosso [início:fim] mudam, pois agora é como se estivéssemos fazendo slice na lista invertida.\n",
        "\n",
        "Entretanto, a posição (índice) dos elementos da lista continuam iguais\n",
        "\n",
        "Vamos a um exemplo:"
      ],
      "metadata": {
        "id": "bGV9UIkCVMiO"
      }
    },
    {
      "cell_type": "markdown",
      "source": [
        "\n",
        "índice: | 0 | 1 | 2 | 3 | 4 | 5 | 6\n",
        "--- | --- | --- | --- | --- | --- | --- | --- |\n",
        "minha_lista| \"a\" | \"b\" | \"c\" | \"d\" | \"e\" | \"f\" | \"g\" |  \n",
        "índice: | -7 | -6 | -5 | -4 | -3 | -2 | -1\n",
        "\n",
        "sentido de leitura do slice &rarr;\n",
        "</center>\n",
        "\n",
        "<br><br>\n",
        "\n",
        "quando step negativo, a lista invertida[ : : -1]:\n",
        "\n",
        "índice: | 6 | 5 | 4 | 3 | 2 | 1 | 0\n",
        "--- | --- | --- | --- | --- | --- | --- | --- |\n",
        "minha_lista[::-1]| \"g\" | \"f\" | \"e\" | \"d\" | \"c\" | \"b\" | \"a\" |  \n",
        "índice: | -1 | -2 | -3 | -4 | -5 | -6 | -7\n",
        "\n",
        "sentido de leitura do slice &rarr;\n",
        "</center>\n",
        "\n",
        "<br>\n",
        "apesar da reorganização dos elementos, os índices de cada continuam os mesmos"
      ],
      "metadata": {
        "id": "wGl1jQYBpH3F"
      }
    },
    {
      "cell_type": "code",
      "source": [
        "minha_lista = [\"a\", \"b\", \"c\" , \"d\", \"e\", \"f\", \"g\"]"
      ],
      "metadata": {
        "id": "KW37mKP1WZ6n"
      },
      "execution_count": null,
      "outputs": []
    },
    {
      "cell_type": "code",
      "source": [
        "minha_lista[::-1]"
      ],
      "metadata": {
        "colab": {
          "base_uri": "https://localhost:8080/"
        },
        "id": "zUjkHeI1WZ-9",
        "outputId": "2b881113-838b-4a35-aa0c-2992f764a8df"
      },
      "execution_count": null,
      "outputs": [
        {
          "output_type": "execute_result",
          "data": {
            "text/plain": [
              "['g', 'f', 'e', 'd', 'c', 'b', 'a']"
            ]
          },
          "metadata": {},
          "execution_count": 13
        }
      ]
    },
    {
      "cell_type": "markdown",
      "source": [
        "quanto utilizamos os índices negativos o comportamento é igual"
      ],
      "metadata": {
        "id": "SxKxDOI5t_Mm"
      }
    },
    {
      "cell_type": "code",
      "source": [
        "minha_lista[6:3:-1]"
      ],
      "metadata": {
        "colab": {
          "base_uri": "https://localhost:8080/"
        },
        "id": "3vmkXrFzWaEf",
        "outputId": "26ac1915-1b67-4fd1-c575-6a2d4292595e"
      },
      "execution_count": null,
      "outputs": [
        {
          "output_type": "execute_result",
          "data": {
            "text/plain": [
              "['g', 'f', 'e']"
            ]
          },
          "metadata": {},
          "execution_count": 14
        }
      ]
    },
    {
      "cell_type": "code",
      "source": [
        "minha_lista[3:6:-1]"
      ],
      "metadata": {
        "colab": {
          "base_uri": "https://localhost:8080/"
        },
        "id": "GIVBtSdI5_6W",
        "outputId": "85f46d75-f1e9-41cf-ae11-ad72689f56e5"
      },
      "execution_count": null,
      "outputs": [
        {
          "output_type": "execute_result",
          "data": {
            "text/plain": [
              "[]"
            ]
          },
          "metadata": {},
          "execution_count": 16
        }
      ]
    },
    {
      "cell_type": "markdown",
      "source": [
        "mais alguns outros exemplos: "
      ],
      "metadata": {
        "id": "psfBSwEFuLKA"
      }
    },
    {
      "cell_type": "code",
      "source": [
        "minha_lista = [\"a\", \"b\", \"c\" , \"d\", \"e\", \"f\", \"g\"]\n",
        "minha_lista_invertida = [\"g\", \"f\", \"e\" , \"d\", \"c\", \"b\", \"a\"]"
      ],
      "metadata": {
        "id": "aF0YThXwWdPx"
      },
      "execution_count": null,
      "outputs": []
    },
    {
      "cell_type": "code",
      "source": [
        "minha_lista[2:0:-1]"
      ],
      "metadata": {
        "colab": {
          "base_uri": "https://localhost:8080/"
        },
        "id": "in3P9zz9WdV-",
        "outputId": "9565d09a-2305-40f2-8a90-342e0fee52ea"
      },
      "execution_count": null,
      "outputs": [
        {
          "output_type": "execute_result",
          "data": {
            "text/plain": [
              "['c', 'b']"
            ]
          },
          "metadata": {},
          "execution_count": 18
        }
      ]
    },
    {
      "cell_type": "markdown",
      "source": [
        "também conseguimos ter passos menores que -1"
      ],
      "metadata": {
        "id": "JBpvBVlSvKXD"
      }
    },
    {
      "cell_type": "code",
      "source": [
        "minha_lista[::-1]"
      ],
      "metadata": {
        "colab": {
          "base_uri": "https://localhost:8080/"
        },
        "id": "HPT6jDoyWfla",
        "outputId": "5d176d52-e80b-44df-e6c5-c27e7ada74c7"
      },
      "execution_count": null,
      "outputs": [
        {
          "output_type": "execute_result",
          "data": {
            "text/plain": [
              "['g', 'f', 'e', 'd', 'c', 'b', 'a']"
            ]
          },
          "metadata": {},
          "execution_count": 19
        }
      ]
    },
    {
      "cell_type": "code",
      "source": [
        "minha_lista[::-2]"
      ],
      "metadata": {
        "colab": {
          "base_uri": "https://localhost:8080/"
        },
        "id": "HCbnOaLHWfrU",
        "outputId": "c42e0257-05cc-4b2f-dce5-1228f0565563"
      },
      "execution_count": null,
      "outputs": [
        {
          "output_type": "execute_result",
          "data": {
            "text/plain": [
              "['g', 'e', 'c', 'a']"
            ]
          },
          "metadata": {},
          "execution_count": 20
        }
      ]
    },
    {
      "cell_type": "code",
      "source": [
        "minha_lista[6::-2]"
      ],
      "metadata": {
        "colab": {
          "base_uri": "https://localhost:8080/"
        },
        "id": "ZnGaTG7NWfwr",
        "outputId": "949aa513-3748-4db8-d637-415ddcc1fd99"
      },
      "execution_count": null,
      "outputs": [
        {
          "output_type": "execute_result",
          "data": {
            "text/plain": [
              "['g', 'e', 'c', 'a']"
            ]
          },
          "metadata": {},
          "execution_count": 21
        }
      ]
    },
    {
      "cell_type": "markdown",
      "metadata": {
        "id": "CIZRLY8QQr5S"
      },
      "source": [
        "### Operações com listas"
      ]
    },
    {
      "cell_type": "markdown",
      "metadata": {
        "id": "3q25IdjrQr5S"
      },
      "source": [
        "Soma de listas\n",
        "\n",
        "ao **somar listas**, os elementos são **concatenados**, na ordem dada, para formar uma lista maior:"
      ]
    },
    {
      "cell_type": "code",
      "source": [
        "lista1 = [1,2,3]\n",
        "lista2 = [\"a\", \"b\", \"c\", 434,3]\n",
        "\n",
        "lista1 + lista2"
      ],
      "metadata": {
        "colab": {
          "base_uri": "https://localhost:8080/"
        },
        "id": "hyx2RIstWhws",
        "outputId": "1fc7397a-5db1-4989-b59f-6feb6664b691"
      },
      "execution_count": null,
      "outputs": [
        {
          "output_type": "execute_result",
          "data": {
            "text/plain": [
              "[1, 2, 3, 'a', 'b', 'c', 434, 3]"
            ]
          },
          "metadata": {},
          "execution_count": 43
        }
      ]
    },
    {
      "cell_type": "code",
      "source": [
        "# como podemos ver não conseguimos utilizar o operador de multiplicação entre listas\n",
        "lista1 * lista2"
      ],
      "metadata": {
        "colab": {
          "base_uri": "https://localhost:8080/",
          "height": 168
        },
        "id": "aGq5qXL4Whzy",
        "outputId": "a3f8e9eb-bc1f-4631-8d4a-03cb04b4862a"
      },
      "execution_count": null,
      "outputs": [
        {
          "output_type": "error",
          "ename": "TypeError",
          "evalue": "ignored",
          "traceback": [
            "\u001b[0;31m---------------------------------------------------------------------------\u001b[0m",
            "\u001b[0;31mTypeError\u001b[0m                                 Traceback (most recent call last)",
            "\u001b[0;32m<ipython-input-48-bdc71fc189af>\u001b[0m in \u001b[0;36m<module>\u001b[0;34m\u001b[0m\n\u001b[0;32m----> 1\u001b[0;31m \u001b[0mlista1\u001b[0m \u001b[0;34m*\u001b[0m \u001b[0mlista2\u001b[0m\u001b[0;34m\u001b[0m\u001b[0;34m\u001b[0m\u001b[0m\n\u001b[0m",
            "\u001b[0;31mTypeError\u001b[0m: can't multiply sequence by non-int of type 'list'"
          ]
        }
      ]
    },
    {
      "cell_type": "markdown",
      "metadata": {
        "id": "mHznZ82DQr5T"
      },
      "source": [
        "Multiplicar listas por um inteiro\n",
        "\n",
        "os elementos são repetidos, na ordem que aparecem:"
      ]
    },
    {
      "cell_type": "code",
      "source": [
        "lista1 * 3"
      ],
      "metadata": {
        "colab": {
          "base_uri": "https://localhost:8080/"
        },
        "id": "4WQweysyWjKn",
        "outputId": "bffd7a7b-3e2f-43d5-8bba-f7863aaff86e"
      },
      "execution_count": null,
      "outputs": [
        {
          "output_type": "execute_result",
          "data": {
            "text/plain": [
              "[1, 2, 3, 1, 2, 3, 1, 2, 3]"
            ]
          },
          "metadata": {},
          "execution_count": 25
        }
      ]
    },
    {
      "cell_type": "markdown",
      "metadata": {
        "id": "VprA-U6vQr5T"
      },
      "source": [
        "Se quisermos de fato somar os elementos de duas listas, ou multiplicá-los por algum número, temos que usar um **laço**, como veremos logo mais!"
      ]
    },
    {
      "cell_type": "markdown",
      "metadata": {
        "id": "JUBdY7ysQr5T"
      },
      "source": [
        "É possível transformar strings em uma **lista de caracteres**:"
      ]
    },
    {
      "cell_type": "code",
      "source": [
        "\"\".join(list(\"123\")[::-1])"
      ],
      "metadata": {
        "colab": {
          "base_uri": "https://localhost:8080/",
          "height": 35
        },
        "id": "aEn7UAZCWksJ",
        "outputId": "e40c48b4-6fb2-4b4a-8a91-c789fe752f89"
      },
      "execution_count": null,
      "outputs": [
        {
          "output_type": "execute_result",
          "data": {
            "text/plain": [
              "'321'"
            ],
            "application/vnd.google.colaboratory.intrinsic+json": {
              "type": "string"
            }
          },
          "metadata": {},
          "execution_count": 32
        }
      ]
    },
    {
      "cell_type": "code",
      "source": [
        "\"123\"[::-1]"
      ],
      "metadata": {
        "colab": {
          "base_uri": "https://localhost:8080/",
          "height": 35
        },
        "id": "S1KTAkGU-dm1",
        "outputId": "e839bca2-a5f3-4d3f-ac98-db841bc0b1cf"
      },
      "execution_count": null,
      "outputs": [
        {
          "output_type": "execute_result",
          "data": {
            "text/plain": [
              "'321'"
            ],
            "application/vnd.google.colaboratory.intrinsic+json": {
              "type": "string"
            }
          },
          "metadata": {},
          "execution_count": 33
        }
      ]
    },
    {
      "cell_type": "markdown",
      "metadata": {
        "id": "batG8pUvQr5U"
      },
      "source": [
        "__________"
      ]
    },
    {
      "cell_type": "markdown",
      "metadata": {
        "id": "eBEbRveSQr5U"
      },
      "source": [
        "## 2) métodos e funções de listas"
      ]
    },
    {
      "cell_type": "markdown",
      "metadata": {
        "id": "qZqCqijEQr5U"
      },
      "source": [
        "Podemos começar com uma lista vazia, e preenchê-la aos poucos.\n",
        "\n",
        "Para **criar uma lista vazia**, fazemos:"
      ]
    },
    {
      "cell_type": "code",
      "source": [
        "lista=[]"
      ],
      "metadata": {
        "id": "A7oyhIrXWmBm"
      },
      "execution_count": null,
      "outputs": []
    },
    {
      "cell_type": "markdown",
      "metadata": {
        "id": "3rqN9RdnQr5U"
      },
      "source": [
        "Para adicionar um elemento **ao fim da lista**, usamos o \".append()\".\n",
        "\n",
        "**OBS.: só podemos apendar um único elemento por vez!**"
      ]
    },
    {
      "cell_type": "code",
      "source": [
        "lista = [1,2,3]\n",
        "\n",
        "print(lista)\n",
        "\n",
        "lista.append(4)\n",
        "lista.append(\"232\")\n",
        "lista.append(True)\n",
        "\n",
        "print(lista)"
      ],
      "metadata": {
        "colab": {
          "base_uri": "https://localhost:8080/"
        },
        "id": "6mWSCKTeWnV3",
        "outputId": "629be314-bcdb-4b9b-bf47-62489fbd6ca8"
      },
      "execution_count": null,
      "outputs": [
        {
          "output_type": "stream",
          "name": "stdout",
          "text": [
            "[1, 2, 3]\n",
            "[1, 2, 3, 4, '232', True]\n"
          ]
        }
      ]
    },
    {
      "cell_type": "markdown",
      "metadata": {
        "id": "gUmnF56yQr5V"
      },
      "source": [
        "Se você quiser adicionar um elemento numa **posição específica**, use a função \".insert()\", onde o primeiro argumento é a posição, e o segundo é o elemento:\n",
        "\n",
        "- só podemos inserir um único elemento por vez\n",
        "- ele \"empurrará\" para o lado caso a gente insira em um índice já ocupado por um elemento"
      ]
    },
    {
      "cell_type": "code",
      "source": [
        "lista = [\"a\", \"b\", \"c\"]\n",
        "\n",
        "lista.insert(2, True)\n",
        "lista"
      ],
      "metadata": {
        "colab": {
          "base_uri": "https://localhost:8080/"
        },
        "id": "u7SC48SKWoZ1",
        "outputId": "6f4b6630-9cd8-457f-e596-dc16be02035d"
      },
      "execution_count": null,
      "outputs": [
        {
          "output_type": "execute_result",
          "data": {
            "text/plain": [
              "['a', 'b', True, 'c']"
            ]
          },
          "metadata": {},
          "execution_count": 36
        }
      ]
    },
    {
      "cell_type": "markdown",
      "metadata": {
        "id": "V8VI3aoJQr5V"
      },
      "source": [
        "Podemos, também, **redefinir um elemento da lista individualmente**. Para isso, basta selecionarmos este elemento, e redefiní-lo:"
      ]
    },
    {
      "cell_type": "code",
      "source": [
        "lista = [\"a\", \"b\", \"c\"]\n",
        "\n",
        "lista[1] = \"letra b\"\n",
        "lista"
      ],
      "metadata": {
        "colab": {
          "base_uri": "https://localhost:8080/"
        },
        "id": "dcSc0Y1aWqyf",
        "outputId": "bf21f02f-72d2-4714-ac59-22e9c18968f9"
      },
      "execution_count": null,
      "outputs": [
        {
          "output_type": "execute_result",
          "data": {
            "text/plain": [
              "['a', 'letra b', 'c']"
            ]
          },
          "metadata": {},
          "execution_count": 37
        }
      ]
    },
    {
      "cell_type": "code",
      "source": [
        "lista[-1] = \"qualquer coisa\"\n",
        "lista"
      ],
      "metadata": {
        "colab": {
          "base_uri": "https://localhost:8080/"
        },
        "id": "W6139sh7Wq4U",
        "outputId": "95a81a53-0e23-4cee-c5b4-ebf1bb48e904"
      },
      "execution_count": null,
      "outputs": [
        {
          "output_type": "execute_result",
          "data": {
            "text/plain": [
              "['a', 'letra b', 'qualquer coisa']"
            ]
          },
          "metadata": {},
          "execution_count": 38
        }
      ]
    },
    {
      "cell_type": "markdown",
      "source": [
        "Já o \".extend()\" irá inserir os elementos na lista de sua escolha"
      ],
      "metadata": {
        "id": "mjt06Ag12eb5"
      }
    },
    {
      "cell_type": "code",
      "source": [
        "lista1 = [\"a\", \"b\", \"c\"]\n",
        "lista2 = [2, 3, \"c\"]\n",
        "\n",
        "lista1 = lista1 + lista2\n",
        "lista1"
      ],
      "metadata": {
        "colab": {
          "base_uri": "https://localhost:8080/"
        },
        "id": "e3YPaRyhBKBJ",
        "outputId": "72d8fe12-b7f8-491c-b979-de28d3eb93ad"
      },
      "execution_count": null,
      "outputs": [
        {
          "output_type": "execute_result",
          "data": {
            "text/plain": [
              "['a', 'b', 'c', 2, 3, 'c']"
            ]
          },
          "metadata": {},
          "execution_count": 47
        }
      ]
    },
    {
      "cell_type": "code",
      "source": [
        "lista1 = [\"a\", \"b\", \"c\"]\n",
        "lista2 = [2, 3, \"c\"]\n",
        "\n",
        "lista1.extend(lista2)\n",
        "lista1"
      ],
      "metadata": {
        "colab": {
          "base_uri": "https://localhost:8080/"
        },
        "id": "SNfQLfhMWsqS",
        "outputId": "cdf63a59-26aa-4902-fc9a-f257ae095a94"
      },
      "execution_count": null,
      "outputs": [
        {
          "output_type": "execute_result",
          "data": {
            "text/plain": [
              "['a', 'b', 'c', 2, 3, 'c']"
            ]
          },
          "metadata": {},
          "execution_count": 54
        }
      ]
    },
    {
      "cell_type": "markdown",
      "source": [
        "curiosidade sobre performance entre lista1 + lista2 ou lista.extend(lista2)"
      ],
      "metadata": {
        "id": "q2c6JeVoGh4h"
      }
    },
    {
      "cell_type": "code",
      "source": [
        "%%timeit\n",
        "lista1 = [\"a\", \"b\", \"c\"]\n",
        "lista2 = [2, 3, \"c\"]\n",
        "\n",
        "lista1.extend(lista2)"
      ],
      "metadata": {
        "colab": {
          "base_uri": "https://localhost:8080/"
        },
        "id": "3rCaAdPoWuL3",
        "outputId": "11907acf-10d9-4341-d577-15a354dac954"
      },
      "execution_count": null,
      "outputs": [
        {
          "output_type": "stream",
          "name": "stdout",
          "text": [
            "197 ns ± 1.76 ns per loop (mean ± std. dev. of 7 runs, 10000000 loops each)\n"
          ]
        }
      ]
    },
    {
      "cell_type": "code",
      "source": [
        "%%timeit\n",
        "lista1 = [\"a\", \"b\", \"c\"]\n",
        "lista2 = [2, 3, \"c\"]\n",
        "\n",
        "lista1 = lista1 + lista2"
      ],
      "metadata": {
        "colab": {
          "base_uri": "https://localhost:8080/"
        },
        "id": "Dtoeom_dWuQZ",
        "outputId": "90143517-55f6-4230-85cb-d9b659d3ddc8"
      },
      "execution_count": null,
      "outputs": [
        {
          "output_type": "stream",
          "name": "stdout",
          "text": [
            "182 ns ± 1.12 ns per loop (mean ± std. dev. of 7 runs, 10000000 loops each)\n"
          ]
        }
      ]
    },
    {
      "cell_type": "markdown",
      "metadata": {
        "id": "hCLGmDO3Qr51"
      },
      "source": [
        "Para copiar uma lista devemos usar .copy(). Não podemos apenas atribuir com o =, pois assim a nova lista fará uma referência a lista antiga, e, portanto, as mudaças feitas em uma afetarão a outra"
      ]
    },
    {
      "cell_type": "code",
      "source": [
        "lista1 = [1,2,3]\n",
        "lista2 = lista1\n",
        "print(lista1)\n",
        "print(lista2)\n",
        "\n",
        "lista2[-1] = \"b\"\n",
        "print(lista1)\n",
        "print(lista2)\n",
        "\n",
        "print(id(lista1))\n",
        "print(id(lista2))"
      ],
      "metadata": {
        "colab": {
          "base_uri": "https://localhost:8080/"
        },
        "id": "UXWJmActWwJI",
        "outputId": "41125777-e830-47f2-f26d-67e87d482e87"
      },
      "execution_count": null,
      "outputs": [
        {
          "output_type": "stream",
          "name": "stdout",
          "text": [
            "[1, 2, 3]\n",
            "[1, 2, 3]\n",
            "[1, 2, 'b']\n",
            "[1, 2, 'b']\n",
            "139761948257728\n",
            "139761948257728\n"
          ]
        }
      ]
    },
    {
      "cell_type": "code",
      "source": [
        "lista1 = [1,2,3]\n",
        "lista2 = lista1.copy()\n",
        "\n",
        "print(lista1)\n",
        "print(lista2)\n",
        "\n",
        "lista2[-1] = \"b\"\n",
        "\n",
        "print(lista1)\n",
        "print(lista2)\n",
        "\n",
        "print(id(lista1))\n",
        "print(id(lista2))"
      ],
      "metadata": {
        "colab": {
          "base_uri": "https://localhost:8080/"
        },
        "id": "m_UNgo3hWwQd",
        "outputId": "8df80fe2-fa57-402c-b57e-3b87258b8f56"
      },
      "execution_count": null,
      "outputs": [
        {
          "output_type": "stream",
          "name": "stdout",
          "text": [
            "[1, 2, 3]\n",
            "[1, 2, 3]\n",
            "[1, 2, 3]\n",
            "[1, 2, 'b']\n",
            "139761948402544\n",
            "139761948254768\n"
          ]
        }
      ]
    },
    {
      "cell_type": "markdown",
      "metadata": {
        "id": "sSVrWta7Qr52"
      },
      "source": [
        "Para remover um elemento da lista:"
      ]
    },
    {
      "cell_type": "markdown",
      "source": [
        "podemos usar \".remove()\". \n",
        "\n",
        "- OBS.: Essa função remove apenas a primeira aparição do elemento"
      ],
      "metadata": {
        "id": "WcEraCwRmoDc"
      }
    },
    {
      "cell_type": "code",
      "source": [
        "lista = ['a', 'letra b', 'qualquer coisa', 'a']\n",
        "lista.remove(\"a\")\n",
        "lista"
      ],
      "metadata": {
        "colab": {
          "base_uri": "https://localhost:8080/"
        },
        "id": "BgrEhCigWxIM",
        "outputId": "9c60af43-5914-4730-ea79-7c19f431cfc3"
      },
      "execution_count": null,
      "outputs": [
        {
          "output_type": "execute_result",
          "data": {
            "text/plain": [
              "['letra b', 'qualquer coisa', 'a']"
            ]
          },
          "metadata": {},
          "execution_count": 71
        }
      ]
    },
    {
      "cell_type": "markdown",
      "metadata": {
        "id": "ewjEHbeVQr52"
      },
      "source": [
        "Se você quiser remover um elemento de determinado índice, use \".pop()\":"
      ]
    },
    {
      "cell_type": "code",
      "source": [
        "lista = ['a', 'letra b', 'qualquer coisa', 'a']\n",
        "lista.pop(1)\n",
        "lista"
      ],
      "metadata": {
        "colab": {
          "base_uri": "https://localhost:8080/"
        },
        "id": "iKipXUZFW2Ti",
        "outputId": "0ce81669-646c-4fd2-c648-769798ab8e14"
      },
      "execution_count": null,
      "outputs": [
        {
          "output_type": "execute_result",
          "data": {
            "text/plain": [
              "['a', 'qualquer coisa', 'a']"
            ]
          },
          "metadata": {},
          "execution_count": 75
        }
      ]
    },
    {
      "cell_type": "code",
      "source": [
        "lista = [\"a\", \"b\", 5, \"d\", \"e\",\"f\"]\n",
        "print(lista)\n",
        "lista.remove(5)\n",
        "print(lista)"
      ],
      "metadata": {
        "colab": {
          "base_uri": "https://localhost:8080/"
        },
        "id": "WlfwXLu3W2af",
        "outputId": "f22eee49-bdec-4d57-e83e-46338e5b36f5"
      },
      "execution_count": null,
      "outputs": [
        {
          "output_type": "stream",
          "name": "stdout",
          "text": [
            "['a', 'b', 5, 'd', 'e', 'f']\n",
            "['a', 'b', 'd', 'e', 'f']\n"
          ]
        }
      ]
    },
    {
      "cell_type": "markdown",
      "metadata": {
        "id": "FyiD27vfQr53"
      },
      "source": [
        "Muitas vezes é interessante **ordenar a lista**. Pra fazer isso, usamos a função sorted() ou .sort().\n",
        "\n",
        "- essa função só funciona para listas com o mesmo \"tipo\" de dado"
      ]
    },
    {
      "cell_type": "code",
      "source": [
        "lista = [3, 2 , 2.2, 5, -34]"
      ],
      "metadata": {
        "id": "CIPBp7HfW4_M"
      },
      "execution_count": null,
      "outputs": []
    },
    {
      "cell_type": "code",
      "source": [
        "lista_ordenada = sorted(lista)\n",
        "lista_ordenada"
      ],
      "metadata": {
        "colab": {
          "base_uri": "https://localhost:8080/"
        },
        "id": "5w4n9z7VW5GC",
        "outputId": "c0acb600-c6f0-4ae6-e06a-cf18c7dfed3e"
      },
      "execution_count": null,
      "outputs": [
        {
          "output_type": "execute_result",
          "data": {
            "text/plain": [
              "[-34, 2, 2.2, 3, 5]"
            ]
          },
          "metadata": {},
          "execution_count": 86
        }
      ]
    },
    {
      "cell_type": "code",
      "source": [
        "lista"
      ],
      "metadata": {
        "colab": {
          "base_uri": "https://localhost:8080/"
        },
        "id": "5is0EVjcJo6A",
        "outputId": "eeb4d7f3-6181-4e89-b0a0-f7d563fe160e"
      },
      "execution_count": null,
      "outputs": [
        {
          "output_type": "execute_result",
          "data": {
            "text/plain": [
              "[3, 2, 2.2, 5, -34]"
            ]
          },
          "metadata": {},
          "execution_count": 87
        }
      ]
    },
    {
      "cell_type": "code",
      "source": [
        "lista.sort()\n",
        "lista"
      ],
      "metadata": {
        "colab": {
          "base_uri": "https://localhost:8080/"
        },
        "id": "cRAJPQXLW5UF",
        "outputId": "7a9c9493-356b-4313-c936-5c3067d63ac8"
      },
      "execution_count": null,
      "outputs": [
        {
          "output_type": "execute_result",
          "data": {
            "text/plain": [
              "[-34, 2, 2.2, 3, 5]"
            ]
          },
          "metadata": {},
          "execution_count": 90
        }
      ]
    },
    {
      "cell_type": "markdown",
      "metadata": {
        "id": "K1JQp7EKQr56"
      },
      "source": [
        "Para ordenar uma lista na ordem inversa (maior pro menor), podemos adicionar o parâmetro a seguir:"
      ]
    },
    {
      "cell_type": "code",
      "source": [
        "lista_ordenada = sorted(lista, reverse=True)\n",
        "lista_ordenada"
      ],
      "metadata": {
        "colab": {
          "base_uri": "https://localhost:8080/"
        },
        "id": "yqMfxKlMW5My",
        "outputId": "79829d79-3a5e-45c4-f2ca-d434a822138f"
      },
      "execution_count": null,
      "outputs": [
        {
          "output_type": "execute_result",
          "data": {
            "text/plain": [
              "[5, 3, 2.2, 2, -34]"
            ]
          },
          "metadata": {},
          "execution_count": 83
        }
      ]
    },
    {
      "cell_type": "code",
      "source": [
        "lista.sort(reverse=True)\n",
        "lista"
      ],
      "metadata": {
        "colab": {
          "base_uri": "https://localhost:8080/"
        },
        "id": "UqZLthF3W5cF",
        "outputId": "12700b87-1580-478f-c697-c527d6537b9d"
      },
      "execution_count": null,
      "outputs": [
        {
          "output_type": "execute_result",
          "data": {
            "text/plain": [
              "[5, 3, 2.2, 2, -34]"
            ]
          },
          "metadata": {},
          "execution_count": 89
        }
      ]
    },
    {
      "cell_type": "markdown",
      "source": [
        "diferença entre sorted() e .sort()\n",
        "- .sort() irá ordenar a lista em si. enquanto o sorted() vai retornar uma lista nova ordenada."
      ],
      "metadata": {
        "id": "Ze7pc1DACWBZ"
      }
    },
    {
      "cell_type": "markdown",
      "metadata": {
        "id": "oTBK0vl2Qr55"
      },
      "source": [
        "Para **inverter a ordem dos elementos**, use a função **reverse()**"
      ]
    },
    {
      "cell_type": "code",
      "source": [
        "lista = [3, 2 , 2.2, 5, -34]\n",
        "\n",
        "lista.reverse()\n",
        "lista"
      ],
      "metadata": {
        "colab": {
          "base_uri": "https://localhost:8080/"
        },
        "id": "X2QdEqgEW8tC",
        "outputId": "b7b96614-bf9c-4b94-ee74-aefa52dab486"
      },
      "execution_count": null,
      "outputs": [
        {
          "output_type": "execute_result",
          "data": {
            "text/plain": [
              "[-34, 5, 2.2, 2, 3]"
            ]
          },
          "metadata": {},
          "execution_count": 92
        }
      ]
    },
    {
      "cell_type": "markdown",
      "metadata": {
        "id": "nWsm_qgNQr57"
      },
      "source": [
        "Se quisermos saber **qual é a posição (índice) de determinado elemento**, usamos o método \".index()\".\n",
        "\n",
        "Este método retorna apenas a **primeira aparição** do elemento:"
      ]
    },
    {
      "cell_type": "code",
      "source": [
        "lista = [3, 2 , 2.2, -34,5, 5]\n",
        "\n",
        "lista.index(5)"
      ],
      "metadata": {
        "colab": {
          "base_uri": "https://localhost:8080/"
        },
        "id": "WU5IdxAJW-V3",
        "outputId": "77bd6bf5-8415-49f6-e806-5e56232a4704"
      },
      "execution_count": null,
      "outputs": [
        {
          "output_type": "execute_result",
          "data": {
            "text/plain": [
              "4"
            ]
          },
          "metadata": {},
          "execution_count": 96
        }
      ]
    },
    {
      "cell_type": "markdown",
      "source": [
        "Se quisermos encontrar a recorrência de um determinado elemento na nossa lista, podemos utilizar o .count()"
      ],
      "metadata": {
        "id": "NAd0J9u5AFZH"
      }
    },
    {
      "cell_type": "code",
      "source": [
        "lista = [3, 2 , 2.2, -34,5, 5,5,5,5,5]\n",
        "\n",
        "lista.count(5)"
      ],
      "metadata": {
        "colab": {
          "base_uri": "https://localhost:8080/"
        },
        "id": "MawLCGRtW_yb",
        "outputId": "3742559f-f13b-4aeb-8416-40e09848dee0"
      },
      "execution_count": null,
      "outputs": [
        {
          "output_type": "execute_result",
          "data": {
            "text/plain": [
              "6"
            ]
          },
          "metadata": {},
          "execution_count": 98
        }
      ]
    },
    {
      "cell_type": "markdown",
      "metadata": {
        "id": "pmCvEXNEQr58"
      },
      "source": [
        "### Podemos encontrar algumas informações descritivas da nossa lista:"
      ]
    },
    {
      "cell_type": "code",
      "source": [
        "lista = [3, 2 , 2.2, -34, 5, 5]\n"
      ],
      "metadata": {
        "id": "u_NbM2_0XB3E"
      },
      "execution_count": null,
      "outputs": []
    },
    {
      "cell_type": "markdown",
      "metadata": {
        "id": "lvl6akzjQr58"
      },
      "source": [
        "Para encontrar o maior elemento, use \"max()\":"
      ]
    },
    {
      "cell_type": "code",
      "source": [
        "max(lista)"
      ],
      "metadata": {
        "colab": {
          "base_uri": "https://localhost:8080/"
        },
        "id": "edSS-QfVXC50",
        "outputId": "36b0ec85-d932-4e0f-b702-e9a33ab68561"
      },
      "execution_count": null,
      "outputs": [
        {
          "output_type": "execute_result",
          "data": {
            "text/plain": [
              "5"
            ]
          },
          "metadata": {},
          "execution_count": 100
        }
      ]
    },
    {
      "cell_type": "markdown",
      "metadata": {
        "id": "Bor9OqLoQr59"
      },
      "source": [
        "Para encontrar o menor elemento, use \"min()\":"
      ]
    },
    {
      "cell_type": "code",
      "source": [
        "min(lista)"
      ],
      "metadata": {
        "colab": {
          "base_uri": "https://localhost:8080/"
        },
        "id": "imSkaukzXDwh",
        "outputId": "8edcebc6-f511-41c1-d87e-ce3b9f363bea"
      },
      "execution_count": null,
      "outputs": [
        {
          "output_type": "execute_result",
          "data": {
            "text/plain": [
              "-34"
            ]
          },
          "metadata": {},
          "execution_count": 101
        }
      ]
    },
    {
      "cell_type": "markdown",
      "metadata": {
        "id": "t0rNFJX8Qr59"
      },
      "source": [
        "Para encontrar o número de elementos (ou seja, qual é o \"tamanho\" da lista), use \"len()\":"
      ]
    },
    {
      "cell_type": "code",
      "source": [
        "len(lista)"
      ],
      "metadata": {
        "colab": {
          "base_uri": "https://localhost:8080/"
        },
        "id": "ejzIkX7UXFJH",
        "outputId": "19c5ddf0-0e68-4b8c-e168-e71d7836501b"
      },
      "execution_count": null,
      "outputs": [
        {
          "output_type": "execute_result",
          "data": {
            "text/plain": [
              "6"
            ]
          },
          "metadata": {},
          "execution_count": 105
        }
      ]
    },
    {
      "cell_type": "markdown",
      "metadata": {
        "id": "S5-M9W45Qr6L"
      },
      "source": [
        "Para somar os elementos da lista, use \"sum()\":"
      ]
    },
    {
      "cell_type": "code",
      "source": [
        "lista = [1,2,10]\n",
        "sum(lista)"
      ],
      "metadata": {
        "colab": {
          "base_uri": "https://localhost:8080/"
        },
        "id": "Z-61O_y_XHg-",
        "outputId": "4bc7c229-03cf-4c7b-9139-687e01de433b"
      },
      "execution_count": null,
      "outputs": [
        {
          "output_type": "execute_result",
          "data": {
            "text/plain": [
              "13"
            ]
          },
          "metadata": {},
          "execution_count": 111
        }
      ]
    },
    {
      "cell_type": "markdown",
      "metadata": {
        "id": "klaIKcRgQr6L"
      },
      "source": [
        "Agora fica bem fácil encontrar a média dos números em uma lista:"
      ]
    },
    {
      "cell_type": "code",
      "source": [
        "notas_aluno = [10,8,7,9]\n",
        "\n",
        "sum(notas_aluno)/len(notas_aluno)"
      ],
      "metadata": {
        "colab": {
          "base_uri": "https://localhost:8080/"
        },
        "id": "WTknhXaAXIp3",
        "outputId": "f8608741-f10a-4759-b9aa-9dc860abfcb5"
      },
      "execution_count": null,
      "outputs": [
        {
          "output_type": "execute_result",
          "data": {
            "text/plain": [
              "8.5"
            ]
          },
          "metadata": {},
          "execution_count": 112
        }
      ]
    },
    {
      "cell_type": "markdown",
      "metadata": {
        "id": "2GZVbqBZQr6N"
      },
      "source": [
        "### Filas e Pilhas"
      ]
    },
    {
      "cell_type": "code",
      "source": [
        "fila = []\n",
        "\n",
        "fila.append(\"pedro\")\n",
        "print(f\"populando minha lista... {fila}\")\n",
        "\n",
        "fila.append(\"theo\")\n",
        "print(f\"populando minha lista... {fila}\")\n",
        "\n",
        "fila.append(\"luisa\")\n",
        "print(f\"populando minha lista... {fila}\")\n",
        "\n",
        "print(\"\\n\")\n",
        "\n",
        "print(f\"proximo: {fila.pop(0)}\")\n",
        "print(f\"fila: {fila}\")\n"
      ],
      "metadata": {
        "colab": {
          "base_uri": "https://localhost:8080/"
        },
        "id": "kq94GPPKXNq9",
        "outputId": "9b5cc1bd-ed07-4740-e108-1720a3e6ffec"
      },
      "execution_count": null,
      "outputs": [
        {
          "output_type": "stream",
          "name": "stdout",
          "text": [
            "populando minha lista... ['pedro']\n",
            "populando minha lista... ['pedro', 'theo']\n",
            "populando minha lista... ['pedro', 'theo', 'luisa']\n",
            "\n",
            "\n",
            "proximo: pedro\n",
            "fila: ['theo', 'luisa']\n"
          ]
        }
      ]
    },
    {
      "cell_type": "code",
      "source": [
        "pilha = []\n",
        "\n",
        "pilha.append(\"doc1\")\n",
        "print(f\"populando minha lista... {fila}\")\n",
        "\n",
        "pilha.append(\"doc2\")\n",
        "print(f\"populando minha lista... {fila}\")\n",
        "\n",
        "pilha.append(\"doc3\")\n",
        "print(f\"populando minha lista... {fila}\")\n",
        "\n",
        "print(\"\\n\")\n",
        "\n",
        "print(f\"proximo: {pilha.pop()}\")\n",
        "print(f\"fila: {pilha}\")\n"
      ],
      "metadata": {
        "colab": {
          "base_uri": "https://localhost:8080/"
        },
        "id": "tly4V_MiXOZw",
        "outputId": "dad0fc74-8af3-478e-f07f-983a3171c5a9"
      },
      "execution_count": null,
      "outputs": [
        {
          "output_type": "stream",
          "name": "stdout",
          "text": [
            "populando minha lista... ['theo', 'luisa', 'doc1']\n",
            "populando minha lista... ['theo', 'luisa', 'doc1']\n",
            "populando minha lista... ['theo', 'luisa', 'doc1']\n",
            "\n",
            "\n",
            "proximo: doc3\n",
            "fila: ['doc1', 'doc2']\n"
          ]
        }
      ]
    },
    {
      "cell_type": "markdown",
      "source": [
        "Alguns exemplos práticos do meu dia a dia de fila ou pilha..."
      ],
      "metadata": {
        "id": "2Muf-2NAh8yY"
      }
    },
    {
      "cell_type": "markdown",
      "metadata": {
        "id": "cc1O-NPNQr6P"
      },
      "source": [
        "## Exercícios"
      ]
    },
    {
      "cell_type": "markdown",
      "source": [
        "\n",
        "1) Dada uma lista encadeada de caracteres formada por uma seqüência alternada de\n",
        "letras e dígitos, construa um método que retorne uma lista na qual as letras são mantidas\n",
        "na seqüência original e os dígitos são colocados na ordem inversa que aparecem na lista. Exemplos:\n",
        "\n",
        "\n",
        "A 1 E 5 T 7 W 8 G<br>\n",
        "resposta: A E T W G 8 7 5 1\n",
        "\n",
        "3 C 9 H 4 Q 6<br>\n",
        "resposta: C H Q 6 4 9 3\n",
        "\n",
        "\n",
        "Como mostram os exemplos, as letras devem ser mostradas primeiro, seguidas dos\n",
        "dígitos. Sugestões:\n",
        "- usar uma fila e uma pilha;\n",
        "- usar método .isdigit() que retorna booleano que retorna verdadeiro caso um\n",
        "caractere seja um dígito. https://www.w3schools.com/python/ref_string_isdigit.asp\n"
      ],
      "metadata": {
        "id": "XnM8HGpZEIi-"
      }
    },
    {
      "cell_type": "code",
      "source": [
        "codigo = \"35DF58VCB5D4\"\n",
        "\n",
        "lista_letras = []\n",
        "lista_numeros = []\n",
        "\n",
        "for caracter in codigo:\n",
        "    if caracter.isdigit():\n",
        "        lista_numeros.append(caracter)\n",
        "    else:\n",
        "        lista_letras.append(caracter)\n",
        "\n",
        "lista_numeros.reverse()\n",
        "lista_concatenada = lista_letras + lista_numeros\n",
        "codigo_final = \"\".join(lista_concatenada)\n",
        "print(codigo_final)"
      ],
      "metadata": {
        "id": "cLd8LiamXR5K",
        "colab": {
          "base_uri": "https://localhost:8080/"
        },
        "outputId": "b50abaa3-9256-4d18-cca8-6ae87a9171cb"
      },
      "execution_count": null,
      "outputs": [
        {
          "output_type": "stream",
          "name": "stdout",
          "text": [
            "DFVCBD458553\n"
          ]
        }
      ]
    },
    {
      "cell_type": "markdown",
      "metadata": {
        "id": "00Wrm06mQr6R"
      },
      "source": [
        "2) Faça um algoritmo que recebe uma lista encadeada de números inteiros e retorna uma lista sem repetições, ou seja, uma lista onde cada número apareça apenas uma\n",
        "vez. Exemplo:\n",
        "\n",
        "12, 5, -7, 8, 5, 9, 12, 1, 8 <br>\n",
        "resposta: 12, 5, -7, 8, 9, 1\n"
      ]
    },
    {
      "cell_type": "code",
      "source": [
        "lista = [1, 1, 2, 1, 3, 4, 3, 6, 7, 6, 7, 8, 10 ,9]\n",
        "lista_sem_repeticao = []\n",
        "\n",
        "for i in lista:\n",
        "    if i not in lista_sem_repeticao:\n",
        "        lista_sem_repeticao.append(i)\n",
        "        lista_sem_repeticao.sort()\n",
        "        \n",
        "print (lista_sem_repeticao)"
      ],
      "metadata": {
        "colab": {
          "base_uri": "https://localhost:8080/"
        },
        "id": "TN4X8V8ypKz_",
        "outputId": "945c8d6f-ca97-43a1-8a52-3e1f32d2359a"
      },
      "execution_count": null,
      "outputs": [
        {
          "output_type": "stream",
          "name": "stdout",
          "text": [
            "[1, 2, 3, 4, 6, 7, 8, 9, 10]\n"
          ]
        }
      ]
    },
    {
      "cell_type": "markdown",
      "source": [
        "3) crie um código que receba um número a ser pesquisado em uma lista simples (não aninhada). Esse código deve remover tanto a representação desse número em string (ex: \"1\") quanto número (ex: 1) que foi recebido. No final, retorne a lista com o termo já removido"
      ],
      "metadata": {
        "id": "Vpry3yftztbe"
      }
    },
    {
      "cell_type": "code",
      "source": [
        "lista = [1, 5, '3', 3, '1', 9]\n",
        "\n",
        "numero = (input(\"Digite um número: \"))\n",
        "\n",
        "\n",
        "if numero in lista:\n",
        "    lista.remove(int(numero)) \n",
        "if numero in lista:\n",
        "    lista.remove(str(numero))\n",
        "\n",
        "print(lista)\n",
        "\n"
      ],
      "metadata": {
        "id": "PCWrjNPDXTwX",
        "colab": {
          "base_uri": "https://localhost:8080/"
        },
        "outputId": "643877c5-b1bb-4181-f5aa-5949577ba934"
      },
      "execution_count": null,
      "outputs": [
        {
          "output_type": "stream",
          "name": "stdout",
          "text": [
            "Digite um número: 5\n",
            "[1, 5, '3', 3, '1', 9]\n"
          ]
        }
      ]
    },
    {
      "cell_type": "markdown",
      "source": [
        "4) Dado uma lista1, conseguir medir a distância para outras lista2 e lista3.\n",
        "\n",
        "Premissas:\n",
        "- Todas as três listas sempre terão comprimentos iguais\n",
        "\n",
        "- O código vai conseguir calcular a distância independente do número de elementos da lista\n",
        "\n",
        "- O código vai retornar as distâncias em uma única lista\n",
        "\n",
        "- Por enquanto não vamos utilizar o input() para receber os valores da lista. Vamos utilizar da maneira habitual de atribuir uma lista a uma variável:\n",
        "```python\n",
        "lista1 = [elementos da lista 1]\n",
        "lista2 = [elementos da lista 2]\n",
        "lista3 = [elementos da lista 3]\n",
        "```\n",
        "\n",
        "sobre distância euclidiana: https://pt.wikipedia.org/wiki/Dist%C3%A2ncia_euclidiana"
      ],
      "metadata": {
        "id": "7DDcvZVpzz55"
      }
    },
    {
      "cell_type": "code",
      "source": [
        "# distância euclidiana\n",
        "# semelhante ao teorema de pitágoras, apenas adicionamos n elementos a mais\n",
        "ponto1 = [3,4,0]\n",
        "ponto2 = [0,0,0]\n",
        "lista3 = [1,2,3]\n",
        "\n",
        "ponto1_2 = ([(ponto2[0]-ponto1[0]) ** 2 , (ponto2[1]-ponto1[1]) ** 2, (ponto2[2]-ponto1[2]) ** 2])\n",
        "ponto_final = ([(lista3[0]-ponto1_2[0]) ** 2, (lista3[1]-ponto1_2[1]) **2, (lista3[2]-ponto1_2[2] ** 2)])\n",
        "distancia = sum(ponto_final) ** (1/2)\n",
        "distancia"
      ],
      "metadata": {
        "id": "MWYrk-3FXYvy",
        "colab": {
          "base_uri": "https://localhost:8080/"
        },
        "outputId": "255addfe-945c-4001-a8e5-ba90f990368b"
      },
      "execution_count": null,
      "outputs": [
        {
          "output_type": "execute_result",
          "data": {
            "text/plain": [
              "16.217274740226856"
            ]
          },
          "metadata": {},
          "execution_count": 60
        }
      ]
    },
    {
      "cell_type": "code",
      "source": [
        "ponto1 = [3,4,0]\n",
        "ponto2 = [0,0,0]\n",
        "\n",
        "\n",
        "ponto1_2 = ([(ponto2[0]-ponto1[0]) ** 2 , (ponto2[1]-ponto1[1]) ** 2, (ponto2[2]-ponto1[2]) ** 2])\n",
        "distancia = sum(ponto1_2) ** (1/2)\n",
        "distancia"
      ],
      "metadata": {
        "id": "Ov_R2GeIXY1K",
        "colab": {
          "base_uri": "https://localhost:8080/"
        },
        "outputId": "85a027ed-754b-46bf-a42f-046df26deced"
      },
      "execution_count": null,
      "outputs": [
        {
          "output_type": "execute_result",
          "data": {
            "text/plain": [
              "5.0"
            ]
          },
          "metadata": {},
          "execution_count": 61
        }
      ]
    },
    {
      "cell_type": "code",
      "source": [
        "lista1 = [1,2,3,4,5,6]\n",
        "lista2 = [6,5,4,3,2,1]\n",
        "lista3 = [0,2,4,6,8,10]\n",
        "\n",
        "radicando1 = 0\n",
        "radicando2 = 0\n",
        "\n",
        "for i in range(len(lista1)):\n",
        "    radicando1 += (lista2[i]-lista1[i])**2\n",
        "    radicando2 += (lista3[i]-lista1[i])**2\n",
        "    \n",
        "distancia_12 = radicando1**(1/2)\n",
        "distancia_13 = radicando2**(1/2)\n",
        "\n",
        "distancias = [distancia_12 , distancia_13]\n",
        "\n",
        "print(distancias)"
      ],
      "metadata": {
        "colab": {
          "base_uri": "https://localhost:8080/"
        },
        "id": "O5sAujp4LwOc",
        "outputId": "690caf69-a31d-49f5-f605-647caa9de0a7"
      },
      "execution_count": null,
      "outputs": [
        {
          "output_type": "stream",
          "name": "stdout",
          "text": [
            "[8.366600265340756, 5.5677643628300215]\n"
          ]
        }
      ]
    },
    {
      "cell_type": "code",
      "source": [
        "lista1 = [1,2,3,4,5,6]\n",
        "lista2 = [6,5,4,3,2,1]\n",
        "lista3 = [0,2,4,6,8,10]\n",
        "\n",
        "indice = 0\n",
        "lista_dist_coord_p_lista2 = []\n",
        "lista_dist_coord_p_lista3 = []\n",
        "\n",
        "while indice < len(lista1):\n",
        "    distancia_elemento_lista_2 = (lista1[indice] - lista2[indice]) ** 2\n",
        "    lista_dist_coord_p_lista2.append(distancia_elemento_lista_2)\n",
        "\n",
        "    distancia_elemento_lista_3 = (lista1[indice] - lista3[indice]) ** 2\n",
        "    lista_dist_coord_p_lista3.append(distancia_elemento_lista_3)\n",
        "\n",
        "    indice += 1\n",
        "\n",
        "distancias = [sum(lista_dist_coord_p_lista2) **(1/2), sum(lista_dist_coord_p_lista3) **(1/2)]\n",
        "distancias"
      ],
      "metadata": {
        "colab": {
          "base_uri": "https://localhost:8080/"
        },
        "id": "lnukd9sOTWLZ",
        "outputId": "e51ff426-17ea-4210-b4ae-b27f1e0dccce"
      },
      "execution_count": null,
      "outputs": [
        {
          "output_type": "execute_result",
          "data": {
            "text/plain": [
              "[8.366600265340756, 5.5677643628300215]"
            ]
          },
          "metadata": {},
          "execution_count": 14
        }
      ]
    }
  ],
  "metadata": {
    "kernelspec": {
      "display_name": "Python 3",
      "language": "python",
      "name": "python3"
    },
    "language_info": {
      "codemirror_mode": {
        "name": "ipython",
        "version": 3
      },
      "file_extension": ".py",
      "mimetype": "text/x-python",
      "name": "python",
      "nbconvert_exporter": "python",
      "pygments_lexer": "ipython3",
      "version": "3.8.5"
    },
    "colab": {
      "provenance": [],
      "include_colab_link": true
    }
  },
  "nbformat": 4,
  "nbformat_minor": 0
}