{
  "nbformat": 4,
  "nbformat_minor": 0,
  "metadata": {
    "colab": {
      "provenance": [],
      "collapsed_sections": [],
      "include_colab_link": true
    },
    "kernelspec": {
      "name": "python3",
      "display_name": "Python 3"
    },
    "language_info": {
      "name": "python"
    }
  },
  "cells": [
    {
      "cell_type": "markdown",
      "metadata": {
        "id": "view-in-github",
        "colab_type": "text"
      },
      "source": [
        "<a href=\"https://colab.research.google.com/github/TiaErikaDev/ADA-Logica_Programacao/blob/main/Aula01_Conceitos_Iniciais_do_Python_Conceitos_inicias_Vari%C3%A1veis%2C_Sistema_de_Tipos%2C_Aritm%C3%A9tica_Computacional.ipynb\" target=\"_parent\"><img src=\"https://colab.research.google.com/assets/colab-badge.svg\" alt=\"Open In Colab\"/></a>"
      ]
    },
    {
      "cell_type": "markdown",
      "source": [
        "# Aula 1 - Conceitos Iniciais do Python"
      ],
      "metadata": {
        "id": "4vwYaEbEZ4nY"
      }
    },
    {
      "cell_type": "markdown",
      "source": [
        "## IDE - Integrated Development Environment\n",
        "\n",
        "Ambiente de desenvolvimento integrado"
      ],
      "metadata": {
        "id": "dxaUJgITnoKg"
      }
    },
    {
      "cell_type": "markdown",
      "source": [
        "Existem várias opções no mercado. Algumas das mais conhecidas:\n",
        "- Visual Studio Code\n",
        "- Jupyter Notebook\n",
        "- Google Colaboratory\n",
        "- PyCharm\n",
        "- Atom\n",
        "- (...)"
      ],
      "metadata": {
        "id": "qYwa_oHgoEJP"
      }
    },
    {
      "cell_type": "markdown",
      "source": [
        "Vamos utilizar o Google Colab.\n",
        "- Cada IDE procura endereçar um problema a ser resolvido\n",
        "\n",
        "O colab se destaca por:\n",
        "- configurações padrões entre colabs\n",
        "- fácil compartilhamento\n",
        "- acessível\n",
        "- gratuito"
      ],
      "metadata": {
        "id": "48Py7ZToodLF"
      }
    },
    {
      "cell_type": "markdown",
      "source": [
        "## Variáveis e Sistema de tipos"
      ],
      "metadata": {
        "id": "rLkj-2pghoYv"
      }
    },
    {
      "cell_type": "markdown",
      "source": [
        "\n",
        "Variáveis como o próprio nome diz são \"coisas\" variáveis, e usaremos eles para armazenar nossos dados.\n",
        "dados possuem tipos:\n",
        "- str (string) que armazena texto\n",
        "- int (integer) que armazena números inteiros\n",
        "- float que armazena números decimais (separado por ponto!)\n",
        "- bool (boolean) que armazena True ou False. (Sempre com a primeira letra maiúscula)\n",
        "\n",
        "Embora o Python faça o trabalho de saber o que é o que sozinho, você precisa entender os tipos de dados para trabalhar com eles\n",
        "\n"
      ],
      "metadata": {
        "id": "hB4-_6dUe7m6"
      }
    },
    {
      "cell_type": "code",
      "source": [
        "variavel_integer = 10\n",
        "variavel_float = 1.1415\n",
        "variavel_string = \"theo\"\n",
        "variavel_bool = True  # diferente de true (tudo minúsculo)\n",
        "\n",
        "variavel_integer = 'teste'\n",
        "variavel_integer"
      ],
      "metadata": {
        "colab": {
          "base_uri": "https://localhost:8080/",
          "height": 35
        },
        "id": "MTXE9T4J_mh9",
        "outputId": "e1acf9d2-8000-4217-d9e3-c84557212133"
      },
      "execution_count": null,
      "outputs": [
        {
          "output_type": "execute_result",
          "data": {
            "text/plain": [
              "'teste'"
            ],
            "application/vnd.google.colaboratory.intrinsic+json": {
              "type": "string"
            }
          },
          "metadata": {},
          "execution_count": 2
        }
      ]
    },
    {
      "cell_type": "markdown",
      "source": [
        "Dica:\n",
        "- Use nome explicativos para sua variável\n",
        "- Evite usar caracteres especiais\n",
        "- Não utilize nome reservados. Ex: True, if, etc. Lista de nomes reservados: [palavras-chave reservadas](https://flexiple.com/python/python-reserved-words/)\n",
        "- Evite de modo geral nomes que já são usados nativamente para alguma coisa. exemplo: print, type, etc."
      ],
      "metadata": {
        "id": "ud0-Ztb9hsXK"
      }
    },
    {
      "cell_type": "markdown",
      "source": [
        "Os tipos podem ser explicados usando **:tipo** depois do nome de variável, além disso podemos fazer o cast(mudança de tipo) usando tipoDado(dadoquequerconverter) entre variáveis de diferentes tipos, mas note que isso pode gerar problemas se feito deliberadamente\n",
        "\n"
      ],
      "metadata": {
        "id": "x72yvaVLgBsk"
      }
    },
    {
      "cell_type": "code",
      "source": [
        "idade:int = 7\n",
        "nome:str = \"theo\"\n",
        "\n",
        "\n",
        "pi:float = 3.1415\n",
        "\n",
        "print(type(pi))\n",
        "\n",
        "# essa variável será um boleano\n",
        "pi:float = True\n",
        "\n",
        "print(type(pi))"
      ],
      "metadata": {
        "colab": {
          "base_uri": "https://localhost:8080/"
        },
        "id": "8bwpvVcN_n7T",
        "outputId": "e0f445b6-a7f5-4313-abb7-ea46380d995e"
      },
      "execution_count": null,
      "outputs": [
        {
          "output_type": "stream",
          "name": "stdout",
          "text": [
            "<class 'float'>\n",
            "<class 'bool'>\n"
          ]
        }
      ]
    },
    {
      "cell_type": "markdown",
      "source": [
        "Importante termos atenção nas conversões de tipo principalmente quando migrarmos de um tipo de escopo maior para um menor. O que quero dizer com isso?\n",
        "\n",
        "quantidade de possibilidades:\n",
        "- string > float > integrer > boolean\n",
        "\n"
      ],
      "metadata": {
        "id": "JIl_INK0ryXX"
      }
    },
    {
      "cell_type": "code",
      "source": [
        "int(\"a\")"
      ],
      "metadata": {
        "colab": {
          "base_uri": "https://localhost:8080/",
          "height": 166
        },
        "id": "IPzgLiKm_qQO",
        "outputId": "6846751f-66cc-4826-aed8-15b57823f107"
      },
      "execution_count": null,
      "outputs": [
        {
          "output_type": "error",
          "ename": "ValueError",
          "evalue": "ignored",
          "traceback": [
            "\u001b[0;31m---------------------------------------------------------------------------\u001b[0m",
            "\u001b[0;31mValueError\u001b[0m                                Traceback (most recent call last)",
            "\u001b[0;32m<ipython-input-7-d9136db7b558>\u001b[0m in \u001b[0;36m<module>\u001b[0;34m\u001b[0m\n\u001b[0;32m----> 1\u001b[0;31m \u001b[0mint\u001b[0m\u001b[0;34m(\u001b[0m\u001b[0;34m\"a\"\u001b[0m\u001b[0;34m)\u001b[0m\u001b[0;34m\u001b[0m\u001b[0;34m\u001b[0m\u001b[0m\n\u001b[0m",
            "\u001b[0;31mValueError\u001b[0m: invalid literal for int() with base 10: 'a'"
          ]
        }
      ]
    },
    {
      "cell_type": "code",
      "source": [
        "int(7.5)"
      ],
      "metadata": {
        "colab": {
          "base_uri": "https://localhost:8080/"
        },
        "id": "6sJjN5Gl_qUI",
        "outputId": "9667c93d-1d40-4679-d952-59639c70d672"
      },
      "execution_count": null,
      "outputs": [
        {
          "output_type": "execute_result",
          "data": {
            "text/plain": [
              "7"
            ]
          },
          "metadata": {},
          "execution_count": 14
        }
      ]
    },
    {
      "cell_type": "code",
      "source": [
        "int(7.9)"
      ],
      "metadata": {
        "colab": {
          "base_uri": "https://localhost:8080/"
        },
        "id": "hioH53Xn_qXr",
        "outputId": "38d8f0a2-1c95-4ff4-f489-2b7d8e40b219"
      },
      "execution_count": null,
      "outputs": [
        {
          "output_type": "execute_result",
          "data": {
            "text/plain": [
              "7"
            ]
          },
          "metadata": {},
          "execution_count": 15
        }
      ]
    },
    {
      "cell_type": "code",
      "source": [
        "bool(\"False.\") # qualquer valor de string será convertido para True"
      ],
      "metadata": {
        "colab": {
          "base_uri": "https://localhost:8080/"
        },
        "id": "Mf0VtmxW_qbP",
        "outputId": "14c49202-3216-416a-86b0-45ff6964528c"
      },
      "execution_count": null,
      "outputs": [
        {
          "output_type": "execute_result",
          "data": {
            "text/plain": [
              "True"
            ]
          },
          "metadata": {},
          "execution_count": 17
        }
      ]
    },
    {
      "cell_type": "code",
      "source": [
        "bool(\"\")"
      ],
      "metadata": {
        "colab": {
          "base_uri": "https://localhost:8080/"
        },
        "id": "SmkSBl7K_qem",
        "outputId": "b6605b3d-fa32-4ea6-e449-18a16b0d0a37"
      },
      "execution_count": null,
      "outputs": [
        {
          "output_type": "execute_result",
          "data": {
            "text/plain": [
              "False"
            ]
          },
          "metadata": {},
          "execution_count": 18
        }
      ]
    },
    {
      "cell_type": "code",
      "source": [
        "str(False)"
      ],
      "metadata": {
        "colab": {
          "base_uri": "https://localhost:8080/",
          "height": 35
        },
        "id": "To-jmu6K_qif",
        "outputId": "b07bb2bc-14c2-4e35-a383-dcb8b87fc851"
      },
      "execution_count": null,
      "outputs": [
        {
          "output_type": "execute_result",
          "data": {
            "text/plain": [
              "'False'"
            ],
            "application/vnd.google.colaboratory.intrinsic+json": {
              "type": "string"
            }
          },
          "metadata": {},
          "execution_count": 19
        }
      ]
    },
    {
      "cell_type": "markdown",
      "source": [
        "Portanto, dependendo do valor a ser alterado e a mudança de tipo três coisas \"não-desejadas\" podem acontecer:\n",
        "\n",
        "- Informação incorreta. ex: string \"False\" vira boolean True\n",
        "- Perder informação. ex: arredondamento pra baixo de float para int\n",
        "- Quebrar o código\n",
        "\n",
        "\n",
        "Pergunta: Quais dessas três consequências indesejáveis é a pior?"
      ],
      "metadata": {
        "id": "_larrthxtvvY"
      }
    },
    {
      "cell_type": "markdown",
      "source": [
        "Existem mais outras formas de atribuir valores às variáveis"
      ],
      "metadata": {
        "id": "on530KFEueN8"
      }
    },
    {
      "cell_type": "code",
      "source": [
        "x, y, z = 0, 5.0, True # múltiplas variáveis e múltiplos valores\n",
        "y"
      ],
      "metadata": {
        "colab": {
          "base_uri": "https://localhost:8080/"
        },
        "id": "fVAZwi0Q_sYt",
        "outputId": "1538590a-a26d-4a1b-81a5-db19727a558f"
      },
      "execution_count": null,
      "outputs": [
        {
          "output_type": "execute_result",
          "data": {
            "text/plain": [
              "5.0"
            ]
          },
          "metadata": {},
          "execution_count": 24
        }
      ]
    },
    {
      "cell_type": "code",
      "source": [
        "a = b = c = 0 # múltiplas variáveis e valor único"
      ],
      "metadata": {
        "id": "jAMWaeHnLsZW"
      },
      "execution_count": null,
      "outputs": []
    },
    {
      "cell_type": "markdown",
      "source": [
        "# Operadores Matemáticos e Comunicação com o Usuário"
      ],
      "metadata": {
        "id": "xFDJVbYjaDq3"
      }
    },
    {
      "cell_type": "markdown",
      "source": [
        "O Python faz operações matemáticas entre variáveis e dados puros, a seguir temos uma tabela com os operadores e seus propósitos:\n"
      ],
      "metadata": {
        "id": "WwZ2u8fyabJv"
      }
    },
    {
      "cell_type": "markdown",
      "source": [
        "<center>\n",
        "\n",
        "operador | propósito\n",
        "--- | ---\n",
        "+ | adição\n",
        "- | subtração\n",
        "* | multiplicação\n",
        "/ | divisão\n",
        "% | resto de divisão\n",
        "// | divisão inteira\n",
        "** | potenciação\n",
        "\n",
        "</center>"
      ],
      "metadata": {
        "id": "zbBn6YTYaoAQ"
      }
    },
    {
      "cell_type": "markdown",
      "source": [
        "Além disso, fazemos uso de parênteses para definir ordem de contas assim como na matemática"
      ],
      "metadata": {
        "id": "aWWJuSt3cd-9"
      }
    },
    {
      "cell_type": "code",
      "source": [
        "a = 5\n",
        "b = 2"
      ],
      "metadata": {
        "id": "sLAEWIUd_uyx"
      },
      "execution_count": null,
      "outputs": []
    },
    {
      "cell_type": "code",
      "source": [
        "a+b"
      ],
      "metadata": {
        "colab": {
          "base_uri": "https://localhost:8080/"
        },
        "id": "qNf9MuTd_u3R",
        "outputId": "53ce592f-59a1-427c-de23-2842116ffc10"
      },
      "execution_count": null,
      "outputs": [
        {
          "output_type": "execute_result",
          "data": {
            "text/plain": [
              "7"
            ]
          },
          "metadata": {},
          "execution_count": 27
        }
      ]
    },
    {
      "cell_type": "code",
      "source": [
        "a-b"
      ],
      "metadata": {
        "colab": {
          "base_uri": "https://localhost:8080/"
        },
        "id": "FjBfZnR5_u7u",
        "outputId": "b9685d07-0cf3-4525-bf67-a452d7bd17de"
      },
      "execution_count": null,
      "outputs": [
        {
          "output_type": "execute_result",
          "data": {
            "text/plain": [
              "3"
            ]
          },
          "metadata": {},
          "execution_count": 28
        }
      ]
    },
    {
      "cell_type": "code",
      "source": [
        "a*b"
      ],
      "metadata": {
        "colab": {
          "base_uri": "https://localhost:8080/"
        },
        "id": "8H29J2Az_u__",
        "outputId": "16c757fa-edf9-4446-f229-2d4aedb5c6fe"
      },
      "execution_count": null,
      "outputs": [
        {
          "output_type": "execute_result",
          "data": {
            "text/plain": [
              "10"
            ]
          },
          "metadata": {},
          "execution_count": 29
        }
      ]
    },
    {
      "cell_type": "code",
      "source": [
        "a/b"
      ],
      "metadata": {
        "colab": {
          "base_uri": "https://localhost:8080/"
        },
        "id": "NHg52Znb_vEE",
        "outputId": "44ba6cdc-22c4-4bc0-b00f-68d16bef7bce"
      },
      "execution_count": null,
      "outputs": [
        {
          "output_type": "execute_result",
          "data": {
            "text/plain": [
              "2.5"
            ]
          },
          "metadata": {},
          "execution_count": 30
        }
      ]
    },
    {
      "cell_type": "code",
      "source": [
        "a%b"
      ],
      "metadata": {
        "colab": {
          "base_uri": "https://localhost:8080/"
        },
        "id": "FfnVzeP7_vIM",
        "outputId": "493d3a26-61d4-4f02-a48f-cf203d5a0f45"
      },
      "execution_count": null,
      "outputs": [
        {
          "output_type": "execute_result",
          "data": {
            "text/plain": [
              "1"
            ]
          },
          "metadata": {},
          "execution_count": 31
        }
      ]
    },
    {
      "cell_type": "code",
      "source": [
        "a//b"
      ],
      "metadata": {
        "colab": {
          "base_uri": "https://localhost:8080/"
        },
        "id": "u26456Va_vMH",
        "outputId": "da3fcbf3-f4c0-4605-eafe-2aa5797500b2"
      },
      "execution_count": null,
      "outputs": [
        {
          "output_type": "execute_result",
          "data": {
            "text/plain": [
              "2"
            ]
          },
          "metadata": {},
          "execution_count": 32
        }
      ]
    },
    {
      "cell_type": "code",
      "source": [
        "a**b"
      ],
      "metadata": {
        "colab": {
          "base_uri": "https://localhost:8080/"
        },
        "id": "YMq7qRY4_vQn",
        "outputId": "90634abd-4dac-46f4-8e71-963f0a966de3"
      },
      "execution_count": null,
      "outputs": [
        {
          "output_type": "execute_result",
          "data": {
            "text/plain": [
              "25"
            ]
          },
          "metadata": {},
          "execution_count": 33
        }
      ]
    },
    {
      "cell_type": "code",
      "source": [
        "# não existe um operador de raiz no python\n",
        "9**(1/2)"
      ],
      "metadata": {
        "colab": {
          "base_uri": "https://localhost:8080/"
        },
        "id": "hemyRZ_A_vWA",
        "outputId": "deae5701-8f2e-458b-d3c1-83b1682283a3"
      },
      "execution_count": null,
      "outputs": [
        {
          "output_type": "execute_result",
          "data": {
            "text/plain": [
              "3.0"
            ]
          },
          "metadata": {},
          "execution_count": 38
        }
      ]
    },
    {
      "cell_type": "markdown",
      "source": [
        "Observação\n",
        "- não existe um operador de raiz ($\\sqrt[.]{.}$) no python\n",
        " - mas conseguimos fazer isso usando uma regra matemática\n",
        " - o número que se estava tirando a raiz será elevado a 1/valor da raiz\n",
        " - o valor da raiz é por exemplo o \"quadrado\" (2) da raiz quadrada ou o cubo (3), etc.\n",
        " - exemplo: raiz quadrada (2) de 9 ficaria 9**(1/2)"
      ],
      "metadata": {
        "id": "Y56uAYYLkjHv"
      }
    },
    {
      "cell_type": "markdown",
      "source": [
        "<center>\n",
        "Isso:\n",
        "\n",
        "$\\sqrt[2]{9}$\n",
        "\n",
        "É igual a isso:\n",
        "\n",
        "$9^{1/2}$\n",
        "</center>"
      ],
      "metadata": {
        "id": "xUrfH2QjijkY"
      }
    },
    {
      "cell_type": "code",
      "source": [
        "numero_a_ser_tirado_raiz = 4\n",
        "raiz = 2 # quadrada\n",
        "numero_a_ser_tirado_raiz**(1/raiz)"
      ],
      "metadata": {
        "colab": {
          "base_uri": "https://localhost:8080/"
        },
        "id": "kyd2VYXB_xKO",
        "outputId": "4a07ca93-c76a-45b9-921d-fadd88249107"
      },
      "execution_count": null,
      "outputs": [
        {
          "output_type": "execute_result",
          "data": {
            "text/plain": [
              "2.0"
            ]
          },
          "metadata": {},
          "execution_count": 36
        }
      ]
    },
    {
      "cell_type": "markdown",
      "source": [
        "As operações seguem as ordems matemáticas habituais que já conhecemos\n",
        "\n",
        "<center>\n",
        "PEMDAS\n",
        "\n",
        "sigla | operador\n",
        "--- | ---\n",
        "P | Parênteses\n",
        "E | Exponenciais raizes\n",
        "MD | Multiplicações e divisões\n",
        "AS | Adições e subtrações\n",
        "</center>"
      ],
      "metadata": {
        "id": "XbwL3KBOmaxF"
      }
    },
    {
      "cell_type": "code",
      "source": [
        "print(9**1/2)\n",
        "print(9**(1/2))"
      ],
      "metadata": {
        "colab": {
          "base_uri": "https://localhost:8080/"
        },
        "id": "MSDLo3uo_yqf",
        "outputId": "283a1d39-fe8a-40d0-c217-6407161a5080"
      },
      "execution_count": null,
      "outputs": [
        {
          "output_type": "stream",
          "name": "stdout",
          "text": [
            "4.5\n",
            "3.0\n"
          ]
        }
      ]
    },
    {
      "cell_type": "markdown",
      "source": [
        "## Características das interações entre operadores e tipos entre si"
      ],
      "metadata": {
        "id": "fTFrnZ-d0xyD"
      }
    },
    {
      "cell_type": "code",
      "source": [
        "True**2"
      ],
      "metadata": {
        "colab": {
          "base_uri": "https://localhost:8080/"
        },
        "id": "8pUuJv3c_z8U",
        "outputId": "7dbff89e-0068-4157-996f-1b777b558227"
      },
      "execution_count": null,
      "outputs": [
        {
          "output_type": "execute_result",
          "data": {
            "text/plain": [
              "1"
            ]
          },
          "metadata": {},
          "execution_count": 40
        }
      ]
    },
    {
      "cell_type": "code",
      "source": [
        "True/2"
      ],
      "metadata": {
        "colab": {
          "base_uri": "https://localhost:8080/"
        },
        "id": "Cy5ktmMt_0AG",
        "outputId": "c24df170-4353-4077-de6f-9179edc9a3f7"
      },
      "execution_count": null,
      "outputs": [
        {
          "output_type": "execute_result",
          "data": {
            "text/plain": [
              "0.5"
            ]
          },
          "metadata": {},
          "execution_count": 41
        }
      ]
    },
    {
      "cell_type": "markdown",
      "source": [
        "Por que deram esses valores para as operações acima?"
      ],
      "metadata": {
        "id": "3cigIwhg2LHE"
      }
    },
    {
      "cell_type": "code",
      "source": [
        "4*4.0"
      ],
      "metadata": {
        "id": "z-e4FAy73CDh",
        "colab": {
          "base_uri": "https://localhost:8080/"
        },
        "outputId": "669bb27b-2ec8-4b71-ab0e-206054c73df6"
      },
      "execution_count": null,
      "outputs": [
        {
          "output_type": "execute_result",
          "data": {
            "text/plain": [
              "16.0"
            ]
          },
          "metadata": {},
          "execution_count": 44
        }
      ]
    },
    {
      "cell_type": "code",
      "source": [
        "8/2"
      ],
      "metadata": {
        "colab": {
          "base_uri": "https://localhost:8080/"
        },
        "id": "LtLldMzT_1_L",
        "outputId": "740fa10c-f04d-4b37-d3a5-649859b39d36"
      },
      "execution_count": null,
      "outputs": [
        {
          "output_type": "execute_result",
          "data": {
            "text/plain": [
              "400.0"
            ]
          },
          "metadata": {},
          "execution_count": 47
        }
      ]
    },
    {
      "cell_type": "code",
      "source": [
        "1 + \"1\""
      ],
      "metadata": {
        "colab": {
          "base_uri": "https://localhost:8080/",
          "height": 166
        },
        "id": "g7zpZ3Os_2EP",
        "outputId": "c6bb03bb-a358-4ef1-d003-4fcf2191fa91"
      },
      "execution_count": null,
      "outputs": [
        {
          "output_type": "error",
          "ename": "TypeError",
          "evalue": "ignored",
          "traceback": [
            "\u001b[0;31m---------------------------------------------------------------------------\u001b[0m",
            "\u001b[0;31mTypeError\u001b[0m                                 Traceback (most recent call last)",
            "\u001b[0;32m<ipython-input-48-b780703cc5f9>\u001b[0m in \u001b[0;36m<module>\u001b[0;34m\u001b[0m\n\u001b[0;32m----> 1\u001b[0;31m \u001b[0;36m1\u001b[0m \u001b[0;34m+\u001b[0m \u001b[0;34m\"1\"\u001b[0m\u001b[0;34m\u001b[0m\u001b[0;34m\u001b[0m\u001b[0m\n\u001b[0m",
            "\u001b[0;31mTypeError\u001b[0m: unsupported operand type(s) for +: 'int' and 'str'"
          ]
        }
      ]
    },
    {
      "cell_type": "markdown",
      "source": [
        "E o que vai acontecer se eu utilizar as outras operações na string? exemplo:\n"
      ],
      "metadata": {
        "id": "tERVl9OF6s99"
      }
    },
    {
      "cell_type": "code",
      "source": [
        "\"1\"**2"
      ],
      "metadata": {
        "id": "c-hM2pO-7HSR",
        "colab": {
          "base_uri": "https://localhost:8080/",
          "height": 166
        },
        "outputId": "a3bc6673-e28f-450e-e03d-9fbfb9b0c653"
      },
      "execution_count": null,
      "outputs": [
        {
          "output_type": "error",
          "ename": "TypeError",
          "evalue": "ignored",
          "traceback": [
            "\u001b[0;31m---------------------------------------------------------------------------\u001b[0m",
            "\u001b[0;31mTypeError\u001b[0m                                 Traceback (most recent call last)",
            "\u001b[0;32m<ipython-input-49-43c88641e8b2>\u001b[0m in \u001b[0;36m<module>\u001b[0;34m\u001b[0m\n\u001b[0;32m----> 1\u001b[0;31m \u001b[0;34m\"1\"\u001b[0m\u001b[0;34m**\u001b[0m\u001b[0;36m2\u001b[0m\u001b[0;34m\u001b[0m\u001b[0;34m\u001b[0m\u001b[0m\n\u001b[0m",
            "\u001b[0;31mTypeError\u001b[0m: unsupported operand type(s) for ** or pow(): 'str' and 'int'"
          ]
        }
      ]
    },
    {
      "cell_type": "code",
      "source": [
        "\"10\"/2"
      ],
      "metadata": {
        "colab": {
          "base_uri": "https://localhost:8080/",
          "height": 166
        },
        "id": "0iTJUZxI_3yC",
        "outputId": "bd1c7b44-aa74-4115-f517-301ad0fbf711"
      },
      "execution_count": null,
      "outputs": [
        {
          "output_type": "error",
          "ename": "TypeError",
          "evalue": "ignored",
          "traceback": [
            "\u001b[0;31m---------------------------------------------------------------------------\u001b[0m",
            "\u001b[0;31mTypeError\u001b[0m                                 Traceback (most recent call last)",
            "\u001b[0;32m<ipython-input-50-3c51e96992ea>\u001b[0m in \u001b[0;36m<module>\u001b[0;34m\u001b[0m\n\u001b[0;32m----> 1\u001b[0;31m \u001b[0;34m\"10\"\u001b[0m\u001b[0;34m/\u001b[0m\u001b[0;36m2\u001b[0m\u001b[0;34m\u001b[0m\u001b[0;34m\u001b[0m\u001b[0m\n\u001b[0m",
            "\u001b[0;31mTypeError\u001b[0m: unsupported operand type(s) for /: 'str' and 'int'"
          ]
        }
      ]
    },
    {
      "cell_type": "code",
      "source": [
        "\"1\" - 1"
      ],
      "metadata": {
        "colab": {
          "base_uri": "https://localhost:8080/",
          "height": 166
        },
        "id": "lL2XZw2A_32G",
        "outputId": "99816939-f9ca-45de-d976-7de395cbfad8"
      },
      "execution_count": null,
      "outputs": [
        {
          "output_type": "error",
          "ename": "TypeError",
          "evalue": "ignored",
          "traceback": [
            "\u001b[0;31m---------------------------------------------------------------------------\u001b[0m",
            "\u001b[0;31mTypeError\u001b[0m                                 Traceback (most recent call last)",
            "\u001b[0;32m<ipython-input-51-7cd19d150148>\u001b[0m in \u001b[0;36m<module>\u001b[0;34m\u001b[0m\n\u001b[0;32m----> 1\u001b[0;31m \u001b[0;34m\"1\"\u001b[0m \u001b[0;34m-\u001b[0m \u001b[0;36m1\u001b[0m\u001b[0;34m\u001b[0m\u001b[0;34m\u001b[0m\u001b[0m\n\u001b[0m",
            "\u001b[0;31mTypeError\u001b[0m: unsupported operand type(s) for -: 'str' and 'int'"
          ]
        }
      ]
    },
    {
      "cell_type": "markdown",
      "source": [
        "Mas tem um porém..."
      ],
      "metadata": {
        "id": "qwYBWMxO7TDq"
      }
    },
    {
      "cell_type": "code",
      "source": [
        " \"joao\"+\"||\" * 10"
      ],
      "metadata": {
        "colab": {
          "base_uri": "https://localhost:8080/",
          "height": 35
        },
        "id": "TSl559yrQT2x",
        "outputId": "92c5a8ad-4979-4cf1-d6b1-d449934d671b"
      },
      "execution_count": null,
      "outputs": [
        {
          "output_type": "execute_result",
          "data": {
            "text/plain": [
              "'joao||||||||||||||||||||'"
            ],
            "application/vnd.google.colaboratory.intrinsic+json": {
              "type": "string"
            }
          },
          "metadata": {},
          "execution_count": 60
        }
      ]
    },
    {
      "cell_type": "code",
      "source": [
        "(\"joao\"+\"||\") * 10"
      ],
      "metadata": {
        "colab": {
          "base_uri": "https://localhost:8080/",
          "height": 35
        },
        "id": "UKTJzPsnRAgx",
        "outputId": "cf0bee13-c3fd-475e-ae0b-93befbf051e3"
      },
      "execution_count": null,
      "outputs": [
        {
          "output_type": "execute_result",
          "data": {
            "text/plain": [
              "'joao||joao||joao||joao||joao||joao||joao||joao||joao||joao||'"
            ],
            "application/vnd.google.colaboratory.intrinsic+json": {
              "type": "string"
            }
          },
          "metadata": {},
          "execution_count": 61
        }
      ]
    },
    {
      "cell_type": "code",
      "source": [
        "\"theo\" * 2"
      ],
      "metadata": {
        "colab": {
          "base_uri": "https://localhost:8080/",
          "height": 35
        },
        "id": "9dUuJJeY_443",
        "outputId": "be10d07e-87ad-414c-b5bc-8cd3e47b8387"
      },
      "execution_count": null,
      "outputs": [
        {
          "output_type": "execute_result",
          "data": {
            "text/plain": [
              "'theotheo'"
            ],
            "application/vnd.google.colaboratory.intrinsic+json": {
              "type": "string"
            }
          },
          "metadata": {},
          "execution_count": 53
        }
      ]
    },
    {
      "cell_type": "code",
      "source": [
        "var = 5\n",
        "type(var) == int"
      ],
      "metadata": {
        "id": "ZctUK0Sa617L",
        "colab": {
          "base_uri": "https://localhost:8080/"
        },
        "outputId": "4bf64cc9-002c-4625-ab27-1ae8ec4ccf50"
      },
      "execution_count": null,
      "outputs": [
        {
          "output_type": "execute_result",
          "data": {
            "text/plain": [
              "True"
            ]
          },
          "metadata": {},
          "execution_count": 66
        }
      ]
    },
    {
      "cell_type": "code",
      "source": [
        "3 == 3"
      ],
      "metadata": {
        "colab": {
          "base_uri": "https://localhost:8080/"
        },
        "id": "AsokVdoJRxPB",
        "outputId": "b57bc303-e55e-4d1d-b7c6-d30515596a41"
      },
      "execution_count": null,
      "outputs": [
        {
          "output_type": "execute_result",
          "data": {
            "text/plain": [
              "True"
            ]
          },
          "metadata": {},
          "execution_count": 67
        }
      ]
    },
    {
      "cell_type": "code",
      "source": [
        "joao = 33\n",
        "pedro = 44\n",
        "str(joao) + str(pedro)"
      ],
      "metadata": {
        "colab": {
          "base_uri": "https://localhost:8080/",
          "height": 35
        },
        "id": "hYdAnqNLR4v5",
        "outputId": "c0bc5610-f350-4b32-e509-399c76bd8a96"
      },
      "execution_count": null,
      "outputs": [
        {
          "output_type": "execute_result",
          "data": {
            "text/plain": [
              "'3344'"
            ],
            "application/vnd.google.colaboratory.intrinsic+json": {
              "type": "string"
            }
          },
          "metadata": {},
          "execution_count": 69
        }
      ]
    },
    {
      "cell_type": "markdown",
      "source": [
        "## Imprimindo com Python"
      ],
      "metadata": {
        "id": "94he9PoubPgw"
      }
    },
    {
      "cell_type": "markdown",
      "source": [
        "- Provavelmente a função que mais utilizamos quando estamos aprendendo a programar em python\n",
        "- No no nosso dia a dia serea bastante utilizada para entendermos \"o que o código está fazendo\" \n",
        "- O print nos retorna uma informação"
      ],
      "metadata": {
        "id": "VHQtuMli-NsG"
      }
    },
    {
      "cell_type": "code",
      "source": [
        "print(\"Hello World\")"
      ],
      "metadata": {
        "colab": {
          "base_uri": "https://localhost:8080/"
        },
        "id": "N31odJEk_7_q",
        "outputId": "9df23c85-be7a-4984-e716-f3aabe6d2280"
      },
      "execution_count": null,
      "outputs": [
        {
          "output_type": "stream",
          "name": "stdout",
          "text": [
            "Hello World\n"
          ]
        }
      ]
    },
    {
      "cell_type": "code",
      "source": [
        "num = 3\n",
        "print(num)"
      ],
      "metadata": {
        "colab": {
          "base_uri": "https://localhost:8080/"
        },
        "id": "vtCaHhyV_8Ck",
        "outputId": "8b852fd7-57d4-4cf7-c915-1cec2bef12a6"
      },
      "execution_count": null,
      "outputs": [
        {
          "output_type": "stream",
          "name": "stdout",
          "text": [
            "3\n"
          ]
        }
      ]
    },
    {
      "cell_type": "code",
      "source": [
        "print(\"o número é:\", num)"
      ],
      "metadata": {
        "colab": {
          "base_uri": "https://localhost:8080/"
        },
        "id": "Aho-yEUC_8GN",
        "outputId": "d3ced8f9-8dfc-4f1b-83bd-d77933a0066f"
      },
      "execution_count": null,
      "outputs": [
        {
          "output_type": "stream",
          "name": "stdout",
          "text": [
            "o número é: 3\n"
          ]
        }
      ]
    },
    {
      "cell_type": "code",
      "source": [
        "num2 = 2\n",
        "num4 = 4\n",
        "print(f'o número é {num4}, é duas vezes o {num2}')"
      ],
      "metadata": {
        "colab": {
          "base_uri": "https://localhost:8080/"
        },
        "id": "uPfMMsbf_8KI",
        "outputId": "751d8a79-c3f4-4ad9-f822-dc4dd3e087b7"
      },
      "execution_count": null,
      "outputs": [
        {
          "output_type": "stream",
          "name": "stdout",
          "text": [
            "o número é 4, é duas vezes o 2\n"
          ]
        }
      ]
    },
    {
      "cell_type": "markdown",
      "source": [
        "## Input de dados com Python"
      ],
      "metadata": {
        "id": "zZ02IZ4lbUuw"
      }
    },
    {
      "cell_type": "code",
      "source": [
        "nome = input(\"informe o seu nome:\")\n"
      ],
      "metadata": {
        "colab": {
          "base_uri": "https://localhost:8080/"
        },
        "id": "oyBcrmVm_9xz",
        "outputId": "9758c241-bfb7-488f-c109-f7ea2e3a1656"
      },
      "execution_count": null,
      "outputs": [
        {
          "name": "stdout",
          "output_type": "stream",
          "text": [
            "informe o seu nome:theo\n"
          ]
        }
      ]
    },
    {
      "cell_type": "code",
      "source": [
        "# inseri nome e local de nascimento\n",
        "nome2 = input(\"informe novamente seu nome: \")\n",
        "local_nascimento = input(\"informe sua cidade de nascimento: \")\n",
        "print(f'o seu nome é {nome2} e sua cidade é {local_nascimento}')"
      ],
      "metadata": {
        "colab": {
          "base_uri": "https://localhost:8080/"
        },
        "id": "r7_Y4HKy_92w",
        "outputId": "179ded0e-dedf-4cd9-b454-9748c280f1c3"
      },
      "execution_count": null,
      "outputs": [
        {
          "output_type": "stream",
          "name": "stdout",
          "text": [
            "informe novamente seu nome: theo\n",
            "informe sua cidade de nascimento: rio de janeiro\n",
            "o seu nome é theo e sua cidade é rio de janeiro\n"
          ]
        }
      ]
    },
    {
      "cell_type": "markdown",
      "source": [
        "## Exercícios"
      ],
      "metadata": {
        "id": "mq9LoD1yAg-f"
      }
    },
    {
      "cell_type": "markdown",
      "source": [
        "1) Faça um código que mostra a mensagem \"Olá mundo\" na tela"
      ],
      "metadata": {
        "id": "1jvGpg7sDyM9"
      }
    },
    {
      "cell_type": "code",
      "source": [
        "print(\"Olá mundo\")"
      ],
      "metadata": {
        "colab": {
          "base_uri": "https://localhost:8080/"
        },
        "id": "T2pkyzsx__JI",
        "outputId": "f222cab9-b076-4425-a2b4-3439dccecb15"
      },
      "execution_count": null,
      "outputs": [
        {
          "output_type": "stream",
          "name": "stdout",
          "text": [
            "Olá mundo\n"
          ]
        }
      ]
    },
    {
      "cell_type": "markdown",
      "source": [
        "2) Faça um código que peça as 3 notas semestrais e mostre a média simples"
      ],
      "metadata": {
        "id": "JjCHLNDyDyp-"
      }
    },
    {
      "cell_type": "code",
      "source": [
        "nota1 = float(input(\"Digite a nota do primeiro semestre: \"))\n",
        "nota2 = float(input(\"Digite a nota do segundo semestre: \"))\n",
        "nota3 = float(input(\"Digite a nota do terceiro semestre: \"))\n",
        "\n",
        "media = (nota1 + nota2 + nota3)/3\n",
        "print(f'A sua média é: {media:.2f}')"
      ],
      "metadata": {
        "id": "x6aVbTJ8__4r",
        "colab": {
          "base_uri": "https://localhost:8080/"
        },
        "outputId": "5d65505c-347e-4d09-c715-05855406e3ee"
      },
      "execution_count": null,
      "outputs": [
        {
          "output_type": "stream",
          "name": "stdout",
          "text": [
            "Digite a nota do primeiro semestre: 5\n",
            "Digite a nota do segundo semestre: 10\n",
            "Digite a nota do terceiro semestre: 4\n",
            "A sua média é: 6.33\n"
          ]
        }
      ]
    },
    {
      "cell_type": "markdown",
      "source": [
        "3) Faça um código que peça as 3 notas semestrais e mostre a média ponderada"
      ],
      "metadata": {
        "id": "Ml_mTs_hCS0b"
      }
    },
    {
      "cell_type": "code",
      "source": [
        "nota1 = float(input(\"Digite a nota do primeiro semestre: \"))\n",
        "nota2 = float(input(\"Digite a nota do segundo semestre: \"))\n",
        "nota3 = float(input(\"Digite a nota do terceiro semestre: \"))\n",
        "peso1 = int(input(\"Qual é o peso da nota do primeiro semestre? \"))\n",
        "peso2 = int(input(\"Qual é o peso da nota do segundo semestre? \"))\n",
        "peso3 = int(input(\"Qual é o peso da nota do terceiro semestre? \"))\n",
        "\n",
        "soma_peso = peso1 + peso2 + peso3\n",
        "\n",
        "media_ponderada = ((nota1*peso1) + (nota2*peso2) + (nota3*peso3))/soma_peso\n",
        "\n",
        "print(f'A sua média é: {media_ponderada}')"
      ],
      "metadata": {
        "id": "CZ2LqewgAA5W",
        "colab": {
          "base_uri": "https://localhost:8080/"
        },
        "outputId": "3417b9b8-b2e3-4a96-da92-a4a3137b1eb8"
      },
      "execution_count": null,
      "outputs": [
        {
          "output_type": "stream",
          "name": "stdout",
          "text": [
            "Digite a nota do primeiro semestre: 5\n",
            "Digite a nota do segundo semestre: 6.5\n",
            "Digite a nota do terceiro semestre: 7\n",
            "Qual é o peso da nota do primeiro semestre? 1\n",
            "Qual é o peso da nota do segundo semestre? 2\n",
            "Qual é o peso da nota do terceiro semestre? 3\n",
            "A sua média é: 6.5\n"
          ]
        }
      ]
    },
    {
      "cell_type": "markdown",
      "source": [
        "4) Faça um código que pergunte quanto você ganha por hora e o número de horas trabalhas no mês. Calcule e mostre o total do seu salário no referido mês"
      ],
      "metadata": {
        "id": "ZU7Uqdk2DysO"
      }
    },
    {
      "cell_type": "code",
      "source": [
        "ganho_hora = float(input(\"Quanto você ganha por hora? \"))\n",
        "horas_trabalhadas = float(input(\"Quantas horas trabalha por mês? \"))\n",
        "\n",
        "salario = ganho_hora * horas_trabalhadas\n",
        "\n",
        "print(f'Seu salário no mês foi de R$ {salario:.2f2}')"
      ],
      "metadata": {
        "id": "1MYUPzPFACtN",
        "colab": {
          "base_uri": "https://localhost:8080/"
        },
        "outputId": "5f4c37d8-9283-4393-aaf8-3031815651fb"
      },
      "execution_count": null,
      "outputs": [
        {
          "output_type": "stream",
          "name": "stdout",
          "text": [
            "Quanto você ganha por hora? 20\n",
            "Quantas horas trabalha por mês? 200\n",
            "Seu salário no mês foi de R$ 4000.00\n"
          ]
        }
      ]
    },
    {
      "cell_type": "markdown",
      "source": [
        "\\5) Faça um código que peça a temperatura em graus Fahrenheit, transforme e mostre a temperatura em graus Celsius.\n",
        "\n",
        "A equação para encontrar o valor de Celsius (C) e Fahrenheit (F) é:"
      ],
      "metadata": {
        "id": "wRlO-0PCDyuk"
      }
    },
    {
      "cell_type": "markdown",
      "source": [
        "$$ C = {5 * (F - 32) \\over 9} $$"
      ],
      "metadata": {
        "id": "lDiGpPf4Dyw-"
      }
    },
    {
      "cell_type": "code",
      "source": [
        "temperatura_fahrenheit = float(input(\"Qual a temperatura em Fahrenheit a ser transformada em Celsius: \"))\n",
        "\n",
        "celsius = 5*(temperatura_fahrenheit - 32)/9\n",
        "\n",
        "print(f'A temperatura em Celsius é: {celsius}º')"
      ],
      "metadata": {
        "id": "CrFUwQyYAD0z",
        "colab": {
          "base_uri": "https://localhost:8080/"
        },
        "outputId": "741914dd-8fdf-4375-af75-d2bbf4631452"
      },
      "execution_count": null,
      "outputs": [
        {
          "output_type": "stream",
          "name": "stdout",
          "text": [
            "Quanto é a temperatura em Fahrenheit para transformar em Celsius 212\n",
            "A temperatura em Celsius é: 100.0ºC\n"
          ]
        }
      ]
    },
    {
      "cell_type": "markdown",
      "source": [
        "6) Faça um código que pergunte quanto você ganha por hora e o número de horas trabalhadas no mês. Calcule a mostre o total do seu salário no referido mês, sabendo-se que são descontados 11% para o Imposto de Renda, 8% para o INSS e 5% para o sindicato. Esse código deve nos retornar:\n",
        "\n",
        "- salário bruto\n",
        "- quanto pagou ao INSS\n",
        "- quanto pagou ao sindicato\n",
        "- o salário líquido"
      ],
      "metadata": {
        "id": "mCOWUEoBG11g"
      }
    },
    {
      "cell_type": "code",
      "source": [
        "IR = 0.11\n",
        "INSS = 0.08\n",
        "SINDICATO = 0.05\n",
        "\n",
        "ganho_hora = float(input(\"Quanto você ganha por hora? \"))\n",
        "horas_trabalhadas = float(input(\"Quantas horas trabalha por mês? \"))\n",
        "\n",
        "salario_bruto = ganho_hora * horas_trabalhadas\n",
        "descontos = salario_bruto*IR + salario_bruto*INSS + salario_bruto*SINDICATO\n",
        "salario = salario_bruto - descontos\n",
        "\n",
        "print(f'Seu salário bruto é de R${salario_bruto:.2f}')\n",
        "print(f'Você pagou R${salario_bruto*IR:.2f} de imposto de renda')\n",
        "print(f'Você pagou R${salario_bruto*INSS:.2f} de INSS')\n",
        "print(f'Você pagou R${salario_bruto*SINDICATO:.2f} ao sindicato')\n",
        "print(f'Seu salário líquido é de R${salario:.2f}')"
      ],
      "metadata": {
        "id": "QXVDq6A_AE1Q",
        "colab": {
          "base_uri": "https://localhost:8080/"
        },
        "outputId": "72598f63-4644-41a0-f653-323697cbd6e8"
      },
      "execution_count": null,
      "outputs": [
        {
          "output_type": "stream",
          "name": "stdout",
          "text": [
            "Quanto você ganha por hora? 20\n",
            "Quantas horas trabalha por mês? 200\n",
            "Seu salário bruto é de R$4000.00\n",
            "Você pagou R$440.00 de imposto de renda\n",
            "Você pagou R$320.00 de INSS\n",
            "Você pagou R$200.00 ao sindicato\n",
            "Seu salário líquido é de R$3040.00\n"
          ]
        }
      ]
    },
    {
      "cell_type": "markdown",
      "source": [
        "7) Faça um código que receba informações de altura e peso e retorne o índice de massa corpórea (IMC)\n",
        "\n",
        "- Dica: Para quem não conhece a fórmula é um bom momento para praticar essa busca na internet."
      ],
      "metadata": {
        "id": "8XtE7GteJjPJ"
      }
    },
    {
      "cell_type": "code",
      "source": [
        "altura = float(input(\"Qual a sua altura (m)? \"))\n",
        "peso = float(input(\"Qual o seu peso (kg)? \"))\n",
        "\n",
        "imc = peso / altura**2\n",
        "print(f'O seu índice de massa corpórea é de: {imc:.2f}')"
      ],
      "metadata": {
        "id": "sflZR2jSAGCa",
        "colab": {
          "base_uri": "https://localhost:8080/"
        },
        "outputId": "7df6f03e-407b-4b2e-b18e-093128d7be90"
      },
      "execution_count": null,
      "outputs": [
        {
          "output_type": "stream",
          "name": "stdout",
          "text": [
            "Qual a sua altura (m)? 1.69\n",
            "Qual o seu peso (kg)? 75\n",
            "O seu índice de massa corpórea é de: 26.26\n"
          ]
        }
      ]
    },
    {
      "cell_type": "markdown",
      "source": [
        "8) João Papo-de-Pescador, homem de bem, comprou um microcomputador para controlar o rendimento diário do seu trabalho. Toda vez que ele traz um peso de peixes maior que o estabelecido pelo regulamento de pesca do estado onde mora (50 quilos) deve pagar uma multa de R$ 4,00 por quilo excedente.\n",
        "<br>\n",
        "João precisa que você faça um programa que leia a variável peso (peso de peixes) e calcule o excesso. Gravar na variável excesso a quantidade de quilos além do limite e na variável multa o valor da multa que João deverá pagar. Imprima os dados do programa com as mensagens adequadas.\n",
        "\n",
        "- Vale a pena relembrar os ensinamentos de if/else"
      ],
      "metadata": {
        "id": "Bbo07UkkHMH5"
      }
    },
    {
      "cell_type": "code",
      "source": [
        "peso_peixe = float(input(\"Qual foi o peso do peixe pescado em kg? \"))\n",
        "excesso = peso_peixe - 50\n",
        "multa = excesso * 4\n",
        "\n",
        "if peso_peixe > 50:\n",
        "    print(f'Houve um excesso de {excesso} KG, o valor a ser pago é de R${peso_peixe+multa}')\n",
        "else:\n",
        "    print(f'Você pagará um valor de R${peso_peixe}')\n",
        "\n",
        "\n"
      ],
      "metadata": {
        "id": "D37DeQyfAHN3",
        "colab": {
          "base_uri": "https://localhost:8080/"
        },
        "outputId": "38e6749f-7e28-494a-9003-7a6a5a8cc85f"
      },
      "execution_count": null,
      "outputs": [
        {
          "output_type": "stream",
          "name": "stdout",
          "text": [
            "Qual foi o peso do peixe pescado em kg? 35\n",
            "Você pagará um valor de R$35.0\n"
          ]
        }
      ]
    }
  ]
}