{
  "cells": [
    {
      "cell_type": "markdown",
      "metadata": {
        "id": "view-in-github",
        "colab_type": "text"
      },
      "source": [
        "<a href=\"https://colab.research.google.com/github/TiaErikaDev/ADA-Logica_Programacao/blob/main/Aula12_Tratamento_de_excecao.ipynb\" target=\"_parent\"><img src=\"https://colab.research.google.com/assets/colab-badge.svg\" alt=\"Open In Colab\"/></a>"
      ]
    },
    {
      "cell_type": "markdown",
      "id": "580a1dd1",
      "metadata": {
        "id": "580a1dd1"
      },
      "source": [
        "# Tratamento de Exceção\n",
        "\n",
        "Você já deve ter notado que certas operações podem dar errado em certas circunstâncias, e esses erros provocam o tratamento do nosso programa. \n",
        "\n",
        "Por exemplo, quando solicitamos que o usuário digite um número inteiro e ele digita qualquer outra coisa. O erro ocorre especificamente na conversão da entrada para ```int```. Veja o exemplo abaixo:"
      ]
    },
    {
      "cell_type": "code",
      "source": [
        "entrada = \"olá\"\n",
        "inteiro = int(entrada)"
      ],
      "metadata": {
        "colab": {
          "base_uri": "https://localhost:8080/",
          "height": 183
        },
        "id": "7XlWGyMZZ7KO",
        "outputId": "9cc4be6d-5df2-4228-842e-c099731745d1"
      },
      "id": "7XlWGyMZZ7KO",
      "execution_count": null,
      "outputs": [
        {
          "output_type": "error",
          "ename": "ValueError",
          "evalue": "ignored",
          "traceback": [
            "\u001b[0;31m---------------------------------------------------------------------------\u001b[0m",
            "\u001b[0;31mValueError\u001b[0m                                Traceback (most recent call last)",
            "\u001b[0;32m<ipython-input-2-03938c7f3507>\u001b[0m in \u001b[0;36m<module>\u001b[0;34m\u001b[0m\n\u001b[1;32m      1\u001b[0m \u001b[0mentrada\u001b[0m \u001b[0;34m=\u001b[0m \u001b[0;34m\"olá\"\u001b[0m\u001b[0;34m\u001b[0m\u001b[0;34m\u001b[0m\u001b[0m\n\u001b[0;32m----> 2\u001b[0;31m \u001b[0minteiro\u001b[0m \u001b[0;34m=\u001b[0m \u001b[0mint\u001b[0m\u001b[0;34m(\u001b[0m\u001b[0mentrada\u001b[0m\u001b[0;34m)\u001b[0m\u001b[0;34m\u001b[0m\u001b[0;34m\u001b[0m\u001b[0m\n\u001b[0m",
            "\u001b[0;31mValueError\u001b[0m: invalid literal for int() with base 10: 'olá'"
          ]
        }
      ]
    },
    {
      "cell_type": "markdown",
      "id": "ae0b071f",
      "metadata": {
        "id": "ae0b071f"
      },
      "source": [
        "Note que o erro possui um nome, ```ValueError```, e uma mensagem explicando o que ocorreu.\n",
        "\n",
        "Vejamos outro exemplo bastante famoso: a divisão por zero."
      ]
    },
    {
      "cell_type": "code",
      "source": [
        "1/0\n",
        "1+1"
      ],
      "metadata": {
        "colab": {
          "base_uri": "https://localhost:8080/",
          "height": 183
        },
        "id": "6LhQ8C0FZ8Wh",
        "outputId": "b6cb8f3d-475e-4a5e-ffee-4c62bef8f7e0"
      },
      "id": "6LhQ8C0FZ8Wh",
      "execution_count": null,
      "outputs": [
        {
          "output_type": "error",
          "ename": "ZeroDivisionError",
          "evalue": "ignored",
          "traceback": [
            "\u001b[0;31m---------------------------------------------------------------------------\u001b[0m",
            "\u001b[0;31mZeroDivisionError\u001b[0m                         Traceback (most recent call last)",
            "\u001b[0;32m<ipython-input-4-498c66e74cb3>\u001b[0m in \u001b[0;36m<module>\u001b[0;34m\u001b[0m\n\u001b[0;32m----> 1\u001b[0;31m \u001b[0;36m1\u001b[0m\u001b[0;34m/\u001b[0m\u001b[0;36m0\u001b[0m\u001b[0;34m\u001b[0m\u001b[0;34m\u001b[0m\u001b[0m\n\u001b[0m\u001b[1;32m      2\u001b[0m \u001b[0;36m1\u001b[0m\u001b[0;34m+\u001b[0m\u001b[0;36m1\u001b[0m\u001b[0;34m\u001b[0m\u001b[0;34m\u001b[0m\u001b[0m\n",
            "\u001b[0;31mZeroDivisionError\u001b[0m: division by zero"
          ]
        }
      ]
    },
    {
      "cell_type": "markdown",
      "id": "0d23c909",
      "metadata": {
        "id": "0d23c909"
      },
      "source": [
        "Observe a mesma estrutura do erro anterior: temos um nome (```ZeroDivisionError```) e uma mensagem explicando o que ocorreu.\n",
        "\n",
        "Esses erros, que não são erros de lógica nem de sintaxe, são o que chamamos de **exceções**. São pequenos problemas que o programa pode encontrar durante sua execução, como não encontrar um arquivo ou uma função receber um valor de tipo inesperado.\n",
        "\n",
        "Vamos começar aprendendo como lidar com códigos que podem provocar erros, evitando o travamento do programa, e em seguida iremos aprender a criar as nossas próprias exceções para alertar outros programadores sobre problemas que possam ter ocorrido em nossas classes e funções."
      ]
    },
    {
      "cell_type": "markdown",
      "id": "cd4ce0d2",
      "metadata": {
        "id": "cd4ce0d2"
      },
      "source": [
        "## Tratando uma exceção\n",
        "\n",
        "Tratar uma exceção significa que quando surgir um dos erros mencionados, nós iremos assumir responsabilidade sobre ele e iremos providenciar algum código alternativo. Dessa maneira, o Python não irá mais travar o nosso programa, e sim desviar seu fluxo para o código fornecido.\n",
        "\n",
        "O bloco mais básico para lidarmos com exceção é o ```try```/```except```.\n",
        "\n",
        "Dentro do ```try``` vamos colocar o pedaço de código com potencial para dar erro. Estamos pedindo que o Python **tente** executar aquele código, cientes de que pode não dar certo.\n",
        "\n",
        "Dentro do ```except```, colocamos o código que deverá ser executado **somente** se algo de errado ocorrer no ```try```. Vejamos um exemplo:"
      ]
    },
    {
      "cell_type": "code",
      "source": [
        "for denominador in range(-1,3):\n",
        "  try:\n",
        "    divisao = 1 / denominador\n",
        "  except:\n",
        "    divisao = 'infinito'\n",
        "  \n",
        "  print(f\"1 / {denominador} = {divisao}\" )"
      ],
      "metadata": {
        "colab": {
          "base_uri": "https://localhost:8080/"
        },
        "id": "LgsZ52wiZ9pC",
        "outputId": "a8d175aa-a56e-46df-fa87-74edf128a0ca"
      },
      "id": "LgsZ52wiZ9pC",
      "execution_count": null,
      "outputs": [
        {
          "output_type": "stream",
          "name": "stdout",
          "text": [
            "1 / -1 = infinito\n",
            "1 / 0 = infinito\n",
            "1 / 1 = infinito\n",
            "1 / 2 = infinito\n"
          ]
        }
      ]
    },
    {
      "cell_type": "markdown",
      "id": "a16a86af",
      "metadata": {
        "id": "a16a86af"
      },
      "source": [
        "O bloco acima já resolve a grande maioria dos problemas. Mas vamos estudar mais algumas possibilidades para deixar nosso tratamento ainda mais sofisticado e especializado.\n",
        "\n",
        "Você deve ter notado que enfatizamos bastante o fato de exceções poderem ter um nome. Esse nome pode nos ajudar a identificar com sucesso qual dos erros possíveis ocorreu e tratá-lo com sucesso.\n",
        "\n",
        "Vamos considerar a função abaixo:"
      ]
    },
    {
      "cell_type": "code",
      "source": [
        "def divisao(a,b):\n",
        "  return a/b"
      ],
      "metadata": {
        "id": "FiuXixSgZ-6B"
      },
      "id": "FiuXixSgZ-6B",
      "execution_count": null,
      "outputs": []
    },
    {
      "cell_type": "markdown",
      "id": "de1ab200",
      "metadata": {
        "id": "de1ab200"
      },
      "source": [
        "Um erro óbvio que pode ocorrer nessa função seria o ```ZeroDivisionError```, que nós obtemos passando 0 como segundo parâmetro:"
      ]
    },
    {
      "cell_type": "code",
      "source": [
        "divisao(1,0)"
      ],
      "metadata": {
        "colab": {
          "base_uri": "https://localhost:8080/",
          "height": 235
        },
        "id": "FVAAgGWJaARG",
        "outputId": "365b05cb-5e6b-4885-fd09-131a4a0dd79b"
      },
      "id": "FVAAgGWJaARG",
      "execution_count": null,
      "outputs": [
        {
          "output_type": "error",
          "ename": "ZeroDivisionError",
          "evalue": "ignored",
          "traceback": [
            "\u001b[0;31m---------------------------------------------------------------------------\u001b[0m",
            "\u001b[0;31mZeroDivisionError\u001b[0m                         Traceback (most recent call last)",
            "\u001b[0;32m<ipython-input-13-921422a866f6>\u001b[0m in \u001b[0;36m<module>\u001b[0;34m\u001b[0m\n\u001b[0;32m----> 1\u001b[0;31m \u001b[0mdivisao\u001b[0m\u001b[0;34m(\u001b[0m\u001b[0;36m1\u001b[0m\u001b[0;34m,\u001b[0m\u001b[0;36m0\u001b[0m\u001b[0;34m)\u001b[0m\u001b[0;34m\u001b[0m\u001b[0;34m\u001b[0m\u001b[0m\n\u001b[0m",
            "\u001b[0;32m<ipython-input-12-1a7d9fa7938e>\u001b[0m in \u001b[0;36mdivisao\u001b[0;34m(a, b)\u001b[0m\n\u001b[1;32m      1\u001b[0m \u001b[0;32mdef\u001b[0m \u001b[0mdivisao\u001b[0m\u001b[0;34m(\u001b[0m\u001b[0ma\u001b[0m\u001b[0;34m,\u001b[0m\u001b[0mb\u001b[0m\u001b[0;34m)\u001b[0m\u001b[0;34m:\u001b[0m\u001b[0;34m\u001b[0m\u001b[0;34m\u001b[0m\u001b[0m\n\u001b[0;32m----> 2\u001b[0;31m   \u001b[0;32mreturn\u001b[0m \u001b[0ma\u001b[0m\u001b[0;34m/\u001b[0m\u001b[0mb\u001b[0m\u001b[0;34m\u001b[0m\u001b[0;34m\u001b[0m\u001b[0m\n\u001b[0m",
            "\u001b[0;31mZeroDivisionError\u001b[0m: division by zero"
          ]
        }
      ]
    },
    {
      "cell_type": "markdown",
      "id": "f96523ba",
      "metadata": {
        "id": "f96523ba"
      },
      "source": [
        "Porém, ele não é o único erro possível. O que acontece se passarmos um parâmetro que não seja numérico? ```TypeError```, pois utilizamos tipos inválidos para o operador ```/```."
      ]
    },
    {
      "cell_type": "code",
      "source": [
        "divisao(\"olá\",1)"
      ],
      "metadata": {
        "colab": {
          "base_uri": "https://localhost:8080/",
          "height": 235
        },
        "id": "PhkTZxEfaBk7",
        "outputId": "5b035fca-182d-4c42-8d39-52efaba8e777"
      },
      "id": "PhkTZxEfaBk7",
      "execution_count": null,
      "outputs": [
        {
          "output_type": "error",
          "ename": "TypeError",
          "evalue": "ignored",
          "traceback": [
            "\u001b[0;31m---------------------------------------------------------------------------\u001b[0m",
            "\u001b[0;31mTypeError\u001b[0m                                 Traceback (most recent call last)",
            "\u001b[0;32m<ipython-input-14-a44577b64abd>\u001b[0m in \u001b[0;36m<module>\u001b[0;34m\u001b[0m\n\u001b[0;32m----> 1\u001b[0;31m \u001b[0mdivisao\u001b[0m\u001b[0;34m(\u001b[0m\u001b[0;34m\"olá\"\u001b[0m\u001b[0;34m,\u001b[0m\u001b[0;36m1\u001b[0m\u001b[0;34m)\u001b[0m\u001b[0;34m\u001b[0m\u001b[0;34m\u001b[0m\u001b[0m\n\u001b[0m",
            "\u001b[0;32m<ipython-input-12-1a7d9fa7938e>\u001b[0m in \u001b[0;36mdivisao\u001b[0;34m(a, b)\u001b[0m\n\u001b[1;32m      1\u001b[0m \u001b[0;32mdef\u001b[0m \u001b[0mdivisao\u001b[0m\u001b[0;34m(\u001b[0m\u001b[0ma\u001b[0m\u001b[0;34m,\u001b[0m\u001b[0mb\u001b[0m\u001b[0;34m)\u001b[0m\u001b[0;34m:\u001b[0m\u001b[0;34m\u001b[0m\u001b[0;34m\u001b[0m\u001b[0m\n\u001b[0;32m----> 2\u001b[0;31m   \u001b[0;32mreturn\u001b[0m \u001b[0ma\u001b[0m\u001b[0;34m/\u001b[0m\u001b[0mb\u001b[0m\u001b[0;34m\u001b[0m\u001b[0;34m\u001b[0m\u001b[0m\n\u001b[0m",
            "\u001b[0;31mTypeError\u001b[0m: unsupported operand type(s) for /: 'str' and 'int'"
          ]
        }
      ]
    },
    {
      "cell_type": "markdown",
      "id": "79e8f698",
      "metadata": {
        "id": "79e8f698"
      },
      "source": [
        "Podemos colocar diversos ```except``` após o ```try```, cada um testando um tipo diferente de erro. Um último ```except``` genérico irá pegar todos os casos que não se encaixarem nos específicos:"
      ]
    },
    {
      "cell_type": "code",
      "source": [
        "denominadores = [0,2,3,'a',5]\n",
        "\n",
        "for deno in denominadores:\n",
        "  try:\n",
        "    div = divisao(1,deno)\n",
        "  except ZeroDivisionError:\n",
        "    div = \"infinito\"\n",
        "  except TypeError:\n",
        "    div = f\"1/{deno}\"\n",
        "  except:\n",
        "    div = \"erro desconhecido\"\n",
        "\n",
        "  print(f\"1/{deno} = {div}\")\n"
      ],
      "metadata": {
        "colab": {
          "base_uri": "https://localhost:8080/"
        },
        "id": "HepoXo3EaCyz",
        "outputId": "6d22814f-35d4-414a-856b-84e2978ac023"
      },
      "id": "HepoXo3EaCyz",
      "execution_count": null,
      "outputs": [
        {
          "output_type": "stream",
          "name": "stdout",
          "text": [
            "1/0 = infinito\n",
            "1/2 = 0.5\n",
            "1/3 = 0.3333333333333333\n",
            "1/a = 1/a\n",
            "1/5 = 0.2\n"
          ]
        }
      ]
    },
    {
      "cell_type": "markdown",
      "id": "f9bf6c51",
      "metadata": {
        "id": "f9bf6c51"
      },
      "source": [
        "## O ```else``` no tratamento de exceção\n",
        "\n",
        "Nosso bom e velho ```else```, tipicamente usado em expressões condicionais acompanhando um ```if```, também pode aparecer em blocos ```try```/```except```. Seu efeito é o oposto do ```except```: enquanto o ```except``` é executado quando algo dá errado, o ```else``` só é executado se absolutamente nada der errado. Por exemplo, poderíamos atualizar nosso exemplo anterior utilizando um ```else```:"
      ]
    },
    {
      "cell_type": "code",
      "source": [
        "denominadores = [0,2,3,'a',5]\n",
        "\n",
        "for deno in denominadores:\n",
        "  try:\n",
        "    div = divisao(1,deno)\n",
        "  except ZeroDivisionError:\n",
        "    div = \"infinito\"\n",
        "    print(\"divisão por zero\")\n",
        "  except TypeError:\n",
        "    div = f\"1/{deno}\"\n",
        "  except:\n",
        "    div = \"erro desconhecido\"\n",
        "  else:\n",
        "    print(f\"denominador {deno} sem nenhum problema!\")\n",
        "    print(f\"1/{deno} = {div}\")\n"
      ],
      "metadata": {
        "colab": {
          "base_uri": "https://localhost:8080/"
        },
        "id": "UmIomVKLaE5u",
        "outputId": "fa12018b-dfc1-4264-e610-1830db27cccf"
      },
      "id": "UmIomVKLaE5u",
      "execution_count": null,
      "outputs": [
        {
          "output_type": "stream",
          "name": "stdout",
          "text": [
            "divisão por zero\n",
            "denominador 2 sem nenhum problema!\n",
            "1/2 = 0.5\n",
            "denominador 3 sem nenhum problema!\n",
            "1/3 = 0.3333333333333333\n",
            "denominador 5 sem nenhum problema!\n",
            "1/5 = 0.2\n"
          ]
        }
      ]
    },
    {
      "cell_type": "markdown",
      "id": "66c9c40a",
      "metadata": {
        "id": "66c9c40a"
      },
      "source": [
        "Note que no exemplo acima não tem problema estarmos atribuindo valor pra ```div``` apenas no bloco ```try```. Ela só será usada no ```else```, ou seja, só será usada se tudo deu certo.\n",
        "\n",
        "**Nota:** várias linguagens possuem construções equivalentes ao ```try```/```except``` (este último frequentemente vira ```catch```), bem como ao ```finally``` e o ```raise``` (frequentemente ```throw``` em outras linguagens), que serão estudados já já. Mas o ```else``` na construção é bastante atípico e na maioria das linguagens ele realmente só serve para blocos condicionais. Por conta disso, é um pouco mais raro de vê-lo sendo usado nesse contexto."
      ]
    },
    {
      "cell_type": "markdown",
      "id": "97c9bc07",
      "metadata": {
        "id": "97c9bc07"
      },
      "source": [
        "## Limpando a bagunça: ```finally```\n",
        "\n",
        "Muitas vezes um erro pode ocorrer quando já realizamos diversas operações. Dentre essas operações, podemos ter solicitado recursos, como por exemplo abrir um arquivo, estabelecer uma conexão com a internet ou alocar uma grande faixa de memória.\n",
        "\n",
        "O que aconteceria, por exemplo, se um comando como ```return``` aparecesse durante o tratamento desse erro após termos solicitado tantos recursos diferentes? O arquivo ficaria aberto, a conexão ficaria aberta, memória seria desperdiçada etc.\n",
        "\n",
        "O ```finally``` serve garante um local seguro para colocarmos código de limpeza - ou seja, devolver recursos que não serão mais utilizados: fechar arquivos, fechar conexões com servidor etc.\n",
        "\n",
        "Ele **sempre** será executado após um bloco ```try```/```except```, **mesmo que haja um return no caminho**.\n",
        "\n",
        "Veja o exemplo abaixo para entender o que queremos dizer:"
      ]
    },
    {
      "cell_type": "code",
      "source": [
        "def escreve_arquivo(nome_do_arquivo, denominador):\n",
        "  try:\n",
        "    arq = open(nome_do_arquivo, \"w\")\n",
        "    try:\n",
        "      div = 1/denominador\n",
        "      arq.write(str(div))\n",
        "      return f\"o número {div} foi escrito no arquivo\"\n",
        "\n",
        "    except ZeroDivisionError:\n",
        "      return \"divisão por zero, não escrevemos no arquivo\"\n",
        "    except TypeError:\n",
        "      return \"tipo inválido, não escrevemos no arquivo\"\n",
        "    except:\n",
        "      return \"erro desconhecido, não escrevemos no arquivo\"\n",
        "\n",
        "    finally:\n",
        "      print(f\"fechando o arquivo... \")\n",
        "      arq.close() # o arquivo SEMPRE será fechado\n",
        "  except:\n",
        "    return \"não foi possível abrir o arquivo\"\n",
        "\n",
        "\n",
        "print(escreve_arquivo('teste1.txt', 0))\n",
        "\n"
      ],
      "metadata": {
        "colab": {
          "base_uri": "https://localhost:8080/"
        },
        "id": "hpuPzNiAaGar",
        "outputId": "d473bf1e-dfb5-4905-b1c0-3641a38e131a"
      },
      "id": "hpuPzNiAaGar",
      "execution_count": null,
      "outputs": [
        {
          "output_type": "stream",
          "name": "stdout",
          "text": [
            "fechando o arquivo... \n",
            "divisão por zero, não escrevemos no arquivo\n"
          ]
        }
      ]
    },
    {
      "cell_type": "markdown",
      "id": "fbc150db",
      "metadata": {
        "id": "fbc150db"
      },
      "source": [
        "Note que o conteúdo do bloco ```finally``` foi executado em ambas as chamadas, mesmo havendo um ```return``` dentro do ```try``` e outro dentro do ```except```. Antes de sair da função e retornar o valor, o Python é obrigado a desviar a execução para o bloco ```finally``` e executar seu conteúdo.\n",
        "\n",
        "Vejamos um exemplo mais completo: um bloco ```try```/```except``` tentará criar um arquivo. Dentro do ```try```, teremos um bloco ```try```/```except```/```finally```. O ```try``` tentará escrever algumas operações matemáticas no arquivo, o ```except``` exibirá uma mensagem caso uma operação seja inválida, e o ```finally``` garantirá que o arquivo será fechado **independentemente de um erro ter ou não ocorrido**."
      ]
    },
    {
      "cell_type": "code",
      "source": [],
      "metadata": {
        "id": "HItNSwxtaIne"
      },
      "id": "HItNSwxtaIne",
      "execution_count": null,
      "outputs": []
    },
    {
      "cell_type": "code",
      "source": [],
      "metadata": {
        "id": "qrMy9VuIaQnn"
      },
      "id": "qrMy9VuIaQnn",
      "execution_count": null,
      "outputs": []
    },
    {
      "cell_type": "markdown",
      "metadata": {
        "id": "qvMouwS_EC8c"
      },
      "source": [
        "# Exercício\n",
        "\n",
        "O programa abaixo apresenta alguns erros de execução. Sem alterar as estruturas de dados originais (lista e dicionário):\n",
        "- faça um tratamento adequado dos erros para exibir as médias corretas de cada aluno ou mensagens de erro significativas para o usuário em português, sem permitir que o programa seja interrompido antes de finalizar sua execução.\n",
        "\n",
        "- para cada tentativa de média dos alunos, exiba a mensagem evidenciando que está começando a processar as informações do aluno e quando tiver terminado de processa-las, independente se deu erro ou não.\n",
        "\n",
        "\n",
        "```python\n",
        "alunos = ['John', 'Paul', 'George', 'Ringo', 'Joao', 'Pete']\n",
        "\n",
        "notas = {\n",
        "    'John':[7.5, 9.0, 8.25, 8.0],\n",
        "    'Paul':[9.0, 8.5, '10.0', 8.5],\n",
        "    'George':[6.0, '7.0', 8.0, 9],\n",
        "    'Ringo':[4.5, 4.0, 6.0, 7.0],\n",
        "    'Pete':[]\n",
        "}\n",
        "\n",
        "for aluno in alunos:\n",
        "    media = sum(notas[aluno])/len(notas[aluno])\n",
        "    print(f'{aluno}:\\t{media}')\n",
        "```"
      ],
      "id": "qvMouwS_EC8c"
    },
    {
      "cell_type": "code",
      "source": [
        "def escreve_arquivo(nome_do_arquivo, denominador):\n",
        "    try:\n",
        "        arq = open(nome_do_arquivo, 'w')\n",
        "        \n",
        "        try:\n",
        "            div = 1/denominador\n",
        "            arq.write(str(div))\n",
        "            return f'O número {div} foi escrito no arquivo.'\n",
        "        \n",
        "        except ZeroDivisionError:\n",
        "            return 'Divisão por zero, não escrevemos no arquivo.'\n",
        "\n",
        "        except TypeError:        \n",
        "            return 'Tipo inválido, não escreveremos no arquivo.'\n",
        "\n",
        "        except:\n",
        "            return 'Erro desconhecido, não escreveremos no arquivo.'\n",
        "        \n",
        "        finally:\n",
        "            print(f'Fechando o arquivo {nome_do_arquivo}')\n",
        "            arq.close() # o arquivo SEMPRE será fechado, mesmo que ocorra erro!\n",
        "            \n",
        "    \n",
        "    except:\n",
        "        return 'Não foi possível abrir o arquivo'\n",
        "    \n",
        "    \n",
        "print(escreve_arquivo('teste1.txt', 1))\n",
        "print(escreve_arquivo('teste2.txt', 0))"
      ],
      "metadata": {
        "id": "PVayDzAewuH1"
      },
      "id": "PVayDzAewuH1",
      "execution_count": null,
      "outputs": []
    },
    {
      "cell_type": "markdown",
      "id": "095f726d",
      "metadata": {
        "id": "095f726d"
      },
      "source": [
        "## ~~finally~~ Para finalizar... levantando nossas próprias exceções\n",
        "\n",
        "Quando estamos criando nossos próprios módulos, classes ou funções, muitas vezes vamos nos deparar com situações inválidas. Imprimir uma mensagem de erro não é uma boa ideia, pois o programa pode estar rodando em um servidor, pode ter uma interface gráfica etc.\n",
        "\n",
        "Logo, o ideal seria lançarmos exceções para sinalizar essas situações. Desta forma, se elas forem ignoradas, o programa irá parar, sinalizando para o programador que existe alguma situação que deveria ser tratada. Adicionalmente, podemos criar nossa própria mensagem de erro, sinalizando para o programador que ele deveria fazer algo a respeito.\n",
        "\n",
        "Podemos utilizar a palavra ```raise``` seguida de ```Exception()```, passando entre parênteses a nossa mensagem personalizada de erro."
      ]
    },
    {
      "cell_type": "code",
      "source": [],
      "metadata": {
        "id": "1uAa2G6UaXmv"
      },
      "id": "1uAa2G6UaXmv",
      "execution_count": null,
      "outputs": []
    },
    {
      "cell_type": "code",
      "source": [],
      "metadata": {
        "id": "281U211aaYwm"
      },
      "id": "281U211aaYwm",
      "execution_count": null,
      "outputs": []
    },
    {
      "cell_type": "markdown",
      "id": "65dcb343",
      "metadata": {
        "id": "65dcb343"
      },
      "source": [
        "Note que na primeira chamada, onde não ocorreu exceção, o salário foi cadastrado na lista (observe o print acima). Já na segunda chamada, nossa função lançou a exceção e parou sua execução.\n",
        "\n",
        "Idealmente, quem pretende utilizar a função deveria fazê-lo agora utilizando ```try```, para manter o programa funcionando e tratar adequadamente o problema."
      ]
    },
    {
      "cell_type": "code",
      "source": [],
      "metadata": {
        "id": "pdFR-_JeaaBp"
      },
      "id": "pdFR-_JeaaBp",
      "execution_count": null,
      "outputs": []
    },
    {
      "cell_type": "markdown",
      "source": [
        "# links úteis\n",
        "\n",
        "the zen of python: https://www.python.org/doc/humor/#the-zen-of-python"
      ],
      "metadata": {
        "id": "E6Nnlq3OfzfB"
      },
      "id": "E6Nnlq3OfzfB"
    },
    {
      "cell_type": "code",
      "source": [],
      "metadata": {
        "id": "DV1Eugzjf0pb"
      },
      "id": "DV1Eugzjf0pb",
      "execution_count": null,
      "outputs": []
    },
    {
      "cell_type": "markdown",
      "source": [
        "# Chegou ao fim o módulo I/II de lógica de programação !\n",
        "Parabéns!\n",
        "\n",
        "Vocês passaram pelos principais conceitos fundamentais do Python.\n",
        "- Variáveis\n",
        "- Operadores\n",
        "- if/elif/else\n",
        "- loop for/while\n",
        "- funções\n",
        "- map/reduce/filter\n",
        "- arquivos (txt,csv...)\n",
        "- lambda\n",
        "- list comprehension\n",
        "- tratamento de exceção\n",
        "- etc...\n",
        "\n",
        "\n",
        "Dedicar o tempo e ter disciplina para estar aqui no final do dia mostra a dedicação de vocês em querer se desenvolver"
      ],
      "metadata": {
        "id": "KlS510yyYNkG"
      },
      "id": "KlS510yyYNkG"
    },
    {
      "cell_type": "code",
      "source": [],
      "metadata": {
        "id": "HLfzgvrIYN7x"
      },
      "id": "HLfzgvrIYN7x",
      "execution_count": null,
      "outputs": []
    }
  ],
  "metadata": {
    "kernelspec": {
      "display_name": "Python 3 (ipykernel)",
      "language": "python",
      "name": "python3"
    },
    "language_info": {
      "codemirror_mode": {
        "name": "ipython",
        "version": 3
      },
      "file_extension": ".py",
      "mimetype": "text/x-python",
      "name": "python",
      "nbconvert_exporter": "python",
      "pygments_lexer": "ipython3",
      "version": "3.9.7"
    },
    "colab": {
      "provenance": [],
      "collapsed_sections": [],
      "include_colab_link": true
    }
  },
  "nbformat": 4,
  "nbformat_minor": 5
}