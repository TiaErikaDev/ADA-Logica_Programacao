{
  "cells": [
    {
      "cell_type": "markdown",
      "metadata": {
        "id": "view-in-github",
        "colab_type": "text"
      },
      "source": [
        "<a href=\"https://colab.research.google.com/github/TiaErikaDev/ADA-Logica_Programacao/blob/main/Aula05_Loop_For.ipynb\" target=\"_parent\"><img src=\"https://colab.research.google.com/assets/colab-badge.svg\" alt=\"Open In Colab\"/></a>"
      ]
    },
    {
      "cell_type": "markdown",
      "metadata": {
        "id": "Qqj7MBzJmP09"
      },
      "source": [
        "# Aula - Loop for"
      ]
    },
    {
      "cell_type": "code",
      "source": [
        "# havíamos visto antes um loop de condicional, o loop while."
      ],
      "metadata": {
        "id": "vb83bzQw7mxZ"
      },
      "execution_count": null,
      "outputs": []
    },
    {
      "cell_type": "markdown",
      "metadata": {
        "id": "U6l0FxfEmP1A"
      },
      "source": [
        "### Laços de repetição (for)\n",
        "\n",
        "Na última aula, vimos como usar o laço de repetição \"while\" para repetir operações em Python\n",
        "\n",
        "Agora, veremos um outro laço, o **for**\n",
        "\n",
        "Mas, antes de vermos como este laço pode ser utilizado para **repetir operações**, é interessante entender o `for` como sendo, na realidade, um operador utilizado para **percorrer elementos de uma lista** (na verdade, de qualquer objeto **iterável**. Conheceremos outros objetos assim mais pra frente...)\n",
        "\n",
        "A estrutura do for é:\n",
        "\n",
        "```python\n",
        "for item in lista:\n",
        "    operacao_feita_pra_cada_item\n",
        "\n",
        "# podemos também ler como:\n",
        "para cada item na minha lista:\n",
        "  realizo_uma_sequencia_de_operacoes\n",
        "```"
      ]
    },
    {
      "cell_type": "code",
      "source": [
        "lista = [ \"a\", \"b\", \"c\"]\n",
        "for item in lista:\n",
        "  print(item)"
      ],
      "metadata": {
        "colab": {
          "base_uri": "https://localhost:8080/"
        },
        "id": "gKxqTScdy-if",
        "outputId": "51be9591-fd22-4073-8932-51a4047a1aa2"
      },
      "execution_count": null,
      "outputs": [
        {
          "output_type": "stream",
          "name": "stdout",
          "text": [
            "a\n",
            "b\n",
            "c\n"
          ]
        }
      ]
    },
    {
      "cell_type": "markdown",
      "metadata": {
        "id": "ys3FkWlImP1D"
      },
      "source": [
        "O código acima é equivalente a:"
      ]
    },
    {
      "cell_type": "code",
      "source": [
        "lista = [ \"a\", \"b\", \"c\"]\n",
        "print(lista[0])\n",
        "(...)\n",
        "print(lista[-1])"
      ],
      "metadata": {
        "id": "LFlqGGr5y_94",
        "colab": {
          "base_uri": "https://localhost:8080/"
        },
        "outputId": "ccf171e7-989c-45d7-91b0-fc07c19ba86d"
      },
      "execution_count": 1,
      "outputs": [
        {
          "output_type": "stream",
          "name": "stdout",
          "text": [
            "a\n",
            "c\n"
          ]
        }
      ]
    },
    {
      "cell_type": "markdown",
      "metadata": {
        "id": "U20WCXMtmP1D"
      },
      "source": [
        "Vamos a outros exemplos:"
      ]
    },
    {
      "cell_type": "code",
      "source": [
        "lista = [1,2,3,-60,-5,39844,-46]\n",
        "\n",
        "lista_neg = []\n",
        "lista_pos = []\n",
        "\n",
        "for element in lista:\n",
        "  print(element)\n",
        "  if element < 0:\n",
        "    lista_neg.append(element)\n",
        "  elif element > 0:\n",
        "    lista_pos.append(element)\n",
        "  else:\n",
        "    print(\"número zero\")\n",
        "\n",
        "print(lista_pos)\n",
        "print(lista_neg)\n",
        "  "
      ],
      "metadata": {
        "colab": {
          "base_uri": "https://localhost:8080/"
        },
        "id": "IF8UUUpIzCNJ",
        "outputId": "f7a2ad8f-cb9e-46f4-81fd-2dd04aedd2e9"
      },
      "execution_count": null,
      "outputs": [
        {
          "output_type": "stream",
          "name": "stdout",
          "text": [
            "1\n",
            "2\n",
            "3\n",
            "-60\n",
            "-5\n",
            "39844\n",
            "-46\n",
            "[1, 2, 3, 39844]\n",
            "[-60, -5, -46]\n"
          ]
        }
      ]
    },
    {
      "cell_type": "code",
      "source": [
        "txt = \"olá mundo\"\n",
        "\n",
        "for caractere in txt:\n",
        "  print(caractere)\n",
        "\n"
      ],
      "metadata": {
        "colab": {
          "base_uri": "https://localhost:8080/"
        },
        "id": "eUpltmJazCQC",
        "outputId": "37e34755-f653-43fa-9494-1d4bed3da659"
      },
      "execution_count": null,
      "outputs": [
        {
          "output_type": "stream",
          "name": "stdout",
          "text": [
            "o\n",
            "l\n",
            "á\n",
            " \n",
            "m\n",
            "u\n",
            "n\n",
            "d\n",
            "o\n"
          ]
        }
      ]
    },
    {
      "cell_type": "code",
      "source": [
        "\"olá mundo\"[0:2]"
      ],
      "metadata": {
        "colab": {
          "base_uri": "https://localhost:8080/",
          "height": 35
        },
        "id": "AppyGjWNdBk5",
        "outputId": "238a3903-b417-4314-eb7b-253a942961cf"
      },
      "execution_count": null,
      "outputs": [
        {
          "output_type": "execute_result",
          "data": {
            "text/plain": [
              "'ol'"
            ],
            "application/vnd.google.colaboratory.intrinsic+json": {
              "type": "string"
            }
          },
          "metadata": {},
          "execution_count": 6
        }
      ]
    },
    {
      "cell_type": "markdown",
      "metadata": {
        "id": "VV58-D0omP1F"
      },
      "source": [
        "Podemos fazer operações com os elementos de umas lista e usá-los pra preencher outra lista:"
      ]
    },
    {
      "cell_type": "code",
      "source": [
        "lista =  [1,2,3]\n",
        "lista_numero_2_multiplicada = []\n",
        "\n",
        "for element in lista:\n",
        "  if element == 2:\n",
        "    lista_numero_2_multiplicada.append(element*2)\n",
        "\n",
        "lista_numero_2_multiplicada"
      ],
      "metadata": {
        "colab": {
          "base_uri": "https://localhost:8080/"
        },
        "id": "srSaNJxczEAT",
        "outputId": "3f38e70b-1439-458c-d775-f5b7ad254f87"
      },
      "execution_count": null,
      "outputs": [
        {
          "output_type": "execute_result",
          "data": {
            "text/plain": [
              "[4]"
            ]
          },
          "metadata": {},
          "execution_count": 7
        }
      ]
    },
    {
      "cell_type": "markdown",
      "source": [
        "também podemos criar um código que adiciona informação na minha lista atual"
      ],
      "metadata": {
        "id": "yDdS_4ZkLeel"
      }
    },
    {
      "cell_type": "code",
      "source": [
        "lista = [1,20,3,4,100,300]\n",
        "\n",
        "for numero in lista:\n",
        "  print(numero)\n",
        "  if numero > 10:\n",
        "    lista.append(10)\n",
        "\n",
        "#print(numero)"
      ],
      "metadata": {
        "colab": {
          "base_uri": "https://localhost:8080/"
        },
        "id": "YebGMRSSzFQX",
        "outputId": "184bd258-5a06-43c5-9582-41772bec1a80"
      },
      "execution_count": null,
      "outputs": [
        {
          "output_type": "stream",
          "name": "stdout",
          "text": [
            "1\n",
            "20\n",
            "3\n",
            "4\n",
            "100\n",
            "300\n",
            "10\n",
            "10\n",
            "10\n"
          ]
        }
      ]
    },
    {
      "cell_type": "markdown",
      "source": [
        "o python também permite que dentro da iteração você remova informações da sua lista."
      ],
      "metadata": {
        "id": "NqsxzhiHO6OU"
      }
    },
    {
      "cell_type": "code",
      "source": [
        "lista = [1,2,3,5,-100,-6,-3,8]\n",
        "\n",
        "for numero in lista:\n",
        "  print(f\"iterando no número: {numero}\")\n",
        "  if numero == 5:\n",
        "    print(f\"valor removido {lista[0]}\")\n",
        "    lista.pop(0)\n",
        "  \n",
        "  print(f\"fim da iteração no número: {numero}\")\n"
      ],
      "metadata": {
        "colab": {
          "base_uri": "https://localhost:8080/"
        },
        "id": "yirFiWoXzGwf",
        "outputId": "186b566a-3601-4bc7-dace-778ca1f0dbae"
      },
      "execution_count": null,
      "outputs": [
        {
          "output_type": "stream",
          "name": "stdout",
          "text": [
            "iterando no número: 1\n",
            "fim da iteração no número: 1\n",
            "iterando no número: 2\n",
            "fim da iteração no número: 2\n",
            "iterando no número: 3\n",
            "fim da iteração no número: 3\n",
            "iterando no número: 5\n",
            "valor removido 1\n",
            "fim da iteração no número: 5\n",
            "iterando no número: -6\n",
            "fim da iteração no número: -6\n",
            "iterando no número: -3\n",
            "fim da iteração no número: -3\n",
            "iterando no número: 8\n",
            "fim da iteração no número: 8\n"
          ]
        }
      ]
    },
    {
      "cell_type": "code",
      "source": [
        "numero = input(\"Digite um número a ser pesquisado em uma lista: \")\n",
        "\n",
        "lista = [1,\"2\",3,4,5,6,7,2,8,9]\n",
        "\n",
        "for n in lista:\n",
        "  if numero == str(n):\n",
        "    lista.remove(n)\n",
        "\n",
        "print(lista)"
      ],
      "metadata": {
        "colab": {
          "base_uri": "https://localhost:8080/"
        },
        "id": "0M-Hu8gEzG1j",
        "outputId": "2c6cc76b-7e51-4e04-fcd8-ae70b2079513"
      },
      "execution_count": null,
      "outputs": [
        {
          "output_type": "stream",
          "name": "stdout",
          "text": [
            "Digite um número a ser pesquisado em uma lista: 2\n",
            "[1, 3, 4, 5, 6, 7, 8, 9]\n"
          ]
        }
      ]
    },
    {
      "cell_type": "code",
      "source": [
        "# porque o código acima não deu problema?\n",
        "# como nossa regra é remover um número que não estão repetindo na sequência, não percebemos esse efeito\n",
        "# vamos fazer o código acima dar errado\n",
        "numero = input(\"Digite um número a ser pesquisado em uma lista: \") # 2\n",
        "\n",
        "lista = [1,2,2,3,4,5,6,7,8,9]\n",
        "\n",
        "for n in lista:\n",
        "  print(n) # adicionei isso aqui\n",
        "  if numero == str(n):\n",
        "    print(\"passou aqui\") # adicionei isso aqui\n",
        "    lista.remove(n)\n",
        "\n",
        "print(lista)\n",
        "# a segunda ocorrência do número 2 não aparece"
      ],
      "metadata": {
        "colab": {
          "base_uri": "https://localhost:8080/"
        },
        "id": "iIeLQEYv5RuH",
        "outputId": "77300a27-4734-40fd-c5d8-c7f2f7f026f3"
      },
      "execution_count": null,
      "outputs": [
        {
          "output_type": "stream",
          "name": "stdout",
          "text": [
            "Digite um número a ser pesquisado em uma lista: 2\n",
            "1\n",
            "2\n",
            "passou aqui\n",
            "3\n",
            "4\n",
            "5\n",
            "6\n",
            "7\n",
            "8\n",
            "9\n",
            "[1, 2, 3, 4, 5, 6, 7, 8, 9]\n"
          ]
        }
      ]
    },
    {
      "cell_type": "markdown",
      "source": [
        "O que aconteceu?"
      ],
      "metadata": {
        "id": "kQt__cMlQ2Cc"
      }
    },
    {
      "cell_type": "code",
      "source": [
        "lista = [1,2,3,5,-100,-6,-3,8]\n",
        "lista_copy = lista.copy()\n",
        "\n",
        "for numero in lista:\n",
        "  print(f\"iterando no número: {numero}\")\n",
        "  if numero == 5:\n",
        "    print(f\"valor removido {lista[0]}\")\n",
        "    lista_copy.pop(0)\n",
        "  \n",
        "  print(f\"fim da iteração no número: {numero}\")\n"
      ],
      "metadata": {
        "colab": {
          "base_uri": "https://localhost:8080/"
        },
        "id": "IhcgjOnjzH6G",
        "outputId": "34962e95-7dba-429c-80b2-d85365c39953"
      },
      "execution_count": null,
      "outputs": [
        {
          "output_type": "stream",
          "name": "stdout",
          "text": [
            "iterando no número: 1\n",
            "fim da iteração no número: 1\n",
            "iterando no número: 2\n",
            "fim da iteração no número: 2\n",
            "iterando no número: 3\n",
            "fim da iteração no número: 3\n",
            "iterando no número: 5\n",
            "valor removido 1\n",
            "fim da iteração no número: 5\n",
            "iterando no número: -100\n",
            "fim da iteração no número: -100\n",
            "iterando no número: -6\n",
            "fim da iteração no número: -6\n",
            "iterando no número: -3\n",
            "fim da iteração no número: -3\n",
            "iterando no número: 8\n",
            "fim da iteração no número: 8\n"
          ]
        }
      ]
    },
    {
      "cell_type": "markdown",
      "source": [
        "\n",
        "- Minha recomendação: cuidado caso precise alterar a lista dentro da iteração.\n",
        "\n",
        "- Ao invés, eu costumo utilizar uma lista nova para adicionar ou remover informação\n",
        "\n",
        "<br> <br> <br>"
      ],
      "metadata": {
        "id": "eqgjxmlgSG4P"
      }
    },
    {
      "cell_type": "markdown",
      "metadata": {
        "id": "sskYv4oamP1I"
      },
      "source": [
        "### Break, Continue e Else"
      ]
    },
    {
      "cell_type": "code",
      "source": [
        "lista = [1,2,3]\n",
        "\n",
        "for elemento in lista:\n",
        "  print(elemento)\n",
        "  if elemento == 2:\n",
        "    break"
      ],
      "metadata": {
        "colab": {
          "base_uri": "https://localhost:8080/"
        },
        "id": "r1r2qEYgzLh4",
        "outputId": "33e756ca-0945-4e28-9ffe-f9952ae5f649"
      },
      "execution_count": null,
      "outputs": [
        {
          "output_type": "stream",
          "name": "stdout",
          "text": [
            "1\n",
            "2\n"
          ]
        }
      ]
    },
    {
      "cell_type": "code",
      "source": [
        "lista = [1,2,3]\n",
        "\n",
        "for elemento,elemento2 in lista:\n",
        "  if elemento == 2:\n",
        "    continue\n",
        "  print(elemento)"
      ],
      "metadata": {
        "colab": {
          "base_uri": "https://localhost:8080/"
        },
        "id": "a3zZ5UkVzLo9",
        "outputId": "1227c4f3-dc53-483f-8aa0-f4d04d9410ee"
      },
      "execution_count": null,
      "outputs": [
        {
          "output_type": "stream",
          "name": "stdout",
          "text": [
            "1\n",
            "3\n"
          ]
        }
      ]
    },
    {
      "cell_type": "code",
      "source": [
        "for elemento in lista:\n",
        "  print(elemento)\n",
        "  break\n",
        "else:\n",
        "  print(\"loop finalizado\")"
      ],
      "metadata": {
        "colab": {
          "base_uri": "https://localhost:8080/"
        },
        "id": "zmz5XXa4zLvn",
        "outputId": "9c7b6827-c8be-40f2-cfa7-3e0d6c818356"
      },
      "execution_count": null,
      "outputs": [
        {
          "output_type": "stream",
          "name": "stdout",
          "text": [
            "1\n"
          ]
        }
      ]
    },
    {
      "cell_type": "markdown",
      "metadata": {
        "id": "A7wbolOpmP1J"
      },
      "source": [
        "### Função Range()"
      ]
    },
    {
      "cell_type": "markdown",
      "metadata": {
        "id": "Kduo2gn4mP1K"
      },
      "source": [
        "É muito comum utilizarmos a função \"range()\" juntamente do for\n",
        "\n",
        "Essa função cria um **intervalo**, que é uma espécie de \"lista virtual\" de **números em sequência**. Sua sintaxe é:\n",
        "\n",
        "- range(primeiro_numero, último_numero - 1, passo)\n",
        "\n",
        "Se for dado apenas um argumento, o padrão é começar por zero, e ir de 1 em 1:\n",
        "\n",
        "- range(10) é equivalente a range(0, 10, 1), cria uma sequência de 0 a 9, de 1 em 1\n",
        "- range(-12, 12, 2): cria uma sequência de -12 a 11, de 2 em 2\n",
        "\n",
        "Ao fazermos list(range()), obtermos uma lista correspondente ao iterável.\n",
        "\n",
        "OBS: só podemos fazer iteráveis de int!"
      ]
    },
    {
      "cell_type": "code",
      "source": [
        "for elemento in range(5):\n",
        "  print(elemento)"
      ],
      "metadata": {
        "colab": {
          "base_uri": "https://localhost:8080/"
        },
        "id": "Tnt8YmD9zOPq",
        "outputId": "380dad30-9e57-4a15-8ba2-aca9b80d5add"
      },
      "execution_count": null,
      "outputs": [
        {
          "output_type": "stream",
          "name": "stdout",
          "text": [
            "0\n",
            "1\n",
            "2\n",
            "3\n",
            "4\n"
          ]
        }
      ]
    },
    {
      "cell_type": "code",
      "source": [
        "for elemento in range(0,5):\n",
        "  print(elemento)"
      ],
      "metadata": {
        "colab": {
          "base_uri": "https://localhost:8080/"
        },
        "id": "02uzsCXPzOXD",
        "outputId": "9537048c-5bc1-4925-aa9b-c1bd2390c826"
      },
      "execution_count": null,
      "outputs": [
        {
          "output_type": "stream",
          "name": "stdout",
          "text": [
            "0\n",
            "1\n",
            "2\n",
            "3\n",
            "4\n"
          ]
        }
      ]
    },
    {
      "cell_type": "code",
      "source": [
        "for elemento in range(-1,5):\n",
        "  print(elemento)"
      ],
      "metadata": {
        "colab": {
          "base_uri": "https://localhost:8080/"
        },
        "id": "FtYfyel3zOeF",
        "outputId": "aecc7275-2905-4185-9419-699df09fc5b6"
      },
      "execution_count": null,
      "outputs": [
        {
          "output_type": "stream",
          "name": "stdout",
          "text": [
            "-1\n",
            "0\n",
            "1\n",
            "2\n",
            "3\n",
            "4\n"
          ]
        }
      ]
    },
    {
      "cell_type": "code",
      "source": [
        "list(range(0,5))"
      ],
      "metadata": {
        "colab": {
          "base_uri": "https://localhost:8080/"
        },
        "id": "WbA72NKusJZW",
        "outputId": "8302d119-25e3-4272-a33b-a07b2aad0236"
      },
      "execution_count": null,
      "outputs": [
        {
          "output_type": "execute_result",
          "data": {
            "text/plain": [
              "[0, 1, 2, 3, 4]"
            ]
          },
          "metadata": {},
          "execution_count": 31
        }
      ]
    },
    {
      "cell_type": "code",
      "source": [
        "list(range(0,10,2))"
      ],
      "metadata": {
        "colab": {
          "base_uri": "https://localhost:8080/"
        },
        "id": "7ot1DeCUsE1C",
        "outputId": "12d25aa8-524c-43fe-c20f-22731bc3f4bc"
      },
      "execution_count": null,
      "outputs": [
        {
          "output_type": "execute_result",
          "data": {
            "text/plain": [
              "[0, 2, 4, 6, 8]"
            ]
          },
          "metadata": {},
          "execution_count": 32
        }
      ]
    },
    {
      "cell_type": "code",
      "source": [
        "list(range(-10,5,3))"
      ],
      "metadata": {
        "colab": {
          "base_uri": "https://localhost:8080/"
        },
        "id": "a7Vpsk7Zsgri",
        "outputId": "67e248bf-25ae-4626-ff7a-8a9892b3e2b4"
      },
      "execution_count": null,
      "outputs": [
        {
          "output_type": "execute_result",
          "data": {
            "text/plain": [
              "[-10, -7, -4, -1, 2]"
            ]
          },
          "metadata": {},
          "execution_count": 34
        }
      ]
    },
    {
      "cell_type": "markdown",
      "metadata": {
        "id": "I-Lji4tsmP1L"
      },
      "source": [
        "É muito comum usar o for com o range para **percorrer os índices de uma lista**, e assim também **acessar os elementos da lista através do índice**.\n",
        "\n",
        "Isso é feito passando pro range o comprinento da lista como argumento!"
      ]
    },
    {
      "cell_type": "code",
      "source": [
        "len([1,2,3,4])"
      ],
      "metadata": {
        "colab": {
          "base_uri": "https://localhost:8080/"
        },
        "id": "2C1yUMkOzP8u",
        "outputId": "809026c8-a58e-479e-f2e9-0fc44c3c6f24"
      },
      "execution_count": null,
      "outputs": [
        {
          "output_type": "execute_result",
          "data": {
            "text/plain": [
              "4"
            ]
          },
          "metadata": {},
          "execution_count": 35
        }
      ]
    },
    {
      "cell_type": "code",
      "source": [
        "lista = ['a', 'b', 'c', 1, 2, 3, 4]\n",
        "\n",
        "for indice in range(len(lista)):\n",
        "  print(indice, lista[indice])"
      ],
      "metadata": {
        "colab": {
          "base_uri": "https://localhost:8080/"
        },
        "id": "c3Gof2RczQC4",
        "outputId": "b9d2dc50-f2c0-4574-c74f-cf83ca52dd17"
      },
      "execution_count": null,
      "outputs": [
        {
          "output_type": "stream",
          "name": "stdout",
          "text": [
            "0 a\n",
            "1 b\n",
            "2 c\n",
            "3 1\n",
            "4 2\n",
            "5 3\n",
            "6 4\n"
          ]
        }
      ]
    },
    {
      "cell_type": "code",
      "source": [
        "lista = ['a', 'b', 'c', 1, 2, 3, 4]\n",
        "\n",
        "for indice in range(0,len(lista),2):\n",
        "  print(indice, lista[indice])"
      ],
      "metadata": {
        "colab": {
          "base_uri": "https://localhost:8080/"
        },
        "id": "QY2To5J9tPb8",
        "outputId": "81b3b060-41e6-44ec-81c3-1ded4b48628b"
      },
      "execution_count": null,
      "outputs": [
        {
          "output_type": "stream",
          "name": "stdout",
          "text": [
            "0 a\n",
            "2 c\n",
            "4 2\n",
            "6 4\n"
          ]
        }
      ]
    },
    {
      "cell_type": "markdown",
      "source": [
        "conseguimos iterar também múltiplos elementos. por exemplo:"
      ],
      "metadata": {
        "id": "4G0BA_E3iJ1M"
      }
    },
    {
      "cell_type": "code",
      "source": [
        "var1,var2,var3 = [1,2,5]"
      ],
      "metadata": {
        "id": "ZpEwwazmzQUZ"
      },
      "execution_count": null,
      "outputs": []
    },
    {
      "cell_type": "code",
      "source": [
        "for elemento1 in [[\"a\", 1], [\"b\",2]]:\n",
        "  print(elemento1)"
      ],
      "metadata": {
        "colab": {
          "base_uri": "https://localhost:8080/"
        },
        "id": "G9SYwrNBtddW",
        "outputId": "aac22bd4-ec2d-4976-90d5-223296b2c73a"
      },
      "execution_count": null,
      "outputs": [
        {
          "output_type": "stream",
          "name": "stdout",
          "text": [
            "['a', 1]\n",
            "['b', 2]\n"
          ]
        }
      ]
    },
    {
      "cell_type": "code",
      "source": [
        "variavel1, variavel2 = \"a\",1"
      ],
      "metadata": {
        "id": "amwU0Mzzumhl"
      },
      "execution_count": null,
      "outputs": []
    },
    {
      "cell_type": "code",
      "source": [
        "variavel1 = [1,2]"
      ],
      "metadata": {
        "id": "mwRwklONegog"
      },
      "execution_count": null,
      "outputs": []
    },
    {
      "cell_type": "code",
      "source": [
        "variavel1"
      ],
      "metadata": {
        "colab": {
          "base_uri": "https://localhost:8080/",
          "height": 35
        },
        "id": "eDFqExzCutYY",
        "outputId": "41326a30-2e19-403f-bd13-83abda8ca3d8"
      },
      "execution_count": null,
      "outputs": [
        {
          "output_type": "execute_result",
          "data": {
            "text/plain": [
              "'a'"
            ],
            "application/vnd.google.colaboratory.intrinsic+json": {
              "type": "string"
            }
          },
          "metadata": {},
          "execution_count": 48
        }
      ]
    },
    {
      "cell_type": "code",
      "source": [
        "for elemento1 in [[\"a\", 1,10], [\"b\",2, 120]]:\n",
        "  print(elemento1)"
      ],
      "metadata": {
        "colab": {
          "base_uri": "https://localhost:8080/"
        },
        "id": "8I7GIIuDzRXP",
        "outputId": "78466f08-6d5f-4014-d3ae-97c6d81ea2fc"
      },
      "execution_count": null,
      "outputs": [
        {
          "output_type": "stream",
          "name": "stdout",
          "text": [
            "a 1 10\n",
            "b 2 120\n"
          ]
        }
      ]
    },
    {
      "cell_type": "markdown",
      "source": [
        "se quero utilizar o índice e o valor podemos utilizar o enumerate():"
      ],
      "metadata": {
        "id": "qoRbyasriaRC"
      }
    },
    {
      "cell_type": "code",
      "source": [
        "lista = [1,2,3,4,5,6,7,8]\n",
        "\n",
        "for indice, valor in enumerate(lista):\n",
        "  print(indice, valor)"
      ],
      "metadata": {
        "colab": {
          "base_uri": "https://localhost:8080/"
        },
        "id": "djG3qLYIzScW",
        "outputId": "8907dc6e-f4e7-409e-e170-7a3c89502754"
      },
      "execution_count": null,
      "outputs": [
        {
          "output_type": "stream",
          "name": "stdout",
          "text": [
            "0 1\n",
            "1 2\n",
            "2 3\n",
            "3 4\n",
            "4 5\n",
            "5 6\n",
            "6 7\n",
            "7 8\n"
          ]
        }
      ]
    },
    {
      "cell_type": "markdown",
      "metadata": {
        "id": "bcB6Z94PmP1M"
      },
      "source": [
        "Note a diferença do que foi feito acima e o que é feito abaixo:"
      ]
    },
    {
      "cell_type": "code",
      "source": [
        "for element in lista:\n",
        "  print(element)"
      ],
      "metadata": {
        "colab": {
          "base_uri": "https://localhost:8080/"
        },
        "id": "a4Xrd1dIzTos",
        "outputId": "31c4fde7-818b-4b67-9ed1-21e74905010d"
      },
      "execution_count": null,
      "outputs": [
        {
          "output_type": "stream",
          "name": "stdout",
          "text": [
            "1\n",
            "2\n",
            "3\n",
            "4\n",
            "5\n",
            "6\n",
            "7\n",
            "8\n"
          ]
        }
      ]
    },
    {
      "cell_type": "markdown",
      "metadata": {
        "id": "3OvzSohqmP1M"
      },
      "source": [
        "O range é muito interessante caso **queiramos repetir determinada instrução**\n",
        "\n",
        "Se vc quer repetir N vezes, basta fazer:\n",
        "\n",
        "```python\n",
        "for i in range(N):\n",
        "    operacao_repetida\n",
        "```\n",
        "\n",
        "É neste sentido que o `for` passa a ser explicitamente um laço de repetição!\n",
        "\n",
        "Mas note que este laço se diferencia do while no fato de **não precisar de uma condição explícita**\n",
        "\n",
        "Este laço determina que as operações sejam repetidas **para valores em uma lista** (que no caso é o `range`).\n",
        "\n",
        "Este laço é, portanto, bem mais controlado -- dificilmente ocorrerá loops infinitos!"
      ]
    },
    {
      "cell_type": "code",
      "source": [
        "for element in range(5):\n",
        "  print(\"olá mundo\")"
      ],
      "metadata": {
        "colab": {
          "base_uri": "https://localhost:8080/"
        },
        "id": "I6N_-plKzU_p",
        "outputId": "7913120f-9cfc-42b1-f152-bfb059bdbe0c"
      },
      "execution_count": null,
      "outputs": [
        {
          "output_type": "stream",
          "name": "stdout",
          "text": [
            "olá mundo\n",
            "olá mundo\n",
            "olá mundo\n",
            "olá mundo\n",
            "olá mundo\n"
          ]
        }
      ]
    },
    {
      "cell_type": "markdown",
      "metadata": {
        "id": "PuLzaJ3gmP1M"
      },
      "source": [
        "Note que o código acima é equivalente a:"
      ]
    },
    {
      "cell_type": "code",
      "source": [
        "for element in [0,1,2,3,4]:\n",
        "  print(\"olá mundo\")"
      ],
      "metadata": {
        "colab": {
          "base_uri": "https://localhost:8080/"
        },
        "id": "Mmyxyd7fzV89",
        "outputId": "e20f5a05-0d23-436c-ed84-7254c16bb6b3"
      },
      "execution_count": null,
      "outputs": [
        {
          "output_type": "stream",
          "name": "stdout",
          "text": [
            "olá mundo\n",
            "olá mundo\n",
            "olá mundo\n",
            "olá mundo\n",
            "olá mundo\n"
          ]
        }
      ]
    },
    {
      "cell_type": "markdown",
      "metadata": {
        "id": "W4B_xrWcmP1N"
      },
      "source": [
        "### Exercícios:"
      ]
    },
    {
      "cell_type": "markdown",
      "metadata": {
        "id": "xzoZe9fEmP1N"
      },
      "source": [
        "1) Escreva um algoritmo que receba um número inteiro e positivo e calcule seu fatorial\n",
        "\n",
        "- sugestão: procure fazer com o range()"
      ]
    },
    {
      "cell_type": "code",
      "source": [
        "numero = int(input('Informe um número inteiro para conhecer o seu fatorial: '))\n",
        "fatorial = 1\n",
        "for i in range(1, numero+1):\n",
        "  fatorial *= i\n",
        "print(fatorial)"
      ],
      "metadata": {
        "id": "T0Z9TmwBRFlG",
        "colab": {
          "base_uri": "https://localhost:8080/"
        },
        "outputId": "cdf239f1-abc1-4267-a16a-8b051138cae7"
      },
      "execution_count": null,
      "outputs": [
        {
          "output_type": "stream",
          "name": "stdout",
          "text": [
            "Informe um número inteiro para conhecer o seu fatorial: 4\n",
            "24\n"
          ]
        }
      ]
    },
    {
      "cell_type": "markdown",
      "source": [
        "2) Escreva um algoritmo que quando passamos uma quantidade de notas, consegue recebê-las e retornar sua média"
      ],
      "metadata": {
        "id": "-hbscVyiFRFV"
      }
    },
    {
      "cell_type": "code",
      "source": [
        "quantidade_de_provas = int(input('Informe o número de avaliações: '))\n",
        "\n",
        "soma_notas = 0\n",
        "\n",
        "for i in range(1, quantidade_de_provas+1):\n",
        "  nota = float(input(f'Informe a {i}ª nota: '))\n",
        "  soma_notas += nota\n",
        "\n",
        "media = soma_notas/quantidade_de_provas\n",
        "print(f'A média do estudante foi: {media}')"
      ],
      "metadata": {
        "id": "NYdCauLzFRPq",
        "colab": {
          "base_uri": "https://localhost:8080/"
        },
        "outputId": "bddef65b-2575-49f1-b13b-523781a9950a"
      },
      "execution_count": null,
      "outputs": [
        {
          "output_type": "stream",
          "name": "stdout",
          "text": [
            "Informe o número de avaliações: 4\n",
            "Informe a 1ª nota: 10\n",
            "Informe a 2ª nota: 10\n",
            "Informe a 3ª nota: 10\n",
            "Informe a 4ª nota: 10\n",
            "A média do estudante foi: 10.0\n"
          ]
        }
      ]
    },
    {
      "cell_type": "markdown",
      "source": [
        "3) Crie um código que calcule a distância de uma lista com n elementos para outras múltiplas listas com a mesma quantidade de n elementos em suas listas.\n",
        "\n",
        "\n",
        "O código deve retornar uma lista com as distâncias dessa sua lista em relação aos outros pontos\n",
        "\n",
        "exemplo:\n",
        "```python\n",
        "meu_ponto = [1,2,3,4]\n",
        "outros_pontos = [[2,3,4,5],[2,5,7,6],[4,6,7,4]]\n",
        "```"
      ],
      "metadata": {
        "id": "L33TYuPAFRXq"
      }
    },
    {
      "cell_type": "code",
      "source": [
        "meu_ponto = [1,2,3,4]\n",
        "outros_pontos = [[2,3,4,5],[2,5,7,6],[4,6,7,4]]\n",
        "\n",
        "radicando = 0\n",
        "distancias = []\n",
        "\n",
        "for i in range(len(outros_pontos)):\n",
        "  for n in range(len(meu_ponto)):\n",
        "    radicando += (meu_ponto[n] - outros_pontos[i][n])**2\n",
        "  distancias.append(radicando**(1/2))\n",
        "print(distancias)"
      ],
      "metadata": {
        "id": "D6WQzguSFRhU",
        "colab": {
          "base_uri": "https://localhost:8080/"
        },
        "outputId": "a0892965-cb75-4f1d-ad99-1bc22717bcc3"
      },
      "execution_count": null,
      "outputs": [
        {
          "output_type": "stream",
          "name": "stdout",
          "text": [
            "[2.0, 5.830951894845301, 8.660254037844387]\n"
          ]
        }
      ]
    },
    {
      "cell_type": "code",
      "source": [
        "lista_soma = []\n",
        "distancia = []\n",
        "for i in outros_pontos:\n",
        "  soma_quadrados = []\n",
        "  indice = 0\n",
        "  for j in i:\n",
        "    d = (j - meu_ponto[indice])**2\n",
        "    soma_quadrados.append(d)\n",
        "    indice = indice + 1\n",
        "  soma = sum(soma_quadrados)\n",
        "  lista_soma.append(soma)\n",
        "\n",
        "for numero in lista_soma:\n",
        "  distancia.append(numero**0.5)\n",
        "\n",
        "print(f'A distância é: {distancia}')"
      ],
      "metadata": {
        "colab": {
          "base_uri": "https://localhost:8080/"
        },
        "id": "1bBNH5w3rvpw",
        "outputId": "b6db1bae-38df-4d5f-8ed9-213c464090f0"
      },
      "execution_count": null,
      "outputs": [
        {
          "output_type": "stream",
          "name": "stdout",
          "text": [
            "A distância é: [2.0, 5.477225575051661, 6.4031242374328485]\n"
          ]
        }
      ]
    }
  ],
  "metadata": {
    "kernelspec": {
      "display_name": "Python 3",
      "language": "python",
      "name": "python3"
    },
    "language_info": {
      "codemirror_mode": {
        "name": "ipython",
        "version": 3
      },
      "file_extension": ".py",
      "mimetype": "text/x-python",
      "name": "python",
      "nbconvert_exporter": "python",
      "pygments_lexer": "ipython3",
      "version": "3.8.5"
    },
    "colab": {
      "provenance": [],
      "collapsed_sections": [],
      "include_colab_link": true
    }
  },
  "nbformat": 4,
  "nbformat_minor": 0
}