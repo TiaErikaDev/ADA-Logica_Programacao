{
  "cells": [
    {
      "cell_type": "markdown",
      "metadata": {
        "id": "view-in-github",
        "colab_type": "text"
      },
      "source": [
        "<a href=\"https://colab.research.google.com/github/TiaErikaDev/ADA-Logica_Programacao/blob/main/Aula10_Arquivos.ipynb\" target=\"_parent\"><img src=\"https://colab.research.google.com/assets/colab-badge.svg\" alt=\"Open In Colab\"/></a>"
      ]
    },
    {
      "cell_type": "markdown",
      "metadata": {
        "id": "772zT7AIyLoQ"
      },
      "source": [
        "# Arquivos\n",
        "\n",
        "Uma característica que nenhum de nossos programas teve agora é a **persistência** de dados. Sempre que nossos programas eram executados, eles precisavam que os usuários digitassem todos os dados de entrada novamente, e após exibir os dados de saída na tela, o programa era fechado e esses dados eram perdidos para sempre.\n",
        "\n",
        "A persistência se dá através de **arquivos**: estruturas abstratas para armazenar dados em uma memória permanente, como o disco rígido, um _drive_ USB ou um servidor _web_."
      ]
    },
    {
      "cell_type": "markdown",
      "source": [
        "\n",
        "## Arquivos em Python\n",
        "O Python possui algumas funções prontas para manipular arquivos binários puros (onde, conhecendo a estrutura interna de qualquer formato, podemos salvar qualquer tipo de arquivo) e para manipular arquivos de texto (onde os binários são decodificados como _strings_).\n",
        "\n",
        "Focaremos no básico de manipulação de arquivo de texto, pois, na prática, quando formos trabalhar com arquivos mais complexos, é provável que usaremos bibliotecas específicas para lidar com eles, e elas já terão funções próprias para ler e salvar esses arquivos da maneira correta.\n",
        "\n"
      ],
      "metadata": {
        "id": "pjePIztxsLpf"
      }
    },
    {
      "cell_type": "markdown",
      "source": [
        "### Abrindo e fechando arquivos\n",
        "Podemos criar arquivos novos ou abrir arquivos já existentes utilizando a função _open()_. Ela possui 2 argumentos: uma com o caminho do arquivo e outra com o modo de operação. Para saber mais: \n",
        "<br> \n",
        "https://www.w3schools.com/python/ref_func_open.asp\n",
        "<br>\n",
        "https://docs.python.org/3/library/functions.html#open\n",
        "<br>\n",
        "\n",
        "| Modo   | Símbolo | Descrição                                                                                                                             |\n",
        "|--------|---------|---------------------------------------------------------------------------------------------------------------------------------------|\n",
        "| _create new_  | x       | Abre exclusivamente para criar, dando falha se o arquivo já existir                                                                                                       |\n",
        "| _write_  | w       | Abre um arquivo para escrever. Caso arquivo não exista cria um novo arquivo                                                                                                                  |\n",
        "| _append_ | a       | Abre um arquivo existente para adicionar informações ao seu final                                                                     |\n",
        "| _read_   | r       | Abre para ler um arquivo existente. Esse é o argumento padrão do parâmetro _mode_ na função _open()_                                                                        |\n",
        "| _update_ | +       | Abre para atualizar. ao ser combinado com outros modos, permite alteração de arquivo já existente tanto para escrever quanto para ler. exemplo: r+ abre um arquivo existente e permite modificá-lo) |\n",
        "\n",
        "Após abrirmos (ou criarmos) um arquivo, podemos realizar diversas operações. Ao final de todas elas, devemos **fechar** o nosso arquivo usando a função _close()_. Essa etapa é importante por 2 motivos:\n",
        "* 1. Se alteramos o arquivo mas não o fechamos, as alterações não serão salvas.\n",
        "* 2. Se esquecermos de fechar um arquivo, outros programas podem ter problemas de acesso a ele.\n",
        "\n",
        "A função _open_ retorna alguns dados que devem ser salvos em uma variável que será responsável por guardar alguns dados de acesso ao arquivo, para uso interno do Python.\n"
      ],
      "metadata": {
        "id": "5sSjIEtVsPbw"
      }
    },
    {
      "cell_type": "markdown",
      "source": [
        "\n",
        "### Escrevendo arquivos\n",
        "Para entender melhor o _open_ e o _close_, façamos um programinha que escreve algo em um arquivo. Além das duas funções que já vimos, também utilizaremos a função _write_, que escreve um texto em um arquivo. É quase como um _print_ mais simples, mas ele aceita apenas uma _string_."
      ],
      "metadata": {
        "id": "I-VV7i1RsTnX"
      }
    },
    {
      "cell_type": "code",
      "source": [
        "arquivo = open('ola.txt', 'x')\n",
        "arquivo.write(\"hello world\")\n",
        "arquivo.close()"
      ],
      "metadata": {
        "id": "jXCAhjt9mzoq"
      },
      "execution_count": null,
      "outputs": []
    },
    {
      "cell_type": "code",
      "source": [
        "arquivo = open('ola.txt', 'x')\n",
        "arquivo.write(\"hello world\")\n",
        "arquivo.close()"
      ],
      "metadata": {
        "id": "w7In3VWVmzu-",
        "colab": {
          "base_uri": "https://localhost:8080/",
          "height": 200
        },
        "outputId": "0a4e2f6f-bf5b-4a0c-9330-dd9a8a9c0692"
      },
      "execution_count": null,
      "outputs": [
        {
          "output_type": "error",
          "ename": "FileExistsError",
          "evalue": "ignored",
          "traceback": [
            "\u001b[0;31m---------------------------------------------------------------------------\u001b[0m",
            "\u001b[0;31mFileExistsError\u001b[0m                           Traceback (most recent call last)",
            "\u001b[0;32m<ipython-input-31-3c96ae4a431b>\u001b[0m in \u001b[0;36m<module>\u001b[0;34m\u001b[0m\n\u001b[0;32m----> 1\u001b[0;31m \u001b[0marquivo\u001b[0m \u001b[0;34m=\u001b[0m \u001b[0mopen\u001b[0m\u001b[0;34m(\u001b[0m\u001b[0;34m'ola.txt'\u001b[0m\u001b[0;34m,\u001b[0m \u001b[0;34m'x'\u001b[0m\u001b[0;34m)\u001b[0m\u001b[0;34m\u001b[0m\u001b[0;34m\u001b[0m\u001b[0m\n\u001b[0m\u001b[1;32m      2\u001b[0m \u001b[0marquivo\u001b[0m\u001b[0;34m.\u001b[0m\u001b[0mwrite\u001b[0m\u001b[0;34m(\u001b[0m\u001b[0;34m\"hello world\"\u001b[0m\u001b[0;34m)\u001b[0m\u001b[0;34m\u001b[0m\u001b[0;34m\u001b[0m\u001b[0m\n\u001b[1;32m      3\u001b[0m \u001b[0marquivo\u001b[0m\u001b[0;34m.\u001b[0m\u001b[0mclose\u001b[0m\u001b[0;34m(\u001b[0m\u001b[0;34m)\u001b[0m\u001b[0;34m\u001b[0m\u001b[0;34m\u001b[0m\u001b[0m\n",
            "\u001b[0;31mFileExistsError\u001b[0m: [Errno 17] File exists: 'ola.txt'"
          ]
        }
      ]
    },
    {
      "cell_type": "markdown",
      "source": [
        "Por que deu erro aqui?\n",
        "\n",
        "<br> <br> <br> <br> <br>\n",
        "\n",
        "Utilizamos o modo 'x' que ele cria um novo arquivo se não existir esse nome"
      ],
      "metadata": {
        "id": "WBGkdTzoFvqq"
      }
    },
    {
      "cell_type": "markdown",
      "source": [
        "Agora podemos utilizar o modo W para escrever \"por cima\" caso já tenha um arquivo com esse nome"
      ],
      "metadata": {
        "id": "4w_vgLojJ86M"
      }
    },
    {
      "cell_type": "code",
      "source": [
        "arquivo = open(\"ola.txt\", 'w')\n",
        "arquivo.write('hello world de novo')\n",
        "arquivo.close()"
      ],
      "metadata": {
        "id": "Lkf30A3am2qY"
      },
      "execution_count": null,
      "outputs": []
    },
    {
      "cell_type": "code",
      "source": [
        "arquivo = open(\"ola.txt\", 'a')\n",
        "arquivo.write('\\nhello world mais uma vez')\n",
        "arquivo.close()"
      ],
      "metadata": {
        "id": "oBsd4EoZm2yJ"
      },
      "execution_count": null,
      "outputs": []
    },
    {
      "cell_type": "markdown",
      "metadata": {
        "id": "AI_DZWMyyLoW"
      },
      "source": [
        "Após executar a célula acima, abra a pasta onde seu _notebook_ está salvo. Note que apareceu um ```ola.txt``` lá. Abra-o e verifique seu conteúdo.\n",
        "\n",
        "### Lendo arquivos\n",
        "Para ler um arquivo existente, não basta usar o _open_ para abri-lo. É necessário carregar seu conteúdo para uma _string_, de modo que possamos trabalhar com o texto da mesma forma que sempre trabalhamos. A função _read_ faz o oposto da _write_: ela retorna o texto existente no arquivo.\n",
        "\n",
        "Rode a célula abaixo."
      ]
    },
    {
      "cell_type": "code",
      "source": [
        "arquivo = open('ola.txt', 'r')\n",
        "conteudo = arquivo.read()\n",
        "print(conteudo)\n",
        "arquivo.close()"
      ],
      "metadata": {
        "id": "nwRWKGHkm45v",
        "colab": {
          "base_uri": "https://localhost:8080/"
        },
        "outputId": "5565974c-3094-48a9-d32e-356af15c401e"
      },
      "execution_count": null,
      "outputs": [
        {
          "output_type": "stream",
          "name": "stdout",
          "text": [
            "hello world de novo\n",
            "hello world mais uma vez\n"
          ]
        }
      ]
    },
    {
      "cell_type": "code",
      "source": [
        "for linha in conteudo.split(\"/n\"):\n",
        "  print(linha)"
      ],
      "metadata": {
        "id": "DbNmJGhpm4_E",
        "colab": {
          "base_uri": "https://localhost:8080/"
        },
        "outputId": "e6b2ca26-8a09-4e06-9fac-0cdff2b0360c"
      },
      "execution_count": null,
      "outputs": [
        {
          "output_type": "stream",
          "name": "stdout",
          "text": [
            "hello world de novo\n",
            "hello world mais uma vez\n"
          ]
        }
      ]
    },
    {
      "cell_type": "markdown",
      "metadata": {
        "id": "bghlUqY2yLoX"
      },
      "source": [
        "## Gerenciador de contexto\n",
        "\n",
        "Uma forma alternativa e \"mais segura\" de trabalhar com arquivos é utilizando um _gerenciador de contextos_. O gerenciador de contextos é, de maneira resumida, um pequeno bloco de código que realiza algumas tarefas e tratamentos de erro de maneira automatizada para nós. \n",
        "\n",
        "Com ele não precisamos nos preocupar em fechar o arquivo ao final da manipulação, pois ele irá fechar automaticamente para nós ao final do bloco. "
      ]
    },
    {
      "cell_type": "code",
      "source": [
        "with open(\"ola.txt\", 'r') as arquivo:\n",
        "  conteudo = arquivo.read()\n",
        "  print(conteudo.title())\n",
        "\n",
        "conteudo2 = arquivo.read()\n"
      ],
      "metadata": {
        "id": "WAWd34czm6HM",
        "colab": {
          "base_uri": "https://localhost:8080/",
          "height": 235
        },
        "outputId": "6fc14103-02c1-423c-e428-1bbf93351ec9"
      },
      "execution_count": null,
      "outputs": [
        {
          "output_type": "stream",
          "name": "stdout",
          "text": [
            "Hello World De Novo\n",
            "Hello World Mais Uma Vez\n"
          ]
        },
        {
          "output_type": "error",
          "ename": "ValueError",
          "evalue": "ignored",
          "traceback": [
            "\u001b[0;31m---------------------------------------------------------------------------\u001b[0m",
            "\u001b[0;31mValueError\u001b[0m                                Traceback (most recent call last)",
            "\u001b[0;32m<ipython-input-36-f62a6c12ee5e>\u001b[0m in \u001b[0;36m<module>\u001b[0;34m\u001b[0m\n\u001b[1;32m      3\u001b[0m   \u001b[0mprint\u001b[0m\u001b[0;34m(\u001b[0m\u001b[0mconteudo\u001b[0m\u001b[0;34m.\u001b[0m\u001b[0mtitle\u001b[0m\u001b[0;34m(\u001b[0m\u001b[0;34m)\u001b[0m\u001b[0;34m)\u001b[0m\u001b[0;34m\u001b[0m\u001b[0;34m\u001b[0m\u001b[0m\n\u001b[1;32m      4\u001b[0m \u001b[0;34m\u001b[0m\u001b[0m\n\u001b[0;32m----> 5\u001b[0;31m \u001b[0mconteudo2\u001b[0m \u001b[0;34m=\u001b[0m \u001b[0marquivo\u001b[0m\u001b[0;34m.\u001b[0m\u001b[0mread\u001b[0m\u001b[0;34m(\u001b[0m\u001b[0;34m)\u001b[0m\u001b[0;34m\u001b[0m\u001b[0;34m\u001b[0m\u001b[0m\n\u001b[0m",
            "\u001b[0;31mValueError\u001b[0m: I/O operation on closed file."
          ]
        }
      ]
    },
    {
      "cell_type": "markdown",
      "metadata": {
        "id": "JTfzIeHdyLoY"
      },
      "source": [
        "No restante dos exemplos **seguiremos utilizando a primeira forma que aprendemos para reforçar que, por dentro, há sempre uma abertura e um fechamento de arquivo**. Mas sinta-se livre para utilizar a nova forma sempre que quiser!"
      ]
    },
    {
      "cell_type": "markdown",
      "source": [
        "## Utilizando o Google Colab e lendo arquivos do meu Google Drive"
      ],
      "metadata": {
        "id": "sLlFH2BK4D7l"
      }
    },
    {
      "cell_type": "markdown",
      "source": [
        "- Uma característica diferente que o Google Colab tem das outras IDEs populares é o fato dela estar online e ter facilidade de utilizar o Google Drive"
      ],
      "metadata": {
        "id": "-Do25hum4NBa"
      }
    },
    {
      "cell_type": "markdown",
      "source": [
        "- Por que pode ser importante utilizar o Google Drive?\n",
        " - Permite você guardar e ler informações de um local na nuvem\n",
        " - Se utilizarmos o diretório padrão ele só persistirá durante o a sessão presente"
      ],
      "metadata": {
        "id": "6ay7QnwT5JQ3"
      }
    },
    {
      "cell_type": "code",
      "source": [
        "from google.colab import drive\n",
        "drive.mount('/content/drive')"
      ],
      "metadata": {
        "id": "aRCg5ENhnpIQ"
      },
      "execution_count": null,
      "outputs": []
    },
    {
      "cell_type": "markdown",
      "source": [
        "Agora conseguimos interagir com os arquivos do Google Drive da mesma maneira se fosse em outro diretório"
      ],
      "metadata": {
        "id": "SWboC5IG5CZF"
      }
    },
    {
      "cell_type": "code",
      "source": [
        "arquivo = open('/content/drive/MyDrive/arquivo_no_drive.txt', 'x')\n",
        "arquivo.write(\"hello world \\n\")\n",
        "arquivo.close()"
      ],
      "metadata": {
        "id": "noknMphunL-I"
      },
      "execution_count": null,
      "outputs": []
    },
    {
      "cell_type": "code",
      "source": [
        "arquivo = open('/content/drive/MyDrive/arquivo_no_drive.txt', 'r+')\n",
        "conteudo = arquivo.read()\n",
        "print(conteudo)\n",
        "arquivo.write(\"hello world2 \\n\")\n",
        "arquivo.close()\n"
      ],
      "metadata": {
        "id": "wyezn0o8nMEt"
      },
      "execution_count": null,
      "outputs": []
    },
    {
      "cell_type": "code",
      "source": [
        "arquivo = open('/content/drive/MyDrive/arquivo_no_drive.txt', 'r+')\n",
        "conteudo = arquivo.read()\n",
        "print(conteudo)"
      ],
      "metadata": {
        "id": "zzqljQPEnMM1"
      },
      "execution_count": null,
      "outputs": []
    },
    {
      "cell_type": "code",
      "source": [
        "for element in conteudo.split():\n",
        "  print(element)"
      ],
      "metadata": {
        "id": "grNDujKLrHxq"
      },
      "execution_count": null,
      "outputs": []
    },
    {
      "cell_type": "markdown",
      "metadata": {
        "id": "P4JV5LgqyLoZ"
      },
      "source": [
        "# Exercícios - parte 1"
      ]
    },
    {
      "cell_type": "markdown",
      "source": [
        "\n",
        "Use o conteúdo ensinado até o momento para realizar os exercícios abaixo. \n",
        "\n",
        "Para os exercícios envolvendo números, você pode utilizar o arquivo ```numeros.txt``` fornecido junto deste _notebook_ . link do arquivo ```numeros.txt```: https://drive.google.com/file/d/1iKodt0gYVQnwNZ0-FXnW4HBQp8ZS2Ml9/view?usp=sharing\n"
      ],
      "metadata": {
        "id": "z074EawTI1YZ"
      }
    },
    {
      "cell_type": "markdown",
      "source": [
        "1) Escreva um código que lê um arquivo de texto contendo uma série de números separados por quebra de linha (```'\\n'```) e os adiciona a uma lista. Imprima a lista na tela."
      ],
      "metadata": {
        "id": "J4f662BQWWDg"
      }
    },
    {
      "cell_type": "code",
      "source": [
        "meu_arquivo = open('/content/drive/MyDrive/numeros.txt', 'r+')\n",
        "numeros = meu_arquivo.read().split('\\n')\n",
        "lista_numeros = (list(map(int, numeros)))\n",
        "print(lista_numeros)\n",
        "arquivo.close()"
      ],
      "metadata": {
        "colab": {
          "base_uri": "https://localhost:8080/",
          "height": 235
        },
        "id": "YTNJvueQWsCO",
        "outputId": "60a99650-4372-4f1f-9f36-a2ee787fb5ae"
      },
      "execution_count": null,
      "outputs": [
        {
          "output_type": "error",
          "ename": "ValueError",
          "evalue": "ignored",
          "traceback": [
            "\u001b[0;31m---------------------------------------------------------------------------\u001b[0m",
            "\u001b[0;31mValueError\u001b[0m                                Traceback (most recent call last)",
            "\u001b[0;32m<ipython-input-37-02ad17b64d87>\u001b[0m in \u001b[0;36m<module>\u001b[0;34m\u001b[0m\n\u001b[1;32m      1\u001b[0m \u001b[0mmeu_arquivo\u001b[0m \u001b[0;34m=\u001b[0m \u001b[0mopen\u001b[0m\u001b[0;34m(\u001b[0m\u001b[0;34m'/content/drive/MyDrive/numeros.txt'\u001b[0m\u001b[0;34m,\u001b[0m \u001b[0;34m'r+'\u001b[0m\u001b[0;34m)\u001b[0m\u001b[0;34m\u001b[0m\u001b[0;34m\u001b[0m\u001b[0m\n\u001b[1;32m      2\u001b[0m \u001b[0mnumeros\u001b[0m \u001b[0;34m=\u001b[0m \u001b[0mmeu_arquivo\u001b[0m\u001b[0;34m.\u001b[0m\u001b[0mread\u001b[0m\u001b[0;34m(\u001b[0m\u001b[0;34m)\u001b[0m\u001b[0;34m.\u001b[0m\u001b[0msplit\u001b[0m\u001b[0;34m(\u001b[0m\u001b[0;34m'\\n'\u001b[0m\u001b[0;34m)\u001b[0m\u001b[0;34m\u001b[0m\u001b[0;34m\u001b[0m\u001b[0m\n\u001b[0;32m----> 3\u001b[0;31m \u001b[0mlista_numeros\u001b[0m \u001b[0;34m=\u001b[0m \u001b[0;34m(\u001b[0m\u001b[0mlist\u001b[0m\u001b[0;34m(\u001b[0m\u001b[0mmap\u001b[0m\u001b[0;34m(\u001b[0m\u001b[0mint\u001b[0m\u001b[0;34m,\u001b[0m \u001b[0mnumeros\u001b[0m\u001b[0;34m)\u001b[0m\u001b[0;34m)\u001b[0m\u001b[0;34m)\u001b[0m\u001b[0;34m\u001b[0m\u001b[0;34m\u001b[0m\u001b[0m\n\u001b[0m\u001b[1;32m      4\u001b[0m \u001b[0mprint\u001b[0m\u001b[0;34m(\u001b[0m\u001b[0mlista_numeros\u001b[0m\u001b[0;34m)\u001b[0m\u001b[0;34m\u001b[0m\u001b[0;34m\u001b[0m\u001b[0m\n\u001b[1;32m      5\u001b[0m \u001b[0marquivo\u001b[0m\u001b[0;34m.\u001b[0m\u001b[0mclose\u001b[0m\u001b[0;34m(\u001b[0m\u001b[0;34m)\u001b[0m\u001b[0;34m\u001b[0m\u001b[0;34m\u001b[0m\u001b[0m\n",
            "\u001b[0;31mValueError\u001b[0m: invalid literal for int() with base 10: 'não-primo 90'"
          ]
        }
      ]
    },
    {
      "cell_type": "code",
      "source": [
        "arquivo = open(\"/content/drive/MyDrive/numeros.txt\", \"r\")\n",
        "conteudo_lista = arquivo.read().split(\"\\n\")\n",
        "print(conteudo_lista)\n",
        "conteudo_lista = list(map(int,conteudo_lista))\n",
        "arquivo.close()\n",
        "\n",
        "conteudo_lista[0:5]"
      ],
      "metadata": {
        "id": "GGSZd8CXnPVq"
      },
      "execution_count": null,
      "outputs": []
    },
    {
      "cell_type": "markdown",
      "metadata": {
        "id": "MJcx_fadyLoa"
      },
      "source": [
        "2) Escreva um programa que lê um arquivo de texto contendo uma série de números inteiros separados por quebra de linha (```\\n```) e escreva na tela o somatório dos números."
      ]
    },
    {
      "cell_type": "code",
      "source": [
        "meu_arquivo = open('/content/drive/MyDrive/numeros.txt', 'r+')\n",
        "numeros = meu_arquivo.read().split('\\n')\n",
        "lista_numeros = (list(map(int, numeros)))\n",
        "arquivo.close()\n",
        "\n",
        "print(sum(lista_numeros))"
      ],
      "metadata": {
        "id": "xUAFadlbbSBi"
      },
      "execution_count": null,
      "outputs": []
    },
    {
      "cell_type": "code",
      "source": [
        "arquivo = open(\"/content/drive/MyDrive/numeros.txt\", \"r\")\n",
        "conteudo_lista = arquivo.read().split(\"\\n\")\n",
        "conteudo_lista = list(map(int,conteudo_lista))\n",
        "arquivo.close()\n",
        "\n",
        "sum(conteudo_lista)"
      ],
      "metadata": {
        "id": "pgEVi_UsnQVh"
      },
      "execution_count": null,
      "outputs": []
    },
    {
      "cell_type": "markdown",
      "source": [
        "3) Crie uma função que cheque se um número inteiro é primo (divisível por apenas 1 e por ele mesmo) ou não.\n",
        "- Se for primo retornar \"primo\"\n",
        "- Caso contrário, retorne \"não-primo\""
      ],
      "metadata": {
        "id": "TGRNFGKLVZOU"
      }
    },
    {
      "cell_type": "code",
      "source": [
        "def numeros_primo(numero):\n",
        "    for i in range(2,(numero//2)+1):\n",
        "        if numero % i == 0:\n",
        "            return 'não-primo'\n",
        "    return 'primo'"
      ],
      "metadata": {
        "id": "yEBx9Teqbmuj"
      },
      "execution_count": null,
      "outputs": []
    },
    {
      "cell_type": "code",
      "source": [
        "numeros_primo(90)"
      ],
      "metadata": {
        "id": "-NmCjlrrcibC"
      },
      "execution_count": null,
      "outputs": []
    },
    {
      "cell_type": "code",
      "source": [
        "def is_primo(numero):\n",
        "  for numero_dividir in range(2,numero):\n",
        "    if numero % numero_dividir == 0:\n",
        "      return \"não-primo\"\n",
        "  return \"primo\""
      ],
      "metadata": {
        "id": "L38ysqIUnSy6"
      },
      "execution_count": null,
      "outputs": []
    },
    {
      "cell_type": "code",
      "source": [
        "is_primo(90)"
      ],
      "metadata": {
        "id": "0NEm6HkF2eo9"
      },
      "execution_count": null,
      "outputs": []
    },
    {
      "cell_type": "markdown",
      "metadata": {
        "id": "htCtkGbQyLoa"
      },
      "source": [
        "4) Escreva um programa que lê um arquivo de texto contendo uma série de números separados por quebra de linha (```\\n```). Crie um novo arquivo onde você irá escrever \"primo\" ou \"não-primo\" na linha correspondente a cada número.\n",
        "\n",
        "- Importante: Além dos argumento que já passamos comumente para o open(), passe o argumento 'utf-8' para parâmetro encoding dentro do open(). exemplo:\n",
        "\n",
        "open(... encoding='utf-8')"
      ]
    },
    {
      "cell_type": "code",
      "source": [
        "meu_arquivo = open('/content/drive/MyDrive/numeros.txt', 'r')\n",
        "numeros = meu_arquivo.read().split('\\n')\n",
        "lista_numeros = (list(map(int, numeros)))\n",
        "arquivo.close()\n",
        "\n",
        "meu_novo_arquivo = open('/content/drive/MyDrive/numeros_primo.txt', 'w')\n",
        "for i in lista_numeros:\n",
        "    check = numeros_primo(i)\n",
        "    meu_novo_arquivo.write(check + ' ' + str(i) + '\\n')\n",
        "\n",
        "meu_novo_arquivo.close()\n",
        "\n"
      ],
      "metadata": {
        "id": "YgRZK77vcpKE"
      },
      "execution_count": null,
      "outputs": []
    },
    {
      "cell_type": "code",
      "source": [
        "arquivo = open(\"/content/drive/MyDrive/numeros.txt\", \"r\")\n",
        "conteudo_lista = arquivo.read().split(\"\\n\")\n",
        "conteudo_lista = list(map(int,conteudo_lista))\n",
        "arquivo.close()\n",
        "\n",
        "novo_arquivo = open(\"/content/drive/MyDrive/numeros_primos.txt\", \"w\")\n",
        "\n",
        "for numero in conteudo_lista:\n",
        "  avaliacao = is_primo(numero)\n",
        "  novo_arquivo.write(avaliacao + \" \" + str(numero) + \"\\n\")\n",
        "\n",
        "novo_arquivo.close()"
      ],
      "metadata": {
        "id": "e3EJCV15nUBN"
      },
      "execution_count": null,
      "outputs": []
    },
    {
      "cell_type": "markdown",
      "metadata": {
        "id": "sDHELy-EyLoc"
      },
      "source": [
        "# Arquivos CSV\n",
        "Muitos dados interessantes ou importantes estão disponíveis na forma de tabela. A capacidade de manipular planilhas foi determinante no sucesso dos computadores pessoais, dada sua importância para empresas e indivíduos.\n",
        "\n",
        "Aprenderemos a manipular dados utilizando um dos formatos de planilha mais amplamente utilizados na _web_: o formato CSV. Mas antes, como podemos representar tabelas em Python?\n",
        "\n",
        "## Tabelas em Python\n",
        "Conforme já mencionamos, temos módulos prontos para realizar muitas tarefas para nós. Um dos módulos mais populares em Python é o _pandas_, que mesmo não vindo instalado por padrão é provavelmente o módulo mais usado para manipular planilhas. Porém, como este é um curso introdutório, convém entendermos um pouquinho de lógica de como manipular uma tabela para futuramente sermos capazes de trabalhar corretamente com os módulos prontos.\n",
        "\n",
        "Uma das formas mais simples de se representar uma tabela em Python seria através de uma lista de listas. Nossa lista principal seria a tabela como um todo, e cada lista interna seria uma linha da tabela. \n",
        "\n",
        "Para acessar um elemento individual, utilizamos 2 índices: o primeiro indica a lista interna (linha) e o segundo o elemento individual na lista (coluna). Para percorrer a tabela inteira, utilizamos 2 _for_ aninhados: o mais externo fixa uma linha e o mais interno percorre cada elemento daquela linha."
      ]
    },
    {
      "cell_type": "code",
      "source": [
        "comma separated values (valores separados por vírgula)\n",
        "linha 1: titúlo,resumo\"\\n\"\n",
        "linha 2: joao;\"era uma vez, eoeo\"\"\\n\"\n",
        "linha 3: maria;37\"\\n\""
      ],
      "metadata": {
        "id": "jOIVB4HOnfaG"
      },
      "execution_count": null,
      "outputs": []
    },
    {
      "cell_type": "code",
      "source": [
        "[[\"nome\",\"idade\"], [\"joao\", 48]]"
      ],
      "metadata": {
        "id": "C_iWAuaenfhV"
      },
      "execution_count": null,
      "outputs": []
    },
    {
      "cell_type": "code",
      "source": [
        "import pandas as pd\n",
        "df = pd.DataFrame([['joao', 8], ['maria', 9]], columns=['aluno', 'nota1'])\n",
        "df"
      ],
      "metadata": {
        "id": "lL47szUUnfoN"
      },
      "execution_count": null,
      "outputs": []
    },
    {
      "cell_type": "markdown",
      "metadata": {
        "id": "wVEYg06zyLod"
      },
      "source": [
        "## O formato CSV\n",
        "A sigla CSV significa _Comma-Separated Values_, ou \"valores separados por vírgula\". Este formato é uma forma padrão de representar tabelas usando arquivos de texto simples: cada elemento é separado por uma vírgula, e cada linha é separada por uma quebra de linha. \n",
        "\n",
        "Na prática, nem sempre o padrão é seguido à risca: podemos utilizar outros símbolos para fazer a separação. Um bom motivo é o fato de a vírgula ser utilizada para representar casa decimal em algumas línguas, como a língua portuguesa. O importante é ser coerente: todos os elementos deverão ser separados pelo mesmo símbolo, e todas as linhas deverão ter o mesmo número de elementos.\n",
        "\n",
        "Caso queira fazer depois: Cole o texto abaixo em um editor de texto puro (como o Bloco de Notas, no Windows) e salve-o com a extensão .csv. \n",
        "\n",
        "```\n",
        "Aluno;Nota 1;Nota 2;Presenças\n",
        "Luke;7;9;15\n",
        "Han;4;7;10\n",
        "Leia;9;9;16\n",
        "```\n",
        "\n",
        "Caso você tenha um editor de planilha instalado, como o Excel, é provável que o ícone representando o arquivo seja o ícone do editor de planilhas, e não de um arquivo de texto. Abra-o com seu editor de planilha e observe como ele interpreta corretamente os dados!\n",
        "\n",
        "Devido ao fato de ser um formato aberto (ou seja, não é necessário pagar por propriedade intelectual para usar) e ser muito fácil de manipular, diversos programas diferentes possuem a opção de importar ou exportar dados em CSV, e diversas bases de dados na _web_ fornecem a opção de baixar os dados neste formato.\n",
        "\n",
        "## O módulo CSV em Python\n",
        "Devido à facilidade de trabalhar com arquivos CSV, com o que vimos sobre arquivos até o momento já conseguimos facilmente escrever um programinha que escreva uma planilha (representada como lista de listas) em um arquivo CSV. Da mesma forma, utilizando as funções que vimos de _strings_, conseguimos abrir um arquivo CSV e adequadamente reconhecer seus elementos (dica: _split_).\n",
        "\n",
        "Porém, como mencionamos antes, o Python possui muita coisa pronta, então não precisamos constantemente reinventar a roda. Existe um módulo chamado _csv_ que já vem instalado com o Python. Ele já faz sozinho o serviço bruto de transformar nossa lista de listas em um texto separado por símbolos e vice-versa."
      ]
    },
    {
      "cell_type": "markdown",
      "source": [
        "\n",
        "### Escrevendo um CSV\n",
        "Para escrever um CSV utilizando o módulo, precisamos ter nossos dados representados como uma lista de listas. Criaremos (ou abriremos) um arquivo usando o _open_, como já fizemos antes, e utilizaremos um _CSV writer_ - uma estrutura que guardará as regrinhas para escrever nosso CSV. Execute o exemplo abaixo:"
      ],
      "metadata": {
        "id": "vzfkE5bRelEG"
      }
    },
    {
      "cell_type": "code",
      "source": [
        "tabela = [['aluno', 'nota1'], ['joao', 8], ['maria', 9]]"
      ],
      "metadata": {
        "id": "2L1tUIwyniZ0"
      },
      "execution_count": null,
      "outputs": []
    },
    {
      "cell_type": "code",
      "source": [
        "import csv\n",
        "\n",
        "arquivo = open(\"alunos.csv\", 'w')\n",
        "\n",
        "escritor = csv.writer(arquivo, delimiter=\";\", lineterminator=\"\\n\" )\n",
        "\n",
        "escritor.writerows(tabela)\n",
        "\n",
        "arquivo.close()"
      ],
      "metadata": {
        "id": "sMnPJswN6jw_"
      },
      "execution_count": null,
      "outputs": []
    },
    {
      "cell_type": "markdown",
      "metadata": {
        "id": "0vkpQZWyyLod"
      },
      "source": [
        "Após executar o programa acima, deve ter surgido um programa _alunos.csv_ na mesma pasta, e seu editor de planilhas provavelmente o reconhece com sucesso. Se você abri-lo com um editor de texto puro, verá os dados separados por **;** igualzinho ao arquivo que criamos manualmente antes.\n",
        "\n",
        "### Lendo um CSV\n",
        "O processo para ler o CSV é semelhante: utilizamos um _CSV reader_, com os mesmos parâmetros utilizados no _CSV writer_. A função _csv.reader_ já retorna para nós uma estrutura iterável (ou seja, que pode ser percorrida com _for_) contendo cada linha já organizada como lista."
      ]
    },
    {
      "cell_type": "code",
      "source": [
        "arquivo = open(\"alunos.csv\", 'r')\n",
        "\n",
        "# posso iteragir diretamente com o objetivo csv.reader , mas preciso me atentar que isso necessita ser feito \n",
        "# com o arquivo aberto\n",
        "planilha = csv.reader(arquivo, delimiter=\";\", lineterminator=\"\\n\")\n",
        "for linha in planilha:\n",
        "  print(linha[0].upper())\n",
        "\n",
        "arquivo.close()\n"
      ],
      "metadata": {
        "id": "VBPCdnru-SyK"
      },
      "execution_count": null,
      "outputs": []
    },
    {
      "cell_type": "markdown",
      "metadata": {
        "id": "9B3MdTSFyLoe"
      },
      "source": [
        "Note que a estrutura **não é** uma lista, mas um objeto iterável. Vejamos o que acontece se tentarmos imprimi-lo diretamente:"
      ]
    },
    {
      "cell_type": "markdown",
      "metadata": {
        "id": "Gvu9JApFyLoe"
      },
      "source": [
        "Caso você precise de mais flexibilidade para trabalhar com a sua planilha - por exemplo, caso deseje editá-la, criar novas colunas etc, convém converter a estrutura para uma lista de verdade. É possível usar um ```list``` no objeto para fazer a conversão:"
      ]
    },
    {
      "cell_type": "code",
      "source": [
        "arquivo = open(\"alunos.csv\", 'r')\n",
        "\n",
        "planilha = list(csv.reader(arquivo, delimiter=\";\", lineterminator=\"\\n\"))\n",
        "\n",
        "arquivo.close()\n",
        "\n",
        "for linha in planilha:\n",
        "  print(linha[0].upper())"
      ],
      "metadata": {
        "id": "GmlpPPiWnjOd"
      },
      "execution_count": null,
      "outputs": []
    },
    {
      "cell_type": "markdown",
      "metadata": {
        "id": "6isqo9wSyLof"
      },
      "source": [
        "# Exercícios - parte 2\n",
        "\n",
        "Use o módulo ```csv``` recém-estudado para fazer os próximos exercícios."
      ]
    },
    {
      "cell_type": "markdown",
      "source": [
        "5) Faça um código que pede para o usuário digitar a quantidade de provas aplicadas, a quantidade de alunos em uma turma e cada uma das notas.\n",
        "\n",
        "- O seu programa deverá salvar apenas as notas digitadas em um arquivo CSV onde cada linha representa um aluno e cada coluna é uma nota da prova."
      ],
      "metadata": {
        "id": "rZY_qluJBC7w"
      }
    },
    {
      "cell_type": "code",
      "source": [
        "quantidade_alunos = int(input(f\"Cadastre a quantidade de alunos: \"))\n",
        "quantidade_provas = int(input(f\"Cadastre a quantidade de provas: \"))\n",
        "\n",
        "todas_notas_alunos = []\n",
        "for aluno in range(quantidade_alunos):\n",
        "  notas_aluno = []\n",
        "  for prova in range(quantidade_provas):\n",
        "    nota = float(input(f\"Cadastre a nota da prova do aluno: {aluno} e prova: {prova}: \"))\n",
        "    notas_aluno.append(nota)\n",
        "  todas_notas_alunos.append(notas_aluno)\n"
      ],
      "metadata": {
        "id": "PwV3JSJOnob8",
        "colab": {
          "base_uri": "https://localhost:8080/"
        },
        "outputId": "26ff713b-9c73-4947-ce1b-0d13ffeeda7b"
      },
      "execution_count": null,
      "outputs": [
        {
          "name": "stdout",
          "output_type": "stream",
          "text": [
            "Cadastre a quantidade de alunos: 2\n",
            "Cadastre a quantidade de provas: 2\n",
            "Cadastre a nota da prova do aluno: 0 e prova: 0: 10\n",
            "Cadastre a nota da prova do aluno: 0 e prova: 1: 7\n",
            "Cadastre a nota da prova do aluno: 1 e prova: 0: 9\n",
            "Cadastre a nota da prova do aluno: 1 e prova: 1: 6\n"
          ]
        }
      ]
    },
    {
      "cell_type": "code",
      "source": [
        "todas_notas_alunos"
      ],
      "metadata": {
        "colab": {
          "base_uri": "https://localhost:8080/"
        },
        "id": "tGPROY8JLPmr",
        "outputId": "d1da2b0e-2fb4-47b1-8382-d104a859d83f"
      },
      "execution_count": null,
      "outputs": [
        {
          "output_type": "execute_result",
          "data": {
            "text/plain": [
              "[[10.0, 7.0], [9.0, 6.0]]"
            ]
          },
          "metadata": {},
          "execution_count": 2
        }
      ]
    },
    {
      "cell_type": "code",
      "source": [
        "lista = [1,2,3]\n",
        "lista.insert(0,['prova1', \"prova2\"])\n",
        "lista"
      ],
      "metadata": {
        "id": "YlsDpON7JfbT",
        "colab": {
          "base_uri": "https://localhost:8080/"
        },
        "outputId": "806acac8-1efc-4105-fd83-a039ae7a2831"
      },
      "execution_count": null,
      "outputs": [
        {
          "output_type": "execute_result",
          "data": {
            "text/plain": [
              "[['prova1', 'prova2'], 1, 2, 3]"
            ]
          },
          "metadata": {},
          "execution_count": 34
        }
      ]
    },
    {
      "cell_type": "code",
      "source": [
        "[['nota1', \"nota2\"],[10.0, 9.0], [10.0, 8.0]]"
      ],
      "metadata": {
        "id": "_c3rKWeOJZoO",
        "colab": {
          "base_uri": "https://localhost:8080/"
        },
        "outputId": "6ddd731e-633a-43f7-9800-8579d59e95bd"
      },
      "execution_count": null,
      "outputs": [
        {
          "output_type": "execute_result",
          "data": {
            "text/plain": [
              "[['nota1', 'nota2'], [10.0, 9.0], [10.0, 8.0]]"
            ]
          },
          "metadata": {},
          "execution_count": 35
        }
      ]
    },
    {
      "cell_type": "code",
      "source": [
        "import csv\n",
        "\n",
        "arquivo = open(\"notas.csv\", \"w\")\n",
        "escritor = csv.writer(arquivo, delimiter=\",\", lineterminator=\"\\n\")\n",
        "escritor.writerows(todas_notas_alunos)\n",
        "arquivo.close()"
      ],
      "metadata": {
        "id": "7kwLixy_Ikvs"
      },
      "execution_count": null,
      "outputs": []
    },
    {
      "cell_type": "code",
      "source": [
        "arquivo = open(\"notas.csv\", 'r')\n",
        "escritor = csv.reader(arquivo, delimiter=\",\", lineterminator=\"\\n\")\n",
        "arquivo.close()"
      ],
      "metadata": {
        "id": "LYJhEAg3Jk_c"
      },
      "execution_count": null,
      "outputs": []
    },
    {
      "cell_type": "markdown",
      "metadata": {
        "id": "n_L7ckCwyLof"
      },
      "source": [
        "6) Faça um programa que carrega um arquivo CSV de notas (como o gerado pelo exercício anterior) e pede para o usuário digitar a nota mínima para aprovação. Ele deverá gerar um novo arquivo contendo as notas originais e 2 colunas adicionais: A média de cada aluno na primeira (com 2 casas decimais) e \"APR\" ou \"REP\" na segunda, indicando se a média atingiu o valor mínimo ou não.\n",
        "\n",
        "- Para arredondar, pode utilizar a função round()"
      ]
    },
    {
      "cell_type": "code",
      "source": [
        "import csv\n",
        "\n",
        "arquivo = open(\"notas.csv\", \"r\")\n",
        "leitor = csv.reader(arquivo, delimiter=',', lineterminator='\\n')\n",
        "\n",
        "tabela_notas_alunos = []\n",
        "\n",
        "for linha in leitor:\n",
        "  tabela_notas_alunos.append(list(map(float,linha)))\n",
        "\n",
        "arquivo.close()"
      ],
      "metadata": {
        "id": "4gmCfkyenqeY"
      },
      "execution_count": null,
      "outputs": []
    },
    {
      "cell_type": "code",
      "source": [
        "tabela_notas_alunos"
      ],
      "metadata": {
        "id": "QOsnTD72nqlu",
        "colab": {
          "base_uri": "https://localhost:8080/"
        },
        "outputId": "febe2693-7a31-4084-c853-8a6baeacbb3f"
      },
      "execution_count": null,
      "outputs": [
        {
          "output_type": "execute_result",
          "data": {
            "text/plain": [
              "[[10.0, 7.0], [9.0, 6.0]]"
            ]
          },
          "metadata": {},
          "execution_count": 6
        }
      ]
    },
    {
      "cell_type": "code",
      "source": [
        "nota_minima = 6\n",
        "\n",
        "for aluno in tabela_notas_alunos:\n",
        "  soma = 0\n",
        "  for nota in aluno:\n",
        "    soma += nota\n",
        "  media = round(soma / len(aluno), 2)\n",
        "  aluno.append(media)\n",
        "  if media >=  nota_minima:\n",
        "    aluno.append(\"apr\")\n",
        "  else:\n",
        "    aluno.append(\"rep\")\n",
        "  \n",
        "print(tabela_notas_alunos)\n",
        "\n",
        "\n"
      ],
      "metadata": {
        "id": "W6sgS7Kunqsj",
        "colab": {
          "base_uri": "https://localhost:8080/",
          "height": 235
        },
        "outputId": "f76bff7a-bf2b-4d02-bac6-81d1b75b3402"
      },
      "execution_count": null,
      "outputs": [
        {
          "output_type": "error",
          "ename": "ZeroDivisionError",
          "evalue": "ignored",
          "traceback": [
            "\u001b[0;31m---------------------------------------------------------------------------\u001b[0m",
            "\u001b[0;31mZeroDivisionError\u001b[0m                         Traceback (most recent call last)",
            "\u001b[0;32m<ipython-input-61-f572dea3893a>\u001b[0m in \u001b[0;36m<module>\u001b[0;34m\u001b[0m\n\u001b[1;32m      5\u001b[0m   \u001b[0;32mfor\u001b[0m \u001b[0mnota\u001b[0m \u001b[0;32min\u001b[0m \u001b[0maluno\u001b[0m\u001b[0;34m:\u001b[0m\u001b[0;34m\u001b[0m\u001b[0;34m\u001b[0m\u001b[0m\n\u001b[1;32m      6\u001b[0m     \u001b[0msoma\u001b[0m \u001b[0;34m+=\u001b[0m \u001b[0mnota\u001b[0m\u001b[0;34m\u001b[0m\u001b[0;34m\u001b[0m\u001b[0m\n\u001b[0;32m----> 7\u001b[0;31m   \u001b[0mmedia\u001b[0m \u001b[0;34m=\u001b[0m \u001b[0mround\u001b[0m\u001b[0;34m(\u001b[0m\u001b[0msoma\u001b[0m \u001b[0;34m/\u001b[0m \u001b[0mlen\u001b[0m\u001b[0;34m(\u001b[0m\u001b[0maluno\u001b[0m\u001b[0;34m)\u001b[0m\u001b[0;34m,\u001b[0m \u001b[0;36m2\u001b[0m\u001b[0;34m)\u001b[0m\u001b[0;34m\u001b[0m\u001b[0;34m\u001b[0m\u001b[0m\n\u001b[0m\u001b[1;32m      8\u001b[0m   \u001b[0maluno\u001b[0m\u001b[0;34m.\u001b[0m\u001b[0mappend\u001b[0m\u001b[0;34m(\u001b[0m\u001b[0mmedia\u001b[0m\u001b[0;34m)\u001b[0m\u001b[0;34m\u001b[0m\u001b[0;34m\u001b[0m\u001b[0m\n\u001b[1;32m      9\u001b[0m   \u001b[0;32mif\u001b[0m \u001b[0mmedia\u001b[0m \u001b[0;34m>=\u001b[0m  \u001b[0mnota_minima\u001b[0m\u001b[0;34m:\u001b[0m\u001b[0;34m\u001b[0m\u001b[0;34m\u001b[0m\u001b[0m\n",
            "\u001b[0;31mZeroDivisionError\u001b[0m: division by zero"
          ]
        }
      ]
    },
    {
      "cell_type": "code",
      "source": [
        "arquivo = open(\"resultados_notas.csv\", \"w\")\n",
        "escritor = csv.writer(arquivo, delimiter=\",\", lineterminator=\"\\n\")\n",
        "escritor.writerows(tabela_notas_alunos)\n",
        "arquivo.close()"
      ],
      "metadata": {
        "id": "OKu9fMVuM_j1"
      },
      "execution_count": null,
      "outputs": []
    },
    {
      "cell_type": "markdown",
      "metadata": {
        "id": "u5f_eL-tyLog"
      },
      "source": [
        "# Bônus: arquivos JSON\n",
        "\n",
        "JSON é uma sigla para _JavaScript Object Notation_. O _JavaScript_ é uma linguagem muito utilizada em web, e assim como o Python, ela é uma linguagem orientada a objeto. Ocorre que a forma como objetos são representados nessa linguagem é bastante legível para seres humanos e fácil de decompor usando programação também.\n",
        "\n",
        "Veja um exemplo de como podemos representar, por exemplo, um estudante em JavaScript:\n",
        "\n",
        "```\n",
        "{\n",
        "    nome: 'Mario',\n",
        "    modulo: 2,\n",
        "    media: 9.5 \n",
        "}\n",
        "```\n",
        "\n",
        "Parece familiar? É extremamente parecido com dicionários em Python. O Python possui um módulo já instalado chamado ```json``` que nos ajuda a converter entre uma _string_ contendo um JSON e um dicionário.\n",
        "\n",
        "> **Atenção:** No caso do JSON faremos *exatamente* como nos dicionários em Python: as chaves deverão vir entre aspas.\n",
        "\n",
        "Os valores de um JSON podem ser vários tipos de dados que estamos acostumados em Python: inteiros, reais, _strings_, booleanos, e até mesmo listas (representadas com colchetes) e outros JSON/dicionários (representados por chaves). Por exemplo:\n",
        "\n",
        "```\n",
        "{\n",
        "    'escola':\"Let's Code\",\n",
        "    'cursos':[{'nome':'Python Pro', 'duracao':2}, \n",
        "            {'nome':'Data Science', 'duracao':2},\n",
        "            {'nome':'Front-End', 'duracao':2}]\n",
        "}\n",
        "```\n",
        "\n",
        "### JSON para dicionário\n",
        "O método ```loads``` recebe uma _string_ contendo um JSON e retorna um dicionário, o que torna bastante fácil o acesso a informações individuais:"
      ]
    },
    {
      "cell_type": "code",
      "source": [
        "import json\n",
        "\n",
        "jogador = '{\"nome\":\"Mario\",\"pontuacao\":0}'\n",
        "\n",
        "dicionario = json.loads(jogador)\n",
        "\n",
        "print(dicionario['nome'])\n",
        "print(dicionario['pontuacao'])"
      ],
      "metadata": {
        "id": "XSZR2iaLn3ke"
      },
      "execution_count": null,
      "outputs": []
    },
    {
      "cell_type": "markdown",
      "metadata": {
        "id": "4AlKqBxEyLog"
      },
      "source": [
        "### Dicionário para JSON\n",
        "Já o método ```dumps``` recebe um dicionário e retorna uma _string_ pronta para ser salva ou enviada como JSON:"
      ]
    },
    {
      "cell_type": "code",
      "source": [
        "import json\n",
        "\n",
        "jogador = dict()\n",
        "jogador[\"nome\"]  = \"Mario\"\n",
        "jogador[\"pontuacao\"] = 0\n",
        "\n",
        "string_json = json.dumps(jogador)\n",
        "\n",
        "print(string_json)"
      ],
      "metadata": {
        "id": "1qxK03r5n4hl"
      },
      "execution_count": null,
      "outputs": []
    },
    {
      "cell_type": "code",
      "source": [
        "string_json['nome']"
      ],
      "metadata": {
        "id": "AmzBK500n6oS"
      },
      "execution_count": null,
      "outputs": []
    },
    {
      "cell_type": "markdown",
      "source": [
        "Por que deu erro?"
      ],
      "metadata": {
        "id": "UfuN-yDKhM4G"
      }
    },
    {
      "cell_type": "code",
      "source": [
        "jogador['nome']"
      ],
      "metadata": {
        "id": "CPqegt6rn7pI"
      },
      "execution_count": null,
      "outputs": []
    },
    {
      "cell_type": "markdown",
      "metadata": {
        "id": "qLlGddyDyLoh"
      },
      "source": [
        "### E os arquivos?\n",
        "\n",
        "Arquivos JSON, assim como CSV, são arquivos de texto puro onde o texto deve representar a estrutura dada acima. Sendo assim, caso você tenha um arquivo ```.json```, você pode abri-lo usando as mesmas técnicas que estudamos para arquivos de texto (```open```/```read```) e em seguida usar o ```loads``` para obter um dicionário. \n",
        "\n",
        "Já quando temos um dicionário que gostaríamos de salvar como um ```.json```, basta usar o ```dumps``` para obter a string, e em seguida podemos utilizar ```write``` no arquivo desejado. "
      ]
    },
    {
      "cell_type": "code",
      "source": [
        "arquivo = open(\"arquivo_json.json\", \"w\")\n",
        "arquivo.write(string_json)\n",
        "arquivo.close()"
      ],
      "metadata": {
        "id": "aHLmKLuFoByA"
      },
      "execution_count": null,
      "outputs": []
    },
    {
      "cell_type": "code",
      "source": [
        "import json\n",
        "\n",
        "arquivo = open(\"arquivo_json.json\", \"r\")\n",
        "conteudo = arquivo.read()\n",
        "\n",
        "dicionario = json.loads(conteudo)\n",
        "print(dicionario.items())\n",
        "arquivo.close()"
      ],
      "metadata": {
        "id": "2dzabVfqoB3V"
      },
      "execution_count": null,
      "outputs": []
    }
  ],
  "metadata": {
    "interpreter": {
      "hash": "ad2bdc8ecc057115af97d19610ffacc2b4e99fae6737bb82f5d7fb13d2f2c186"
    },
    "kernelspec": {
      "display_name": "Python 3.9.7 ('base')",
      "language": "python",
      "name": "python3"
    },
    "language_info": {
      "codemirror_mode": {
        "name": "ipython",
        "version": 3
      },
      "file_extension": ".py",
      "mimetype": "text/x-python",
      "name": "python",
      "nbconvert_exporter": "python",
      "pygments_lexer": "ipython3",
      "version": "3.9.7"
    },
    "orig_nbformat": 4,
    "colab": {
      "provenance": [],
      "collapsed_sections": [],
      "include_colab_link": true
    }
  },
  "nbformat": 4,
  "nbformat_minor": 0
}