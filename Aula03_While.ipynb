{
  "cells": [
    {
      "cell_type": "markdown",
      "metadata": {
        "id": "view-in-github",
        "colab_type": "text"
      },
      "source": [
        "<a href=\"https://colab.research.google.com/github/TiaErikaDev/ADA-Logica_Programacao/blob/main/Aula03_While.ipynb\" target=\"_parent\"><img src=\"https://colab.research.google.com/assets/colab-badge.svg\" alt=\"Open In Colab\"/></a>"
      ]
    },
    {
      "cell_type": "markdown",
      "metadata": {
        "id": "p8ZF4Mophtsq"
      },
      "source": [
        "# Aula - Loop While (enquanto)"
      ]
    },
    {
      "cell_type": "markdown",
      "source": [
        "### Objetivos\n",
        "\n",
        "Laço de repetição while, frisando aqui a necessidade de atualização da condição para evitar loops infinitos. Nesta aula, será mostrado como os operadores lógicos são utilizados nas novas estruturas apresentadas. "
      ],
      "metadata": {
        "id": "hkud1HLTjCVW"
      }
    },
    {
      "cell_type": "markdown",
      "metadata": {
        "id": "-hFAzfNhhtsu"
      },
      "source": [
        "____"
      ]
    },
    {
      "cell_type": "markdown",
      "metadata": {
        "id": "1U2bktNYhtsu"
      },
      "source": [
        "## 3) Laços de repetição (while)\n",
        "\n",
        "Uma das utilidades de linguagens de programação é a de automatizar tarefas que são repetitivas.\n",
        "\n",
        "Mas, pra isso ser viável, seria bom se tivéssemos uma estrutura para **repetir comandos**, não é mesmo?\n",
        "\n",
        "Imagine que eu queira exibir na tela \"Olá, mundo!\" 5 vezes. Podemos fazer:"
      ]
    },
    {
      "cell_type": "markdown",
      "source": [
        "Mas e se eu quisesse printar múltiplas vezes? por exemplo, 10 vezes?"
      ],
      "metadata": {
        "id": "sh8HSB5-jhkR"
      }
    },
    {
      "cell_type": "markdown",
      "metadata": {
        "id": "vgMTHbNyhtsy"
      },
      "source": [
        "Ou então se eu quiser exibir essa mensagem 1000 vezes? Ou 1 milhão de vezes? Não é ideal escrevermos o mesmo pedaço de código tantas vezes, né?\n",
        "\n",
        "Para isso, existem os **laços de repetição**, que permitem repetir pedaços de código quantas vezes desejarmos!\n",
        "\n",
        "O primeiro laço que vamos ver é o **while**. Este laço tem a seguinte estrutura:\n",
        "\n",
        "```python\n",
        "while (condicao é True):\n",
        "    operacao_repetida\n",
        "```\n",
        "\n",
        "Ou seja, o que tá no bloco do while é repetido **enquanto a condição for verdadeira**"
      ]
    },
    {
      "cell_type": "code",
      "source": [
        "contador = 0\n",
        "while contador < 10:\n",
        "  print(\"olá mundo\")\n",
        "  contador += 1\n",
        "print(\"fim\")"
      ],
      "metadata": {
        "colab": {
          "base_uri": "https://localhost:8080/"
        },
        "id": "OP_yi6llvSEp",
        "outputId": "15cbefac-836c-4a66-a9f7-89b0c0c3187c"
      },
      "execution_count": null,
      "outputs": [
        {
          "output_type": "stream",
          "name": "stdout",
          "text": [
            "olá mundo\n",
            "olá mundo\n",
            "olá mundo\n",
            "olá mundo\n",
            "olá mundo\n",
            "olá mundo\n",
            "olá mundo\n",
            "olá mundo\n",
            "olá mundo\n",
            "olá mundo\n",
            "fim\n"
          ]
        }
      ]
    },
    {
      "cell_type": "markdown",
      "metadata": {
        "id": "iNZAGhV5htsz"
      },
      "source": [
        "Isso pode levar a **loops infinitos**"
      ]
    },
    {
      "cell_type": "code",
      "source": [
        "while 2==2:\n",
        "  print(\"olá mundo\")"
      ],
      "metadata": {
        "id": "k_rE-ZJpvTPO"
      },
      "execution_count": null,
      "outputs": []
    },
    {
      "cell_type": "markdown",
      "metadata": {
        "id": "SpUhrmAohts0"
      },
      "source": [
        "Para que loops infinitos não aconteçam, temos que fazer uma **atualização da condição** a cada iteração do laço!\n",
        "\n",
        "Isso é, temos que **atualizar** a variavel que contabiliza as repetições no loop"
      ]
    },
    {
      "cell_type": "code",
      "source": [
        "contador = 0\n",
        "while contador < 10:\n",
        "  print(\"olá mundo\")\n",
        "  contador += 1\n",
        "print(\"fim\")"
      ],
      "metadata": {
        "id": "7-BNbwIPvYi6"
      },
      "execution_count": null,
      "outputs": []
    },
    {
      "cell_type": "markdown",
      "metadata": {
        "id": "9aTfr9JChts1"
      },
      "source": [
        "Assim, o que fazemos é **definir a condição do while em termos de uma variável que tenha seu valor atualizado!**\n",
        "\n",
        "Para isso, é comum nos referirmos à variàvel da condição como **variável contadora**.\n",
        "\n",
        "Para atualizar a variável contadora dentro do while, é muito comum atualizamos em +1"
      ]
    },
    {
      "cell_type": "markdown",
      "metadata": {
        "id": "BiEX6y2Ahts2"
      },
      "source": [
        "Vamos pegar outro exemplo mais simples e entender o passo-a-passo como a variável contadora se comporta?\n",
        "\n",
        "Pra isso, basta exibi-la a cada iteração:"
      ]
    },
    {
      "cell_type": "code",
      "source": [
        "cont = 0\n",
        "\n",
        "while cont < 5:\n",
        "  print(cont)\n",
        "  cont = cont + 1"
      ],
      "metadata": {
        "colab": {
          "base_uri": "https://localhost:8080/"
        },
        "id": "O57YM2lnvjJz",
        "outputId": "c13be8fe-48c0-4c65-9a89-08f687c1efba"
      },
      "execution_count": null,
      "outputs": [
        {
          "output_type": "stream",
          "name": "stdout",
          "text": [
            "0\n",
            "1\n",
            "2\n",
            "3\n",
            "4\n"
          ]
        }
      ]
    },
    {
      "cell_type": "markdown",
      "metadata": {
        "id": "8mhVxe8qhts2"
      },
      "source": [
        "O código acima equivale a:"
      ]
    },
    {
      "cell_type": "code",
      "execution_count": null,
      "metadata": {
        "id": "pjXuVfEMhts3",
        "colab": {
          "base_uri": "https://localhost:8080/"
        },
        "outputId": "cea5a3ab-92ab-428b-d347-62e78f6df927"
      },
      "outputs": [
        {
          "output_type": "stream",
          "name": "stdout",
          "text": [
            "0\n",
            "1\n",
            "2\n",
            "3\n",
            "4\n"
          ]
        }
      ],
      "source": [
        "# inicialmente, a variavel cont vale 0\n",
        "cont = 0\n",
        "print(cont)\n",
        "\n",
        "# pegamos o valor anterior (0) e somamos 1, ficando 1\n",
        "cont = cont + 1\n",
        "print(cont)\n",
        "\n",
        "# pegamos o valor anterior (1) e somamos 1, ficando 2\n",
        "cont = cont + 1\n",
        "print(cont)\n",
        "\n",
        "# pegamos o valor anterior (2) e somamos 1, ficando 3\n",
        "cont = cont + 1\n",
        "print(cont)\n",
        "\n",
        "# pegamos o valor anterior (3) e somamos 1, ficando 4\n",
        "cont = cont + 1\n",
        "print(cont)"
      ]
    },
    {
      "cell_type": "markdown",
      "metadata": {
        "id": "TVN_8VRFhts3"
      },
      "source": [
        "Podemos também atualizar a condição de repetição segundo informado pelo usuário\n",
        "\n",
        "Esse uso é bem importante para **garantir que o usuário digitou corretamente o que foi solicitado**\n",
        "\n",
        "Por exemplo, vamos pedir pro usuário digitar um número maior que 10. **Enquanto ele não fizer o que queremos**, vamos continuar pedindo pra ele digitar um novo valor:"
      ]
    },
    {
      "cell_type": "code",
      "source": [
        "numero = 0\n",
        "\n",
        "while numero <= 10:\n",
        "  numero = int(input(\"digite um número maior que 10: \"))\n",
        "\n",
        "print(\"o número digitado foi: \", numero)"
      ],
      "metadata": {
        "colab": {
          "base_uri": "https://localhost:8080/"
        },
        "id": "mwNC--gmvmEV",
        "outputId": "2cb8c85b-b27f-4b9e-eff0-02fbb391b2e5"
      },
      "execution_count": null,
      "outputs": [
        {
          "output_type": "stream",
          "name": "stdout",
          "text": [
            "digite um número maior que 10: 8\n",
            "digite um número maior que 10: 5\n",
            "digite um número maior que 10: 10\n",
            "digite um número maior que 10: 11\n",
            "o número digitado foi:  11\n"
          ]
        }
      ]
    },
    {
      "cell_type": "markdown",
      "metadata": {
        "id": "VtF5atNthts4"
      },
      "source": [
        "Outro exemplo, onde pedirmos pro usuário digitar sua nota (para ser um valor válido, tem que estar entre 0 e 10!)"
      ]
    },
    {
      "cell_type": "code",
      "source": [
        "nota = -1\n",
        "\n",
        "while not(0 <= nota <= 10):\n",
        "  nota = int(input(\"digite um número de 0 a 10: \"))\n",
        "\n",
        "print(\"nota: \", nota)"
      ],
      "metadata": {
        "colab": {
          "base_uri": "https://localhost:8080/"
        },
        "id": "P9Osm9vevoVI",
        "outputId": "20cda8c8-99aa-483f-dd11-e5fccdce6f05"
      },
      "execution_count": null,
      "outputs": [
        {
          "output_type": "stream",
          "name": "stdout",
          "text": [
            "digite um neumero de 0 a 10: 8\n",
            "nota:  8\n"
          ]
        }
      ]
    },
    {
      "cell_type": "markdown",
      "metadata": {
        "id": "qhmM6lXzhts5"
      },
      "source": [
        "Outro exemplo..."
      ]
    },
    {
      "cell_type": "code",
      "source": [
        "combustivel = \"\"\n",
        "\n",
        "while combustivel != \"G\" and combustivel != \"A\" and combustivel != \"O\":\n",
        "  combustivel = input(\"digite o tipo de combustível: \")\n"
      ],
      "metadata": {
        "colab": {
          "base_uri": "https://localhost:8080/"
        },
        "id": "WAbJJ2YsvpjA",
        "outputId": "19dede4d-fcbc-4771-ffb1-edbc0afa0f9c"
      },
      "execution_count": null,
      "outputs": [
        {
          "name": "stdout",
          "output_type": "stream",
          "text": [
            "digite o tipo de combustível: f\n",
            "digite o tipo de combustível: G\n"
          ]
        }
      ]
    },
    {
      "cell_type": "markdown",
      "metadata": {
        "id": "_XuIar61hts5"
      },
      "source": [
        "## controles de loop: break, continue e else\n",
        "\n",
        "Essas declarações tem o objetivo de conseguir nos ajudar a criar um pouco mais de controles nos nossos loops"
      ]
    },
    {
      "cell_type": "markdown",
      "source": [
        "### break"
      ],
      "metadata": {
        "id": "c-YPLBPFLTq4"
      }
    },
    {
      "cell_type": "code",
      "source": [
        "cont = 0\n",
        "\n",
        "while cont < 10:\n",
        "  print(cont)\n",
        "  cont += 1\n",
        "  if cont == 3:\n",
        "    print(\"parem as máquinas\")\n",
        "    break\n",
        "  while cont == 3: # 2 == 2\n",
        "    print(\"será que continua?\")\n",
        "    \n",
        "\n",
        "print(\"fim\")\n",
        "  "
      ],
      "metadata": {
        "colab": {
          "base_uri": "https://localhost:8080/"
        },
        "id": "D0b_F2H5NSwr",
        "outputId": "ef30ccd6-2b71-4066-cab3-3b6913dcca13"
      },
      "execution_count": null,
      "outputs": [
        {
          "output_type": "stream",
          "name": "stdout",
          "text": [
            "0\n",
            "1\n",
            "2\n",
            "parem as máquinas\n",
            "fim\n"
          ]
        }
      ]
    },
    {
      "cell_type": "code",
      "source": [
        "cont = 0\n",
        "\n",
        "while cont < 10:\n",
        "  print(cont)\n",
        "  cont += 1\n",
        "  break \n",
        "\n",
        "print(\"fim\")\n",
        "  "
      ],
      "metadata": {
        "colab": {
          "base_uri": "https://localhost:8080/"
        },
        "id": "fdT2h9LAWgnW",
        "outputId": "70760ffa-3125-4171-e298-0ca1fb743105"
      },
      "execution_count": null,
      "outputs": [
        {
          "output_type": "stream",
          "name": "stdout",
          "text": [
            "0\n",
            "fim\n"
          ]
        }
      ]
    },
    {
      "cell_type": "code",
      "source": [
        "for element in range(1,10):\n",
        "  print(element)\n",
        "  for element2 in range(101,105):\n",
        "    print(element2)\n",
        "    break"
      ],
      "metadata": {
        "colab": {
          "base_uri": "https://localhost:8080/"
        },
        "id": "hVcuBI2rY_mT",
        "outputId": "74e97658-b7f3-445c-b836-4f69ab3d3250"
      },
      "execution_count": null,
      "outputs": [
        {
          "output_type": "stream",
          "name": "stdout",
          "text": [
            "1\n",
            "2\n",
            "3\n",
            "4\n",
            "5\n",
            "6\n",
            "7\n",
            "8\n",
            "9\n"
          ]
        }
      ]
    },
    {
      "cell_type": "code",
      "source": [
        "if 2 == 2:\n",
        "  break"
      ],
      "metadata": {
        "colab": {
          "base_uri": "https://localhost:8080/",
          "height": 97
        },
        "id": "DldAZMwablSE",
        "outputId": "531cfd4f-a585-4163-b177-5430569b3ca2"
      },
      "execution_count": null,
      "outputs": [
        {
          "output_type": "error",
          "ename": "SyntaxError",
          "evalue": "ignored",
          "traceback": [
            "\u001b[0;36m  File \u001b[0;32m\"<ipython-input-25-a459fd321566>\"\u001b[0;36m, line \u001b[0;32m5\u001b[0m\n\u001b[0;31mSyntaxError\u001b[0m\u001b[0;31m:\u001b[0m 'break' outside loop\n"
          ]
        }
      ]
    },
    {
      "cell_type": "markdown",
      "source": [
        "O while/for pode ser parado no meio com o break, isso é utilizado caso exista algum(ns) casos excepcionais onde seu código deve parar ou mesmo para poupar processamento em um loop que já fez o que precisava e usava a condição inicial apenas como limite de iterações."
      ],
      "metadata": {
        "id": "8JoFkV6ZLYdl"
      }
    },
    {
      "cell_type": "markdown",
      "source": [
        "### continue"
      ],
      "metadata": {
        "id": "TPRwo1onLhK2"
      }
    },
    {
      "cell_type": "markdown",
      "metadata": {
        "id": "ymQtAnNshts6"
      },
      "source": [
        "Com o comando continue conseguimos parar uma iteração no meio e recomeçar o bloco do while."
      ]
    },
    {
      "cell_type": "code",
      "source": [
        "cont = 0\n",
        "\n",
        "while cont < 10:\n",
        "  cont += 1\n",
        "  if cont == 3:\n",
        "    print(\"chegamos ao número 3\")\n",
        "    continue\n",
        "  print(cont)\n",
        "\n",
        "print('fim')"
      ],
      "metadata": {
        "colab": {
          "base_uri": "https://localhost:8080/"
        },
        "id": "yeL680J7vyrQ",
        "outputId": "ee2f0fe5-df27-4858-c8e0-ec4cc923312e"
      },
      "execution_count": null,
      "outputs": [
        {
          "output_type": "stream",
          "name": "stdout",
          "text": [
            "1\n",
            "2\n",
            "chegamos ao número 3\n",
            "4\n",
            "5\n",
            "6\n",
            "7\n",
            "8\n",
            "9\n",
            "10\n",
            "fim\n"
          ]
        }
      ]
    },
    {
      "cell_type": "code",
      "source": [
        "cont = 0\n",
        "\n",
        "while cont < 10:\n",
        "  cont += 1\n",
        "  continue\n",
        "  print(\"código não chega aqui\")"
      ],
      "metadata": {
        "colab": {
          "base_uri": "https://localhost:8080/"
        },
        "id": "V3UrukJD-sgu",
        "outputId": "2859fdf0-7859-4d18-bac2-0d71743191ff"
      },
      "execution_count": null,
      "outputs": [
        {
          "output_type": "stream",
          "name": "stdout",
          "text": [
            "código não chega aqui\n"
          ]
        }
      ]
    },
    {
      "cell_type": "markdown",
      "source": [
        "### else"
      ],
      "metadata": {
        "id": "WZ2jtnPSLkgp"
      }
    },
    {
      "cell_type": "markdown",
      "metadata": {
        "id": "p75zv1Kvhts6"
      },
      "source": [
        "O else aqui vai se comportar como um **\"e então\"**, pois será o bloco de código que rodará quando, se **e somente se**, a condição do while não for mais satisfeita."
      ]
    },
    {
      "cell_type": "code",
      "source": [
        "cont = 0\n",
        "\n",
        "while cont < 10:\n",
        "  cont += 1\n",
        "  print(\"código dentro do while\")\n",
        "else:\n",
        "  print(\"else\")"
      ],
      "metadata": {
        "colab": {
          "base_uri": "https://localhost:8080/"
        },
        "id": "tRdNnkfZv0AZ",
        "outputId": "a71eb528-3f83-4ef2-9959-583cfe6a2011"
      },
      "execution_count": null,
      "outputs": [
        {
          "output_type": "stream",
          "name": "stdout",
          "text": [
            "código dentro do while\n",
            "código dentro do while\n",
            "código dentro do while\n",
            "código dentro do while\n",
            "código dentro do while\n",
            "código dentro do while\n",
            "código dentro do while\n",
            "código dentro do while\n",
            "código dentro do while\n",
            "código dentro do while\n",
            "else\n"
          ]
        }
      ]
    },
    {
      "cell_type": "markdown",
      "source": [
        "não tivemos o print \"fim\" pois saímos do while por causa do break e não porque o while não foi mais satisfeito"
      ],
      "metadata": {
        "id": "NFUfpDEyAmT8"
      }
    },
    {
      "cell_type": "code",
      "source": [
        "cont = 0\n",
        "\n",
        "while cont < 10:\n",
        "  cont += 1\n",
        "  if cont == 5:\n",
        "    break\n",
        "    #print(\"chegamos no número\",cont)\n",
        "  print(cont)\n",
        "else:\n",
        "  print(\"fim -- nesse caso o código não passa por aqui\")"
      ],
      "metadata": {
        "colab": {
          "base_uri": "https://localhost:8080/"
        },
        "id": "p-C-XKYyv2GP",
        "outputId": "b367c306-9c04-4c9d-accb-ce26afc218fa"
      },
      "execution_count": null,
      "outputs": [
        {
          "output_type": "stream",
          "name": "stdout",
          "text": [
            "1\n",
            "2\n",
            "3\n",
            "4\n"
          ]
        }
      ]
    },
    {
      "cell_type": "code",
      "source": [
        "cont = 0\n",
        "\n",
        "while cont < 10:\n",
        "  cont += 1\n",
        "  if cont == 5:\n",
        "    continue\n",
        "  print(cont)\n",
        "else:\n",
        "  print(\"fim\") "
      ],
      "metadata": {
        "colab": {
          "base_uri": "https://localhost:8080/"
        },
        "id": "FwgnIvA-v2MB",
        "outputId": "bf86feee-17de-46dc-b42a-94194f023ba7"
      },
      "execution_count": null,
      "outputs": [
        {
          "output_type": "stream",
          "name": "stdout",
          "text": [
            "1\n",
            "2\n",
            "3\n",
            "4\n",
            "6\n",
            "7\n",
            "8\n",
            "9\n",
            "10\n",
            "fim\n"
          ]
        }
      ]
    },
    {
      "cell_type": "code",
      "source": [
        "numero_da_pergunta = 1\n",
        "\n",
        "while numero_da_pergunta <= 10:\n",
        "    resposta = input(f\"Pergunta {numero_da_pergunta}: Enunciado da pergunta [0 para sair]: \").lower()\n",
        "    \n",
        "    if resposta == \"0\":\n",
        "        print(\"Você interrompeu o questionário.\")\n",
        "        break\n",
        "\n",
        "    numero_da_pergunta += 1\n",
        "else:\n",
        "  print(\"Você completou o questionário!\")"
      ],
      "metadata": {
        "colab": {
          "base_uri": "https://localhost:8080/"
        },
        "id": "c-_cQGnMmSlm",
        "outputId": "7d746f71-336a-4b3c-e846-59e03c4dcacc"
      },
      "execution_count": null,
      "outputs": [
        {
          "output_type": "stream",
          "name": "stdout",
          "text": [
            "Pergunta 1: Enunciado da pergunta [0 para sair]: 0\n",
            "Você interrompeu o questionário.\n",
            "Você completou o questionário!\n"
          ]
        }
      ]
    },
    {
      "cell_type": "markdown",
      "source": [
        "### Adendo sobre o pass"
      ],
      "metadata": {
        "id": "_iVecTlVoXbk"
      }
    },
    {
      "cell_type": "markdown",
      "source": [
        "Ele é um placeholder. utilizado para, por exemplo, evitar que seu código com loop/função.. vazio não dê erro quando rode"
      ],
      "metadata": {
        "id": "NrpNQQWmoazs"
      }
    },
    {
      "cell_type": "code",
      "source": [
        "while 1<1:"
      ],
      "metadata": {
        "colab": {
          "base_uri": "https://localhost:8080/",
          "height": 132
        },
        "id": "n5f6pTQ8os6u",
        "outputId": "541e20de-7a7c-4ec5-c16f-845d54343f56"
      },
      "execution_count": null,
      "outputs": [
        {
          "output_type": "error",
          "ename": "SyntaxError",
          "evalue": "ignored",
          "traceback": [
            "\u001b[0;36m  File \u001b[0;32m\"<ipython-input-53-dcfdeb3d2bff>\"\u001b[0;36m, line \u001b[0;32m1\u001b[0m\n\u001b[0;31m    while 1<1:\u001b[0m\n\u001b[0m              ^\u001b[0m\n\u001b[0;31mSyntaxError\u001b[0m\u001b[0;31m:\u001b[0m unexpected EOF while parsing\n"
          ]
        }
      ]
    },
    {
      "cell_type": "code",
      "source": [
        "while 1<1:\n",
        "  pass"
      ],
      "metadata": {
        "id": "lwQ7AIY5nwC7"
      },
      "execution_count": null,
      "outputs": []
    },
    {
      "cell_type": "markdown",
      "source": [
        "### Resumindo\n",
        "\n",
        "<center>\n",
        "\n",
        "declarações | efeito\n",
        "--- | ---\n",
        "break | interrompe o loop em que ele está inserido independente da condição ter sido ou não satisfeita\n",
        "continue | interrompe a iteração atual e começa a próxima iteração\n",
        "else | executa o que estiver dentro do else apenas se a condição do loop não for mais satisfeita\n",
        "\n",
        "</center>\n"
      ],
      "metadata": {
        "id": "N2Tcq5UpBYFp"
      }
    },
    {
      "cell_type": "markdown",
      "metadata": {
        "id": "jpreBzdDhts7"
      },
      "source": [
        "### Algoritmo que define se um número é primo utilizando o que aprendemos acima:"
      ]
    },
    {
      "cell_type": "code",
      "source": [
        "numero = int(input(\"qual número deseja testa?\"))\n",
        "\n",
        "divisor = 2\n",
        "while divisor < (numero/2)+1:\n",
        "  print(divisor)\n",
        "  if numero % divisor == 0:\n",
        "    print(\"não é primo\")\n",
        "    break\n",
        "  divisor += 1\n",
        "else:\n",
        "  print(\"é primo\")"
      ],
      "metadata": {
        "colab": {
          "base_uri": "https://localhost:8080/"
        },
        "id": "ogBtoQV4v8z6",
        "outputId": "24c3d207-7874-4999-f087-e9fb979b342e"
      },
      "execution_count": null,
      "outputs": [
        {
          "output_type": "stream",
          "name": "stdout",
          "text": [
            "qual número deseja testa?8\n",
            "2\n",
            "não é primo\n"
          ]
        }
      ]
    },
    {
      "cell_type": "markdown",
      "source": [
        "vamos agora comparar o efeito de ter o break"
      ],
      "metadata": {
        "id": "8qoWxOx8gIck"
      }
    },
    {
      "cell_type": "code",
      "source": [
        "!pip install ipython-autotime\n",
        "%load_ext autotime"
      ],
      "metadata": {
        "colab": {
          "base_uri": "https://localhost:8080/"
        },
        "id": "b1rg7AGswB_g",
        "outputId": "eb13b8bf-b4b6-4999-d3bf-7a6bf751062d"
      },
      "execution_count": null,
      "outputs": [
        {
          "output_type": "stream",
          "name": "stdout",
          "text": [
            "Looking in indexes: https://pypi.org/simple, https://us-python.pkg.dev/colab-wheels/public/simple/\n",
            "Collecting ipython-autotime\n",
            "  Downloading ipython_autotime-0.3.1-py2.py3-none-any.whl (6.8 kB)\n",
            "Requirement already satisfied: ipython in /usr/local/lib/python3.7/dist-packages (from ipython-autotime) (7.9.0)\n",
            "Requirement already satisfied: pexpect in /usr/local/lib/python3.7/dist-packages (from ipython->ipython-autotime) (4.8.0)\n",
            "Requirement already satisfied: prompt-toolkit<2.1.0,>=2.0.0 in /usr/local/lib/python3.7/dist-packages (from ipython->ipython-autotime) (2.0.10)\n",
            "Requirement already satisfied: setuptools>=18.5 in /usr/local/lib/python3.7/dist-packages (from ipython->ipython-autotime) (57.4.0)\n",
            "Requirement already satisfied: traitlets>=4.2 in /usr/local/lib/python3.7/dist-packages (from ipython->ipython-autotime) (5.1.1)\n",
            "Requirement already satisfied: pickleshare in /usr/local/lib/python3.7/dist-packages (from ipython->ipython-autotime) (0.7.5)\n",
            "Collecting jedi>=0.10\n",
            "  Downloading jedi-0.18.1-py2.py3-none-any.whl (1.6 MB)\n",
            "\u001b[K     |████████████████████████████████| 1.6 MB 7.4 MB/s \n",
            "\u001b[?25hRequirement already satisfied: decorator in /usr/local/lib/python3.7/dist-packages (from ipython->ipython-autotime) (4.4.2)\n",
            "Requirement already satisfied: pygments in /usr/local/lib/python3.7/dist-packages (from ipython->ipython-autotime) (2.6.1)\n",
            "Requirement already satisfied: backcall in /usr/local/lib/python3.7/dist-packages (from ipython->ipython-autotime) (0.2.0)\n",
            "Requirement already satisfied: parso<0.9.0,>=0.8.0 in /usr/local/lib/python3.7/dist-packages (from jedi>=0.10->ipython->ipython-autotime) (0.8.3)\n",
            "Requirement already satisfied: six>=1.9.0 in /usr/local/lib/python3.7/dist-packages (from prompt-toolkit<2.1.0,>=2.0.0->ipython->ipython-autotime) (1.15.0)\n",
            "Requirement already satisfied: wcwidth in /usr/local/lib/python3.7/dist-packages (from prompt-toolkit<2.1.0,>=2.0.0->ipython->ipython-autotime) (0.2.5)\n",
            "Requirement already satisfied: ptyprocess>=0.5 in /usr/local/lib/python3.7/dist-packages (from pexpect->ipython->ipython-autotime) (0.7.0)\n",
            "Installing collected packages: jedi, ipython-autotime\n",
            "Successfully installed ipython-autotime-0.3.1 jedi-0.18.1\n",
            "time: 312 µs (started: 2022-09-22 00:53:35 +00:00)\n"
          ]
        }
      ]
    },
    {
      "cell_type": "code",
      "source": [
        "numero = int(input(\"qual número deseja testa?\"))\n",
        "\n",
        "divisor = 2\n",
        "while divisor < (numero/2)+1:\n",
        "  print(divisor)\n",
        "  if numero % divisor == 0:\n",
        "    print(\"não é primo\")\n",
        "    break\n",
        "  divisor += 1\n",
        "else:\n",
        "  print(\"é primo\")"
      ],
      "metadata": {
        "colab": {
          "base_uri": "https://localhost:8080/"
        },
        "id": "m_4cmvMIwCF0",
        "outputId": "c55f9650-ba49-4bad-90a1-641748247659"
      },
      "execution_count": null,
      "outputs": [
        {
          "output_type": "stream",
          "name": "stdout",
          "text": [
            "qual número deseja testa?1000000\n",
            "2\n",
            "não é primo\n",
            "time: 1.35 s (started: 2022-09-22 00:54:42 +00:00)\n"
          ]
        }
      ]
    },
    {
      "cell_type": "code",
      "source": [
        "numero = int(input(\"qual número deseja testa?\"))\n",
        "\n",
        "divisor = 2\n",
        "while divisor < (numero/2)+1:\n",
        "  #print(divisor)\n",
        "  if numero % divisor == 0:\n",
        "    print(\"não é primo\")\n",
        "    pass\n",
        "  divisor += 1\n",
        "else:\n",
        "  print(\"é primo\")"
      ],
      "metadata": {
        "colab": {
          "base_uri": "https://localhost:8080/"
        },
        "id": "ylUEKE0dwCPu",
        "outputId": "22933200-2900-4f90-f9b5-ed5af9683cca"
      },
      "execution_count": null,
      "outputs": [
        {
          "output_type": "stream",
          "name": "stdout",
          "text": [
            "qual número deseja testa?1000000\n",
            "não é primo\n",
            "não é primo\n",
            "não é primo\n",
            "não é primo\n",
            "não é primo\n",
            "não é primo\n",
            "não é primo\n",
            "não é primo\n",
            "não é primo\n",
            "não é primo\n",
            "não é primo\n",
            "não é primo\n",
            "não é primo\n",
            "não é primo\n",
            "não é primo\n",
            "não é primo\n",
            "não é primo\n",
            "não é primo\n",
            "não é primo\n",
            "não é primo\n",
            "não é primo\n",
            "não é primo\n",
            "não é primo\n",
            "não é primo\n",
            "não é primo\n",
            "não é primo\n",
            "não é primo\n",
            "não é primo\n",
            "não é primo\n",
            "não é primo\n",
            "não é primo\n",
            "não é primo\n",
            "não é primo\n",
            "não é primo\n",
            "não é primo\n",
            "não é primo\n",
            "não é primo\n",
            "não é primo\n",
            "não é primo\n",
            "não é primo\n",
            "não é primo\n",
            "não é primo\n",
            "não é primo\n",
            "não é primo\n",
            "não é primo\n",
            "não é primo\n",
            "não é primo\n",
            "é primo\n",
            "time: 2.47 s (started: 2022-09-22 00:55:33 +00:00)\n"
          ]
        }
      ]
    },
    {
      "cell_type": "markdown",
      "metadata": {
        "id": "nT5h4pClhts9"
      },
      "source": [
        "---\n",
        "\n",
        "## Exercícios"
      ]
    },
    {
      "cell_type": "markdown",
      "source": [
        "\n",
        "**1)** Imprima os seguintes padrões utilizando loop. O usuário deverá determinar quão grande será a extensão/comprimento"
      ],
      "metadata": {
        "id": "ag_H4L8W_odg"
      }
    },
    {
      "cell_type": "markdown",
      "source": [
        "\n",
        "padrão I:<br>\n",
        "\n",
        "\\*<br>\n",
        "\\*\\*<br>\n",
        "\\*\\*\\*<br>\n",
        "\\*\\*\\*\\*<br>"
      ],
      "metadata": {
        "id": "b5Wwl4ao_rI_"
      }
    },
    {
      "cell_type": "code",
      "source": [
        "padrao = int(input(\"Digite o tamanho do padrão: \"))\n",
        "\n",
        "cont = 0\n",
        "while cont <= padrao:\n",
        "    print(cont * \"*\")\n",
        "    cont += 1"
      ],
      "metadata": {
        "colab": {
          "base_uri": "https://localhost:8080/"
        },
        "id": "xWbpuWpTpziC",
        "outputId": "d2c4597e-9004-49e9-8c21-cc03983c9f45"
      },
      "execution_count": null,
      "outputs": [
        {
          "output_type": "stream",
          "name": "stdout",
          "text": [
            "Digite o tamanho do padrão: 5\n",
            "\n",
            "*\n",
            "**\n",
            "***\n",
            "****\n",
            "*****\n"
          ]
        }
      ]
    },
    {
      "cell_type": "markdown",
      "source": [
        "padrão II:<br>\n",
        "\n",
        "  \\*  <br>\n",
        " \\*\\*\\* <br>\n",
        "\\*\\*\\*\\*\\*<br>\n",
        " \\*\\*\\* <br>\n",
        "  \\*  <br>"
      ],
      "metadata": {
        "id": "smilhU-l_ueN"
      }
    },
    {
      "cell_type": "code",
      "source": [
        "padrao = int(input(\"Digite o tamanho do padrão: \"))\n",
        "\n",
        "estrelas = 1\n",
        "while estrelas < padrao:\n",
        "    print(estrelas * \"*\")\n",
        "    estrelas += 1\n",
        "while estrelas > 0:\n",
        "   print(estrelas * \"*\")\n",
        "   estrelas -= 1 \n"
      ],
      "metadata": {
        "colab": {
          "base_uri": "https://localhost:8080/"
        },
        "id": "UdiN5J9WrKg_",
        "outputId": "931fbf8f-4f1d-4b3b-d042-316a1a01c1e9"
      },
      "execution_count": null,
      "outputs": [
        {
          "output_type": "stream",
          "name": "stdout",
          "text": [
            "Digite o tamanho do padrão: 6\n",
            "*\n",
            "**\n",
            "***\n",
            "****\n",
            "*****\n",
            "******\n",
            "*****\n",
            "****\n",
            "***\n",
            "**\n",
            "*\n"
          ]
        }
      ]
    },
    {
      "cell_type": "markdown",
      "metadata": {
        "id": "HKTZLBWMhts9"
      },
      "source": [
        "**2)** recebe um número inteiro positivo e o retorne invertido"
      ]
    },
    {
      "cell_type": "code",
      "source": [
        "numero = (int(input(\"Digite um número: \")))\n",
        "numero_invertido = 0\n",
        "\n",
        "while numero  > 0:\n",
        "    numero_invertido *= 10\n",
        "    numero_invertido += numero % 10\n",
        "    numero //= 10\n",
        "\n",
        "print(f'O inverso do número digitado é: {numero_invertido}')"
      ],
      "metadata": {
        "id": "7C0B3jA-wIdU",
        "colab": {
          "base_uri": "https://localhost:8080/"
        },
        "outputId": "82240001-1d3a-415b-9ede-0edaadd8183b"
      },
      "execution_count": null,
      "outputs": [
        {
          "output_type": "stream",
          "name": "stdout",
          "text": [
            "Digite um número: 100\n",
            "O inverso do número digitado é: 1\n"
          ]
        }
      ]
    },
    {
      "cell_type": "markdown",
      "metadata": {
        "id": "eH7kXciPhts_"
      },
      "source": [
        "**3)** Faça a somatória de todos os numeros seguindo a sequência: <br>\n",
        "\n",
        "$ \\frac{1}{1} + \\frac{1}{2} + \\frac{1}{3} + \\frac{1}{4} + \\frac{1}{5} + \\frac{1}{6} + ... + \\frac{1}{1000} $\n",
        "\n"
      ]
    },
    {
      "cell_type": "code",
      "source": [
        "denominador = 1\n",
        "somatoria = 0\n",
        "\n",
        "while denominador <= 1000:\n",
        "  somatoria += (1/denominador)\n",
        "  denominador += 1\n",
        "\n",
        "print(somatoria)"
      ],
      "metadata": {
        "id": "xFKBe5H_wKLv",
        "colab": {
          "base_uri": "https://localhost:8080/"
        },
        "outputId": "48fa1696-ff1d-4a37-dec0-c98996e60609"
      },
      "execution_count": null,
      "outputs": [
        {
          "output_type": "stream",
          "name": "stdout",
          "text": [
            "7.485470860550343\n"
          ]
        }
      ]
    },
    {
      "cell_type": "markdown",
      "metadata": {
        "id": "iPHiO3uIhts_"
      },
      "source": [
        "**4)** Faça a somatória de todos os numeros seguindo a sequência: <br>\n",
        "$ \\frac{1}{1} + \\frac{1}{2} + \\frac{1}{4} + \\frac{1}{8} + \\frac{1}{16} + \\frac{1}{32} + ... + \\frac{1}{2^{n}} $\n",
        "\n"
      ]
    },
    {
      "cell_type": "code",
      "source": [
        "denominador = 1\n",
        "somatoria = 0\n",
        "limite = int(input(\"Até qual expoente deseja somar? \"))\n",
        "contador = 0\n",
        "\n",
        "while contador <= limite:\n",
        "  somatoria += (1/denominador)\n",
        "  denominador *= 2\n",
        "  contador += 1\n",
        "\n",
        "print(somatoria)"
      ],
      "metadata": {
        "id": "hxYnGxQ6wLKP",
        "colab": {
          "base_uri": "https://localhost:8080/"
        },
        "outputId": "5b77fe5a-5db4-4094-da58-110abba62619"
      },
      "execution_count": null,
      "outputs": [
        {
          "output_type": "stream",
          "name": "stdout",
          "text": [
            "Até qual expoente deseja somar? 4\n",
            "1.9375\n"
          ]
        }
      ]
    },
    {
      "cell_type": "code",
      "source": [
        "valor_de_n = int(input(\"Informe um valor inteiro: \"))\n",
        "n = 0\n",
        "soma = 0\n",
        "\n",
        "while n <= valor_de_n :\n",
        "  soma += 1/(2**n)\n",
        "  n += 1\n",
        "soma"
      ],
      "metadata": {
        "id": "TNU9L4A5TFYy",
        "colab": {
          "base_uri": "https://localhost:8080/"
        },
        "outputId": "d95a30a8-6c10-4d60-d2f1-408506d33191"
      },
      "execution_count": null,
      "outputs": [
        {
          "name": "stdout",
          "output_type": "stream",
          "text": [
            "Informe um valor inteiro: 4\n"
          ]
        },
        {
          "output_type": "execute_result",
          "data": {
            "text/plain": [
              "1.9375"
            ]
          },
          "metadata": {},
          "execution_count": 14
        }
      ]
    }
  ],
  "metadata": {
    "kernelspec": {
      "display_name": "Python 3",
      "language": "python",
      "name": "python3"
    },
    "language_info": {
      "codemirror_mode": {
        "name": "ipython",
        "version": 3
      },
      "file_extension": ".py",
      "mimetype": "text/x-python",
      "name": "python",
      "nbconvert_exporter": "python",
      "pygments_lexer": "ipython3",
      "version": "3.8.5"
    },
    "colab": {
      "provenance": [],
      "collapsed_sections": [],
      "include_colab_link": true
    }
  },
  "nbformat": 4,
  "nbformat_minor": 0
}