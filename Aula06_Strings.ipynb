{
  "cells": [
    {
      "cell_type": "markdown",
      "metadata": {
        "id": "view-in-github",
        "colab_type": "text"
      },
      "source": [
        "<a href=\"https://colab.research.google.com/github/TiaErikaDev/ADA-Logica_Programacao/blob/main/Aula06_Strings.ipynb\" target=\"_parent\"><img src=\"https://colab.research.google.com/assets/colab-badge.svg\" alt=\"Open In Colab\"/></a>"
      ]
    },
    {
      "cell_type": "markdown",
      "metadata": {
        "id": "uMxx010Kuyik"
      },
      "source": [
        "# Strings\n",
        "\n",
        "No passado foi mencionado que temos quatro tipos de dados: inteiro, real, lógico e texto/literal (_string_). Na verdade, o quarto tipo básico seria um _caractere_. Uma _string_ é uma **coleção** de caracteres - como se fosse uma lista, mas aceitando apenas elementos textuais.\n",
        "Vamos verificar algumas propriedades das _strings_!\n",
        "\n",
        "## Acessando elementos em uma _string_\n",
        "No capítulo sobre Listas, vimos que podemos acessar elementos individuais de uma lista utilizando um índice entre colchetes. Vamos testar a mesma lógica com _strings_?"
      ]
    },
    {
      "cell_type": "code",
      "source": [
        "frase = \"Let's Code by ADA\"\n",
        "print(frase[0])\n",
        "print(frase[1])\n",
        "print(frase[2])\n",
        "print(frase[3])"
      ],
      "metadata": {
        "colab": {
          "base_uri": "https://localhost:8080/"
        },
        "id": "nineUHGCPNu8",
        "outputId": "af721fc8-fe41-447d-8dfa-4170f30f97a5"
      },
      "execution_count": null,
      "outputs": [
        {
          "output_type": "stream",
          "name": "stdout",
          "text": [
            "Let\n",
            "e\n",
            "t\n",
            "'\n"
          ]
        }
      ]
    },
    {
      "cell_type": "markdown",
      "metadata": {
        "id": "wz_XHKGGuyim"
      },
      "source": [
        "Note que o programa acima imprime \"Let's\", com um caractere por linha. Ou seja, ele considerou frase[0] como \"L\", frase[1] como \"e\", e assim sucessivamente. Uma _string_ é, de fato, uma coleção de caracteres.\n",
        "\n",
        "Porém, ao contrário de uma lista, dizemos que uma _string_ é **imutável**. Isso significa que não podemos alterar um elemento individual da _string_.\n",
        "O programa abaixo produz um erro:"
      ]
    },
    {
      "cell_type": "code",
      "source": [
        "lista = [\"1123132\", 2,3]\n",
        "lista[0] = 1\n",
        "lista"
      ],
      "metadata": {
        "colab": {
          "base_uri": "https://localhost:8080/"
        },
        "id": "li-LBVjm7GHt",
        "outputId": "12b2dca5-2020-4314-f3f2-ebb6cf6dc6b8"
      },
      "execution_count": null,
      "outputs": [
        {
          "output_type": "execute_result",
          "data": {
            "text/plain": [
              "[1, 2, 3]"
            ]
          },
          "metadata": {},
          "execution_count": 4
        }
      ]
    },
    {
      "cell_type": "code",
      "source": [
        "frase = \"Let's Code by ADA\"\n",
        "frase[0] = \"l\"\n",
        "frase"
      ],
      "metadata": {
        "colab": {
          "base_uri": "https://localhost:8080/",
          "height": 203
        },
        "id": "R51mBxflPPQZ",
        "outputId": "de33b96d-6916-4e87-fb81-84876961639c"
      },
      "execution_count": null,
      "outputs": [
        {
          "output_type": "error",
          "ename": "TypeError",
          "evalue": "ignored",
          "traceback": [
            "\u001b[0;31m---------------------------------------------------------------------------\u001b[0m",
            "\u001b[0;31mTypeError\u001b[0m                                 Traceback (most recent call last)",
            "\u001b[0;32m<ipython-input-5-45668ed41768>\u001b[0m in \u001b[0;36m<module>\u001b[0;34m\u001b[0m\n\u001b[1;32m      1\u001b[0m \u001b[0mfrase\u001b[0m \u001b[0;34m=\u001b[0m \u001b[0;34m\"Let's Code by ADA\"\u001b[0m\u001b[0;34m\u001b[0m\u001b[0;34m\u001b[0m\u001b[0m\n\u001b[0;32m----> 2\u001b[0;31m \u001b[0mfrase\u001b[0m\u001b[0;34m[\u001b[0m\u001b[0;36m0\u001b[0m\u001b[0;34m]\u001b[0m \u001b[0;34m=\u001b[0m \u001b[0;34m\"l\"\u001b[0m\u001b[0;34m\u001b[0m\u001b[0;34m\u001b[0m\u001b[0m\n\u001b[0m\u001b[1;32m      3\u001b[0m \u001b[0mfrase\u001b[0m\u001b[0;34m\u001b[0m\u001b[0;34m\u001b[0m\u001b[0m\n",
            "\u001b[0;31mTypeError\u001b[0m: 'str' object does not support item assignment"
          ]
        }
      ]
    },
    {
      "cell_type": "markdown",
      "metadata": {
        "id": "f8fa1aW5uyin"
      },
      "source": [
        "Para alterar uma _string_, é necessário **redefini-la**, de modo que a _string_ original será descartada e a nova (alterada) será escrita por cima da original. Ou, alternativamente, podemos gerar uma cópia da _string_ com alterações. Veremos mais detalhes adiante."
      ]
    },
    {
      "cell_type": "markdown",
      "metadata": {
        "id": "RZ3vziuFuyin"
      },
      "source": [
        "## Operações entre _strings_\n",
        "Alguns operadores aritméticos funcionam com _strings_ também. Naturalmente, eles não servem para fazer contas, mas nos permitem fazer de forma intuitiva algumas operações bastante úteis.\n",
        "\n",
        "O operador **+** serve como um operador de **concatenação** de _strings_: unir duas _strings_. Observe o exemplo abaixo: "
      ]
    },
    {
      "cell_type": "code",
      "source": [
        "string1 = \"olá\"\n",
        "string2 = \"mundo\"\n",
        "resultado = string1 + string2\n",
        "resultado"
      ],
      "metadata": {
        "colab": {
          "base_uri": "https://localhost:8080/",
          "height": 35
        },
        "id": "b_mEfDjCPT7x",
        "outputId": "96bb9479-242c-42b5-a45e-fec6eea015a9"
      },
      "execution_count": null,
      "outputs": [
        {
          "output_type": "execute_result",
          "data": {
            "text/plain": [
              "'olámundo'"
            ],
            "application/vnd.google.colaboratory.intrinsic+json": {
              "type": "string"
            }
          },
          "metadata": {},
          "execution_count": 7
        }
      ]
    },
    {
      "cell_type": "markdown",
      "metadata": {
        "id": "kwE80gb_uyio"
      },
      "source": [
        "Outro operador que funciona é o operador **\\***. Este operador não é usado entre duas _strings_, mas entre uma _string_ e um **int**. Ele repetirá a _string_ o número de vezes dado pelo **int**."
      ]
    },
    {
      "cell_type": "code",
      "source": [
        "\"olá mundo\" * 3"
      ],
      "metadata": {
        "colab": {
          "base_uri": "https://localhost:8080/",
          "height": 35
        },
        "id": "1nuwg_70PVUy",
        "outputId": "450ae894-d222-4db5-d619-dc9877955d52"
      },
      "execution_count": null,
      "outputs": [
        {
          "output_type": "execute_result",
          "data": {
            "text/plain": [
              "'olá mundoolá mundoolá mundo'"
            ],
            "application/vnd.google.colaboratory.intrinsic+json": {
              "type": "string"
            }
          },
          "metadata": {},
          "execution_count": 9
        }
      ]
    },
    {
      "cell_type": "markdown",
      "metadata": {
        "id": "Ag6J-6QCuyip"
      },
      "source": [
        "### Copiando uma _string_ através de concatenação\n",
        "Em problemas de somatório você já deve estar acostumado a utilizar um _loop_ onde novos valores são somados em uma mesma variável. Somar os números de uma lista, por exemplo, tem mais ou menos essa carinha:\n",
        "\n",
        "```python\n",
        "soma = 0\n",
        "for numero in lista:\n",
        "\tsoma = soma + numero #lembrando que também pode ser soma += numero\n",
        "```\n",
        "\n",
        "A mesma lógica pode ser aplicada a uma _string_:"
      ]
    },
    {
      "cell_type": "code",
      "source": [
        "string_inicial = \"olá mundo\"\n",
        "\n",
        "for caractere in string_inicial:\n",
        "  print(caractere)\n",
        "  "
      ],
      "metadata": {
        "colab": {
          "base_uri": "https://localhost:8080/"
        },
        "id": "VA3OiSgrPYJj",
        "outputId": "87b157a1-35fa-4620-b3be-fd4002cbbb3e"
      },
      "execution_count": null,
      "outputs": [
        {
          "output_type": "stream",
          "name": "stdout",
          "text": [
            "o\n",
            "l\n",
            "á\n",
            " \n",
            "m\n",
            "u\n",
            "n\n",
            "d\n",
            "o\n"
          ]
        }
      ]
    },
    {
      "cell_type": "markdown",
      "metadata": {
        "id": "68MXSqYcuyip"
      },
      "source": [
        "Isso é útil porque antes de \"somar\" cada letra à _string_ final podemos fazer alterações (como transformar em maiúscula ou minúscula, acrescentar caracteres entre 2 letras etc). É um jeito de fazer tratamento de _strings_. Veremos mais sobre tratamento de _strings_ no capítulo de funções de _strings_.\n"
      ]
    },
    {
      "cell_type": "markdown",
      "metadata": {
        "id": "RrHyL-U8uyiq"
      },
      "source": [
        "## Transformando uma _string_ em lista\n",
        "_Strings_ são imutáveis, e isso pode nos dar um pouco de trabalho quando queremos fazer pequenas alterações, como forçar um caractere a ser maiúsculo ou acrescentar um caractere à _string_. Uma das formas de fazer envolve a \"soma cumulativa\" apresentada acima. Outra forma envolve transformar a nossa _string_ em lista, que é uma estrutura mutável. Execute o programa abaixo:"
      ]
    },
    {
      "cell_type": "code",
      "source": [
        "string = \"let's code by ada\"\n",
        "lista = list(string)\n",
        "lista[0] = \"L\"\n",
        "lista.append(\"!\")\n",
        "print(lista)"
      ],
      "metadata": {
        "colab": {
          "base_uri": "https://localhost:8080/"
        },
        "id": "P6F3D7PaPczA",
        "outputId": "3e757e45-9d41-4a76-d3f5-bc891342ffb2"
      },
      "execution_count": null,
      "outputs": [
        {
          "output_type": "stream",
          "name": "stdout",
          "text": [
            "['L', 'e', 't', \"'\", 's', ' ', 'c', 'o', 'd', 'e', ' ', 'b', 'y', ' ', 'a', 'd', 'a', '!']\n"
          ]
        }
      ]
    },
    {
      "cell_type": "code",
      "source": [
        "frase = \"\"\n",
        "for caractere in lista:\n",
        "  frase = frase + caractere\n",
        "\n",
        "frase"
      ],
      "metadata": {
        "colab": {
          "base_uri": "https://localhost:8080/",
          "height": 35
        },
        "id": "MCtedj34Pc4p",
        "outputId": "ca9b7adc-1ac8-439b-b5b7-744062cbc8f6"
      },
      "execution_count": null,
      "outputs": [
        {
          "output_type": "execute_result",
          "data": {
            "text/plain": [
              "\"Let's code by ada!\""
            ],
            "application/vnd.google.colaboratory.intrinsic+json": {
              "type": "string"
            }
          },
          "metadata": {},
          "execution_count": 3
        }
      ]
    },
    {
      "cell_type": "code",
      "source": [
        "\"\".join(lista)"
      ],
      "metadata": {
        "colab": {
          "base_uri": "https://localhost:8080/",
          "height": 35
        },
        "id": "WnJMAqNZPc_Q",
        "outputId": "d6852771-f37c-47d1-8012-f39099bcf27a"
      },
      "execution_count": null,
      "outputs": [
        {
          "output_type": "execute_result",
          "data": {
            "text/plain": [
              "\"Let's code by ada!\""
            ],
            "application/vnd.google.colaboratory.intrinsic+json": {
              "type": "string"
            }
          },
          "metadata": {},
          "execution_count": 4
        }
      ]
    },
    {
      "cell_type": "markdown",
      "metadata": {
        "id": "GMvgI4xjuyiq"
      },
      "source": [
        "Como a lista é mutável, nela conseguimos alterar uma letra e adicionar um símbolo ao final sem dificuldades! Porém, infelizmente nosso resultado é uma lista, o que não ficou muito legível para o usuário. Podemos resolver isso utilizando o _join_. Veremos em breve como ele realmente funciona, mas por hora podemos utilizá-lo da seguinte maneira para transformar lista em _string_:"
      ]
    },
    {
      "cell_type": "code",
      "source": [
        "string = \"let's code by ada\"\n",
        "lista = list(string)\n",
        "lista[0] = \"L\"\n",
        "lista.append(\"!\")\n",
        "\"-\".join(lista)"
      ],
      "metadata": {
        "colab": {
          "base_uri": "https://localhost:8080/",
          "height": 35
        },
        "id": "UWQw7zwyPeeS",
        "outputId": "444ef174-c25d-4299-899d-3050c349ac3f"
      },
      "execution_count": null,
      "outputs": [
        {
          "output_type": "execute_result",
          "data": {
            "text/plain": [
              "\"L-e-t-'-s- -c-o-d-e- -b-y- -a-d-a-!\""
            ],
            "application/vnd.google.colaboratory.intrinsic+json": {
              "type": "string"
            }
          },
          "metadata": {},
          "execution_count": 5
        }
      ]
    },
    {
      "cell_type": "markdown",
      "metadata": {
        "id": "F1hypqTVuyiq"
      },
      "source": [
        "Para as modificações mais comuns, temos algumas funções/métodos prontos que poderão ser bastante úteis!\n",
        "\n",
        "## Símbolos especiais\n",
        "Além de letras, números, sinais de pontuação, símbolos matemáticos etc, uma _string_ pode conter alguns operadores especiais de controle. Esses operadores podem indicar, por exemplo, uma quebra de linha ou uma tabulação. Vejamos os mais comuns:"
      ]
    },
    {
      "cell_type": "markdown",
      "source": [
        "\n",
        "### Quebra de linha\n",
        "Uma quebra de linha indica que o programa exibindo a _string_ deverá quebrar a linha atual e exibir o restante da _string_ na linha seguinte, e é representada na maioria dos sistemas e na _web_ pelo símbolo ```\\n```. Execute o programa abaixo e veja o resultado na tela:\n"
      ],
      "metadata": {
        "id": "BfxWAwtyKvoc"
      }
    },
    {
      "cell_type": "code",
      "source": [
        "print(\"olá\\nmundo\")"
      ],
      "metadata": {
        "colab": {
          "base_uri": "https://localhost:8080/"
        },
        "id": "r8ul2nnqPgKJ",
        "outputId": "d1cfb1f8-f5ed-4976-f8a4-dd5b48030f04"
      },
      "execution_count": null,
      "outputs": [
        {
          "output_type": "stream",
          "name": "stdout",
          "text": [
            "olá\n",
            "mundo\n"
          ]
        }
      ]
    },
    {
      "cell_type": "markdown",
      "metadata": {
        "id": "ARf59LQWuyir"
      },
      "source": [
        "### Tabulação\n",
        "A tabulação indica um recuo equivalente ao da tecla _Tab_ - um recuo de início de parágrafo, ou o recuo que usamos para aninhar linhas de código em Python. Ela é representada pelo símbolo ```\\t```. Verifique o resultado do exemplo abaixo:"
      ]
    },
    {
      "cell_type": "code",
      "source": [
        "print(\"texto:\")\n",
        "print(\"\\t saudação:\")\n",
        "print(\"\\t\\t olá\")"
      ],
      "metadata": {
        "colab": {
          "base_uri": "https://localhost:8080/"
        },
        "id": "nPXWcCgg7xpV",
        "outputId": "2c06c230-b890-4343-b520-73675770a492"
      },
      "execution_count": null,
      "outputs": [
        {
          "output_type": "stream",
          "name": "stdout",
          "text": [
            "texto:\n",
            "\t saudação:\n",
            "\t\t olá\n"
          ]
        }
      ]
    },
    {
      "cell_type": "code",
      "source": [
        "\"texto\"*3"
      ],
      "metadata": {
        "colab": {
          "base_uri": "https://localhost:8080/",
          "height": 35
        },
        "id": "Tr86V5IK8sMv",
        "outputId": "07dd6cdf-e800-45d8-b8d0-8417bab9927d"
      },
      "execution_count": null,
      "outputs": [
        {
          "output_type": "execute_result",
          "data": {
            "text/plain": [
              "'textotextotexto'"
            ],
            "application/vnd.google.colaboratory.intrinsic+json": {
              "type": "string"
            }
          },
          "metadata": {},
          "execution_count": 13
        }
      ]
    },
    {
      "cell_type": "code",
      "source": [
        "print(\"\\t\"*3, \"oi\")"
      ],
      "metadata": {
        "colab": {
          "base_uri": "https://localhost:8080/"
        },
        "id": "IELQ-sgO8m7v",
        "outputId": "3b05c086-6f76-4f13-c335-9c7fb1a147ee"
      },
      "execution_count": null,
      "outputs": [
        {
          "output_type": "stream",
          "name": "stdout",
          "text": [
            "\t\t\t oi\n"
          ]
        }
      ]
    },
    {
      "cell_type": "code",
      "source": [
        "alunos = ['theo', 'ana', 'joao']\n",
        "\n",
        "print(\"lista de alunos:\")\n",
        "for aluno in alunos:\n",
        "  print('\\t', aluno)"
      ],
      "metadata": {
        "colab": {
          "base_uri": "https://localhost:8080/"
        },
        "id": "PF3P-ii2PhLC",
        "outputId": "62348a87-4e30-4ab1-8524-02debe68c4fe"
      },
      "execution_count": null,
      "outputs": [
        {
          "output_type": "stream",
          "name": "stdout",
          "text": [
            "lista de alunos:\n",
            "\t theo\n",
            "\t ana\n",
            "\t joao\n"
          ]
        }
      ]
    },
    {
      "cell_type": "markdown",
      "metadata": {
        "id": "m4U8olhNuyir"
      },
      "source": [
        "### Barra\n",
        "E se nós quiséssemos representar uma _string_ que explica o significado de ```\\n```, por exemplo, como proceder? Afinal, ao ver o símbolo ```\\n``` o programa entenderá que é uma quebra de linha e fará isso ao invés de escrever ```\\n``` na tela. \n",
        "\n",
        "Podemos utilizar 2 barras: ```\\\\```. Ao fazermos isso, o programa entende que é para representar a barra na tela ao invés de interpretá-la como início de outro símbolo especial."
      ]
    },
    {
      "cell_type": "code",
      "source": [
        "print(\"utilizamos o \\\\n para quebrar linhas\")"
      ],
      "metadata": {
        "colab": {
          "base_uri": "https://localhost:8080/"
        },
        "id": "h7wcWLlXPimp",
        "outputId": "a897925b-503b-42ea-a7f8-4a0985ae9db0"
      },
      "execution_count": null,
      "outputs": [
        {
          "output_type": "stream",
          "name": "stdout",
          "text": [
            "utilizamos o \\n para quebrar linhas\n"
          ]
        }
      ]
    },
    {
      "cell_type": "code",
      "source": [
        "\"print(sum([1,2,3,4,5])\""
      ],
      "metadata": {
        "colab": {
          "base_uri": "https://localhost:8080/",
          "height": 132
        },
        "id": "ThXYyaGt9ZJy",
        "outputId": "0a5bf451-89e9-4436-b255-e342bd8fbe86"
      },
      "execution_count": null,
      "outputs": [
        {
          "output_type": "error",
          "ename": "SyntaxError",
          "evalue": "ignored",
          "traceback": [
            "\u001b[0;36m  File \u001b[0;32m\"<ipython-input-16-2ec12faea6a2>\"\u001b[0;36m, line \u001b[0;32m1\u001b[0m\n\u001b[0;31m    print(\\sum([1,2,3,4,5])\u001b[0m\n\u001b[0m                           ^\u001b[0m\n\u001b[0;31mSyntaxError\u001b[0m\u001b[0;31m:\u001b[0m unexpected character after line continuation character\n"
          ]
        }
      ]
    },
    {
      "cell_type": "markdown",
      "metadata": {
        "id": "_XWXoUW3uyis"
      },
      "source": [
        "### Aspas\n",
        "Um problema que você deve ter se deparado é que parece impossível representar o símbolo ```'``` em uma _string_ que foi aberta por esse símbolo, já que a segunda ocorrência dele fechará a string. Idem para o símbolo ```\"```. Podemos resolver isso da mesma forma que fizemos com a barra: ```\\'``` irá sempre representar o símbolo ```'``` e ```\\\"``` irá sempre representar o símbolo ```\"``` ao invés de fechar uma _string_."
      ]
    },
    {
      "cell_type": "markdown",
      "metadata": {
        "id": "E3X-RYF4uyis"
      },
      "source": [
        "## Métodos de strings\n",
        "\n",
        "É possível fazer várias operações com _strings_ utilizando técnicas como concatenação ou converter em listas. Porém, certas operações são muito comuns e podem ser muito trabalhosas de fazer na mão. Por isso, temos diversas funções prontas para nos ajudar.\n",
        "\n",
        "Note que como _strings_ são imutáveis, nenhuma dessas funções irá alterar a _string_ original. Elas sempre **retornarão** uma _string_ nova com as modificações desejadas.\n",
        "\n",
        "Vejamos algumas das mais usadas."
      ]
    },
    {
      "cell_type": "markdown",
      "source": [
        "### Maiúsculas e minúsculas\n",
        "Temos algumas funções prontas para alterar a capitalização das letras. Uma delas é a função _upper_, que transforma todas as letras da _string_ original em maiúsculas:"
      ],
      "metadata": {
        "id": "dvLws-tPL9NZ"
      }
    },
    {
      "cell_type": "code",
      "source": [
        "frase = \"vamos programar\"\n",
        "maiuscula = frase.upper()\n",
        "maiuscula"
      ],
      "metadata": {
        "colab": {
          "base_uri": "https://localhost:8080/",
          "height": 35
        },
        "outputId": "ea2d1a7d-9ad7-4eb3-ba94-3c207a1eaf2d",
        "id": "74l_lFcTKLNf"
      },
      "execution_count": null,
      "outputs": [
        {
          "output_type": "execute_result",
          "data": {
            "text/plain": [
              "'VAMOS PROGRAMAR'"
            ],
            "application/vnd.google.colaboratory.intrinsic+json": {
              "type": "string"
            }
          },
          "metadata": {},
          "execution_count": 34
        }
      ]
    },
    {
      "cell_type": "markdown",
      "metadata": {
        "id": "FYPXx9-Duyis"
      },
      "source": [
        "Analogamente, temos a função _lower_ para transformar todas as letras em minúsculas:"
      ]
    },
    {
      "cell_type": "code",
      "source": [
        "frase = \"VAMOS PROGRAMAR\"\n",
        "maiuscula = frase.lower()\n",
        "maiuscula"
      ],
      "metadata": {
        "colab": {
          "base_uri": "https://localhost:8080/",
          "height": 35
        },
        "outputId": "5fa6683f-06b1-472e-d769-14a6bf0e16d6",
        "id": "2rdSoxSMKQHw"
      },
      "execution_count": null,
      "outputs": [
        {
          "output_type": "execute_result",
          "data": {
            "text/plain": [
              "'vamos programar'"
            ],
            "application/vnd.google.colaboratory.intrinsic+json": {
              "type": "string"
            }
          },
          "metadata": {},
          "execution_count": 26
        }
      ]
    },
    {
      "cell_type": "markdown",
      "metadata": {
        "id": "QU9A-ntDuyit"
      },
      "source": [
        "Também é possível formatar a _string_ inteira como um nome próprio: primeira letra de cada palavra maiúscula, todo o restante minúscula. Para isso temos a função _title_:"
      ]
    },
    {
      "cell_type": "code",
      "source": [
        "\"vamos prOgramar\".title()"
      ],
      "metadata": {
        "colab": {
          "base_uri": "https://localhost:8080/",
          "height": 35
        },
        "outputId": "630dff09-eca7-413b-9462-0ae4226652be",
        "id": "RzbHlZgNKSl2"
      },
      "execution_count": null,
      "outputs": [
        {
          "output_type": "execute_result",
          "data": {
            "text/plain": [
              "'Vamos Programar'"
            ],
            "application/vnd.google.colaboratory.intrinsic+json": {
              "type": "string"
            }
          },
          "metadata": {},
          "execution_count": 28
        }
      ]
    },
    {
      "cell_type": "markdown",
      "metadata": {
        "id": "FiGZtmVEuyit"
      },
      "source": [
        "E, por fim, é possível tratar nossa _string_ como uma frase gramaticalmente correta: primeira letra maiúscula, todo o resto minúscula. Essa função é a _capitalize_:"
      ]
    },
    {
      "cell_type": "code",
      "source": [
        "\"VaMos ProGramar\".capitalize()"
      ],
      "metadata": {
        "colab": {
          "base_uri": "https://localhost:8080/",
          "height": 35
        },
        "outputId": "a0ba78e3-be09-4547-ae1f-f80cf3a87b7f",
        "id": "eFavNJReKVB4"
      },
      "execution_count": null,
      "outputs": [
        {
          "output_type": "execute_result",
          "data": {
            "text/plain": [
              "'Vamos programar'"
            ],
            "application/vnd.google.colaboratory.intrinsic+json": {
              "type": "string"
            }
          },
          "metadata": {},
          "execution_count": 30
        }
      ]
    },
    {
      "cell_type": "markdown",
      "metadata": {
        "id": "G23VjTJLuyit"
      },
      "source": [
        "Uma utilidade para essas funções é padronizar entrada de usuário. Quando pedimos para o usuário digitar 'sim' caso ele deseje fazer algo, ele pode digitar 'SIM', 'sim', 'Sim', 'sIm', 'siM',  'SIm', 'sIM' ou 'SiM'. Prever todas essas condições em uma condicional pode ser bastante trabalhoso, ou mesmo impossível. Imagine se fosse uma _string_ de várias letras... Porém, podemos forçar um padrão para a entrada do usuário e comparar com esse padrão:"
      ]
    },
    {
      "cell_type": "code",
      "source": [
        "usuario = input(\"digite 'sim' se você concorda com os termos de uso\")\n",
        "\n",
        "if usuario.upper() == \"SIM\":\n",
        "  print(\"você aceitou os termos de uso\")\n",
        "else:\n",
        "  print(\"você não aceitou os termos de uso\")"
      ],
      "metadata": {
        "colab": {
          "base_uri": "https://localhost:8080/"
        },
        "outputId": "b6c544a4-8dfc-4e6d-9738-5109cb5a9168",
        "id": "v0wuO1LHKXSI"
      },
      "execution_count": null,
      "outputs": [
        {
          "output_type": "stream",
          "name": "stdout",
          "text": [
            "digite 'sim' se você concorda com os termos de usosiM\n",
            "você aceitou os termos de uso\n"
          ]
        }
      ]
    },
    {
      "cell_type": "markdown",
      "metadata": {
        "id": "VwA0-6eHuyiu"
      },
      "source": [
        "### Quebrando uma _string_\n",
        "É possível separar uma _string_ em uma lista de _substrings_. Isso pode ser particularmente útil quando precisamos separar um texto em palavras individuais. A função que realiza essa quebra é o _split_:"
      ]
    },
    {
      "cell_type": "code",
      "source": [
        "texto = \"uma frase\"\n",
        "texto.split()"
      ],
      "metadata": {
        "id": "JCZCCi0DPxCq"
      },
      "execution_count": null,
      "outputs": []
    },
    {
      "cell_type": "code",
      "source": [
        "nomes = \"theo;joão;ana;pedro\"\n",
        "nomes.split(\";\",1)"
      ],
      "metadata": {
        "id": "Vxh8dTtiPxJo"
      },
      "execution_count": null,
      "outputs": []
    },
    {
      "cell_type": "markdown",
      "metadata": {
        "id": "Tj-ZVSJ1uyiu"
      },
      "source": [
        "O _split_ é mais do que apenas uma função para separar palavras. Podemos opcionalmente passar como parâmetro uma _string_ para ser usada como critério de separação: ao invés de quebrar no espaço em branco, a _string_ principal será quebrada nos pontos onde o parâmetro aparece (e ele será apagado do resultado final). \n",
        "\n",
        "Uma utilidade interessante para isso seria quando estamos interessados em ler dados formatados do teclado ou de um arquivo e pegar as informações que nos interessam. Imagine, por exemplo, que você queira que o usuário digite uma data no formato 'dd/mm/aaaa' e em seguida você precise separar dia, mês e ano em três variáveis do tipo **int**. Isso é possível com o _split_:"
      ]
    },
    {
      "cell_type": "code",
      "source": [
        "data = input(\"digite uma data no formato dd/mm/yyyy \")\n",
        "lista_data = data.split('/') \n",
        "dia = int(lista_data[0])\n",
        "mes = int(lista_data[1])\n",
        "ano = int(lista_data[2])\n",
        "\n",
        "\n",
        "print(f\"dia {dia} , mês {mes}, ano {ano}\")"
      ],
      "metadata": {
        "id": "y_ViX7boPzH4",
        "colab": {
          "base_uri": "https://localhost:8080/"
        },
        "outputId": "5d444cb5-207c-427c-af13-9ba73df462f0"
      },
      "execution_count": 4,
      "outputs": [
        {
          "output_type": "stream",
          "name": "stdout",
          "text": [
            "digite uma data no formato dd/mm/yyyy 07/01/1990\n",
            "dia 7 , mês 1, ano 1990\n"
          ]
        }
      ]
    },
    {
      "cell_type": "code",
      "source": [
        "if '/' in '2022-01-01':\n",
        "  print(\"utilizou o padrão\")\n",
        "else:\n",
        "  print(\"não utilizou\")"
      ],
      "metadata": {
        "id": "cCSlvbdSPzOS",
        "colab": {
          "base_uri": "https://localhost:8080/"
        },
        "outputId": "7ce417c5-4bd7-4f52-b3b3-a44ffcf06d8e"
      },
      "execution_count": 5,
      "outputs": [
        {
          "output_type": "stream",
          "name": "stdout",
          "text": [
            "não utilizou\n"
          ]
        }
      ]
    },
    {
      "cell_type": "code",
      "source": [
        "data = input(\"digite uma data no formato dd/mm/yyyy \")\n",
        "dia,mes,ano = data.split('/') \n",
        "\n",
        "\n",
        "print(f\"dia {dia} , mês {mes}, ano {ano}\")"
      ],
      "metadata": {
        "id": "h_G2uLX9PzU5",
        "colab": {
          "base_uri": "https://localhost:8080/"
        },
        "outputId": "630a9366-8c25-418e-d8e4-0b57a3c1085f"
      },
      "execution_count": 3,
      "outputs": [
        {
          "output_type": "stream",
          "name": "stdout",
          "text": [
            "digite uma data no formato dd/mm/yyyy 07/01/1990\n",
            "dia 07 , mês 01, ano 1990\n"
          ]
        }
      ]
    },
    {
      "cell_type": "code",
      "source": [
        "\"theo,ana,gabriel\".split(\";\")"
      ],
      "metadata": {
        "colab": {
          "base_uri": "https://localhost:8080/"
        },
        "id": "yWljBzV9KiGv",
        "outputId": "58a5d1f9-eb8c-4281-bfde-115babbdd7ff"
      },
      "execution_count": 1,
      "outputs": [
        {
          "output_type": "execute_result",
          "data": {
            "text/plain": [
              "['theo,ana,gabriel']"
            ]
          },
          "metadata": {},
          "execution_count": 1
        }
      ]
    },
    {
      "cell_type": "markdown",
      "metadata": {
        "id": "9MK2uJH9uyiu"
      },
      "source": [
        "### Substituindo elementos na _string_\n",
        "Uma das ferramentas mais úteis em qualquer editor de texto é o _localizar e substituir_, onde podemos buscar por todas as ocorrências de uma expressão no texto e trocar por outra expressão.\n",
        "Em Python temos uma função análoga, o _replace_. Ele recebe 2 parâmetros: a expressão a ser substituída e a expressão que a substituirá. Veja o exemplo:"
      ]
    },
    {
      "cell_type": "code",
      "source": [
        "saudacao = \"olá bom dia\"\n",
        "saudacao.replace(\"bom dia\", \"boa tarde\")"
      ],
      "metadata": {
        "id": "i0R7IN6PP024"
      },
      "execution_count": null,
      "outputs": []
    },
    {
      "cell_type": "code",
      "source": [
        "# continua com o mesmo valor na variável\n",
        "saudacao"
      ],
      "metadata": {
        "id": "uIu_Y-edKwNf"
      },
      "execution_count": null,
      "outputs": []
    },
    {
      "cell_type": "markdown",
      "metadata": {
        "id": "5iQi8KSmuyiv"
      },
      "source": [
        "Em Python não existe uma função para deletar um pedaço de uma _string_. Porém, podemos usar o replace para substituir uma expressão por uma _string_ vazia, o que tem o mesmo resultado:\n",
        "\n"
      ]
    },
    {
      "cell_type": "code",
      "source": [
        "\"olá bom dia\".replace(\"a\",\"\")"
      ],
      "metadata": {
        "id": "wdMdmKHcP11B"
      },
      "execution_count": null,
      "outputs": []
    },
    {
      "cell_type": "code",
      "source": [
        "\"olá bom dia\".replace(\"A\",\"\")"
      ],
      "metadata": {
        "id": "pBAUwL3ZKyD4"
      },
      "execution_count": null,
      "outputs": []
    },
    {
      "cell_type": "markdown",
      "metadata": {
        "id": "ABIn57OFuyiv"
      },
      "source": [
        "### Concatenando _strings_ em uma coleção\n",
        "Imagine que você tem uma coleção (por exemplo, uma lista) de _strings_ e precisa unir todas elas utilizando algum símbolo padrão como separador entre elas. Para isso temos o _join_. Ele soa pouco intuitivo no começo, então convém executar o exemplo e observar com atenção seu resultado:"
      ]
    },
    {
      "cell_type": "code",
      "source": [
        "lista = ['a', 'b', 'c']\n",
        "separador = '||'\n",
        "separador.join(lista)"
      ],
      "metadata": {
        "id": "PZEa3yo8P3Dh"
      },
      "execution_count": null,
      "outputs": []
    },
    {
      "cell_type": "markdown",
      "metadata": {
        "id": "mnm6Fboruyiv"
      },
      "source": [
        "Já vimos o _join_ antes sendo usado para converter uma lista de volta em _string_. Para isso, utilizávamos uma _string_ vazia como separador. Assim, os elementos da lista eram concatenados sem separador. \n",
        "> **Dica:** um jeito de memorizar facilmente como o _join_ funciona é pensar que o separador entrará no lugar das vírgulas na visualização da lista.\n"
      ]
    },
    {
      "cell_type": "markdown",
      "metadata": {
        "id": "NBmz9-6buyiv"
      },
      "source": [
        "## Formatando _strings_\n",
        "\n",
        "### A função _format_\n",
        "\n",
        "Todo mundo que já preencheu um contrato ou uma ficha de cadastro está familiar com textos nesse estilo:\n",
        "> Eu, __________, portador do CPF ___________, residente no endereço _________________________ autorizo o procedimento.\n",
        "\n",
        "Esse é o texto genérico que vale para todos, e cada um de nós em particular entende que deve preencher os campos em brancos com dados específicos (nome, CPF e endereço, no exemplo acima). \n",
        "\n",
        "Existe uma função em Python para realizar esse tipo de preenchimento de texto: o _format_. Suponha que você tenha dados em diferentes variáveis e precisa que todos eles apareçam em uma _string_.  Basta criar uma _string_ com os \"espaços em branco\" para serem preenchidos e passar as variáveis para a função. Os espaços em branco são representados por chaves (**{}**).\n"
      ]
    },
    {
      "cell_type": "code",
      "source": [
        "nome = \"theo\"\n",
        "cpf = \"453593593\"\n",
        "endereco = \"rua travessa\"\n",
        "termos_servico = \"Eu, {} portador do cpf {} , residente no endereço {} autorizo o compartilhamento de dados\".format(nome, cpf, endereco)\n",
        "termos_servico"
      ],
      "metadata": {
        "id": "bAf_-qtnP5GS"
      },
      "execution_count": null,
      "outputs": []
    },
    {
      "cell_type": "markdown",
      "metadata": {
        "id": "JGAyFyTluyiw"
      },
      "source": [
        "Porém, o grande charme não está apenas em preencher - isso poderia ser feito concatenando com o operador **+**. Nós podemos colocar opções de formatação nos nossos dados, como número de casas em um número. \n",
        "\n",
        "Imagine que você queira exibir uma data no formato dd/mm/aaaa. Em situações normais, dias e meses inferiores a 10 apareceriam com apenas 1 casa (**int** não é representado com zeros à esquerda). Porém, podemos especificar no _format_ que gostaríamos de representar um inteiro com 2 casas, preenchendo com zero casas em branco."
      ]
    },
    {
      "cell_type": "code",
      "source": [
        "dia = 1\n",
        "mes = 2\n",
        "ano = 20\n",
        "\n",
        "'{:02d}/{:02d}/{:04d}'.format(dia,mes,ano)"
      ],
      "metadata": {
        "id": "-ojtAukaP7_5"
      },
      "execution_count": null,
      "outputs": []
    },
    {
      "cell_type": "markdown",
      "metadata": {
        "id": "GTJC7YVJuyiw"
      },
      "source": [
        "Vamos entender o que está dentro das chaves: o símbolo **:** indica que passaremos opções. O símbolo 'd' indica que estamos representando números inteiros em base decimal (dígitos de 0 a 9). Os símbolos '2' e '4' indicam, respectivamente, 2 casas ou 4 casas. E o símbolo '0' indica que se faltar dígitos, os espaços devem ser preenchidos com zero.\n",
        "\n",
        "Vejamos outro exemplo, dessa vez com casas decimais. É normal postos de gasolina mostrarem o preço do litro com 3 casas decimais. Mas o preço final a ser cobrado deverá ter 2 casas. Porém, ao multiplicar o preço por litro pelo valor em litros, é provável que o total dê várias casas decimais. Usaremos o _format_ para representar com apenas 2 casas."
      ]
    },
    {
      "cell_type": "code",
      "source": [
        "{:.2f}"
      ],
      "metadata": {
        "id": "gKSa1GKkP9PY"
      },
      "execution_count": null,
      "outputs": []
    },
    {
      "cell_type": "markdown",
      "source": [
        "Neste caso, o 'f' indica que o número é **float**.  Já o '.2' indica que queremos 2 casas após o ponto decimal. Note que ele não apenas descarta as casas excedentes, e sim arredonda corretamente o número."
      ],
      "metadata": {
        "id": "0QaEnIjkbTfK"
      }
    },
    {
      "cell_type": "markdown",
      "source": [
        "documentação do .format https://docs.python.org/3/library/string.html"
      ],
      "metadata": {
        "id": "5YoPr2Gpc5Gq"
      }
    },
    {
      "cell_type": "code",
      "source": [
        "\"olá {saudacao}, tudo bem com {pronome} ?\".format(pronome=\"o senhor\", saudacao=\"bom dia\")"
      ],
      "metadata": {
        "id": "PtB0GhixQCRy"
      },
      "execution_count": null,
      "outputs": []
    },
    {
      "cell_type": "code",
      "source": [
        "variaveis = (\"bom dia\", \"o senhor\")\n",
        "string = \"olá {}, tudo bem com {} ?\".format(*variaveis)\n",
        "string"
      ],
      "metadata": {
        "id": "kll6m_J0QCZA"
      },
      "execution_count": null,
      "outputs": []
    },
    {
      "cell_type": "code",
      "source": [
        "dicionario = {\"chave1\":\"o senhor\", \"chave2\": \"bom dia\"}\n",
        "\n",
        "string = \"olá {chave2}, tudo bem com {chave1} ?\".format(**dicionario)\n",
        "string"
      ],
      "metadata": {
        "id": "ggIC2zg7QCeY"
      },
      "execution_count": null,
      "outputs": []
    },
    {
      "cell_type": "code",
      "source": [
        "string = \"olá {}, tudo bem com {} ?\".format(chave1=\"valor1\", chave2=\"valor2\")"
      ],
      "metadata": {
        "id": "ExLZE1GV5nzt"
      },
      "execution_count": null,
      "outputs": []
    },
    {
      "cell_type": "code",
      "source": [
        "dados = {\n",
        "    \"nome\": \"Fulano\",\n",
        "    \"cpf\": [12345,34757,38485],\n",
        "    \"endereco\": \"Rua dos Desaparecidos\"\n",
        "}\n",
        "print(\"Nome: {nome}\\t\\tCPF: {cpf}\\nEndereço: {endereco}\".format(**dados))"
      ],
      "metadata": {
        "id": "RhSd4UcFeiaW"
      },
      "execution_count": null,
      "outputs": []
    },
    {
      "cell_type": "markdown",
      "source": [
        "> O _format_ possui tantas opções diferentes que existe um site inteiro dedicado a explicar e dar exemplos: [https://pyformat.info/](https://pyformat.info/)"
      ],
      "metadata": {
        "id": "MWFxeL9Uei-P"
      }
    },
    {
      "cell_type": "markdown",
      "metadata": {
        "id": "42hWuCRRuyix"
      },
      "source": [
        "### _f-strings_\n",
        "A função _format_ já se mostrou bastante poderosa, e vimos como ela facilita muito nossa vida. Ela não apenas diminui nosso trabalho para concatenar múltiplas informações em uma única string, como ainda aceita opções diversas de formatação para cada uma das informações. Mas dá para ir um passo além.\n",
        "\n",
        "Ao colocarmos o caractere ```f``` imediatamente antes de abrir aspas para criar uma string, essa string irá se comportar de maneira muito semelhante à máscara de um _format_, e não será necessário chamar o _format_. Podemos colocar o nome de variáveis entre chaves para inseri-las automaticamente na string:"
      ]
    },
    {
      "cell_type": "code",
      "source": [
        "nome = \"joao\"\n",
        "graduacao = 'medicina'\n",
        "print(f\"olá meu nome é {nome}, estudo {graduacao}\")"
      ],
      "metadata": {
        "id": "EOpsnVj1QF4X"
      },
      "execution_count": null,
      "outputs": []
    },
    {
      "cell_type": "markdown",
      "metadata": {
        "id": "pRT4ynFjuyix"
      },
      "source": [
        "Inclusive podemos utilizar as mesmas opções de formatação do _format_ diretamente nas _f-strings_:"
      ]
    },
    {
      "cell_type": "code",
      "source": [
        "{numero_float:.2f}"
      ],
      "metadata": {
        "id": "nvoi4lq1QG0v"
      },
      "execution_count": null,
      "outputs": []
    },
    {
      "cell_type": "markdown",
      "metadata": {
        "id": "WsbJ4vV2uyix"
      },
      "source": [
        "Desde o seu lançamento, as _f-strings_ vem se tornando cada vez mais populares, tornando o uso do _format_ menos comum."
      ]
    },
    {
      "cell_type": "markdown",
      "metadata": {
        "id": "IB5mIRKEuyix"
      },
      "source": [
        "# Exercícios"
      ]
    },
    {
      "cell_type": "markdown",
      "metadata": {
        "id": "BHogXpZhuyiy"
      },
      "source": [
        "## 1) Faça um programa que peça para o usuário digitar uma palavra e imprima cada letra em uma linha."
      ]
    },
    {
      "cell_type": "code",
      "source": [
        "palavra = input(\"Digite uma palavra: \")\n",
        "\n",
        "for i in palavra:\n",
        "    print(i)"
      ],
      "metadata": {
        "id": "BcXlz-GRQJe3",
        "colab": {
          "base_uri": "https://localhost:8080/"
        },
        "outputId": "0fd0fdc9-a33c-4247-a16f-a05211dc9b55"
      },
      "execution_count": null,
      "outputs": [
        {
          "output_type": "stream",
          "name": "stdout",
          "text": [
            "Digite uma palavra: mayara\n",
            "m\n",
            "a\n",
            "y\n",
            "a\n",
            "r\n",
            "a\n"
          ]
        }
      ]
    },
    {
      "cell_type": "markdown",
      "metadata": {
        "id": "HF2ZAoxouyiy"
      },
      "source": [
        "## 2) Faca uma programa que receba uma frase e alterne essa string entre letras maiúsculas e minúsculas.\n",
        "\n",
        "Exemplo: se o usuário digitar \"latex\" o programa deve imprimir \"LaTeX\"."
      ]
    },
    {
      "cell_type": "code",
      "source": [
        "palavra = input(\"Digite a frase para ser alterada: \")\n",
        "nova_palavra = ''\n",
        "maiuscula = True\n",
        "\n",
        "for caractere in palavra:\n",
        "    if maiuscula == True:\n",
        "        nova_palavra += caractere.upper()\n",
        "        maiuscula = False\n",
        "    else:\n",
        "        nova_palavra += caractere.lower()\n",
        "        maiuscula = True\n",
        "\n",
        "print(nova_palavra)"
      ],
      "metadata": {
        "colab": {
          "base_uri": "https://localhost:8080/"
        },
        "id": "xroaTlUScoI4",
        "outputId": "3f232572-18f3-4c66-9914-826b970bd5f1"
      },
      "execution_count": null,
      "outputs": [
        {
          "output_type": "stream",
          "name": "stdout",
          "text": [
            "Digite a frase para ser alterada: latex\n",
            "LaTeX\n"
          ]
        }
      ]
    },
    {
      "cell_type": "code",
      "source": [
        "frase = input(\"Digite uma frase: \")\n",
        "\n",
        "nova_frase = \"\"\n",
        "\n",
        "for i in range(len(frase)):\n",
        "  if i%2 == 0:\n",
        "    #print(frase[i].upper())\n",
        "    nova_frase += frase[i].upper()\n",
        "  else:\n",
        "    #print(frase[i].lower())\n",
        "    nova_frase += frase[i].lower()\n",
        "\n",
        "print(nova_frase)"
      ],
      "metadata": {
        "colab": {
          "base_uri": "https://localhost:8080/"
        },
        "id": "j4Tz1lHAfOXn",
        "outputId": "845d41dc-05f7-43f2-e110-43ab851d7b82"
      },
      "execution_count": null,
      "outputs": [
        {
          "output_type": "stream",
          "name": "stdout",
          "text": [
            "Digite uma frase: mayara\n",
            "MaYaRa\n"
          ]
        }
      ]
    },
    {
      "cell_type": "code",
      "source": [
        "frase = input('Digite uma frase: ')\n",
        "for caracter in frase:\n",
        "  if frase.index(caracter) % 2 == 0:\n",
        "    print(caracter.upper(), end= '')\n",
        "  else:\n",
        "    print(caracter.lower(), end= '')"
      ],
      "metadata": {
        "colab": {
          "base_uri": "https://localhost:8080/"
        },
        "id": "1MFi6GjTeFd2",
        "outputId": "23ee82e4-b0b5-42af-e5ce-563c17a9ed8d"
      },
      "execution_count": null,
      "outputs": [
        {
          "output_type": "stream",
          "name": "stdout",
          "text": [
            "Digite uma frase: barbosa\n",
            "BaRBOsa"
          ]
        }
      ]
    },
    {
      "cell_type": "code",
      "source": [
        "frase = input(\"Digite uma frase: \")\n",
        "for index, char in enumerate(frase):\n",
        "    para_maiusculo = char.isalpha() and index % 2 == 0\n",
        "    print(char.upper() if para_maiusculo else char.lower(), end=\"\")"
      ],
      "metadata": {
        "colab": {
          "base_uri": "https://localhost:8080/"
        },
        "id": "xeGb5iLufqKn",
        "outputId": "d6a5b98e-cef2-4dff-81c2-0bc7979da62e"
      },
      "execution_count": null,
      "outputs": [
        {
          "output_type": "stream",
          "name": "stdout",
          "text": [
            "Digite uma frase: latex\n",
            "LaTeX"
          ]
        }
      ]
    },
    {
      "cell_type": "markdown",
      "metadata": {
        "id": "EM_WqIz4uyiy"
      },
      "source": [
        "## 3) Faça uma programa que receba uma string e retorne uma nova string substituindo:\n",
        "\n",
        "'a' por '4'\n",
        "\n",
        "'e' por '3'\n",
        "\n",
        "'l' por '1'\n",
        "\n",
        "'t' por '7'"
      ]
    },
    {
      "cell_type": "code",
      "source": [
        "palavra = input(\"Digite a frase para ser alterada: \").title()\n",
        "\n",
        "print(palavra.replace(\"a\", \"4\").replace(\"e\",\"3\").replace(\"i\", \"1\").replace(\"t\", \"7\"))"
      ],
      "metadata": {
        "colab": {
          "base_uri": "https://localhost:8080/"
        },
        "id": "j2DpmPaPy-S8",
        "outputId": "04bd69e4-a93d-45de-c239-727ce74d8ca9"
      },
      "execution_count": null,
      "outputs": [
        {
          "output_type": "stream",
          "name": "stdout",
          "text": [
            "Digite a frase para ser alterada: ola\n",
            "Ol4\n"
          ]
        }
      ]
    },
    {
      "cell_type": "code",
      "source": [
        "palavra\n"
      ],
      "metadata": {
        "colab": {
          "base_uri": "https://localhost:8080/",
          "height": 35
        },
        "id": "VVB6zEJuP_Jm",
        "outputId": "8af4a256-c2ff-430c-e7eb-825ede6bc257"
      },
      "execution_count": null,
      "outputs": [
        {
          "output_type": "execute_result",
          "data": {
            "text/plain": [
              "'Ola'"
            ],
            "application/vnd.google.colaboratory.intrinsic+json": {
              "type": "string"
            }
          },
          "metadata": {},
          "execution_count": 3
        }
      ]
    }
  ],
  "metadata": {
    "interpreter": {
      "hash": "ad2bdc8ecc057115af97d19610ffacc2b4e99fae6737bb82f5d7fb13d2f2c186"
    },
    "kernelspec": {
      "display_name": "Python 3.9.7 ('base')",
      "language": "python",
      "name": "python3"
    },
    "language_info": {
      "name": "python",
      "version": "3.9.7"
    },
    "orig_nbformat": 4,
    "colab": {
      "provenance": [],
      "include_colab_link": true
    }
  },
  "nbformat": 4,
  "nbformat_minor": 0
}